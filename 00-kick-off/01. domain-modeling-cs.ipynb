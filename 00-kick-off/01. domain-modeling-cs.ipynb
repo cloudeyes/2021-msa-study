{
 "cells": [
  {
   "cell_type": "markdown",
   "metadata": {},
   "source": [
    "# Domain Modeling by C#"
   ]
  },
  {
   "cell_type": "code",
   "execution_count": 50,
   "metadata": {},
   "outputs": [],
   "source": [
    "public interface IReference {\n",
    "    public String Reference { get; init; }\n",
    "}\n",
    "\n",
    "public abstract class ReferenceIdentity<T> : IEquatable<T> where T: IReference {\n",
    "    public abstract String Reference { get; init; }\n",
    "\n",
    "    public bool Equals(T other) { return this.Reference == other.Reference; }\n",
    "    public override bool Equals(object o) { return this.Equals(o as IEquatable<T>); }\n",
    "    public override int GetHashCode() { return this.Reference.GetHashCode(); }\n",
    "\n",
    "    public static bool operator ==(ReferenceIdentity<T> lhs, ReferenceIdentity<T> rhs) {\n",
    "        return lhs.Reference == rhs.Reference;\n",
    "    }\n",
    "    \n",
    "    public static bool operator !=(ReferenceIdentity<T> lhs, ReferenceIdentity<T> rhs)\n",
    "    {\n",
    "        return lhs.Reference != rhs.Reference;\n",
    "    }           \n",
    "}"
   ]
  },
  {
   "cell_type": "code",
   "execution_count": 54,
   "metadata": {},
   "outputs": [],
   "source": [
    "public class Batch : ReferenceIdentity<Batch>, IReference {\n",
    "    public override String Reference { get; init; }\n",
    "    public String Sku { get; init; }\n",
    "    public int Qty { get; init; }\n",
    "    public DateTime Eta { get; set; } = DateTime.Today;\n",
    "    public List<OrderLine> Allocations { get; init; } = new();\n",
    "};\n",
    "\n",
    "public record OrderLine {\n",
    "    public String OrderID { get; init; }\n",
    "    public String Sku { get; init; }\n",
    "    public int Qty { get; init; }\n",
    "};\n",
    "\n",
    "public class Order : ReferenceIdentity<Order>, IReference {\n",
    "    public override String Reference { get; init; }\n",
    "    public String ID { get; init; }\n",
    "    public List<OrderLine> OrderLines { get; init; }\n",
    "}"
   ]
  },
  {
   "cell_type": "code",
   "execution_count": 55,
   "metadata": {
    "tags": [
     "hidden"
    ]
   },
   "outputs": [],
   "source": [
    "var batch1 = new Batch { Reference=\"batch-000\", Sku=\"TEST-TABLE\", Qty=10 };\n",
    "var batch2 = new Batch { Reference=\"batch-001\", Sku=\"TEST-TABLE\", Qty=10 };\n",
    "var batch3 = new Batch { Reference=\"batch-000\", Sku=\"TEST-CHAIR\", Qty=3 };"
   ]
  },
  {
   "cell_type": "code",
   "execution_count": 57,
   "metadata": {
    "tags": [
     "hidden"
    ]
   },
   "outputs": [
    {
     "data": {
      "text/html": [
       "<div class=\"dni-plaintext\">False</div>"
      ]
     },
     "execution_count": 57,
     "metadata": {},
     "output_type": "execute_result"
    }
   ],
   "source": [
    "batch1 == batch2"
   ]
  },
  {
   "cell_type": "code",
   "execution_count": 59,
   "metadata": {
    "tags": [
     "hidden"
    ]
   },
   "outputs": [
    {
     "data": {
      "text/html": [
       "<div class=\"dni-plaintext\">True</div>"
      ]
     },
     "execution_count": 59,
     "metadata": {},
     "output_type": "execute_result"
    }
   ],
   "source": [
    "batch1 == batch3"
   ]
  },
  {
   "cell_type": "markdown",
   "metadata": {},
   "source": [
    "### Unit testing by xUnit \n",
    "\n",
    "- https://docs.microsoft.com/en-us/dotnet/core/testing/unit-testing-with-dotnet-test\n",
    "\n",
    "\n",
    "```\n",
    "$ dotnet new sln -o csharp\n",
    "$ cd csharp\n",
    "$ dotnet new xunit -o Models.Tests\n",
    "$ dotnet sln add ./Models.Tests/Models.Tests.csproj\n",
    "```"
   ]
  },
  {
   "cell_type": "code",
   "execution_count": 151,
   "metadata": {
    "tags": [
     "hidden"
    ]
   },
   "outputs": [
    {
     "data": {
      "text/plain": [
       "Installed package xunit.runner.console version 2.4.1"
      ]
     },
     "metadata": {},
     "output_type": "display_data"
    }
   ],
   "source": [
    "#r \"nuget:xunit,2.4.1\""
   ]
  },
  {
   "cell_type": "code",
   "execution_count": 89,
   "metadata": {},
   "outputs": [],
   "source": [
    "using System;\n",
    "using Xunit;\n",
    "\n",
    "public class UnitTest1 {\n",
    "    [Fact]\n",
    "    public void Test1()\n",
    "    {\n",
    "        var batch1 = new Batch { Reference=\"batch-000\", Sku=\"TEST-TABLE\", Qty=10 };\n",
    "        var batch2 = new Batch { Reference=\"batch-001\", Sku=\"TEST-TABLE\", Qty=10 };\n",
    "        var batch3 = new Batch { Reference=\"batch-000\", Sku=\"TEST-CHAIR\", Qty=3 };\n",
    "        Assert.Equal(batch1, batch2);\n",
    "    }\n",
    "}"
   ]
  },
  {
   "cell_type": "code",
   "execution_count": 154,
   "metadata": {
    "tags": [
     "hidden"
    ]
   },
   "outputs": [],
   "source": [
    "// Jupyter Notebook에서 테스트 돌리기 위해 Reflection으로 만든 간이 Test Runner\n",
    "public void runTests(Type type) {\n",
    "    var instance = Activator.CreateInstance(type);\n",
    "    \n",
    "    var methods = (\n",
    "        from it in type.GetMethods() \n",
    "        where it.CustomAttributes.Count() > 0 && \n",
    "        it.CustomAttributes.ElementAt(0).AttributeType.FullName.StartsWith(\"Xunit.\")\n",
    "        select it\n",
    "    );\n",
    "        \n",
    "    foreach(var method in methods) {\n",
    "        Console.WriteLine(method.Name);\n",
    "        method.Invoke(instance, null);\n",
    "    }\n",
    "}"
   ]
  },
  {
   "cell_type": "code",
   "execution_count": 155,
   "metadata": {
    "tags": [
     "hidden"
    ]
   },
   "outputs": [
    {
     "name": "stdout",
     "output_type": "stream",
     "text": [
      "Test1\n"
     ]
    },
    {
     "ename": "Unhandled exception",
     "evalue": "System.Reflection.TargetInvocationException: Exception has been thrown by the target of an invocation.\n ---> Xunit.Sdk.EqualException: Assert.Equal() Failure\nExpected: Batch { Allocations = [], Eta = 2020-12-16T00:00:00.0000000+09:00, Qty = 10, Reference = \"batch-000\", Sku = \"TEST-TABLE\" }\nActual:   Batch { Allocations = [], Eta = 2020-12-16T00:00:00.0000000+09:00, Qty = 10, Reference = \"batch-001\", Sku = \"TEST-TABLE\" }\n   at Xunit.Assert.Equal[T](T expected, T actual, IEqualityComparer`1 comparer) in C:\\Dev\\xunit\\xunit\\src\\xunit.assert\\Asserts\\EqualityAsserts.cs:line 40\n   at Xunit.Assert.Equal[T](T expected, T actual) in C:\\Dev\\xunit\\xunit\\src\\xunit.assert\\Asserts\\EqualityAsserts.cs:line 24\n   at Submission#90.UnitTest1.Test1()\n   --- End of inner exception stack trace ---\n   at System.RuntimeMethodHandle.InvokeMethod(Object target, Object[] arguments, Signature sig, Boolean constructor, Boolean wrapExceptions)\n   at Submission#154.runTests(Type type)\n   at Submission#155.<<Initialize>>d__0.MoveNext()\n--- End of stack trace from previous location ---\n   at Microsoft.CodeAnalysis.Scripting.ScriptExecutionState.RunSubmissionsAsync[TResult](ImmutableArray`1 precedingExecutors, Func`2 currentExecutor, StrongBox`1 exceptionHolderOpt, Func`2 catchExceptionOpt, CancellationToken cancellationToken)",
     "output_type": "error",
     "traceback": [
      "System.Reflection.TargetInvocationException: Exception has been thrown by the target of an invocation.\n ---> Xunit.Sdk.EqualException: Assert.Equal() Failure\nExpected: Batch { Allocations = [], Eta = 2020-12-16T00:00:00.0000000+09:00, Qty = 10, Reference = \"batch-000\", Sku = \"TEST-TABLE\" }\nActual:   Batch { Allocations = [], Eta = 2020-12-16T00:00:00.0000000+09:00, Qty = 10, Reference = \"batch-001\", Sku = \"TEST-TABLE\" }\n   at Xunit.Assert.Equal[T](T expected, T actual, IEqualityComparer`1 comparer) in C:\\Dev\\xunit\\xunit\\src\\xunit.assert\\Asserts\\EqualityAsserts.cs:line 40\n   at Xunit.Assert.Equal[T](T expected, T actual) in C:\\Dev\\xunit\\xunit\\src\\xunit.assert\\Asserts\\EqualityAsserts.cs:line 24\n   at Submission#90.UnitTest1.Test1()\n   --- End of inner exception stack trace ---\n   at System.RuntimeMethodHandle.InvokeMethod(Object target, Object[] arguments, Signature sig, Boolean constructor, Boolean wrapExceptions)\n   at Submission#154.runTests(Type type)\n   at Submission#155.<<Initialize>>d__0.MoveNext()\n--- End of stack trace from previous location ---\n   at Microsoft.CodeAnalysis.Scripting.ScriptExecutionState.RunSubmissionsAsync[TResult](ImmutableArray`1 precedingExecutors, Func`2 currentExecutor, StrongBox`1 exceptionHolderOpt, Func`2 catchExceptionOpt, CancellationToken cancellationToken)",
      "   at System.RuntimeMethodHandle.InvokeMethod(Object target, Object[] arguments, Signature sig, Boolean constructor, Boolean wrapExceptions)",
      "   at Submission#154.runTests(Type type)",
      "   at Submission#155.<<Initialize>>d__0.MoveNext()",
      "--- End of stack trace from previous location ---",
      "   at Microsoft.CodeAnalysis.Scripting.ScriptExecutionState.RunSubmissionsAsync[TResult](ImmutableArray`1 precedingExecutors, Func`2 currentExecutor, StrongBox`1 exceptionHolderOpt, Func`2 catchExceptionOpt, CancellationToken cancellationToken)"
     ]
    }
   ],
   "source": [
    "runTests(typeof(UnitTest1))"
   ]
  },
  {
   "cell_type": "code",
   "execution_count": null,
   "metadata": {},
   "outputs": [],
   "source": []
  }
 ],
 "metadata": {
  "kernelspec": {
   "display_name": ".NET (C#)",
   "language": "C#",
   "name": ".net-csharp"
  },
  "language_info": {
   "file_extension": ".cs",
   "mimetype": "text/x-csharp",
   "name": "C#",
   "pygments_lexer": "csharp",
   "version": "8.0"
  }
 },
 "nbformat": 4,
 "nbformat_minor": 4
}
