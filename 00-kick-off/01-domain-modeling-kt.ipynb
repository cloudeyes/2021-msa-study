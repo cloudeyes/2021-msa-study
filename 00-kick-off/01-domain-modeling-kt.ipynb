{
 "cells": [
  {
   "cell_type": "markdown",
   "metadata": {},
   "source": [
    "# Domain Modeling by Kotlin"
   ]
  },
  {
   "cell_type": "code",
   "execution_count": 1,
   "metadata": {},
   "outputs": [],
   "source": [
    "%use test, serialization"
   ]
  },
  {
   "cell_type": "code",
   "execution_count": 2,
   "metadata": {},
   "outputs": [],
   "source": [
    "import kotlin.test.Test\n",
    "import kotlin.test.assertEquals\n",
    "\n",
    "/** Custom test runner */\n",
    "fun test(instance: Any) {\n",
    "    val klass: kotlin.reflect.KClass<out Any> = instance::class\n",
    "    val RED_BOLD = \"\\u001B[1;31m\"\n",
    "    val GREEN_BOLD = \"\\u001B[1;32m\"\n",
    "    val RED = \"\\u001B[0;31m\"    \n",
    "    val RESET = \"\\u001B[0m\"\n",
    "    \n",
    "    fun filterStack(line: String): Boolean {\n",
    "        return (\n",
    "            line.indexOf(\"TestRunner.run\") < 0 && line.indexOf(\"_jupyter.\") < 0 &&\n",
    "            line.startsWith(\"at Line\")\n",
    "        )\n",
    "    }\n",
    "    \n",
    "    klass.members.filter { \n",
    "        it.annotations.size > 0 && \n",
    "        it.annotations.elementAt(0).annotationClass == org.junit.Test::class\n",
    "    }.forEach {\n",
    "        try {\n",
    "            it.call(instance)\n",
    "            println(\"✅ ${GREEN_BOLD}${it.name}${RESET}\")\n",
    "        } catch(e: java.lang.reflect.InvocationTargetException) {\n",
    "            println(\"❌ ${RED}${it.name}${RESET}\")\n",
    "            val cause = e.cause.toString()\n",
    "            val idx = cause.indexOf(\":\")\n",
    "            val (name, reason) = Pair(cause.substring(0, idx), cause.substring(idx+1))\n",
    "            println(\"${name}:${RED_BOLD}${reason}${RESET}\")\n",
    "            val trace = e.stackTraceToString().split('\\n').filter { filterStack(it.trim()) }\n",
    "            println(trace.joinToString(\"\\n\") + \"\\n\")\n",
    "        }\n",
    "    }\n",
    "}"
   ]
  },
  {
   "cell_type": "code",
   "execution_count": 3,
   "metadata": {},
   "outputs": [],
   "source": [
    "import java.time.LocalDate\n",
    "import kotlinx.serialization.*\n",
    "import kotlinx.serialization.json.*\n",
    "import kotlinx.serialization.internal.*\n",
    "\n",
    "@Serializable\n",
    "data class Batch (\n",
    "    val reference: String,\n",
    "    val sku: String,\n",
    "    val qty: Int,\n",
    "    val eta: LocalDate,\n",
    "    val allocations: MutableList<OrderLine> = mutableListOf()\n",
    ") {\n",
    "    val allocatedQty get() = allocations.map { it.qty }.sum()\n",
    "    val availableQty get() = (qty - allocatedQty)\n",
    "    \n",
    "    fun canAllocate(line: OrderLine): Boolean {\n",
    "        return sku == line.sku && availableQty >= line.qty\n",
    "    }\n",
    "    \n",
    "    fun allocate(line: OrderLine) {\n",
    "        if (canAllocate(line)) {\n",
    "            allocations.add(line)\n",
    "        }\n",
    "    }\n",
    "    \n",
    "    fun deallocate(line: OrderLine) {\n",
    "        if (allocations.contains(line))\n",
    "            allocations.remove(line)\n",
    "    }\n",
    "}\n",
    "\n",
    "@Serializable\n",
    "data class OrderLine (\n",
    "    val id: String,\n",
    "    val sku: String,\n",
    "    val qty: Int\n",
    ")\n",
    "\n",
    "@Serializable\n",
    "data class Order (\n",
    "    val reference: String,\n",
    "    val orderLines: List<OrderLine> = listOf()\n",
    ")"
   ]
  },
  {
   "cell_type": "code",
   "execution_count": 4,
   "metadata": {},
   "outputs": [
    {
     "name": "stdout",
     "output_type": "stream",
     "text": [
      "✅ \u001b[1;32mTest allocating to a batch reduces the available quantity\u001b[0m\n",
      "❌ \u001b[0;31mTest can allocate if available greater than required\u001b[0m\n",
      "java.lang.AssertionError:\u001b[1;31m Expected value to be true.\u001b[0m\n",
      "\tat Line_4_jupyter$Chapter1Test.Test can allocate if available greater than required(Line_4.jupyter.kts:23)\n",
      "\n"
     ]
    }
   ],
   "source": [
    "class Chapter1Test {\n",
    "    val today = LocalDate.now()\n",
    "    val tomorrow = today.plusDays(1)\n",
    "   \n",
    "    fun makeBatchAndLine(sku: String, batchQty: Int, lineQty: Int): Pair<Batch, OrderLine> {\n",
    "        return Pair(\n",
    "            Batch(\"batch-001\", sku, batchQty, eta=today),\n",
    "            OrderLine(\"order-123\", sku, lineQty)\n",
    "        )\n",
    "    }\n",
    "    \n",
    "    @Test \n",
    "    fun `Test allocating to a batch reduces the available quantity`() {\n",
    "        val batch = Batch(\"batch-001\", \"SMALL-TABLE\", qty=20, eta=today)\n",
    "        val line = OrderLine(\"order-ref\", \"SMALL-TABLE\", 2)\n",
    "        batch.allocate(line)\n",
    "        assertEquals(18, batch.availableQty)\n",
    "    }\n",
    "    \n",
    "    @Test\n",
    "    fun `Test can allocate if available greater than required`() {\n",
    "        val (largeBatch, smallLine) = makeBatchAndLine(\"ELEGANT-LAMP\", 20, 2)\n",
    "        assertTrue(!largeBatch.canAllocate(smallLine))\n",
    "    }\n",
    "}\n",
    "\n",
    "test(Chapter1Test())"
   ]
  }
 ],
 "metadata": {
  "kernelspec": {
   "display_name": "Kotlin",
   "language": "kotlin",
   "name": "kotlin"
  },
  "language_info": {
   "codemirror_mode": "text/x-kotlin",
   "file_extension": ".kt",
   "mimetype": "text/x-kotlin",
   "name": "kotlin",
   "pygments_lexer": "kotlin",
   "version": "1.4.30-dev-2223"
  }
 },
 "nbformat": 4,
 "nbformat_minor": 4
}
