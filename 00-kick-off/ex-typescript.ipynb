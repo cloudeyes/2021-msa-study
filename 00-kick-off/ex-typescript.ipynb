{
 "cells": [
  {
   "cell_type": "markdown",
   "metadata": {},
   "source": [
    "# Data Classes in TypeScript\n",
    "\n",
    "- https://khalilstemmler.com/articles/typescript-value-object/"
   ]
  },
  {
   "cell_type": "code",
   "execution_count": 1,
   "metadata": {},
   "outputs": [
    {
     "data": {
      "text/html": [
       "<div style='background:#ffecb3;padding:1em;border-left:2px solid #ff6d00'><b>Configuration is not found!</b> Default configuration will be used: <pre>{\"module\":1,\"target\":1,\"moduleResolution\":2,\"esModuleInterop\":true}</pre></div>"
      ]
     },
     "execution_count": 1,
     "metadata": {},
     "output_type": "execute_result"
    }
   ],
   "source": [
    "import { shallowEqual } from \"shallow-equal-object\";\n",
    "\n",
    "interface ValueObjectProps {\n",
    "  [index: string]: any;\n",
    "}\n",
    "\n",
    "export abstract class ValueObject<T extends ValueObjectProps> {\n",
    "  public readonly props: T;\n",
    "\n",
    "  constructor (props: T) {\n",
    "    this.props = Object.freeze(props);\n",
    "  }\n",
    "\n",
    "  public equals (vo?: ValueObject<T>) : boolean {\n",
    "    if (vo === null || vo === undefined) {\n",
    "      return false;\n",
    "    }\n",
    "    if (vo.props === undefined) {\n",
    "      return false;\n",
    "    }\n",
    "    return shallowEqual(this.props, vo.props)\n",
    "  }\n",
    "}"
   ]
  },
  {
   "cell_type": "code",
   "execution_count": 2,
   "metadata": {},
   "outputs": [
    {
     "data": {
      "text/plain": [
       "undefined"
      ]
     },
     "execution_count": 2,
     "metadata": {},
     "output_type": "execute_result"
    }
   ],
   "source": [
    "// Immutable data object\n",
    "interface UserProps {\n",
    "    name: String\n",
    "    age: number\n",
    "}\n",
    "\n",
    "class User extends ValueObject<UserProps> {\n",
    "  constructor(props) { super(props) }\n",
    "}"
   ]
  },
  {
   "cell_type": "code",
   "execution_count": 3,
   "metadata": {},
   "outputs": [
    {
     "data": {
      "text/plain": [
       "true"
      ]
     },
     "execution_count": 3,
     "metadata": {},
     "output_type": "execute_result"
    }
   ],
   "source": [
    "const user1 = new User({name: 'John', age: 16})\n",
    "const user2 = new User({age: 16, name: 'John'})\n",
    "user1.equals(user2)"
   ]
  },
  {
   "cell_type": "code",
   "execution_count": null,
   "metadata": {},
   "outputs": [],
   "source": []
  },
  {
   "cell_type": "code",
   "execution_count": null,
   "metadata": {},
   "outputs": [],
   "source": []
  },
  {
   "cell_type": "code",
   "execution_count": null,
   "metadata": {},
   "outputs": [],
   "source": []
  }
 ],
 "metadata": {
  "kernelspec": {
   "display_name": "Typescript 4.1",
   "language": "typescript",
   "name": "typescript"
  },
  "language_info": {
   "file_extension": ".ts",
   "mimetype": "application/x-typescript",
   "name": "typescript",
   "version": "4.1.2"
  }
 },
 "nbformat": 4,
 "nbformat_minor": 4
}
