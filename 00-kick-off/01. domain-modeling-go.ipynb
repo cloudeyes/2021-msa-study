{
 "cells": [
  {
   "cell_type": "code",
   "execution_count": 26,
   "metadata": {},
   "outputs": [],
   "source": [
    "package main\n",
    "\n",
    "import (\n",
    "    \"time\"\n",
    "    \"testing\"\n",
    "    \"github.com/stretchr/testify/assert\"\n",
    ")"
   ]
  },
  {
   "cell_type": "code",
   "execution_count": 27,
   "metadata": {},
   "outputs": [],
   "source": [
    "type Batch struct {\n",
    "    Allocations []OrderLine\n",
    "    Eta         time.Time\n",
    "    Qty         int\n",
    "    Reference   string\n",
    "    Sku         string\n",
    "}\n",
    "\n",
    "type OrderLine struct {\n",
    "    ID  string\n",
    "    Qty int\n",
    "    Sku string\n",
    "}\n",
    "\n",
    "type Order struct {\n",
    "    OrderLines []OrderLine\n",
    "    Reference  string\n",
    "}"
   ]
  },
  {
   "cell_type": "code",
   "execution_count": 28,
   "metadata": {
    "tags": [
     "hidden_cell"
    ]
   },
   "outputs": [
    {
     "data": {
      "text/plain": [
       "{[] 0001-01-01 00:00:00 +0000 UTC 0  TEST}"
      ]
     },
     "execution_count": 28,
     "metadata": {},
     "output_type": "execute_result"
    }
   ],
   "source": [
    "Batch { Sku: \"TEST\", }"
   ]
  },
  {
   "cell_type": "code",
   "execution_count": 29,
   "metadata": {},
   "outputs": [],
   "source": [
    "func GetDate(t time.Time) time.Time {\n",
    "    return time.Date(t.Year(), t.Month(), t.Day(), 0, 0, 0, 0, time.Local)\n",
    "}"
   ]
  },
  {
   "cell_type": "code",
   "execution_count": 37,
   "metadata": {},
   "outputs": [],
   "source": [
    "func makeBatchAndLine(sku string, batchQty int, lineQty int) (Batch, OrderLine) {\n",
    "    today := GetDate(time.Now())\n",
    "    return Batch { Reference: \"batch-001\", Sku: sku, Qty: batchQty, Eta: today },\n",
    "           OrderLine { ID: \"order-123\", Sku: sku, Qty: lineQty }\n",
    "}"
   ]
  },
  {
   "cell_type": "code",
   "execution_count": 65,
   "metadata": {},
   "outputs": [],
   "source": [
    "func (batch *Batch) Allocate(line OrderLine) {\n",
    "    batch.Allocations = append(batch.Allocations, line)\n",
    "}\n",
    "\n",
    "func (batch *Batch) AvailableQty() int {\n",
    "    return 0\n",
    "}"
   ]
  },
  {
   "cell_type": "code",
   "execution_count": 80,
   "metadata": {},
   "outputs": [],
   "source": [
    "func TestAllocatingToBatchReducesAvailableQuantity(t *testing.T) {\n",
    "    today := GetDate(time.Now())\n",
    "    batch := Batch { Reference: \"batch-001\", Sku: \"SMALL-TABLE\", Qty: 20, Eta: today }\n",
    "    line := OrderLine { ID: \"order-ref\", Sku: \"SMALL-TABLE\", Qty: 2 }\n",
    "    batch.Allocate(line)\n",
    "    assert.Equal(t, 0, batch.AvailableQty())\n",
    "}"
   ]
  },
  {
   "cell_type": "code",
   "execution_count": 81,
   "metadata": {
    "tags": [
     "hidden_cell"
    ]
   },
   "outputs": [
    {
     "name": "stdout",
     "output_type": "stream",
     "text": [
      "ok  \t_/home/ykkim/notebooks/2021-msa-study/00-kick-off/tests\t0.004s\n",
      "\n"
     ]
    }
   ],
   "source": [
    "import (\n",
    "    \"fmt\"\n",
    "    \"bytes\"\n",
    "    \"os/exec\"\n",
    ")\n",
    "\n",
    "func Test() {\n",
    "    cmd := exec.Command(\n",
    "        \"jupyter\", \n",
    "        \"nbconvert\", \n",
    "        \"01. domain-modeling-go.ipynb\",\n",
    "        \"--to=script\",\n",
    "        \"--TagRemovePreprocessor.remove_cell_tags={\\\"hidden_cell\\\"}\",\n",
    "        \"--output=tests/models_test\")\n",
    "    cmd.CombinedOutput()\n",
    "    cmd := exec.Command(\"go\", \"test\", \"./tests\")\n",
    "    stdoutStderr, err := cmd.CombinedOutput()\n",
    "    fmt.Printf(\"%s\\n\", stdoutStderr)\n",
    "}\n",
    "\n",
    "Test()"
   ]
  },
  {
   "cell_type": "code",
   "execution_count": null,
   "metadata": {},
   "outputs": [],
   "source": []
  }
 ],
 "metadata": {
  "kernelspec": {
   "display_name": "Go",
   "language": "go",
   "name": "gophernotes"
  },
  "language_info": {
   "codemirror_mode": "",
   "file_extension": ".go",
   "mimetype": "",
   "name": "go",
   "nbconvert_exporter": "",
   "pygments_lexer": "",
   "version": "go1.15.6"
  }
 },
 "nbformat": 4,
 "nbformat_minor": 4
}
