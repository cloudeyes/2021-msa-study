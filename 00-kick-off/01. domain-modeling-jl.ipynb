{
 "cells": [
  {
   "cell_type": "markdown",
   "metadata": {},
   "source": [
    "# Domain Modeling by Julia"
   ]
  },
  {
   "cell_type": "code",
   "execution_count": 3,
   "metadata": {},
   "outputs": [],
   "source": [
    "import Base.@kwdef\n",
    "\n",
    "mutable struct Qty ; value::Int ; end\n",
    "\n",
    "@kwdef struct OrderLine\n",
    "    id::String\n",
    "    qty::Int\n",
    "    sku::String\n",
    "end\n",
    "\n",
    "@kwdef struct Batch\n",
    "    reference::String\n",
    "    sku::String\n",
    "    qty::Qty\n",
    "    allocations::Array{OrderLine,1} = []\n",
    "end\n",
    "\n",
    "@kwdef struct Order\n",
    "    reference::String\n",
    "    order_lines::Array{OrderLine,1} = []\n",
    "end\n",
    "\n",
    "Base.:(==)(x::Batch, y::Batch) = x.reference == y.reference"
   ]
  },
  {
   "cell_type": "code",
   "execution_count": 12,
   "metadata": {},
   "outputs": [
    {
     "data": {
      "text/plain": [
       "Batch(\"batch-001\", \"TEST-TABLE\", Qty(10), OrderLine[])"
      ]
     },
     "execution_count": 12,
     "metadata": {},
     "output_type": "execute_result"
    }
   ],
   "source": [
    "batch1 = Batch(reference=\"batch-001\", sku=\"TEST-TABLE\", qty=Qty(10))\n",
    "batch2 = Batch(reference=\"batch-001\", sku=\"TEST-CHAIR\", qty=Qty(5))\n",
    "batch1"
   ]
  },
  {
   "cell_type": "code",
   "execution_count": 13,
   "metadata": {},
   "outputs": [
    {
     "data": {
      "text/plain": [
       "true"
      ]
     },
     "execution_count": 13,
     "metadata": {},
     "output_type": "execute_result"
    }
   ],
   "source": [
    "batch1 == batch2"
   ]
  },
  {
   "cell_type": "code",
   "execution_count": 14,
   "metadata": {},
   "outputs": [
    {
     "data": {
      "text/plain": [
       "Batch(\"batch-001\", \"TEST-TABLE\", Qty(11), OrderLine[])"
      ]
     },
     "execution_count": 14,
     "metadata": {},
     "output_type": "execute_result"
    }
   ],
   "source": [
    "batch1.qty.value = 11; batch1"
   ]
  }
 ],
 "metadata": {
  "kernelspec": {
   "display_name": "Julia 1.5.3",
   "language": "julia",
   "name": "julia-1.5"
  },
  "language_info": {
   "file_extension": ".jl",
   "mimetype": "application/julia",
   "name": "julia",
   "version": "1.5.3"
  }
 },
 "nbformat": 4,
 "nbformat_minor": 4
}
