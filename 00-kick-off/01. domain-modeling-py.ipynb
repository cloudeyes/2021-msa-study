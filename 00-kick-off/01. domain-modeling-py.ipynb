{
 "cells": [
  {
   "cell_type": "markdown",
   "metadata": {},
   "source": [
    "# Chapter 1. Domain Modeling Excercise\n",
    "\n",
    "- Author: Joseph Kim"
   ]
  },
  {
   "cell_type": "markdown",
   "metadata": {},
   "source": [
    "## Overview\n",
    "\n",
    "### Context diagram for the allocation service\n",
    "\n",
    "MADE.com is a successful furniture retailer. We source our furniture from manufacturers all over the world and sell it across Europe.\n",
    "\n",
    "We have separate systems that are responsible for\n",
    "\n",
    "- buying stock, \n",
    "- selling stock to customers, \n",
    "- and shipping goods to customers. \n",
    "\n",
    "A system in the middle needs to coordinate the process by allocating stock to a customer’s orders;"
   ]
  },
  {
   "cell_type": "code",
   "execution_count": 1,
   "metadata": {
    "jupyter": {
     "source_hidden": true
    },
    "slideshow": {
     "slide_type": "skip"
    },
    "tags": [
     "hidden_input"
    ]
   },
   "outputs": [
    {
     "data": {
      "image/svg+xml": [
       "<svg xmlns=\"http://www.w3.org/2000/svg\" xmlns:xlink=\"http://www.w3.org/1999/xlink\" contentScriptType=\"application/ecmascript\" contentStyleType=\"text/css\" height=\"523.6px\" preserveAspectRatio=\"none\" style=\"width:530px;height:523px;\" version=\"1.1\" viewBox=\"0 0 530 523\" width=\"530.6px\" zoomAndPan=\"magnify\"><defs/><g><!--entity systema--><rect fill=\"#1168BD\" height=\"110.857\" rx=\"7\" ry=\"7\" style=\"stroke: #3C7FC0; stroke-width: 1.0499999999999998;\" width=\"118.3\" x=\"139.3\" y=\"396.9\"/><text fill=\"#FFFFFF\" font-family=\"Segoe UI\" font-size=\"12.6\" font-style=\"italic\" lengthAdjust=\"spacingAndGlyphs\" textLength=\"49.7\" x=\"173.6\" y=\"418.8967\">«system»</text><text fill=\"#FFFFFF\" font-family=\"Segoe UI\" font-size=\"14\" font-weight=\"bold\" lengthAdjust=\"spacingAndGlyphs\" textLength=\"67.9\" x=\"164.5\" y=\"439.9664\">Allocation</text><text fill=\"#FFFFFF\" font-family=\"Segoe UI\" font-size=\"12.6\" lengthAdjust=\"spacingAndGlyphs\" textLength=\"0\" x=\"200.2\" y=\"459.8768\"/><text fill=\"#FFFFFF\" font-family=\"Segoe UI\" font-size=\"12.6\" lengthAdjust=\"spacingAndGlyphs\" textLength=\"98\" x=\"147.7\" y=\"479.4357\">Allocates stock to</text><text fill=\"#FFFFFF\" font-family=\"Segoe UI\" font-size=\"12.6\" lengthAdjust=\"spacingAndGlyphs\" textLength=\"91\" x=\"152.95\" y=\"496.1947\">customer orders</text><!--entity customer--><rect fill=\"#08427B\" height=\"94.098\" rx=\"7\" ry=\"7\" style=\"stroke: #073B6F; stroke-width: 1.0499999999999998;\" width=\"142.1\" x=\"324.1\" y=\"14\"/><text fill=\"#FFFFFF\" font-family=\"Segoe UI\" font-size=\"12.6\" font-style=\"italic\" lengthAdjust=\"spacingAndGlyphs\" textLength=\"49\" x=\"370.65\" y=\"35.9967\">«person»</text><text fill=\"#FFFFFF\" font-family=\"Segoe UI\" font-size=\"14\" font-weight=\"bold\" lengthAdjust=\"spacingAndGlyphs\" textLength=\"63\" x=\"363.65\" y=\"57.0664\">Customer</text><text fill=\"#FFFFFF\" font-family=\"Segoe UI\" font-size=\"12.6\" lengthAdjust=\"spacingAndGlyphs\" textLength=\"0\" x=\"396.9\" y=\"76.9768\"/><text fill=\"#FFFFFF\" font-family=\"Segoe UI\" font-size=\"12.6\" lengthAdjust=\"spacingAndGlyphs\" textLength=\"125.3\" x=\"332.5\" y=\"96.5357\">Wants to buy furniture</text><!--entity buyer--><rect fill=\"#08427B\" height=\"110.857\" rx=\"7\" ry=\"7\" style=\"stroke: #073B6F; stroke-width: 1.0499999999999998;\" width=\"147.7\" x=\"4.2\" y=\"5.6\"/><text fill=\"#FFFFFF\" font-family=\"Segoe UI\" font-size=\"12.6\" font-style=\"italic\" lengthAdjust=\"spacingAndGlyphs\" textLength=\"49\" x=\"53.55\" y=\"27.5967\">«person»</text><text fill=\"#FFFFFF\" font-family=\"Segoe UI\" font-size=\"14\" font-weight=\"bold\" lengthAdjust=\"spacingAndGlyphs\" textLength=\"86.8\" x=\"34.65\" y=\"48.6664\">Buying Team</text><text fill=\"#FFFFFF\" font-family=\"Segoe UI\" font-size=\"12.6\" lengthAdjust=\"spacingAndGlyphs\" textLength=\"0\" x=\"79.8\" y=\"68.5768\"/><text fill=\"#FFFFFF\" font-family=\"Segoe UI\" font-size=\"12.6\" lengthAdjust=\"spacingAndGlyphs\" textLength=\"103.6\" x=\"24.5\" y=\"88.1357\">Needs to purchase</text><text fill=\"#FFFFFF\" font-family=\"Segoe UI\" font-size=\"12.6\" lengthAdjust=\"spacingAndGlyphs\" textLength=\"130.9\" x=\"12.6\" y=\"104.8947\">furniture from suppliers</text><!--entity procurement--><rect fill=\"#1168BD\" height=\"127.616\" rx=\"7\" ry=\"7\" style=\"stroke: #3C7FC0; stroke-width: 1.0499999999999998;\" width=\"144.9\" x=\"5.6\" y=\"179.9\"/><text fill=\"#FFFFFF\" font-family=\"Segoe UI\" font-size=\"12.6\" font-style=\"italic\" lengthAdjust=\"spacingAndGlyphs\" textLength=\"49.7\" x=\"53.2\" y=\"201.8967\">«system»</text><text fill=\"#FFFFFF\" font-family=\"Segoe UI\" font-size=\"14\" font-weight=\"bold\" lengthAdjust=\"spacingAndGlyphs\" textLength=\"72.8\" x=\"41.65\" y=\"222.9664\">Purchasing</text><text fill=\"#FFFFFF\" font-family=\"Segoe UI\" font-size=\"12.6\" lengthAdjust=\"spacingAndGlyphs\" textLength=\"0\" x=\"79.8\" y=\"242.8768\"/><text fill=\"#FFFFFF\" font-family=\"Segoe UI\" font-size=\"12.6\" lengthAdjust=\"spacingAndGlyphs\" textLength=\"124.6\" x=\"14\" y=\"262.4357\">Manages workflow for</text><text fill=\"#FFFFFF\" font-family=\"Segoe UI\" font-size=\"12.6\" lengthAdjust=\"spacingAndGlyphs\" textLength=\"102.2\" x=\"25.2\" y=\"279.1947\">buying stock from</text><text fill=\"#FFFFFF\" font-family=\"Segoe UI\" font-size=\"12.6\" lengthAdjust=\"spacingAndGlyphs\" textLength=\"49.7\" x=\"53.2\" y=\"295.9537\">suppliers</text><!--entity ecom--><rect fill=\"#1168BD\" height=\"94.098\" rx=\"7\" ry=\"7\" style=\"stroke: #3C7FC0; stroke-width: 1.0499999999999998;\" width=\"118.3\" x=\"268.1\" y=\"196.7\"/><text fill=\"#FFFFFF\" font-family=\"Segoe UI\" font-size=\"12.6\" font-style=\"italic\" lengthAdjust=\"spacingAndGlyphs\" textLength=\"49.7\" x=\"302.4\" y=\"218.6967\">«system»</text><text fill=\"#FFFFFF\" font-family=\"Segoe UI\" font-size=\"14\" font-weight=\"bold\" lengthAdjust=\"spacingAndGlyphs\" textLength=\"76.3\" x=\"289.1\" y=\"239.7664\">Ecommerce</text><text fill=\"#FFFFFF\" font-family=\"Segoe UI\" font-size=\"12.6\" lengthAdjust=\"spacingAndGlyphs\" textLength=\"0\" x=\"329\" y=\"259.6768\"/><text fill=\"#FFFFFF\" font-family=\"Segoe UI\" font-size=\"12.6\" lengthAdjust=\"spacingAndGlyphs\" textLength=\"101.5\" x=\"276.5\" y=\"279.2357\">Sells goods online</text><!--entity warehouse--><rect fill=\"#1168BD\" height=\"127.616\" rx=\"7\" ry=\"7\" style=\"stroke: #3C7FC0; stroke-width: 1.0499999999999998;\" width=\"144.9\" x=\"376.6\" y=\"388.5\"/><text fill=\"#FFFFFF\" font-family=\"Segoe UI\" font-size=\"12.6\" font-style=\"italic\" lengthAdjust=\"spacingAndGlyphs\" textLength=\"49.7\" x=\"424.2\" y=\"410.4967\">«system»</text><text fill=\"#FFFFFF\" font-family=\"Segoe UI\" font-size=\"14\" font-weight=\"bold\" lengthAdjust=\"spacingAndGlyphs\" textLength=\"74.2\" x=\"411.95\" y=\"431.5664\">Warehouse</text><text fill=\"#FFFFFF\" font-family=\"Segoe UI\" font-size=\"12.6\" lengthAdjust=\"spacingAndGlyphs\" textLength=\"0\" x=\"450.8\" y=\"451.4768\"/><text fill=\"#FFFFFF\" font-family=\"Segoe UI\" font-size=\"12.6\" lengthAdjust=\"spacingAndGlyphs\" textLength=\"124.6\" x=\"385\" y=\"471.0357\">Manages workflow for</text><text fill=\"#FFFFFF\" font-family=\"Segoe UI\" font-size=\"12.6\" lengthAdjust=\"spacingAndGlyphs\" textLength=\"103.6\" x=\"395.5\" y=\"487.7947\">shipping goods to</text><text fill=\"#FFFFFF\" font-family=\"Segoe UI\" font-size=\"12.6\" lengthAdjust=\"spacingAndGlyphs\" textLength=\"57.4\" x=\"420.35\" y=\"504.5537\">customers</text><!--link buyer to procurement--><path d=\"M78.05,116.242 C78.05,135.086 78.05,156.415 78.05,176.12 \" fill=\"none\" id=\"buyer-procurement\" style=\"stroke: #666666; stroke-width: 0.7;\"/><polygon fill=\"#666666\" points=\"78.05,179.774,80.85,173.474,78.05,176.274,75.25,173.474,78.05,179.774\" style=\"stroke: #666666; stroke-width: 0.7;\"/><text fill=\"#666666\" font-family=\"Segoe UI\" font-size=\"13.3\" font-weight=\"bold\" lengthAdjust=\"spacingAndGlyphs\" textLength=\"28\" x=\"80.15\" y=\"153.6521\">Uses</text><!--link procurement to systema--><path d=\"M65.38,307.545 C64.302,327.691 66.43,349.426 75.95,367.5 C88.949,392.175 112.826,410.991 136.073,424.494 \" fill=\"none\" id=\"procurement-systema\" style=\"stroke: #666666; stroke-width: 0.7;\"/><polygon fill=\"#666666\" points=\"139.195,426.286,135.1261,420.7206,136.1599,424.543,132.3374,425.5768,139.195,426.286\" style=\"stroke: #666666; stroke-width: 0.7;\"/><text fill=\"#666666\" font-family=\"Segoe UI\" font-size=\"13.3\" font-weight=\"bold\" lengthAdjust=\"spacingAndGlyphs\" textLength=\"88.9\" x=\"78.05\" y=\"344.7521\">Notifies about</text><text fill=\"#666666\" font-family=\"Segoe UI\" font-size=\"13.3\" font-weight=\"bold\" lengthAdjust=\"spacingAndGlyphs\" textLength=\"63\" x=\"92.75\" y=\"362.4421\">shipments</text><!--link customer to ecom--><path d=\"M371.98,107.919 C367.563,117.488 363.16,127.589 359.45,137.2 C352.52,155.155 346.073,175.266 340.802,193.088 \" fill=\"none\" id=\"customer-ecom\" style=\"stroke: #666666; stroke-width: 0.7;\"/><polygon fill=\"#666666\" points=\"339.766,196.623,344.218,191.359,340.746,193.263,338.842,189.791,339.766,196.623\" style=\"stroke: #666666; stroke-width: 0.7;\"/><text fill=\"#666666\" font-family=\"Segoe UI\" font-size=\"13.3\" font-weight=\"bold\" lengthAdjust=\"spacingAndGlyphs\" textLength=\"63.7\" x=\"361.55\" y=\"153.6521\">Buys from</text><!--link ecom to systema--><path d=\"M324.226,290.598 C320.915,314.93 314.062,344.414 299.95,367.5 C289.898,383.943 275.464,398.664 260.631,411.012 \" fill=\"none\" id=\"ecom-systema\" style=\"stroke: #666666; stroke-width: 0.7;\"/><polygon fill=\"#666666\" points=\"257.852,413.287,264.4999,411.4607,260.5595,411.069,260.9512,407.1287,257.852,413.287\" style=\"stroke: #666666; stroke-width: 0.7;\"/><text fill=\"#666666\" font-family=\"Segoe UI\" font-size=\"13.3\" font-weight=\"bold\" lengthAdjust=\"spacingAndGlyphs\" textLength=\"86.8\" x=\"318.15\" y=\"344.7521\">Asks for stock</text><text fill=\"#666666\" font-family=\"Segoe UI\" font-size=\"13.3\" font-weight=\"bold\" lengthAdjust=\"spacingAndGlyphs\" textLength=\"33.6\" x=\"346.5\" y=\"362.4421\">levels</text><!--link ecom to systema--><path d=\"M268.086,266.987 C241.542,280.497 212.849,300.517 197.75,328.3 C187.18,347.753 185.276,371.616 186.753,393.148 \" fill=\"none\" id=\"ecom-systema\" style=\"stroke: #666666; stroke-width: 0.7;\"/><polygon fill=\"#666666\" points=\"187.04,396.858,189.3457,390.3608,186.77,393.3684,183.7624,390.7927,187.04,396.858\" style=\"stroke: #666666; stroke-width: 0.7;\"/><text fill=\"#666666\" font-family=\"Segoe UI\" font-size=\"13.3\" font-weight=\"bold\" lengthAdjust=\"spacingAndGlyphs\" textLength=\"88.9\" x=\"199.85\" y=\"344.7521\">Notifies about</text><text fill=\"#666666\" font-family=\"Segoe UI\" font-size=\"13.3\" font-weight=\"bold\" lengthAdjust=\"spacingAndGlyphs\" textLength=\"40.6\" x=\"225.75\" y=\"362.4421\">orders</text><!--link systema to warehouse--><path d=\"M257.838,452.2 C292.264,452.2 335.965,452.2 372.897,452.2 \" fill=\"none\" id=\"systema-warehouse\" style=\"stroke: #666666; stroke-width: 0.7;\"/><polygon fill=\"#666666\" points=\"376.446,452.2,370.146,449.4,372.946,452.2,370.146,455,376.446,452.2\" style=\"stroke: #666666; stroke-width: 0.7;\"/><text fill=\"#666666\" font-family=\"Segoe UI\" font-size=\"13.3\" font-weight=\"bold\" lengthAdjust=\"spacingAndGlyphs\" textLength=\"37.1\" x=\"296.8\" y=\"427.3521\">Sends</text><text fill=\"#666666\" font-family=\"Segoe UI\" font-size=\"13.3\" font-weight=\"bold\" lengthAdjust=\"spacingAndGlyphs\" textLength=\"90.3\" x=\"271.95\" y=\"445.0421\">instructions to</text><!--link customer to warehouse--><path d=\"M421.323,111.328 C424.844,119.77 427.98,128.597 430.15,137.2 C451.584,222.278 453.572,324.219 452.074,388.437 \" fill=\"none\" id=\"customer-warehouse\" style=\"stroke: #666666; stroke-width: 0.7;\"/><polygon fill=\"#666666\" points=\"419.902,107.989,419.792,114.8823,421.2723,111.2096,424.945,112.6899,419.902,107.989\" style=\"stroke: #666666; stroke-width: 0.7;\"/><text fill=\"#666666\" font-family=\"Segoe UI\" font-size=\"13.3\" font-weight=\"bold\" lengthAdjust=\"spacingAndGlyphs\" textLength=\"65.8\" x=\"453.25\" y=\"240.4521\">Dispatches</text><text fill=\"#666666\" font-family=\"Segoe UI\" font-size=\"13.3\" font-weight=\"bold\" lengthAdjust=\"spacingAndGlyphs\" textLength=\"56\" x=\"459.9\" y=\"258.1421\">goods to</text><!--\n",
       "@startuml allocation\n",
       "skinparam default {\n",
       "    FontName \"Segoe UI\"\n",
       "    FontSize 11\n",
       "    FontColor Black\n",
       "}\n",
       "\n",
       "skinparam class {\n",
       "    BackgroundColor #b5e2fa\n",
       "    BorderColor #0fa3b1\n",
       "}\n",
       "\n",
       "skinparam CircledCharacter {\n",
       "    FontColor Black\n",
       "}\n",
       "\n",
       "skinparam stereotypeC {\n",
       "    BackgroundColor #eddea4 \n",
       "}\n",
       "\n",
       "skinparam package {\n",
       "    FontName \"Segoe UI\"\n",
       "}\n",
       "\n",
       "skinparam sequencelifeline {\n",
       "    BorderColor #0fa3b1\n",
       "}\n",
       "skinparam arrow {\n",
       "    Color #0fa3b1\n",
       "}\n",
       "skinparam participant {\n",
       "    BackgroundColor #b5e2fa\n",
       "    BorderColor #0fa3b1\n",
       "}\n",
       "skinparam entity {\n",
       "    BackgroundColor #b5e2fa\n",
       "    BorderColor #0fa3b1\n",
       "}\n",
       "skinparam collections {\n",
       "    BackgroundColor #b5e2fa\n",
       "    BorderColor #0fa3b1\n",
       "}\n",
       "skinparam database {\n",
       "    BackgroundColor #b5e2fa\n",
       "    BorderColor #0fa3b1\n",
       "}\n",
       "skinparam boundary {\n",
       "    BackgroundColor #b5e2fa\n",
       "    BorderColor #0fa3b1\n",
       "}\n",
       "skinparam actor {\n",
       "    Color DeepSkyBlue\n",
       "    BackgroundColor #b5e2fa\n",
       "    BorderColor #0fa3b1\n",
       "}\n",
       "skinparam sequencegroupheader {\n",
       "    FontName \"Segoe UI\"\n",
       "}\n",
       "skinparam sequencebox {\n",
       "    BackgroundColor PowderBlue\n",
       "    BorderColor #0fa3b1\n",
       "}\n",
       "skinparam padding 4\n",
       "\n",
       "\n",
       "\n",
       "\n",
       "\n",
       "skinparam roundCorner 20\n",
       "skinparam Padding 2\n",
       "skinparam wrapWidth 200\n",
       "skinparam default {\n",
       "    FontName \"Segoe UI\"\n",
       "    FontSize 18\n",
       "}\n",
       "\n",
       "skinparam defaultTextAlignment center\n",
       "\n",
       "skinparam wrapWidth 200\n",
       "skinparam maxMessageSize 150\n",
       "\n",
       "skinparam rectangle {\n",
       "    StereotypeFontSize 18\n",
       "    shadowing false\n",
       "}\n",
       "\n",
       "skinparam database {\n",
       "    StereotypeFontSize 18\n",
       "    shadowing false\n",
       "}\n",
       "\n",
       "skinparam Arrow {\n",
       "    Color #666666\n",
       "    FontColor #666666\n",
       "    FontSize 18\n",
       "}\n",
       "\n",
       "skinparam rectangle<<boundary>> {\n",
       "    Shadowing false\n",
       "    StereotypeFontSize 0\n",
       "    FontColor #444444\n",
       "    BorderColor #444444\n",
       "    BorderStyle dashed\n",
       "}\n",
       "\n",
       "\n",
       "\n",
       "\n",
       "\n",
       "\n",
       "\n",
       "\n",
       "\n",
       "\n",
       "\n",
       "\n",
       "\n",
       "\n",
       "\n",
       "\n",
       "\n",
       "\n",
       "\n",
       "\n",
       "\n",
       "\n",
       "skinparam rectangle<<person>> {\n",
       "    StereotypeFontColor #FFFFFF\n",
       "    FontColor #FFFFFF\n",
       "    BackgroundColor #08427B\n",
       "    BorderColor #073B6F\n",
       "}\n",
       "\n",
       "skinparam rectangle<<external_person>> {\n",
       "    StereotypeFontColor #FFFFFF\n",
       "    FontColor #FFFFFF\n",
       "    BackgroundColor #686868\n",
       "    BorderColor #8A8A8A\n",
       "}\n",
       "\n",
       "skinparam rectangle<<system>> {\n",
       "    StereotypeFontColor #FFFFFF\n",
       "    FontColor #FFFFFF\n",
       "    BackgroundColor #1168BD\n",
       "    BorderColor #3C7FC0\n",
       "}\n",
       "\n",
       "skinparam rectangle<<external_system>> {\n",
       "    StereotypeFontColor #FFFFFF\n",
       "    FontColor #FFFFFF\n",
       "    BackgroundColor #999999\n",
       "    BorderColor #8A8A8A\n",
       "}\n",
       "\n",
       "skinparam database<<system>> {\n",
       "    StereotypeFontColor #FFFFFF\n",
       "    FontColor #FFFFFF\n",
       "    BackgroundColor #1168BD\n",
       "    BorderColor #3C7FC0\n",
       "}\n",
       "\n",
       "skinparam database<<external_system>> {\n",
       "    StereotypeFontColor #FFFFFF\n",
       "    FontColor #FFFFFF\n",
       "    BackgroundColor #999999\n",
       "    BorderColor #8A8A8A\n",
       "}\n",
       "\n",
       "\n",
       "\n",
       "\n",
       "\n",
       "\n",
       "\n",
       "\n",
       "\n",
       "\n",
       "\n",
       "scale 0.7\n",
       "\n",
       "rectangle \"==Allocation\\n\\n Allocates stock to customer orders\" <<system>> as systema\n",
       "\n",
       "rectangle \"==Customer\\n\\n Wants to buy furniture\" <<person>> as customer\n",
       "rectangle \"==Buying Team\\n\\n Needs to purchase furniture from suppliers\" <<person>> as buyer\n",
       "\n",
       "rectangle \"==Purchasing\\n\\n Manages workflow for buying stock from suppliers\" <<system>> as procurement\n",
       "rectangle \"==Ecommerce\\n\\n Sells goods online\" <<system>> as ecom\n",
       "rectangle \"==Warehouse\\n\\n Manages workflow for shipping goods to customers\" <<system>> as warehouse\n",
       "\n",
       "buyer - -> procurement : \"===Uses\"\n",
       "procurement - -> systema : \"===Notifies about shipments\"\n",
       "customer - -> ecom : \"===Buys from\"\n",
       "ecom - -> systema : \"===Asks for stock levels\"\n",
       "ecom - -> systema : \"===Notifies about orders\"\n",
       "systema -RIGHT-> warehouse : \"===Sends instructions to\"\n",
       "warehouse -UP-> customer : \"===Dispatches goods to\"\n",
       "\n",
       "@enduml\n",
       "\n",
       "PlantUML version 1.2018.13(Tue Nov 27 02:11:51 KST 2018)\n",
       "(GPL source distribution)\n",
       "Java Runtime: OpenJDK Runtime Environment\n",
       "JVM: OpenJDK 64-Bit Server VM\n",
       "Java Version: 11.0.9.1+1-Ubuntu-0ubuntu1.20.04\n",
       "Operating System: Linux\n",
       "OS Version: 5.4.0-1032-azure\n",
       "Default Encoding: UTF-8\n",
       "Language: en\n",
       "Country: US\n",
       "--></g></svg>"
      ],
      "text/plain": [
       "<IPython.core.display.SVG object>"
      ]
     },
     "execution_count": 1,
     "metadata": {},
     "output_type": "execute_result"
    }
   ],
   "source": [
    "%%plantuml\n",
    "\n",
    "@startuml allocation\n",
    "!include images/C4_Context.puml\n",
    "scale 0.7\n",
    "\n",
    "System(systema, \"Allocation\", \"Allocates stock to customer orders\")\n",
    "\n",
    "Person(customer, \"Customer\", \"Wants to buy furniture\")\n",
    "Person(buyer, \"Buying Team\", \"Needs to purchase furniture from suppliers\")\n",
    "\n",
    "System(procurement, \"Purchasing\", \"Manages workflow for buying stock from suppliers\")\n",
    "System(ecom, \"Ecommerce\", \"Sells goods online\")\n",
    "System(warehouse, \"Warehouse\", \"Manages workflow for shipping goods to customers\")\n",
    "\n",
    "Rel(buyer, procurement, \"Uses\")\n",
    "Rel(procurement, systema, \"Notifies about shipments\")\n",
    "Rel(customer, ecom, \"Buys from\")\n",
    "Rel(ecom, systema, \"Asks for stock levels\")\n",
    "Rel(ecom, systema, \"Notifies about orders\")\n",
    "Rel_R(systema, warehouse, \"Sends instructions to\")\n",
    "Rel_U(warehouse, customer, \"Dispatches goods to\")\n",
    "\n",
    "@enduml"
   ]
  },
  {
   "cell_type": "markdown",
   "metadata": {},
   "source": [
    "<style>\n",
    ".usecase { border-radius: 3px; border: 1px silver solid; background: #ddd; padding: 5px 8px }\n",
    "</style>"
   ]
  },
  {
   "cell_type": "markdown",
   "metadata": {},
   "source": [
    "## Exploring the Domain Language\n",
    "\n",
    "##### Customers place *orders* for *products*.\n",
    "\n",
    "- **Product**\n",
    "  - identified by *SKU*(Stock Keeping Unit)\n",
    "- **Order**\n",
    "  - identified by an *order reference* \n",
    "  - comprises mutliple *order lines*\n",
    "- **OrderLine**\n",
    "  - has a *SKU* and a *quantity*\n",
    "  \n",
    "##### The purchasing department orders small *batches* of stock\n",
    "\n",
    "- **Batch**\n",
    "  - has a unique ID(*reference*), a *SKU*, and a *quantity* \n",
    "  - has an ETA if they are currently shipping\n",
    "    - or they may be in *warehouse stock*.\n",
    "  \n",
    "##### We need to **allocate** *order lines* to *batches*.\n",
    "\n",
    "- When we allocate x units of stock to a batch, the *available quantity* is reduced by x."
   ]
  },
  {
   "cell_type": "code",
   "execution_count": 2,
   "metadata": {
    "jupyter": {
     "source_hidden": true
    },
    "tags": [
     "hidden_input"
    ]
   },
   "outputs": [
    {
     "data": {
      "image/svg+xml": [
       "<svg xmlns=\"http://www.w3.org/2000/svg\" xmlns:xlink=\"http://www.w3.org/1999/xlink\" contentScriptType=\"application/ecmascript\" contentStyleType=\"text/css\" height=\"299px\" preserveAspectRatio=\"none\" style=\"width:545px;height:299px;\" version=\"1.1\" viewBox=\"0 0 545 299\" width=\"545px\" zoomAndPan=\"magnify\"><defs><filter height=\"300%\" id=\"f1ot8ezjcq0epg\" width=\"300%\" x=\"-1\" y=\"-1\"><feGaussianBlur result=\"blurOut\" stdDeviation=\"2.0\"/><feColorMatrix in=\"blurOut\" result=\"blurOut2\" type=\"matrix\" values=\"0 0 0 0 0 0 0 0 0 0 0 0 0 0 0 0 0 0 .4 0\"/><feOffset dx=\"4.0\" dy=\"4.0\" in=\"blurOut2\" result=\"blurOut3\"/><feBlend in=\"SourceGraphic\" in2=\"blurOut3\" mode=\"normal\"/></filter></defs><g><!--class Product--><rect fill=\"#B5E2FA\" filter=\"url(#f1ot8ezjcq0epg)\" height=\"71.2617\" id=\"Product\" style=\"stroke: #0FA3B1; stroke-width: 1.5;\" width=\"76\" x=\"458\" y=\"132.5\"/><ellipse cx=\"471\" cy=\"148.8154\" fill=\"#EDDEA4\" rx=\"9\" ry=\"9\" style=\"stroke: #0FA3B1; stroke-width: 1.0;\"/><path d=\"M472.3125,152.5811 Q471.9375,152.7842 471.5156,152.8779 Q471.1094,152.9717 470.6406,152.9717 Q469.0313,152.9717 468.1719,151.9092 Q467.3125,150.8311 467.3125,148.8154 Q467.3125,146.7842 468.1719,145.7217 Q469.0313,144.6436 470.6406,144.6436 Q471.1094,144.6436 471.5156,144.7529 Q471.9375,144.8467 472.3125,145.0342 L472.3125,146.7998 Q471.8906,146.4248 471.5,146.2529 Q471.125,146.0811 470.7188,146.0811 Q469.8594,146.0811 469.4063,146.7686 Q468.9688,147.4561 468.9688,148.8154 Q468.9688,150.1748 469.4063,150.8623 Q469.8594,151.5498 470.7188,151.5498 Q471.125,151.5498 471.5,151.3779 Q471.8906,151.2061 472.3125,150.8154 L472.3125,152.5811 Z \"/><text fill=\"#000000\" font-family=\"Segoe UI\" font-size=\"11\" lengthAdjust=\"spacingAndGlyphs\" textLength=\"40\" x=\"487\" y=\"153.3701\">Product</text><line style=\"stroke: #0FA3B1; stroke-width: 1.5;\" x1=\"459\" x2=\"533\" y1=\"165.1309\" y2=\"165.1309\"/><text fill=\"#000000\" font-family=\"Segoe UI\" font-size=\"11\" lengthAdjust=\"spacingAndGlyphs\" textLength=\"44\" x=\"468\" y=\"185.001\">sku: SKU</text><line style=\"stroke: #0FA3B1; stroke-width: 1.5;\" x1=\"459\" x2=\"533\" y1=\"195.7617\" y2=\"195.7617\"/><!--class Order--><rect fill=\"#B5E2FA\" filter=\"url(#f1ot8ezjcq0epg)\" height=\"93.8926\" id=\"Order\" style=\"stroke: #0FA3B1; stroke-width: 1.5;\" width=\"155\" x=\"14\" y=\"12.5\"/><ellipse cx=\"68.75\" cy=\"28.8154\" fill=\"#EDDEA4\" rx=\"9\" ry=\"9\" style=\"stroke: #0FA3B1; stroke-width: 1.0;\"/><path d=\"M70.0625,32.5811 Q69.6875,32.7842 69.2656,32.8779 Q68.8594,32.9717 68.3906,32.9717 Q66.7813,32.9717 65.9219,31.9092 Q65.0625,30.8311 65.0625,28.8154 Q65.0625,26.7842 65.9219,25.7217 Q66.7813,24.6436 68.3906,24.6436 Q68.8594,24.6436 69.2656,24.7529 Q69.6875,24.8467 70.0625,25.0342 L70.0625,26.7998 Q69.6406,26.4248 69.25,26.2529 Q68.875,26.0811 68.4688,26.0811 Q67.6094,26.0811 67.1563,26.7686 Q66.7188,27.4561 66.7188,28.8154 Q66.7188,30.1748 67.1563,30.8623 Q67.6094,31.5498 68.4688,31.5498 Q68.875,31.5498 69.25,31.3779 Q69.6406,31.2061 70.0625,30.8154 L70.0625,32.5811 Z \"/><text fill=\"#000000\" font-family=\"Segoe UI\" font-size=\"11\" lengthAdjust=\"spacingAndGlyphs\" textLength=\"30\" x=\"90.25\" y=\"33.3701\">Order</text><line style=\"stroke: #0FA3B1; stroke-width: 1.5;\" x1=\"15\" x2=\"168\" y1=\"45.1309\" y2=\"45.1309\"/><text fill=\"#000000\" font-family=\"Segoe UI\" font-size=\"11\" lengthAdjust=\"spacingAndGlyphs\" textLength=\"135\" x=\"24\" y=\"65.001\">reference: OrderReference</text><text fill=\"#000000\" font-family=\"Segoe UI\" font-size=\"11\" lengthAdjust=\"spacingAndGlyphs\" textLength=\"125\" x=\"24\" y=\"87.6318\">_order_lines: [OrderLine]</text><line style=\"stroke: #0FA3B1; stroke-width: 1.5;\" x1=\"15\" x2=\"168\" y1=\"98.3926\" y2=\"98.3926\"/><!--class OrderLine--><rect fill=\"#B5E2FA\" filter=\"url(#f1ot8ezjcq0epg)\" height=\"116.5234\" id=\"OrderLine\" style=\"stroke: #0FA3B1; stroke-width: 1.5;\" width=\"145\" x=\"245\" y=\"46.5\"/><ellipse cx=\"284.25\" cy=\"62.8154\" fill=\"#EDDEA4\" rx=\"9\" ry=\"9\" style=\"stroke: #0FA3B1; stroke-width: 1.0;\"/><path d=\"M285.5625,66.5811 Q285.1875,66.7842 284.7656,66.8779 Q284.3594,66.9717 283.8906,66.9717 Q282.2813,66.9717 281.4219,65.9092 Q280.5625,64.8311 280.5625,62.8154 Q280.5625,60.7842 281.4219,59.7217 Q282.2813,58.6436 283.8906,58.6436 Q284.3594,58.6436 284.7656,58.7529 Q285.1875,58.8467 285.5625,59.0342 L285.5625,60.7998 Q285.1406,60.4248 284.75,60.2529 Q284.375,60.0811 283.9688,60.0811 Q283.1094,60.0811 282.6563,60.7686 Q282.2188,61.4561 282.2188,62.8154 Q282.2188,64.1748 282.6563,64.8623 Q283.1094,65.5498 283.9688,65.5498 Q284.375,65.5498 284.75,65.3779 Q285.1406,65.2061 285.5625,64.8154 L285.5625,66.5811 Z \"/><text fill=\"#000000\" font-family=\"Segoe UI\" font-size=\"11\" lengthAdjust=\"spacingAndGlyphs\" textLength=\"51\" x=\"305.75\" y=\"67.3701\">OrderLine</text><line style=\"stroke: #0FA3B1; stroke-width: 1.5;\" x1=\"246\" x2=\"389\" y1=\"79.1309\" y2=\"79.1309\"/><text fill=\"#000000\" font-family=\"Segoe UI\" font-size=\"11\" lengthAdjust=\"spacingAndGlyphs\" textLength=\"125\" x=\"255\" y=\"99.001\">orderid: OrderReference</text><text fill=\"#000000\" font-family=\"Segoe UI\" font-size=\"11\" lengthAdjust=\"spacingAndGlyphs\" textLength=\"44\" x=\"255\" y=\"121.6318\">sku: SKU</text><text fill=\"#000000\" font-family=\"Segoe UI\" font-size=\"11\" lengthAdjust=\"spacingAndGlyphs\" textLength=\"36\" x=\"255\" y=\"144.2627\">qty: int</text><line style=\"stroke: #0FA3B1; stroke-width: 1.5;\" x1=\"246\" x2=\"389\" y1=\"155.0234\" y2=\"155.0234\"/><!--class Batch--><rect fill=\"#B5E2FA\" filter=\"url(#f1ot8ezjcq0epg)\" height=\"139.1543\" id=\"Batch\" style=\"stroke: #0FA3B1; stroke-width: 1.5;\" width=\"153\" x=\"15\" y=\"149\"/><ellipse cx=\"69.75\" cy=\"165.3154\" fill=\"#EDDEA4\" rx=\"9\" ry=\"9\" style=\"stroke: #0FA3B1; stroke-width: 1.0;\"/><path d=\"M71.0625,169.0811 Q70.6875,169.2842 70.2656,169.3779 Q69.8594,169.4717 69.3906,169.4717 Q67.7813,169.4717 66.9219,168.4092 Q66.0625,167.3311 66.0625,165.3154 Q66.0625,163.2842 66.9219,162.2217 Q67.7813,161.1436 69.3906,161.1436 Q69.8594,161.1436 70.2656,161.2529 Q70.6875,161.3467 71.0625,161.5342 L71.0625,163.2998 Q70.6406,162.9248 70.25,162.7529 Q69.875,162.5811 69.4688,162.5811 Q68.6094,162.5811 68.1563,163.2686 Q67.7188,163.9561 67.7188,165.3154 Q67.7188,166.6748 68.1563,167.3623 Q68.6094,168.0498 69.4688,168.0498 Q69.875,168.0498 70.25,167.8779 Q70.6406,167.7061 71.0625,167.3154 L71.0625,169.0811 Z \"/><text fill=\"#000000\" font-family=\"Segoe UI\" font-size=\"11\" lengthAdjust=\"spacingAndGlyphs\" textLength=\"28\" x=\"91.25\" y=\"169.8701\">Batch</text><line style=\"stroke: #0FA3B1; stroke-width: 1.5;\" x1=\"16\" x2=\"167\" y1=\"181.6309\" y2=\"181.6309\"/><text fill=\"#000000\" font-family=\"Segoe UI\" font-size=\"11\" lengthAdjust=\"spacingAndGlyphs\" textLength=\"133\" x=\"25\" y=\"201.501\">reference: BatchReference</text><text fill=\"#000000\" font-family=\"Segoe UI\" font-size=\"11\" lengthAdjust=\"spacingAndGlyphs\" textLength=\"44\" x=\"25\" y=\"224.1318\">sku: SKU</text><text fill=\"#000000\" font-family=\"Segoe UI\" font-size=\"11\" lengthAdjust=\"spacingAndGlyphs\" textLength=\"63\" x=\"25\" y=\"246.7627\">quantity: int</text><text fill=\"#000000\" font-family=\"Segoe UI\" font-size=\"11\" lengthAdjust=\"spacingAndGlyphs\" textLength=\"121\" x=\"25\" y=\"269.3936\">_alocations: [OrderLine]</text><line style=\"stroke: #0FA3B1; stroke-width: 1.5;\" x1=\"16\" x2=\"167\" y1=\"280.1543\" y2=\"280.1543\"/><!--link Order to OrderLine--><path d=\"M183.6,83.26 C201.34,83.94 219.67,85.9 236.85,88.35 \" fill=\"none\" id=\"Order-OrderLine\" style=\"stroke: #0FA3B1; stroke-width: 1.0;\"/><polygon fill=\"#FFFFFF\" points=\"170.5,83,176.4197,87.1179,182.4977,83.2373,176.5779,79.1194,170.5,83\" style=\"stroke: #0FA3B1; stroke-width: 1.0;\"/><!--link Batch to OrderLine--><path d=\"M188,169.4 C204.32,161.09 221.11,152.55 236.95,144.48 \" fill=\"none\" id=\"Batch-OrderLine\" style=\"stroke: #0FA3B1; stroke-width: 1.0;\"/><polygon fill=\"#FFFFFF\" points=\"176.23,175.39,183.3918,176.2317,186.9233,169.9445,179.7615,169.1028,176.23,175.39\" style=\"stroke: #0FA3B1; stroke-width: 1.0;\"/><!--link OrderLine to Product--><path d=\"M391.5,117 C415.14,117 438.97,127.84 457.8,139.52 \" fill=\"none\" id=\"OrderLine-Product\" style=\"stroke: #0FA3B1; stroke-width: 1.0;\"/><!--link Batch to Product--><path d=\"M169.5,219 C275.03,219 397.52,192.51 457.71,177.71 \" fill=\"none\" id=\"Batch-Product\" style=\"stroke: #0FA3B1; stroke-width: 1.0;\"/><!--\n",
       "@startuml\n",
       "skinparam default {\n",
       "    FontName \"Segoe UI\"\n",
       "    FontSize 11\n",
       "    FontColor Black\n",
       "}\n",
       "\n",
       "skinparam class {\n",
       "    BackgroundColor #b5e2fa\n",
       "    BorderColor #0fa3b1\n",
       "}\n",
       "\n",
       "skinparam CircledCharacter {\n",
       "    FontColor Black\n",
       "}\n",
       "\n",
       "skinparam stereotypeC {\n",
       "    BackgroundColor #eddea4 \n",
       "}\n",
       "\n",
       "skinparam package {\n",
       "    FontName \"Segoe UI\"\n",
       "}\n",
       "\n",
       "skinparam sequencelifeline {\n",
       "    BorderColor #0fa3b1\n",
       "}\n",
       "skinparam arrow {\n",
       "    Color #0fa3b1\n",
       "}\n",
       "skinparam participant {\n",
       "    BackgroundColor #b5e2fa\n",
       "    BorderColor #0fa3b1\n",
       "}\n",
       "skinparam entity {\n",
       "    BackgroundColor #b5e2fa\n",
       "    BorderColor #0fa3b1\n",
       "}\n",
       "skinparam collections {\n",
       "    BackgroundColor #b5e2fa\n",
       "    BorderColor #0fa3b1\n",
       "}\n",
       "skinparam database {\n",
       "    BackgroundColor #b5e2fa\n",
       "    BorderColor #0fa3b1\n",
       "}\n",
       "skinparam boundary {\n",
       "    BackgroundColor #b5e2fa\n",
       "    BorderColor #0fa3b1\n",
       "}\n",
       "skinparam actor {\n",
       "    Color DeepSkyBlue\n",
       "    BackgroundColor #b5e2fa\n",
       "    BorderColor #0fa3b1\n",
       "}\n",
       "skinparam sequencegroupheader {\n",
       "    FontName \"Segoe UI\"\n",
       "}\n",
       "skinparam sequencebox {\n",
       "    BackgroundColor PowderBlue\n",
       "    BorderColor #0fa3b1\n",
       "}\n",
       "skinparam padding 4\n",
       "\n",
       "left to right direction\n",
       "\n",
       "class Product {\n",
       "    sku: SKU\n",
       "}\n",
       "\n",
       "class Order {\n",
       "    reference: OrderReference\n",
       "    _order_lines: [OrderLine]\n",
       "}\n",
       "\n",
       "class OrderLine {\n",
       "    orderid: OrderReference\n",
       "    sku: SKU\n",
       "    qty: int\n",
       "}\n",
       "\n",
       "class Batch {\n",
       "    reference: BatchReference\n",
       "    sku: SKU\n",
       "    quantity: int\n",
       "    _alocations: [OrderLine]\n",
       "}\n",
       "\n",
       "Order::_order_lines o- - OrderLine\n",
       "Batch::_allocations o- - OrderLine\n",
       "OrderLine::sku - - Product\n",
       "Batch::sku - - Product\n",
       "\n",
       "@enduml\n",
       "\n",
       "PlantUML version 1.2018.13(Tue Nov 27 02:11:51 KST 2018)\n",
       "(GPL source distribution)\n",
       "Java Runtime: OpenJDK Runtime Environment\n",
       "JVM: OpenJDK 64-Bit Server VM\n",
       "Java Version: 11.0.9.1+1-Ubuntu-0ubuntu1.20.04\n",
       "Operating System: Linux\n",
       "OS Version: 5.4.0-1032-azure\n",
       "Default Encoding: UTF-8\n",
       "Language: en\n",
       "Country: US\n",
       "--></g></svg>"
      ],
      "text/plain": [
       "<IPython.core.display.SVG object>"
      ]
     },
     "execution_count": 2,
     "metadata": {},
     "output_type": "execute_result"
    }
   ],
   "source": [
    "%%plantuml\n",
    "\n",
    "@startuml\n",
    "\n",
    "left to right direction\n",
    "\n",
    "class Product {\n",
    "    sku: SKU\n",
    "}\n",
    "\n",
    "class Order {\n",
    "    reference: OrderReference\n",
    "    _order_lines: [OrderLine]\n",
    "}\n",
    "\n",
    "class OrderLine {\n",
    "    orderid: OrderReference\n",
    "    sku: SKU\n",
    "    qty: int\n",
    "}\n",
    "\n",
    "class Batch {\n",
    "    reference: BatchReference\n",
    "    sku: SKU\n",
    "    quantity: int\n",
    "    _alocations: [OrderLine]\n",
    "}\n",
    "\n",
    "Order::_order_lines o-- OrderLine\n",
    "Batch::_allocations o-- OrderLine\n",
    "OrderLine::sku -- Product\n",
    "Batch::sku -- Product\n",
    "\n",
    "@enduml"
   ]
  },
  {
   "cell_type": "markdown",
   "metadata": {},
   "source": [
    "## Unit Testing Domain Models"
   ]
  },
  {
   "cell_type": "code",
   "execution_count": 3,
   "metadata": {},
   "outputs": [],
   "source": [
    "# 단위 테스트를 위한 헬퍼 데코레이터\n",
    "\n",
    "import sys\n",
    "import traceback\n",
    "\n",
    "import pytest\n",
    "\n",
    "VIOLET = '\\033[95m'\n",
    "ENDC = '\\033[0m'\n",
    "BOLD = '\\033[1m'\n",
    "\n",
    "def test(func):\n",
    "    try:\n",
    "        func() # 함수를 정의할때 바로 실행되도록\n",
    "        print(f'✔️ {VIOLET}{func.__name__}{ENDC}')\n",
    "    except:\n",
    "        exc_args = sys.exc_info()\n",
    "        traceback.print_exception(*exc_args, limit=-1)\n",
    "    finally:\n",
    "        # 함수 실행이 실패해도 함수 정의는 그대로 리턴하도록\n",
    "        return func"
   ]
  },
  {
   "cell_type": "markdown",
   "metadata": {},
   "source": [
    "#### A first test for allocation\n",
    "\n",
    "`Batch` 도메인이 정의되지 않아서 테스트가 실패합니다."
   ]
  },
  {
   "cell_type": "code",
   "execution_count": 4,
   "metadata": {},
   "outputs": [
    {
     "name": "stderr",
     "output_type": "stream",
     "text": [
      "Traceback (most recent call last):\n",
      "  File \"<ipython-input-4-ec9a4771936d>\", line 3, in test_allocating_to_a_batch_reduces_the_available_quantity\n",
      "    batch = Batch(\"batch-001\", \"SMALL-TABLE\", qty=20, eta=date.today())\n",
      "NameError: name 'Batch' is not defined\n"
     ]
    }
   ],
   "source": [
    "@test\n",
    "def test_allocating_to_a_batch_reduces_the_available_quantity():\n",
    "    batch = Batch(\"batch-001\", \"SMALL-TABLE\", qty=20, eta=date.today())\n",
    "    line = OrderLine('order-ref', \"SMALL-TABLE\", 2)\n",
    "\n",
    "    batch.allocate(line)\n",
    "\n",
    "    assert batch.available_quantity == 18"
   ]
  },
  {
   "cell_type": "markdown",
   "metadata": {},
   "source": [
    "#### First cut of a domain model for batches"
   ]
  },
  {
   "cell_type": "code",
   "execution_count": 5,
   "metadata": {},
   "outputs": [
    {
     "name": "stdout",
     "output_type": "stream",
     "text": [
      "\u001b[95mTypecheck: \u001b[92msuccess\u001b[0m\n"
     ]
    }
   ],
   "source": [
    "%%typecheck domain_models1\n",
    "\n",
    "from dataclasses import dataclass\n",
    "from typing import Optional\n",
    "from datetime import date\n",
    "\n",
    "@dataclass(frozen=True)\n",
    "class OrderLine:\n",
    "    orderid: str\n",
    "    sku: str\n",
    "    qty: int\n",
    "\n",
    "\n",
    "class Batch:\n",
    "    def __init__(\n",
    "        self, ref: str, sku: str, qty: int, eta: Optional[date]\n",
    "    ):\n",
    "        self.reference = ref\n",
    "        self.sku = sku\n",
    "        self.eta = eta\n",
    "        self.available_quantity = qty\n",
    "\n",
    "    def allocate(self, line: OrderLine) -> None:\n",
    "        self.available_quantity -= line.qty"
   ]
  },
  {
   "cell_type": "markdown",
   "metadata": {},
   "source": [
    "도메인 객체 정의 후 테스트 성공합니다."
   ]
  },
  {
   "cell_type": "code",
   "execution_count": 6,
   "metadata": {},
   "outputs": [
    {
     "name": "stdout",
     "output_type": "stream",
     "text": [
      "✔️ \u001b[95mtest_allocating_to_a_batch_reduces_the_available_quantity\u001b[0m\n"
     ]
    }
   ],
   "source": [
    "@test\n",
    "def test_allocating_to_a_batch_reduces_the_available_quantity():\n",
    "    batch = Batch(\"batch-001\", \"SMALL-TABLE\", qty=20, eta=date.today())\n",
    "    line = OrderLine('order-ref', \"SMALL-TABLE\", 2)\n",
    "\n",
    "    batch.allocate(line)\n",
    "\n",
    "    assert batch.available_quantity == 18"
   ]
  },
  {
   "cell_type": "markdown",
   "metadata": {},
   "source": [
    "#### Testing logic for what we can allocate\n",
    "\n",
    "`can_allocate` 가 정의되지 않아 실패하는 테스트 코드를 먼저 작성합니다."
   ]
  },
  {
   "cell_type": "code",
   "execution_count": 7,
   "metadata": {},
   "outputs": [
    {
     "name": "stderr",
     "output_type": "stream",
     "text": [
      "Traceback (most recent call last):\n",
      "  File \"<ipython-input-7-9ae6c0e6fdad>\", line 10, in test_can_allocate_if_available_greater_than_required\n",
      "    assert large_batch.can_allocate(small_line)\n",
      "AttributeError: 'Batch' object has no attribute 'can_allocate'\n"
     ]
    }
   ],
   "source": [
    "def make_batch_and_line(sku, batch_qty, line_qty):\n",
    "    return (\n",
    "        Batch(\"batch-001\", sku, batch_qty, eta=date.today()),\n",
    "        OrderLine(\"order-123\", sku, line_qty)\n",
    "    )\n",
    "\n",
    "@test\n",
    "def test_can_allocate_if_available_greater_than_required():\n",
    "    large_batch, small_line = make_batch_and_line(\"ELEGANT-LAMP\", 20, 2)\n",
    "    assert large_batch.can_allocate(small_line)"
   ]
  },
  {
   "cell_type": "markdown",
   "metadata": {},
   "source": [
    "테스트가 성공하도록 `Batch` 객체에 `can_allocate`를 정의합니다."
   ]
  },
  {
   "cell_type": "code",
   "execution_count": 8,
   "metadata": {},
   "outputs": [
    {
     "name": "stdout",
     "output_type": "stream",
     "text": [
      "\u001b[95mTypecheck: \u001b[92msuccess\u001b[0m\n"
     ]
    }
   ],
   "source": [
    "%%typecheck batch_alloc from domain_models1\n",
    "from datetime import date\n",
    "\n",
    "class Batch:\n",
    "    def __init__(\n",
    "        self, ref: str, sku: str, qty: int, eta: Optional[date]\n",
    "    ):\n",
    "        self.reference = ref\n",
    "        self.sku = sku\n",
    "        self.eta = eta\n",
    "        self._purchased_quantity = qty\n",
    "        self._allocations = set[OrderLine]()\n",
    "\n",
    "    def allocate(self, line: OrderLine) -> None:\n",
    "        if self.can_allocate(line):\n",
    "            self._allocations.add(line)\n",
    "\n",
    "    def deallocate(self, line: OrderLine) -> None:\n",
    "        if line in self._allocations:\n",
    "            self._allocations.remove(line)\n",
    "\n",
    "    @property\n",
    "    def allocated_quantity(self) -> int:\n",
    "        return sum(line.qty for line in self._allocations)\n",
    "\n",
    "    @property\n",
    "    def available_quantity(self) -> int:\n",
    "        return self._purchased_quantity - self.allocated_quantity\n",
    "\n",
    "    def can_allocate(self, line: OrderLine) -> bool:\n",
    "        return self.sku == line.sku and self.available_quantity >= line.qty"
   ]
  },
  {
   "cell_type": "markdown",
   "metadata": {},
   "source": [
    "테스트 성공"
   ]
  },
  {
   "cell_type": "code",
   "execution_count": 9,
   "metadata": {},
   "outputs": [
    {
     "name": "stdout",
     "output_type": "stream",
     "text": [
      "✔️ \u001b[95mtest_can_allocate_if_available_greater_than_required\u001b[0m\n",
      "✔️ \u001b[95mtest_cannot_allocate_if_available_smaller_than_required\u001b[0m\n",
      "✔️ \u001b[95mtest_can_allocate_if_available_equal_to_required\u001b[0m\n",
      "✔️ \u001b[95mtest_cannot_allocate_if_skus_do_not_match\u001b[0m\n"
     ]
    }
   ],
   "source": [
    "@test\n",
    "def test_can_allocate_if_available_greater_than_required():\n",
    "    large_batch, small_line = make_batch_and_line(\"ELEGANT-LAMP\", 20, 2)\n",
    "    assert large_batch.can_allocate(small_line)\n",
    "\n",
    "@test\n",
    "def test_cannot_allocate_if_available_smaller_than_required():\n",
    "    small_batch, large_line = make_batch_and_line(\"ELEGANT-LAMP\", 2, 20)\n",
    "    assert small_batch.can_allocate(large_line) is False\n",
    "\n",
    "@test\n",
    "def test_can_allocate_if_available_equal_to_required():\n",
    "    batch, line = make_batch_and_line(\"ELEGANT-LAMP\", 2, 2)\n",
    "    assert batch.can_allocate(line)\n",
    "\n",
    "@test\n",
    "def test_cannot_allocate_if_skus_do_not_match():\n",
    "    batch = Batch(\"batch-001\", \"UNCOMFORTABLE-CHAIR\", 100, eta=None)\n",
    "    different_sku_line = OrderLine(\"order-123\", \"EXPENSIVE-TOASTER\", 10)\n",
    "    assert batch.can_allocate(different_sku_line) is False"
   ]
  },
  {
   "cell_type": "markdown",
   "metadata": {},
   "source": [
    "#### Test deallocation"
   ]
  },
  {
   "cell_type": "code",
   "execution_count": 10,
   "metadata": {},
   "outputs": [
    {
     "name": "stdout",
     "output_type": "stream",
     "text": [
      "✔️ \u001b[95mtest_can_only_deallocate_allocated_lines\u001b[0m\n"
     ]
    }
   ],
   "source": [
    "@test\n",
    "def test_can_only_deallocate_allocated_lines():\n",
    "    batch, unallocated_line = make_batch_and_line(\"DECORATIVE-TRINKET\", 20, 2)\n",
    "    batch.deallocate(unallocated_line)\n",
    "    assert batch.available_quantity == 20"
   ]
  },
  {
   "cell_type": "code",
   "execution_count": 11,
   "metadata": {},
   "outputs": [
    {
     "name": "stdout",
     "output_type": "stream",
     "text": [
      "✔️ \u001b[95mtest_allocation_is_idempotent\u001b[0m\n"
     ]
    }
   ],
   "source": [
    "@test\n",
    "def test_allocation_is_idempotent():\n",
    "    batch, line = make_batch_and_line(\"ANGULAR-DESK\", 20, 2)\n",
    "    batch.allocate(line)\n",
    "    batch.allocate(line)\n",
    "    assert batch.available_quantity == 18"
   ]
  },
  {
   "cell_type": "markdown",
   "metadata": {},
   "source": [
    "#### More types for more type hints"
   ]
  },
  {
   "cell_type": "code",
   "execution_count": 12,
   "metadata": {},
   "outputs": [
    {
     "name": "stdout",
     "output_type": "stream",
     "text": [
      "\u001b[95mTypecheck: \u001b[92msuccess\u001b[0m\n"
     ]
    }
   ],
   "source": [
    "%%typecheck custom_types from batch_alloc\n",
    "from typing import NewType\n",
    "\n",
    "Quantity = NewType(\"Quantity\", int)\n",
    "Sku = NewType(\"Sku\", str)\n",
    "Reference = NewType(\"Reference\", str)\n",
    "OrderReference = NewType(\"OrderReference\", str)\n",
    "ProductReference = NewType(\"ProductReference\", str)"
   ]
  },
  {
   "cell_type": "markdown",
   "metadata": {},
   "source": [
    "#### OrderLine is a value object"
   ]
  },
  {
   "cell_type": "code",
   "execution_count": 13,
   "metadata": {},
   "outputs": [
    {
     "name": "stdout",
     "output_type": "stream",
     "text": [
      "\u001b[95mTypecheck: \u001b[92msuccess\u001b[0m\n"
     ]
    }
   ],
   "source": [
    "%%typecheck orderline from custom_types\n",
    "\n",
    "@dataclass(frozen=True)\n",
    "class OrderLine:\n",
    "    orderid: OrderReference\n",
    "    sku: Sku\n",
    "    qty: Quantity"
   ]
  },
  {
   "cell_type": "markdown",
   "metadata": {},
   "source": [
    "#### More examples of value objects"
   ]
  },
  {
   "cell_type": "code",
   "execution_count": 14,
   "metadata": {},
   "outputs": [],
   "source": [
    "from dataclasses import dataclass\n",
    "from typing import NamedTuple\n",
    "from collections import namedtuple\n",
    "\n",
    "@dataclass(frozen=True)\n",
    "class Name:\n",
    "    first_name: str\n",
    "    surname: str\n",
    "\n",
    "class Money(NamedTuple):\n",
    "    currency: str\n",
    "    value: int\n",
    "\n",
    "Line = namedtuple('Line', ['sku', 'qty'])"
   ]
  },
  {
   "cell_type": "code",
   "execution_count": 15,
   "metadata": {},
   "outputs": [
    {
     "name": "stdout",
     "output_type": "stream",
     "text": [
      "✔️ \u001b[95mtest_equality\u001b[0m\n"
     ]
    }
   ],
   "source": [
    "@test\n",
    "def test_equality():\n",
    "    assert Money('gbp', 10) == Money('gbp', 10)\n",
    "    assert Name('Harry', 'Percival') != Name('Bob', 'Gregory')\n",
    "    assert Line('RED-CHAIR', 5) == Line('RED-CHAIR', 5)"
   ]
  },
  {
   "cell_type": "markdown",
   "metadata": {},
   "source": [
    "#### Math with value objects"
   ]
  },
  {
   "cell_type": "code",
   "execution_count": 16,
   "metadata": {},
   "outputs": [
    {
     "name": "stderr",
     "output_type": "stream",
     "text": [
      "Traceback (most recent call last):\n",
      "  File \"<ipython-input-16-3e32c9afbc08>\", line 6, in can_add_money_values_for_the_same_currency\n",
      "    assert fiver + fiver == tenner\n",
      "AssertionError\n"
     ]
    }
   ],
   "source": [
    "fiver = Money('gbp', 5)\n",
    "tenner = Money('gbp', 10)\n",
    "\n",
    "@test\n",
    "def can_add_money_values_for_the_same_currency():\n",
    "    assert fiver + fiver == tenner"
   ]
  },
  {
   "cell_type": "markdown",
   "metadata": {},
   "source": [
    "##### Magic methods to support arithmetic operations between value objects "
   ]
  },
  {
   "cell_type": "code",
   "execution_count": 17,
   "metadata": {},
   "outputs": [],
   "source": [
    "class Money(NamedTuple):\n",
    "    currency: str\n",
    "    value: int\n",
    "        \n",
    "    def __add__(self, rhs: Money):\n",
    "        if self.currency != rhs.currency: raise ValueError\n",
    "        return Money(self.currency, self.value + rhs.value)\n",
    "    \n",
    "    def __sub__(self, rhs: Money):\n",
    "        assert self.currency == rhs.currency\n",
    "        return Money(self.currency, self.value - rhs.value)\n",
    "    \n",
    "    def __mul__(self, rhs: int):\n",
    "        if not isinstance(rhs, (int, float)):\n",
    "            raise TypeError\n",
    "        return Money(self.currency, self.value * rhs)            "
   ]
  },
  {
   "cell_type": "code",
   "execution_count": 18,
   "metadata": {},
   "outputs": [
    {
     "name": "stdout",
     "output_type": "stream",
     "text": [
      "✔️ \u001b[95mcan_add_money_values_for_the_same_currency\u001b[0m\n",
      "✔️ \u001b[95mcan_subtract_money_values\u001b[0m\n",
      "✔️ \u001b[95madding_different_currencies_fails\u001b[0m\n",
      "✔️ \u001b[95mcan_multiply_money_by_a_number\u001b[0m\n",
      "✔️ \u001b[95mmultiplying_two_money_values_is_an_error\u001b[0m\n"
     ]
    }
   ],
   "source": [
    "fiver = Money('gbp', 5)\n",
    "tenner = Money('gbp', 10)        \n",
    "\n",
    "@test\n",
    "def can_add_money_values_for_the_same_currency():\n",
    "    assert fiver + fiver == tenner\n",
    "        \n",
    "@test\n",
    "def can_subtract_money_values():\n",
    "    assert tenner - fiver == fiver\n",
    "\n",
    "@test\n",
    "def adding_different_currencies_fails():\n",
    "    with pytest.raises(ValueError):\n",
    "        Money('usd', 10) + Money('gbp', 10)\n",
    "\n",
    "@test\n",
    "def can_multiply_money_by_a_number():\n",
    "    assert fiver * 5 == Money('gbp', 25)\n",
    "\n",
    "@test\n",
    "def multiplying_two_money_values_is_an_error():\n",
    "    with pytest.raises(TypeError):\n",
    "        tenner * fiver    "
   ]
  },
  {
   "cell_type": "markdown",
   "metadata": {},
   "source": [
    "### Value Objects and Entities"
   ]
  },
  {
   "cell_type": "markdown",
   "metadata": {},
   "source": [
    "#### A name itsetlf cannot change..."
   ]
  },
  {
   "cell_type": "code",
   "execution_count": 19,
   "metadata": {},
   "outputs": [
    {
     "name": "stdout",
     "output_type": "stream",
     "text": [
      "✔️ \u001b[95mtest_name_equality\u001b[0m\n"
     ]
    }
   ],
   "source": [
    "@test\n",
    "def test_name_equality():\n",
    "    assert Name(\"Harry\", \"Percival\") != Name(\"Barry\", \"Percival\")"
   ]
  },
  {
   "cell_type": "markdown",
   "metadata": {},
   "source": [
    "#### But a person can!\n",
    "\n",
    "엔티티는 값과 달리 특정 id 속성값으로 동등성을 검사합니다. 객체 속성 바뀌어도 id가 같다면 같은 객체입니다. "
   ]
  },
  {
   "cell_type": "code",
   "execution_count": 20,
   "metadata": {},
   "outputs": [],
   "source": [
    "class Person:\n",
    "    def __init__(self, name: Name):\n",
    "        self.name = name"
   ]
  },
  {
   "cell_type": "code",
   "execution_count": 21,
   "metadata": {},
   "outputs": [
    {
     "name": "stdout",
     "output_type": "stream",
     "text": [
      "✔️ \u001b[95mtest_barry_is_harry\u001b[0m\n"
     ]
    }
   ],
   "source": [
    "@test\n",
    "def test_barry_is_harry():\n",
    "    harry = Person(Name(\"Harry\", \"Percival\"))\n",
    "    barry = harry\n",
    "    \n",
    "    barry.name = Name(\"Barry\", \"Percival\")\n",
    "    \n",
    "    assert harry is barry and barry is harry"
   ]
  },
  {
   "cell_type": "markdown",
   "metadata": {},
   "source": [
    "#### Implementing equality opeartors"
   ]
  },
  {
   "cell_type": "code",
   "execution_count": 22,
   "metadata": {},
   "outputs": [
    {
     "name": "stderr",
     "output_type": "stream",
     "text": [
      "Traceback (most recent call last):\n",
      "  File \"<ipython-input-22-7e6a1737e553>\", line 6, in test_batch_equality\n",
      "    assert batch1 == batch2\n",
      "AssertionError\n"
     ]
    }
   ],
   "source": [
    "@test\n",
    "def test_batch_equality():\n",
    "    batch1 = Batch('batch-001', 'SIMPLE-TABLE', 10, eta=date.today())\n",
    "    batch2 = Batch('batch-001', 'SIMPLE-CHAIR', 5, eta=date.today())\n",
    "    \n",
    "    assert batch1 == batch2"
   ]
  },
  {
   "cell_type": "markdown",
   "metadata": {},
   "source": [
    "`Batch` 엔티티에도 동일성을 검사할 수 있는 매직 메소드를 추가해봅시다."
   ]
  },
  {
   "cell_type": "code",
   "execution_count": 23,
   "metadata": {},
   "outputs": [
    {
     "name": "stdout",
     "output_type": "stream",
     "text": [
      "\u001b[95mTypecheck: \u001b[92msuccess\u001b[0m\n"
     ]
    }
   ],
   "source": [
    "%%typecheck batch_entity from custom_types, orderline\n",
    "from datetime import date\n",
    "\n",
    "class Batch:\n",
    "    def __init__(\n",
    "        self, ref: Reference, sku: Sku, qty: int, eta: Optional[date]\n",
    "    ):\n",
    "        self.__reference = ref\n",
    "        self.sku = sku\n",
    "        self.eta = eta\n",
    "        self._purchased_quantity = qty\n",
    "        self._allocations = set[OrderLine]()\n",
    "        \n",
    "    @property\n",
    "    def reference(self) -> Reference:\n",
    "        return self.__reference\n",
    "\n",
    "    def allocate(self, line: OrderLine) -> None:\n",
    "        if self.can_allocate(line):\n",
    "            self._allocations.add(line)\n",
    "\n",
    "    def deallocate(self, line: OrderLine) -> None:\n",
    "        if line in self._allocations:\n",
    "            self._allocations.remove(line)\n",
    "\n",
    "    @property\n",
    "    def allocated_quantity(self) -> int:\n",
    "        return sum(line.qty for line in self._allocations)\n",
    "\n",
    "    @property\n",
    "    def available_quantity(self) -> int:\n",
    "        return self._purchased_quantity - self.allocated_quantity\n",
    "\n",
    "    def can_allocate(self, line: OrderLine) -> bool:\n",
    "        return self.sku == line.sku and self.available_quantity >= line.qty\n",
    "    \n",
    "    #######################################################################    \n",
    "    def __eq__(self, other: object) -> bool:\n",
    "        if not isinstance(other, Batch):\n",
    "            return False\n",
    "        return other.reference == self.reference\n",
    "    \n",
    "    def __hash__(self) -> int:\n",
    "        return hash(self.reference)"
   ]
  },
  {
   "cell_type": "code",
   "execution_count": 24,
   "metadata": {},
   "outputs": [
    {
     "name": "stdout",
     "output_type": "stream",
     "text": [
      "✔️ \u001b[95mtest_batch_equality\u001b[0m\n"
     ]
    }
   ],
   "source": [
    "@test\n",
    "def test_batch_equality():\n",
    "    batch1 = Batch('batch-001', 'SIMPLE-TABLE', 10, eta=date.today())\n",
    "    batch2 = Batch('batch-001', 'SIMPLE-CHAIR', 5, eta=date.today())\n",
    "    \n",
    "    assert batch1 == batch2"
   ]
  },
  {
   "cell_type": "markdown",
   "metadata": {},
   "source": [
    "## Not Everything Has to Be an Object: A Domain Service Function"
   ]
  },
  {
   "cell_type": "markdown",
   "metadata": {},
   "source": [
    "### Testing our domain services\n",
    "\n",
    "정의되지 않은 `allocate` 함수(서비스)에 대한 실패하는 테스트를 먼저 작성합니다."
   ]
  },
  {
   "cell_type": "code",
   "execution_count": 25,
   "metadata": {},
   "outputs": [
    {
     "name": "stderr",
     "output_type": "stream",
     "text": [
      "Traceback (most recent call last):\n",
      "  File \"<ipython-input-25-c27cf706fffa>\", line 10, in test_prefers_current_stock_batches_to_shipments\n",
      "    allocate(line, [in_stock_batch, shipment_batch])\n",
      "NameError: name 'allocate' is not defined\n"
     ]
    }
   ],
   "source": [
    "from datetime import date, timedelta\n",
    "tomorrow = date.today() + timedelta(days=1)\n",
    "\n",
    "@test\n",
    "def test_prefers_current_stock_batches_to_shipments():\n",
    "    in_stock_batch = Batch(\"in-stock-batch\", \"RETRO-CLOCK\", 100, eta=None)\n",
    "    shipment_batch = Batch(\"shipment-batch\", \"RETRO-CLOCK\", 100, eta=tomorrow)\n",
    "    line = OrderLine(\"oref\", \"RETRO-CLOCK\", 10)\n",
    "\n",
    "    allocate(line, [in_stock_batch, shipment_batch])\n",
    "\n",
    "    assert in_stock_batch.available_quantity == 90\n",
    "    assert shipment_batch.available_quantity == 100"
   ]
  },
  {
   "cell_type": "markdown",
   "metadata": {},
   "source": [
    "### A standalone function for our domain service\n",
    "\n",
    "`Batch` 객체의 순서를 정의할 수 없으므로 `sorted` 를 적용할 수 없어 에러 발생합니다."
   ]
  },
  {
   "cell_type": "code",
   "execution_count": 26,
   "metadata": {},
   "outputs": [
    {
     "name": "stderr",
     "output_type": "stream",
     "text": [
      "<string>:6: error: Value of type variable \"_SupportsLessThanT\" of \"sorted\" cannot be \"Batch\"\n"
     ]
    }
   ],
   "source": [
    "%%typecheck allocate from orderline, batch_entity\n",
    "from typing import List\n",
    "\n",
    "def allocate(line: OrderLine, batches: List[Batch]) -> str:\n",
    "    batch = next(\n",
    "        b for b in sorted(batches) if b.can_allocate(line)\n",
    "    )\n",
    "    batch.allocate(line)\n",
    "    return batch.reference"
   ]
  },
  {
   "cell_type": "markdown",
   "metadata": {},
   "source": [
    "### Python’s Magic Methods Let Us Use Our Models with Idiomatic Python\n",
    "\n",
    "`__lt__` 매직 메소드를 구현하여 `Batch` 객체들의 정렬이 가능하도록 합시다."
   ]
  },
  {
   "cell_type": "code",
   "execution_count": 27,
   "metadata": {},
   "outputs": [
    {
     "name": "stdout",
     "output_type": "stream",
     "text": [
      "\u001b[95mTypecheck: \u001b[92msuccess\u001b[0m\n"
     ]
    }
   ],
   "source": [
    "%%typecheck batch_ord from custom_types, orderline\n",
    "from datetime import date\n",
    "\n",
    "class Batch:\n",
    "    def __init__(\n",
    "        self, ref: Reference, sku: Sku, qty: int, eta: Optional[date]\n",
    "    ):\n",
    "        self.__reference = ref\n",
    "        self.sku = sku\n",
    "        self.eta = eta\n",
    "        self._purchased_quantity = qty\n",
    "        self._allocations = set[OrderLine]()\n",
    "        \n",
    "    @property\n",
    "    def reference(self) -> Reference:\n",
    "        return self.__reference\n",
    "\n",
    "    def allocate(self, line: OrderLine) -> None:\n",
    "        if self.can_allocate(line):\n",
    "            self._allocations.add(line)\n",
    "\n",
    "    def deallocate(self, line: OrderLine) -> None:\n",
    "        if line in self._allocations:\n",
    "            self._allocations.remove(line)\n",
    "\n",
    "    @property\n",
    "    def allocated_quantity(self) -> int:\n",
    "        return sum(line.qty for line in self._allocations)\n",
    "\n",
    "    @property\n",
    "    def available_quantity(self) -> int:\n",
    "        return self._purchased_quantity - self.allocated_quantity\n",
    "\n",
    "    def can_allocate(self, line: OrderLine) -> bool:\n",
    "        return self.sku == line.sku and self.available_quantity >= line.qty\n",
    "    \n",
    "    def __eq__(self, other: object) -> bool:\n",
    "        if not isinstance(other, Batch):\n",
    "            return False\n",
    "        return other.reference == self.reference\n",
    "    \n",
    "    def __hash__(self) -> int:\n",
    "        return hash(self.reference)\n",
    "    \n",
    "    #######################################################################    \n",
    "    def __lt__(self, other: Batch) -> bool:\n",
    "        if self.eta is None:\n",
    "            return True\n",
    "        if other.eta is None:\n",
    "            return False\n",
    "        return self.eta < other.eta"
   ]
  },
  {
   "cell_type": "markdown",
   "metadata": {},
   "source": [
    "이제 `Batch` 객체의 정렬이 가능하여 타입체크에 성공하고 테스트들도\n",
    "성공적으로 수행됩니다."
   ]
  },
  {
   "cell_type": "code",
   "execution_count": 28,
   "metadata": {},
   "outputs": [
    {
     "name": "stdout",
     "output_type": "stream",
     "text": [
      "\u001b[95mTypecheck: \u001b[92msuccess\u001b[0m\n"
     ]
    }
   ],
   "source": [
    "%%typecheck allocate from batch_ord, orderline\n",
    "from typing import List\n",
    "\n",
    "def allocate(line: OrderLine, batches: List[Batch]) -> str:\n",
    "    batch = next(\n",
    "        b for b in sorted(batches) if b.can_allocate(line)\n",
    "    )\n",
    "    batch.allocate(line)\n",
    "    return batch.reference"
   ]
  },
  {
   "cell_type": "code",
   "execution_count": 29,
   "metadata": {},
   "outputs": [
    {
     "name": "stdout",
     "output_type": "stream",
     "text": [
      "✔️ \u001b[95mtest_prefers_current_stock_batches_to_shipments\u001b[0m\n"
     ]
    }
   ],
   "source": [
    "from datetime import date, timedelta\n",
    "\n",
    "today, tomorrow = date.today(), date.today() + timedelta(days=1)\n",
    "\n",
    "@test\n",
    "def test_prefers_current_stock_batches_to_shipments():\n",
    "    in_stock_batch = Batch(\"in-stock-batch\", \"RETRO-CLOCK\", 100, eta=None)\n",
    "    shipment_batch = Batch(\"shipment-batch\", \"RETRO-CLOCK\", 100, eta=tomorrow)\n",
    "    line = OrderLine(\"oref\", \"RETRO-CLOCK\", 10)\n",
    "\n",
    "    allocate(line, [in_stock_batch, shipment_batch])\n",
    "\n",
    "    assert in_stock_batch.available_quantity == 90\n",
    "    assert shipment_batch.available_quantity == 100"
   ]
  },
  {
   "cell_type": "code",
   "execution_count": 30,
   "metadata": {},
   "outputs": [
    {
     "name": "stdout",
     "output_type": "stream",
     "text": [
      "✔️ \u001b[95mtest_prefers_earlier_batches\u001b[0m\n",
      "✔️ \u001b[95mtest_returns_allocated_batch_ref\u001b[0m\n"
     ]
    }
   ],
   "source": [
    "from datetime import date, timedelta\n",
    "\n",
    "today = date.today()\n",
    "tomorrow, later = today + timedelta(days=1), today + timedelta(days=30)\n",
    "\n",
    "@test\n",
    "def test_prefers_earlier_batches():\n",
    "    earliest = Batch(\"speedy-batch\", \"MINIMALIST-SPOON\", 100, eta=today)\n",
    "    medium = Batch(\"normal-batch\", \"MINIMALIST-SPOON\", 100, eta=tomorrow)\n",
    "    latest = Batch(\"slow-batch\", \"MINIMALIST-SPOON\", 100, eta=later)\n",
    "    line = OrderLine(\"order1\", \"MINIMALIST-SPOON\", 10)\n",
    "\n",
    "    allocate(line, [medium, earliest, latest])\n",
    "\n",
    "    assert earliest.available_quantity == 90\n",
    "    assert medium.available_quantity == 100\n",
    "    assert latest.available_quantity == 100\n",
    "\n",
    "@test\n",
    "def test_returns_allocated_batch_ref():\n",
    "    in_stock_batch = Batch(\"in-stock-batch-ref\", \"HIGHBROW-POSTER\", 100, eta=None)\n",
    "    shipment_batch = Batch(\"shipment-batch-ref\", \"HIGHBROW-POSTER\", 100, eta=tomorrow)\n",
    "    line = OrderLine(\"oref\", \"HIGHBROW-POSTER\", 10)\n",
    "    allocation = allocate(line, [in_stock_batch, shipment_batch])\n",
    "    assert allocation == in_stock_batch.reference"
   ]
  },
  {
   "cell_type": "markdown",
   "metadata": {},
   "source": [
    "### Exceptions Can Express Domain Concetps Too"
   ]
  },
  {
   "cell_type": "markdown",
   "metadata": {},
   "source": [
    "`pytest` 를 이용해 할당할 `Stock` 이 없을 경우 `OutOfStock` 예외가 발생하는지 테스트합시다. "
   ]
  },
  {
   "cell_type": "code",
   "execution_count": 31,
   "metadata": {},
   "outputs": [
    {
     "name": "stderr",
     "output_type": "stream",
     "text": [
      "Traceback (most recent call last):\n",
      "  File \"<ipython-input-28-8c58e5803c91>\", line 4, in allocate\n",
      "    batch = next(\n",
      "StopIteration\n"
     ]
    }
   ],
   "source": [
    "class OutOfStock(Exception):\n",
    "    pass\n",
    "\n",
    "@test\n",
    "def test_raises_out_of_stock_exception_if_cannot_allocate():\n",
    "    batch = Batch('batch1', 'SMALL-FORK', 10, eta=today)\n",
    "    allocate(OrderLine('order1', 'SMALL-FORK', 10), [batch])\n",
    "\n",
    "    with pytest.raises(OutOfStock, match='SMALL-FORK'):\n",
    "        allocate(OrderLine('order2', 'SMALL-FORK', 1), [batch])"
   ]
  },
  {
   "cell_type": "markdown",
   "metadata": {},
   "source": [
    "`allocate` 함수에 예외발생 부분을 추가"
   ]
  },
  {
   "cell_type": "code",
   "execution_count": 32,
   "metadata": {},
   "outputs": [],
   "source": [
    "def allocate(line: OrderLine, batches: List[Batch]) -> str:\n",
    "    try:\n",
    "        batch = next(\n",
    "            b for b in sorted(batches) if b.can_allocate(line)\n",
    "        )\n",
    "        batch.allocate(line)\n",
    "        return batch.reference            \n",
    "    except StopIteration:\n",
    "        raise OutOfStock(f'Out of stock for sku {line.sku}')"
   ]
  },
  {
   "cell_type": "markdown",
   "metadata": {},
   "source": [
    "이제 테스트가 성공합니다."
   ]
  },
  {
   "cell_type": "code",
   "execution_count": 33,
   "metadata": {},
   "outputs": [
    {
     "name": "stdout",
     "output_type": "stream",
     "text": [
      "✔️ \u001b[95mtest_raises_out_of_stock_exception_if_cannot_allocate\u001b[0m\n"
     ]
    }
   ],
   "source": [
    "@test\n",
    "def test_raises_out_of_stock_exception_if_cannot_allocate():\n",
    "    batch = Batch('batch1', 'SMALL-FORK', 10, eta=today)\n",
    "    allocate(OrderLine('order1', 'SMALL-FORK', 10), [batch])\n",
    "\n",
    "    with pytest.raises(OutOfStock, match='SMALL-FORK'):\n",
    "        allocate(OrderLine('order2', 'SMALL-FORK', 1), [batch])"
   ]
  },
  {
   "cell_type": "markdown",
   "metadata": {},
   "source": [
    "## Domain Modeling Recap\n",
    "\n",
    "#### Domain modeling\n",
    "This is the part of your code that is closest to the business, the most likely to change, and the place where you deliver the most value to the business. Make it easy to understand and modify.\n",
    "\n",
    "#### Distinguish entities from value objects\n",
    "A value object is defined by its attributes. It’s usually best implemented as an immutable type. If you change an attribute on a Value Object, it represents a different object. In contrast, an entity has attributes that may vary over time and it will still be the same entity. It’s important to define what does uniquely identify an entity (usually some sort of name or reference field).\n",
    "\n",
    "#### Not everything has to be an object\n",
    "Python is a multiparadigm language, so let the \"verbs\" in your code be functions. For every `FooManager`, `BarBuilder`, or `BazFactory`, there’s often a more expressive and readable `manage_foo()`, `build_bar()`, or `get_baz()` waiting to happen.\n",
    "\n",
    "#### This is the time to apply your best OO design principles\n",
    "Revisit the SOLID principles and all the other good heuristics like \"has a versus is-a,\" \"prefer composition over inheritance,\" and so on.\n",
    "\n",
    "#### You’ll also want to think about consistency boundaries and aggregates"
   ]
  },
  {
   "cell_type": "code",
   "execution_count": 42,
   "metadata": {
    "tags": [
     "hidden_cell"
    ]
   },
   "outputs": [
    {
     "name": "stdout",
     "output_type": "stream",
     "text": [
      "[NbConvertApp] Converting notebook 01. domain-modeling-py.ipynb to html\n",
      "[NbConvertApp] Writing 703557 bytes to exports/01. domain-modeling-py.html\n"
     ]
    }
   ],
   "source": [
    "!jupyter nbconvert 01.\\ domain-modeling-py.ipynb --output-dir=./exports --to html --TagRemovePreprocessor.remove_input_tags='{\"hidden_input\"}' --TagRemovePreprocessor.remove_cell_tags='{\"hidden_cell\"}'"
   ]
  },
  {
   "cell_type": "code",
   "execution_count": 43,
   "metadata": {
    "tags": [
     "hidden_cell"
    ]
   },
   "outputs": [
    {
     "name": "stdout",
     "output_type": "stream",
     "text": [
      "[NbConvertApp] Converting notebook 01. domain-modeling-py.ipynb to html\n",
      "[NbConvertApp] Writing 710251 bytes to exports/01. domain-modeling-py.html\n"
     ]
    }
   ],
   "source": [
    "!jupyter nbconvert 01.\\ domain-modeling-py.ipynb --output-dir=./exports --to html --TagRemovePreprocessor.remove_cell_tags='{\"hidden_cell\"}'"
   ]
  }
 ],
 "metadata": {
  "kernelspec": {
   "display_name": "Python 3",
   "language": "python",
   "name": "python3"
  },
  "language_info": {
   "codemirror_mode": {
    "name": "ipython",
    "version": 3
   },
   "file_extension": ".py",
   "mimetype": "text/x-python",
   "name": "python",
   "nbconvert_exporter": "python",
   "pygments_lexer": "ipython3",
   "version": "3.9.1"
  },
  "widgets": {
   "application/vnd.jupyter.widget-state+json": {
    "state": {},
    "version_major": 2,
    "version_minor": 0
   }
  }
 },
 "nbformat": 4,
 "nbformat_minor": 4
}
