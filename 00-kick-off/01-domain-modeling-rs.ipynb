{
 "cells": [
  {
   "cell_type": "markdown",
   "metadata": {},
   "source": [
    "# Domain Modeling by Rust"
   ]
  },
  {
   "cell_type": "code",
   "execution_count": 2,
   "metadata": {},
   "outputs": [],
   "source": [
    "#[derive(Default)]\n",
    "pub struct Batch {\n",
    "    reference: String,\n",
    "    sku: String,\n",
    "    qty: i64,\n",
    "    allocations: Vec<OrderLine>,\n",
    "}\n",
    "\n",
    "pub struct OrderLine {\n",
    "    id: String,\n",
    "    sku: String,\n",
    "    qty: i64,\n",
    "}\n",
    "\n",
    "#[derive(Default)]\n",
    "pub struct Order {\n",
    "    reference: String,\n",
    "    order_lines: Vec<OrderLine>,\n",
    "}\n",
    "\n",
    "impl PartialEq for Batch {\n",
    "    fn eq(&self, other: &Self) -> bool {\n",
    "        return &self.reference == &other.reference;\n",
    "    }\n",
    "}"
   ]
  },
  {
   "cell_type": "code",
   "execution_count": 3,
   "metadata": {
    "tags": [
     "hidden"
    ]
   },
   "outputs": [],
   "source": [
    "let batch1 = Batch { reference: \"batch-001\".to_owned(), sku: \"TEST-TABLE\".to_owned(), qty: 10, ..Default::default()};\n",
    "let batch2 = Batch { reference: \"batch-001\".to_owned(), sku: \"TEST-CHAR\".to_owned(), qty: 5, ..Default::default()};"
   ]
  },
  {
   "cell_type": "code",
   "execution_count": 4,
   "metadata": {
    "tags": [
     "hidden"
    ]
   },
   "outputs": [
    {
     "data": {
      "text/plain": [
       "true"
      ]
     },
     "execution_count": 4,
     "metadata": {},
     "output_type": "execute_result"
    }
   ],
   "source": [
    "batch1 == batch2"
   ]
  },
  {
   "cell_type": "code",
   "execution_count": 5,
   "metadata": {},
   "outputs": [],
   "source": [
    "fn add(a: i64, b: i64) -> i64 {\n",
    "    return a + b;\n",
    "}\n",
    "\n",
    "fn bad_add(a: i64, _b: i64) -> i64 {\n",
    "    return a + 1;\n",
    "}"
   ]
  },
  {
   "cell_type": "code",
   "execution_count": 6,
   "metadata": {},
   "outputs": [],
   "source": [
    "#[cfg(test)]\n",
    "mod tests {\n",
    "    use super::*; // importing names from outer (for mod tests) scope.\n",
    "\n",
    "    #[test]\n",
    "    fn test_add() {\n",
    "        assert_eq!(add(1, 2), 3);\n",
    "    }\n",
    "\n",
    "    #[test]\n",
    "    fn test_bad_add() {\n",
    "        assert_eq!(bad_add(1, 2), 3);\n",
    "    }\n",
    "}"
   ]
  },
  {
   "cell_type": "code",
   "execution_count": 7,
   "metadata": {},
   "outputs": [],
   "source": [
    "fn main() {\n",
    "    println!(\"Hello, world!\");\n",
    "}"
   ]
  },
  {
   "cell_type": "code",
   "execution_count": 8,
   "metadata": {
    "tags": [
     "hidden"
    ]
   },
   "outputs": [
    {
     "name": "stdout",
     "output_type": "stream",
     "text": [
      "[NbConvertApp] Converting notebook 01-domain-modeling-rs.ipynb to script\n",
      "[NbConvertApp] Writing 836 bytes to tests/rust/src/main.rs\n",
      "\n",
      "\n",
      "running 2 tests\n",
      "test tests::test_add ... \u001b[32mok\u001b[m\n",
      "test tests::test_bad_add ... \u001b[31mFAILED\u001b[m\n",
      "\n",
      "failures:\n",
      "\n",
      "---- tests::test_bad_add stdout ----\n",
      "thread 'tests::test_bad_add' panicked at 'assertion failed: `(left == right)`\n",
      "  left: `2`,\n",
      " right: `3`', src/main.rs:46:9\n",
      "stack backtrace:\n",
      "   0: rust_begin_unwind\n",
      "             at /rustc/7eac88abb2e57e752f3302f02be5f3ce3d7adfb4/library/std/src/panicking.rs:483\n",
      "   1: std::panicking::begin_panic_fmt\n",
      "             at /rustc/7eac88abb2e57e752f3302f02be5f3ce3d7adfb4/library/std/src/panicking.rs:437\n",
      "   2: tests::tests::test_bad_add\n",
      "             at ./src/main.rs:46\n",
      "   3: tests::tests::test_bad_add::{{closure}}\n",
      "             at ./src/main.rs:45\n",
      "   4: core::ops::function::FnOnce::call_once\n",
      "             at /home/ykkim/.rustup/toolchains/stable-x86_64-unknown-linux-gnu/lib/rustlib/src/rust/library/core/src/ops/function.rs:227\n",
      "   5: core::ops::function::FnOnce::call_once\n",
      "             at /rustc/7eac88abb2e57e752f3302f02be5f3ce3d7adfb4/library/core/src/ops/function.rs:227\n",
      "note: Some details are omitted, run with `RUST_BACKTRACE=full` for a verbose backtrace.\n",
      "\n",
      "\n",
      "failures:\n",
      "    tests::test_bad_add\n",
      "\n",
      "test result: \u001b[31mFAILED\u001b[m. 1 passed; 1 failed; 0 ignored; 0 measured; 0 filtered out\n",
      "\n",
      "\n"
     ]
    }
   ],
   "source": [
    "use std::process::Command;\n",
    "\n",
    "let output = Command::new(\"jupyter\").arg(\"nbconvert\").arg(\"01-domain-modeling-rs.ipynb\")\n",
    "                     .arg(\"--to=script\")\n",
    "                     .arg(\"--TagRemovePreprocessor.remove_cell_tags\").arg(\"hidden\")\n",
    "                     .arg(\"--output=tests/rust/src/main\")\n",
    "                     .output().expect(\"$\");\n",
    "\n",
    "if output.status.success() {\n",
    "    println!(\"{}\", String::from_utf8_lossy(&output.stderr));\n",
    "}\n",
    "\n",
    "let output = Command::new(\"cargo\").args(&[\"test\", \"--\", \"--color\", \"always\"])\n",
    "                     .env(\"TERM\", \"xterm\")\n",
    "                     .current_dir(\"tests/rust\")\n",
    "                     .output().expect(\"$\");\n",
    "\n",
    "println!(\"{}\", String::from_utf8_lossy(&output.stdout).replace(\"\u001b(B\", \"\"));"
   ]
  },
  {
   "cell_type": "code",
   "execution_count": null,
   "metadata": {},
   "outputs": [],
   "source": []
  }
 ],
 "metadata": {
  "kernelspec": {
   "display_name": "Rust",
   "language": "rust",
   "name": "rust"
  },
  "language_info": {
   "codemirror_mode": "rust",
   "file_extension": ".rs",
   "mimetype": "text/rust",
   "name": "Rust",
   "pygment_lexer": "rust",
   "version": ""
  }
 },
 "nbformat": 4,
 "nbformat_minor": 4
}
