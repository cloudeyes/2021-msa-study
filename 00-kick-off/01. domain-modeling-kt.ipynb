{
 "cells": [
  {
   "cell_type": "markdown",
   "metadata": {},
   "source": [
    "# Domain Modeling by Kotlin"
   ]
  },
  {
   "cell_type": "code",
   "execution_count": 1,
   "metadata": {},
   "outputs": [],
   "source": [
    "%use test"
   ]
  },
  {
   "cell_type": "code",
   "execution_count": 2,
   "metadata": {},
   "outputs": [],
   "source": [
    "import kotlin.test.Test\n",
    "import kotlin.test.assertEquals"
   ]
  },
  {
   "cell_type": "code",
   "execution_count": 79,
   "metadata": {
    "jupyter": {
     "source_hidden": true
    }
   },
   "outputs": [],
   "source": [
    "fun test(instance: Any) {\n",
    "    val klass: kotlin.reflect.KClass<out Any> = instance::class\n",
    "    val RED_BOLD = \"\\u001B[1;31m\"\n",
    "    val BLUE_BOLD = \"\\u001B[3;31m\"    \n",
    "    val RESET = \"\\u001B[0m\"\n",
    "    \n",
    "    fun filterStack(it: String): Boolean {\n",
    "        val line = it.trim()\n",
    "        return (\n",
    "            line.indexOf(\"TestRunner.run\") < 0 &&\n",
    "            line.indexOf(\"_jupyter.<init>\") < 0 &&\n",
    "            line.startsWith(\"at Line\") &&\n",
    "            true\n",
    "        )\n",
    "    }\n",
    "    \n",
    "    klass.members.filter { \n",
    "        it.annotations.size > 0 && \n",
    "        it.annotations.elementAt(0).annotationClass == org.junit.Test::class\n",
    "    }.forEach {\n",
    "        try {\n",
    "            it.call(instance)\n",
    "        } catch(e: java.lang.reflect.InvocationTargetException) {\n",
    "            println(\"${BLUE_BOLD}${it.name}${RESET}\")\n",
    "            val cause = e.cause.toString()\n",
    "            val idx = cause.indexOf(\":\")\n",
    "            val (name, reason) = listOf(cause.substring(0, idx), cause.substring(idx+1))\n",
    "            println(\"${name}:${RED_BOLD}${reason}${RESET}\")\n",
    "            val trace = e.stackTraceToString().split('\\n').filter { filterStack(it) }\n",
    "            println(trace.joinToString(\"\\n\"))\n",
    "            println()\n",
    "        }\n",
    "    }\n",
    "}"
   ]
  },
  {
   "cell_type": "code",
   "execution_count": 80,
   "metadata": {},
   "outputs": [
    {
     "name": "stdout",
     "output_type": "stream",
     "text": [
      "\u001b[3;31malwaysFail\u001b[0m\n",
      "java.lang.AssertionError:\u001b[1;31m Values should be different. Actual: false\u001b[0m\n",
      "\tat Line_86_jupyter.test(Line_86.jupyter.kts:22)\n",
      "\tat Line_87_jupyter$HelloTest.alwaysFail(Line_87.jupyter.kts:11)\n",
      "\n",
      "\u001b[3;31mhelloWorldReturnsPersonalizedMessage\u001b[0m\n",
      "org.junit.ComparisonFailure:\u001b[1;31m expected:<Hello, Molly[2]!> but was:<Hello, Molly[]!>\u001b[0m\n",
      "\tat Line_86_jupyter.test(Line_86.jupyter.kts:22)\n",
      "\tat Line_87_jupyter$HelloTest.helloWorldReturnsPersonalizedMessage(Line_87.jupyter.kts:7)\n",
      "\n"
     ]
    }
   ],
   "source": [
    "fun helloWorld(name: String = \"World\"): String {\n",
    "    return \"Hello, ${name}!\" \n",
    "}\n",
    "\n",
    "class HelloTest {\n",
    "    @Test fun helloWorldReturnsPersonalizedMessage() {\n",
    "        assertEquals(\"Hello, Molly2!\", helloWorld(\"Molly\"))\n",
    "    }\n",
    "    \n",
    "    @Test fun alwaysFail() {\n",
    "        assertNotEquals(false, false)\n",
    "    }\n",
    "}\n",
    "\n",
    "test(HelloTest())"
   ]
  }
 ],
 "metadata": {
  "kernelspec": {
   "display_name": "Kotlin",
   "language": "kotlin",
   "name": "kotlin"
  },
  "language_info": {
   "codemirror_mode": "text/x-kotlin",
   "file_extension": ".kt",
   "mimetype": "text/x-kotlin",
   "name": "kotlin",
   "pygments_lexer": "kotlin",
   "version": "1.4.30-dev-2223"
  }
 },
 "nbformat": 4,
 "nbformat_minor": 4
}
