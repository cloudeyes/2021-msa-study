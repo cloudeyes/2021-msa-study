{
 "cells": [
  {
   "cell_type": "markdown",
   "metadata": {},
   "source": [
    "# DataClasses (Immutable Class) in Groovy"
   ]
  },
  {
   "cell_type": "code",
   "execution_count": 10,
   "metadata": {},
   "outputs": [
    {
     "data": {
      "text/plain": [
       "true"
      ]
     },
     "execution_count": 10,
     "metadata": {},
     "output_type": "execute_result"
    }
   ],
   "source": [
    "import groovy.transform.Immutable\n",
    "\n",
    "@Immutable class User {\n",
    "    String name\n",
    "    int age\n",
    "}\n",
    "\n",
    "final user1 = new User('John', 16)\n",
    "final user2 = new User([age: 16, name: 'John'])\n",
    "\n",
    "user1 == user2"
   ]
  }
 ],
 "metadata": {
  "kernelspec": {
   "display_name": "Groovy",
   "language": "groovy",
   "name": "groovy"
  },
  "language_info": {
   "codemirror_mode": "groovy",
   "file_extension": ".groovy",
   "mimetype": "",
   "name": "Groovy",
   "nbconverter_exporter": "",
   "version": "3.0.3"
  }
 },
 "nbformat": 4,
 "nbformat_minor": 4
}
