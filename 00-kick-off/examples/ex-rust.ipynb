{
 "cells": [
  {
   "cell_type": "markdown",
   "metadata": {},
   "source": [
    "# Data Classes in Rust"
   ]
  },
  {
   "cell_type": "code",
   "execution_count": 7,
   "metadata": {},
   "outputs": [],
   "source": [
    "#[derive(PartialEq, Eq)]\n",
    "struct User { name: String, age: u16 }\n",
    "\n",
    "let user1 = User { name: String::from(\"John\"), age: 16 };\n",
    "let user2 = User { name: String::from(\"John\"), age: 16 };"
   ]
  },
  {
   "cell_type": "code",
   "execution_count": 9,
   "metadata": {},
   "outputs": [
    {
     "data": {
      "text/plain": [
       "true"
      ]
     },
     "execution_count": 9,
     "metadata": {},
     "output_type": "execute_result"
    }
   ],
   "source": [
    "user1 == user2 // true"
   ]
  },
  {
   "cell_type": "code",
   "execution_count": 4,
   "metadata": {},
   "outputs": [
    {
     "ename": "Error",
     "evalue": "no associated item named `From` found for struct `String` in the current scope",
     "output_type": "error",
     "traceback": [
      "user1.name = String::From(\"Love\")",
      "                     ^^^^ associated item not found in `String`",
      "no associated item named `From` found for struct `String` in the current scope"
     ]
    }
   ],
   "source": [
    "user1.name = String::From(\"Love\")"
   ]
  },
  {
   "cell_type": "code",
   "execution_count": null,
   "metadata": {},
   "outputs": [],
   "source": []
  }
 ],
 "metadata": {
  "kernelspec": {
   "display_name": "Rust",
   "language": "rust",
   "name": "rust"
  },
  "language_info": {
   "codemirror_mode": "rust",
   "file_extension": ".rs",
   "mimetype": "text/rust",
   "name": "Rust",
   "pygment_lexer": "rust",
   "version": ""
  }
 },
 "nbformat": 4,
 "nbformat_minor": 4
}
