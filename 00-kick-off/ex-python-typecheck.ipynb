{
 "cells": [
  {
   "cell_type": "markdown",
   "metadata": {},
   "source": [
    "# Value Object in Python"
   ]
  },
  {
   "cell_type": "code",
   "execution_count": 4,
   "metadata": {},
   "outputs": [
    {
     "data": {
      "text/plain": [
       "True"
      ]
     },
     "execution_count": 4,
     "metadata": {},
     "output_type": "execute_result"
    }
   ],
   "source": [
    "from dataclasses import dataclass\n",
    "\n",
    "@dataclass(frozen=True)\n",
    "class User:\n",
    "    name: str\n",
    "    age: int\n",
    "        \n",
    "user1 = User('John', 16)\n",
    "user2 = User(age=16, name='John')\n",
    "\n",
    "user1 == user2"
   ]
  },
  {
   "cell_type": "code",
   "execution_count": 5,
   "metadata": {},
   "outputs": [
    {
     "ename": "FrozenInstanceError",
     "evalue": "cannot assign to field 'name'",
     "output_type": "error",
     "traceback": [
      "\u001b[0;31m---------------------------------------------------------------------------\u001b[0m",
      "\u001b[0;31mFrozenInstanceError\u001b[0m                       Traceback (most recent call last)",
      "\u001b[0;32m<ipython-input-5-09fc3f520bb7>\u001b[0m in \u001b[0;36m<module>\u001b[0;34m\u001b[0m\n\u001b[0;32m----> 1\u001b[0;31m \u001b[0muser1\u001b[0m\u001b[0;34m.\u001b[0m\u001b[0mname\u001b[0m \u001b[0;34m=\u001b[0m \u001b[0;34m'Test'\u001b[0m\u001b[0;34m\u001b[0m\u001b[0;34m\u001b[0m\u001b[0m\n\u001b[0m",
      "\u001b[0;32m<string>\u001b[0m in \u001b[0;36m__setattr__\u001b[0;34m(self, name, value)\u001b[0m\n",
      "\u001b[0;31mFrozenInstanceError\u001b[0m: cannot assign to field 'name'"
     ]
    }
   ],
   "source": [
    "user1.name = 'Test'"
   ]
  },
  {
   "cell_type": "markdown",
   "metadata": {},
   "source": [
    "## What's new in Python 3.9?\n",
    "\n",
    "- https://docs.python.org/3/whatsnew/3.9.html"
   ]
  },
  {
   "cell_type": "markdown",
   "metadata": {},
   "source": [
    "### New Features\n",
    "\n",
    "#### Dictionary Merge & Update Operators"
   ]
  },
  {
   "cell_type": "code",
   "execution_count": 21,
   "metadata": {},
   "outputs": [
    {
     "data": {
      "text/plain": [
       "{'key1': 'value1 from x', 'key2': 'value2 from y', 'key3': 'value3 from y'}"
      ]
     },
     "execution_count": 21,
     "metadata": {},
     "output_type": "execute_result"
    }
   ],
   "source": [
    "x = {\"key1\": \"value1 from x\", \"key2\": \"value2 from x\"}\n",
    "y = {\"key2\": \"value2 from y\", \"key3\": \"value3 from y\"}\n",
    "x | y"
   ]
  },
  {
   "cell_type": "code",
   "execution_count": 23,
   "metadata": {},
   "outputs": [
    {
     "data": {
      "text/plain": [
       "{'key2': 'value2 from x', 'key3': 'value3 from y', 'key1': 'value1 from x'}"
      ]
     },
     "execution_count": 23,
     "metadata": {},
     "output_type": "execute_result"
    }
   ],
   "source": [
    "y | x"
   ]
  },
  {
   "cell_type": "markdown",
   "metadata": {},
   "source": [
    "### Type Hinting Generics in Standard Collections"
   ]
  },
  {
   "cell_type": "code",
   "execution_count": 24,
   "metadata": {},
   "outputs": [],
   "source": [
    "def greet_all(names: list[str]) -> None:\n",
    "    for name in names:\n",
    "        print(\"Hello\", name)"
   ]
  },
  {
   "cell_type": "markdown",
   "metadata": {},
   "source": [
    "### Any expression can be used as a decorator\n",
    "\n",
    "- https://medium.com/swlh/heres-what-the-web-developers-would-love-about-the-new-python-3-9-fae575a5176d\n",
    "- https://alankrantas.medium.com/one-liner-lambda-expressions-as-function-decorators-ab-using-python-3-9s-new-pep-614-feature-3b8e2603bdff"
   ]
  },
  {
   "cell_type": "code",
   "execution_count": 28,
   "metadata": {},
   "outputs": [],
   "source": [
    "@shout := lambda func: (lambda *args: func(*args).upper())\n",
    "def greet(name):\n",
    "    return f'Hello, {name}!'\n",
    "\n",
    "@shout\n",
    "def reminder(name, thing):\n",
    "    return f'Don\\'t forget your {thing}, {name}!'"
   ]
  },
  {
   "cell_type": "code",
   "execution_count": 29,
   "metadata": {},
   "outputs": [
    {
     "data": {
      "text/plain": [
       "'HELLO, ARTHUR DENT!'"
      ]
     },
     "execution_count": 29,
     "metadata": {},
     "output_type": "execute_result"
    }
   ],
   "source": [
    "greet('Arthur Dent')"
   ]
  },
  {
   "cell_type": "code",
   "execution_count": 30,
   "metadata": {},
   "outputs": [
    {
     "data": {
      "text/plain": [
       "\"DON'T FORGET YOUR TOWEL, ARTHUR DENT!\""
      ]
     },
     "execution_count": 30,
     "metadata": {},
     "output_type": "execute_result"
    }
   ],
   "source": [
    "reminder('Arthur Dent', 'towel')"
   ]
  },
  {
   "cell_type": "markdown",
   "metadata": {},
   "source": [
    "---\n",
    "##  What's new in Pyhon 3.8?"
   ]
  },
  {
   "cell_type": "markdown",
   "metadata": {},
   "source": [
    "## Protocol\n",
    "\n",
    "- a mechanism for \"structural subtyping.\" \n",
    "- it can be used as an implicit base class. \n",
    "- any class has Protocol's defined members is considered to be a subclass \n",
    "- static type analysis can check the validity in compile time"
   ]
  },
  {
   "cell_type": "code",
   "execution_count": 18,
   "metadata": {},
   "outputs": [
    {
     "name": "stdout",
     "output_type": "stream",
     "text": [
      "<string>:18: error: Argument 1 to \"add\" of \"set\" has incompatible type \"str\"; expected \"int\"\n",
      "<string>:23: error: List item 0 has incompatible type \"int\"; expected \"SupportsClose\"\n",
      "Found 2 errors in 1 file (checked 1 source file)\n",
      "\n"
     ]
    }
   ],
   "source": [
    "%%typecheck\n",
    "\n",
    "from typing import Protocol, Iterable, Set\n",
    "\n",
    "class SupportsClose(Protocol):\n",
    "    def close(self) -> None:\n",
    "        pass\n",
    "\n",
    "class Resource:\n",
    "    def close(self) -> None:\n",
    "        pass\n",
    "\n",
    "def close_all(things: Iterable[SupportsClose]) -> None:\n",
    "    for thing in things:\n",
    "        pass\n",
    "\n",
    "a: Set[int] = set()\n",
    "a.add('test')\n",
    "        \n",
    "with open('foo.txt', 'w+') as file:\n",
    "    resource = Resource()\n",
    "    close_all([file, resource])  # OK!\n",
    "    close_all([1]) # Typecheck should be failed!"
   ]
  }
 ],
 "metadata": {
  "kernelspec": {
   "display_name": "Python 3",
   "language": "python",
   "name": "python3"
  },
  "language_info": {
   "codemirror_mode": {
    "name": "ipython",
    "version": 3
   },
   "file_extension": ".py",
   "mimetype": "text/x-python",
   "name": "python",
   "nbconvert_exporter": "python",
   "pygments_lexer": "ipython3",
   "version": "3.9.1"
  }
 },
 "nbformat": 4,
 "nbformat_minor": 4
}
