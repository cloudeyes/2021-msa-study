{
 "cells": [
  {
   "cell_type": "markdown",
   "metadata": {},
   "source": [
    "# Domain Modeling by Go\n",
    "\n",
    "- Author: Joseph Kim <cloudeyes@gmail.com>"
   ]
  },
  {
   "cell_type": "code",
   "execution_count": 156,
   "metadata": {},
   "outputs": [],
   "source": [
    "package main\n",
    "\n",
    "import (\n",
    "    \"errors\"\n",
    "    \"sort\"\n",
    "    \"time\"\n",
    "    \"testing\"\n",
    "    \"github.com/stretchr/testify/assert\"\n",
    ")"
   ]
  },
  {
   "cell_type": "markdown",
   "metadata": {},
   "source": [
    "## Domain Models"
   ]
  },
  {
   "cell_type": "code",
   "execution_count": 157,
   "metadata": {},
   "outputs": [],
   "source": [
    "type Batch struct {\n",
    "    Reference   string      `json:\"reference\"`  \n",
    "    Sku         string      `json:\"sku\"`        \n",
    "    Qty         int         `json:\"qty\"`        \n",
    "    Eta         *time.Time  // Nullable\n",
    "    Allocations []OrderLine `json:\"allocations\"`\n",
    "}\n",
    "\n",
    "type OrderLine struct {\n",
    "    Reference  string `json:\"id\"` \n",
    "    Sku string `json:\"sku\"`\n",
    "    Qty int    `json:\"qty\"`\n",
    "}\n",
    "\n",
    "type Order struct {\n",
    "    Reference  string      `json:\"reference\"` \n",
    "    OrderLines []OrderLine `json:\"orderLines\"`\n",
    "}"
   ]
  },
  {
   "cell_type": "markdown",
   "metadata": {},
   "source": [
    "### Equality Operator"
   ]
  },
  {
   "cell_type": "code",
   "execution_count": 158,
   "metadata": {},
   "outputs": [],
   "source": [
    "func (batch *Batch) Equal(other Batch) bool {\n",
    "    return batch.Reference == other.Reference\n",
    "}"
   ]
  },
  {
   "cell_type": "markdown",
   "metadata": {},
   "source": [
    "### Custom Compararator"
   ]
  },
  {
   "cell_type": "code",
   "execution_count": 159,
   "metadata": {},
   "outputs": [],
   "source": [
    "type Batches []*Batch\n",
    "func (a Batches) Len() int           { return len(a) }\n",
    "func (a Batches) Less(i, j int) bool { \n",
    "    if a[i].Eta == nil { return true }\n",
    "    if a[j].Eta == nil { return false }\n",
    "    return a[i].Eta.Before(*a[j].Eta)\n",
    "}\n",
    "func (a Batches) Swap(i, j int)      { a[i], a[j] = a[j], a[i] }"
   ]
  },
  {
   "cell_type": "markdown",
   "metadata": {},
   "source": [
    "### Methods"
   ]
  },
  {
   "cell_type": "code",
   "execution_count": 160,
   "metadata": {},
   "outputs": [],
   "source": [
    "func (batch *Batch) AllocatedQty() int {\n",
    "    sum := 0\n",
    "    for _, line := range batch.Allocations { sum += line.Qty }\n",
    "    return sum\n",
    "}"
   ]
  },
  {
   "cell_type": "code",
   "execution_count": 161,
   "metadata": {},
   "outputs": [],
   "source": [
    "func (batch *Batch) AvailableQty() int {\n",
    "    return batch.Qty - batch.AllocatedQty()\n",
    "}"
   ]
  },
  {
   "cell_type": "code",
   "execution_count": 162,
   "metadata": {},
   "outputs": [],
   "source": [
    "func (batch *Batch) Allocate(line OrderLine) {\n",
    "    if batch.CanAllocate(line) {\n",
    "        batch.Allocations = append(batch.Allocations, line)\n",
    "    }\n",
    "}"
   ]
  },
  {
   "cell_type": "code",
   "execution_count": 163,
   "metadata": {},
   "outputs": [],
   "source": [
    "func (batch *Batch) Deallocate(line OrderLine) {\n",
    "    remains := []OrderLine {}\n",
    "    for _, l := range batch.Allocations {\n",
    "        if l == line {\n",
    "            remains = append(remains, line)\n",
    "        }\n",
    "    }\n",
    "    batch.Allocations = remains\n",
    "}"
   ]
  },
  {
   "cell_type": "code",
   "execution_count": 164,
   "metadata": {},
   "outputs": [],
   "source": [
    "func (batch *Batch) CanAllocate(line OrderLine) bool {\n",
    "    return batch.Sku == line.Sku && batch.AvailableQty() >= line.Qty;\n",
    "}"
   ]
  },
  {
   "cell_type": "markdown",
   "metadata": {},
   "source": [
    "### Service Functions"
   ]
  },
  {
   "cell_type": "code",
   "execution_count": 165,
   "metadata": {},
   "outputs": [],
   "source": [
    "func Allocate(line OrderLine, batches []*Batch) string {\n",
    "    sort.Sort(Batches(batches))\n",
    "    availBatches := []*Batch{}\n",
    "    for _, b := range batches {\n",
    "        if b.CanAllocate(line) {\n",
    "            availBatches = append(availBatches, b)\n",
    "        }\n",
    "    }\n",
    "    if len(availBatches) == 0 {\n",
    "        panic(errors.New(\"out of stock!\"))\n",
    "    }\n",
    "    batch := availBatches[0]\n",
    "    batch.Allocate(line)\n",
    "    return batch.Reference\n",
    "}"
   ]
  },
  {
   "cell_type": "markdown",
   "metadata": {},
   "source": [
    "## Testing in Go Language\n",
    "\n",
    "- [Unit Testing made easy in Go](https://medium.com/rungo/unit-testing-made-easy-in-go-25077669318)\n",
    "- [Package testing (Official Document)](https://golang.org/pkg/testing/)\n",
    "\n",
    "**[참고]**\n",
    "\n",
    "- Go언어에서 함수명은 Python과 같은 `snake_case` 가 아니라 `CamelCase`가 관습입니다."
   ]
  },
  {
   "cell_type": "code",
   "execution_count": 71,
   "metadata": {},
   "outputs": [],
   "source": [
    "// Utility functions\n",
    "func getDate(t time.Time) time.Time {\n",
    "    return time.Date(t.Year(), t.Month(), t.Day(), 0, 0, 0, 0, time.Local)\n",
    "}\n",
    "\n",
    "func makeBatchAndLine(sku string, batchQty int, lineQty int) (Batch, OrderLine) {\n",
    "    today := getDate(time.Now())\n",
    "    return Batch { Reference: \"batch-001\", Sku: sku, Qty: batchQty, Eta: &today },\n",
    "           OrderLine { Reference: \"order-123\", Sku: sku, Qty: lineQty }\n",
    "}\n",
    "\n",
    "func makeBatch(reference string, sku string, qty int, eta *time.Time) Batch {\n",
    "    return Batch { Reference: reference, Sku: sku, Qty: qty, Eta: eta }\n",
    "}\n",
    "\n",
    "func makeOrderLine(reference string, sku string, qty int) OrderLine {\n",
    "    return OrderLine { Reference: reference, Sku: sku, Qty: qty }\n",
    "}"
   ]
  },
  {
   "cell_type": "markdown",
   "metadata": {},
   "source": [
    "### Test cases"
   ]
  },
  {
   "cell_type": "code",
   "execution_count": 72,
   "metadata": {},
   "outputs": [],
   "source": [
    "// fixtures\n",
    "\n",
    "type DateFixture struct {\n",
    "    today    time.Time\n",
    "    tomorrow time.Time\n",
    "    later    time.Time\n",
    "} \n",
    "\n",
    "type TestFixture struct {\n",
    "    dates    DateFixture\n",
    "}\n",
    "\n",
    "func SetupTest() TestFixture {\n",
    "    today := getDate(time.Now())\n",
    "    \n",
    "    return TestFixture {\n",
    "            dates: DateFixture {\n",
    "            today: today, \n",
    "            tomorrow: today.Add(time.Hour * 24), \n",
    "            later: today.Add(time.Hour * 24 * 30),\n",
    "        },\n",
    "    }\n",
    "}"
   ]
  },
  {
   "cell_type": "code",
   "execution_count": 73,
   "metadata": {},
   "outputs": [],
   "source": [
    "// test_allocating_to_a_batch_reduces_the_available_quantity\n",
    "func TestAllocatingToBatchReducesAvailableQuantity(t *testing.T) {\n",
    "    dates := SetupTest().dates\n",
    "    batch := Batch { Reference: \"batch-001\", Sku: \"SMALL-TABLE\", Qty: 20, Eta: &dates.today }\n",
    "    line1 := OrderLine { Reference: \"order-001\", Sku: \"SMALL-TABLE\", Qty: 1 }\n",
    "    line2 := OrderLine { Reference: \"order-002\", Sku: \"SMALL-TABLE\", Qty: 1 }\n",
    "    batch.Allocate(line1)\n",
    "    batch.Allocate(line2)\n",
    "    assert.Equal(t, 18, batch.AvailableQty())\n",
    "}"
   ]
  },
  {
   "cell_type": "code",
   "execution_count": 74,
   "metadata": {},
   "outputs": [],
   "source": [
    "// test_can_allocate_if_available_greater_than_required\n",
    "func TestCanAllocateIfAvailableGreaterThanRequired(t *testing.T) {\n",
    "    largeBatch, smallLine := makeBatchAndLine(\"ELEGANT-LAMP\", 20, 2);\n",
    "    assert.True(t, largeBatch.CanAllocate(smallLine))\n",
    "}"
   ]
  },
  {
   "cell_type": "code",
   "execution_count": 75,
   "metadata": {},
   "outputs": [],
   "source": [
    "// test_cannot_allocate_if_available_smaller_than_required\n",
    "func TestCannotAllocateIfAvailableSmallerThanRequired(t *testing.T) {\n",
    "    smallBatch, largeLine := makeBatchAndLine(\"ELEGANT-LAMP\", 2, 20)\n",
    "    assert.False(t, smallBatch.CanAllocate(largeLine))\n",
    "}"
   ]
  },
  {
   "cell_type": "code",
   "execution_count": 76,
   "metadata": {},
   "outputs": [],
   "source": [
    "// test_can_allocate_if_available_equal_to_required\n",
    "func TestCanAllocateIfAvailableEqualToRequired(t *testing.T) {\n",
    "    batch, line := makeBatchAndLine(\"ELEGANT-LAMP\", 2, 2)\n",
    "    assert.True(t, batch.CanAllocate(line))\n",
    "}"
   ]
  },
  {
   "cell_type": "code",
   "execution_count": 77,
   "metadata": {},
   "outputs": [],
   "source": [
    "// test_prefers_warehouse_batches_to_shipments\n",
    "func TestPrefersWarehouseBatchesToShipments(t *testing.T) {\n",
    "    dates := SetupTest().dates\n",
    "    warehouseBatch := makeBatch(\"warehouse-batch\", \"RETRO-CLOCK\", 100, nil)\n",
    "    shipmentBatch  := makeBatch(\"shipment-batch\", \"RETRO-CLOCK\", 100, &dates.tomorrow)\n",
    "    line := OrderLine { Reference: \"oref\", Sku: \"RETRO-CLOCK\", Qty: 10 }\n",
    "\n",
    "    batchRef := Allocate(line, []*Batch{ &warehouseBatch, &shipmentBatch })\n",
    "    assert.Equal(t, \"warehouse-batch\", batchRef)\n",
    "\n",
    "    assert.Equal(t, 90, warehouseBatch.AvailableQty())\n",
    "    assert.Equal(t, 100, shipmentBatch.AvailableQty())\n",
    "}"
   ]
  },
  {
   "cell_type": "code",
   "execution_count": 78,
   "metadata": {},
   "outputs": [],
   "source": [
    "// test_prefers_earlier_batches():\n",
    "func TestPrefersEarlierBatches(t *testing.T) {\n",
    "    dates := SetupTest().dates\n",
    "    earliest := makeBatch(\"speedy-batch\", \"MINIMALIST-SPOON\", 100, &dates.today)\n",
    "    medium := makeBatch(\"normal-batch\", \"MINIMALIST-SPOON\", 100, &dates.tomorrow)\n",
    "    latest := makeBatch(\"slow-batch\", \"MINIMALIST-SPOON\", 100, &dates.later)\n",
    "    line := OrderLine { Reference: \"order-001\", Sku: \"MINIMALIST-SPOON\", Qty: 10 }\n",
    "\n",
    "    batchRef := Allocate(line, []*Batch { &medium, &earliest, &latest })\n",
    "    assert.Equal(t, \"speedy-batch\", batchRef)\n",
    "\n",
    "    assert.Equal(t, 90, earliest.AvailableQty())\n",
    "    assert.Equal(t, 100, medium.AvailableQty())\n",
    "    assert.Equal(t, 100,latest.AvailableQty())\n",
    "}"
   ]
  },
  {
   "cell_type": "code",
   "execution_count": 167,
   "metadata": {},
   "outputs": [],
   "source": [
    "// test_raises_out_of_stock_exception_if_cannot_allocate\n",
    "func TestRaisesOutOfStockExceptionIfCannotAllocate(t *testing.T) {\n",
    "    dates := SetupTest().dates\n",
    "    batch := makeBatch(\"batch1\", \"SMALFORK\", 10, &dates.today)\n",
    "    \n",
    "    defer func() {\n",
    "        if err := recover(); err != nil {\n",
    "            assert.Equal(t, \"out of stock!\", err.(error).Error())\n",
    "        }\n",
    "    }()\n",
    "    \n",
    "    Allocate(makeOrderLine(\"order1\", \"SMALL-FORK\", 10), []*Batch{ &batch })\n",
    "    Allocate(makeOrderLine(\"order2\", \"SMALL-FORK\", 1), []*Batch{ &batch })\n",
    "}"
   ]
  },
  {
   "cell_type": "markdown",
   "metadata": {},
   "source": [
    "<center><i>End of Tests</i></center>\n",
    "\n",
    "---"
   ]
  },
  {
   "cell_type": "code",
   "execution_count": 168,
   "metadata": {
    "tags": [
     "hidden"
    ]
   },
   "outputs": [
    {
     "name": "stdout",
     "output_type": "stream",
     "text": [
      "ok  \t_/home/ykkim/notebooks/2021-msa-study/00-kick-off/tests/go\t0.003s\n",
      "\n"
     ]
    }
   ],
   "source": [
    "// Convert Jupyter Notebooks to `.go` file for running test framework\n",
    "\n",
    "import (\n",
    "    \"fmt\"\n",
    "    \"bytes\"\n",
    "    \"os/exec\"\n",
    ")\n",
    "\n",
    "func Test() {\n",
    "    cmd := exec.Command(\n",
    "        \"jupyter\", \n",
    "        \"nbconvert\", \n",
    "        \"01-domain-modeling-go.ipynb\",\n",
    "        \"--to=script\",\n",
    "        \"--TagRemovePreprocessor.remove_cell_tags\",\n",
    "        \"hidden\",\n",
    "        \"--output=tests/go/models_test\")\n",
    "    cmd.CombinedOutput()\n",
    "    cmd := exec.Command(\"go\", \"test\", \"./tests/go\")\n",
    "    stdoutStderr, err := cmd.CombinedOutput()\n",
    "    fmt.Printf(\"%s\\n\", stdoutStderr)\n",
    "}\n",
    "\n",
    "Test()"
   ]
  }
 ],
 "metadata": {
  "kernelspec": {
   "display_name": "Go",
   "language": "go",
   "name": "gophernotes"
  },
  "language_info": {
   "codemirror_mode": "",
   "file_extension": ".go",
   "mimetype": "",
   "name": "go",
   "nbconvert_exporter": "",
   "pygments_lexer": "",
   "version": "go1.15.6"
  }
 },
 "nbformat": 4,
 "nbformat_minor": 4
}
