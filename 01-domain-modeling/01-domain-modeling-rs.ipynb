{
 "cells": [
  {
   "cell_type": "markdown",
   "metadata": {},
   "source": [
    "# Domain Modeling by Rust\n",
    "\n",
    "- Author: Joseph Kim <cloudeyes@gmail.com>"
   ]
  },
  {
   "cell_type": "code",
   "execution_count": 2,
   "metadata": {
    "tags": [
     "hidden"
    ]
   },
   "outputs": [],
   "source": [
    ":dep chrono"
   ]
  },
  {
   "cell_type": "code",
   "execution_count": 3,
   "metadata": {},
   "outputs": [],
   "source": [
    "use std::cell::RefCell;\n",
    "use std::cmp::Ordering;\n",
    "use chrono::{Date, Utc, Duration};"
   ]
  },
  {
   "cell_type": "markdown",
   "metadata": {},
   "source": [
    "## Domain Model"
   ]
  },
  {
   "cell_type": "markdown",
   "metadata": {},
   "source": [
    "Read first about \"interior mutability\"\n",
    "- https://doc.rust-lang.org/std/cell/index.html"
   ]
  },
  {
   "cell_type": "code",
   "execution_count": 4,
   "metadata": {},
   "outputs": [],
   "source": [
    "#[derive(PartialEq, Eq, Clone)]\n",
    "pub struct OrderLine {\n",
    "    pub reference: String,\n",
    "    pub sku: String,\n",
    "    pub qty: i64,\n",
    "}"
   ]
  },
  {
   "cell_type": "code",
   "execution_count": 5,
   "metadata": {},
   "outputs": [],
   "source": [
    "#[derive(Default)]\n",
    "pub struct Batch {\n",
    "    pub reference: String,\n",
    "    pub sku: String,\n",
    "    pub qty: i64,\n",
    "    pub eta: Option<Date<Utc>>,\n",
    "    allocations: RefCell<Vec<OrderLine>>\n",
    "}\n",
    "\n",
    "// For entity's identity equality\n",
    "impl PartialEq for Batch {\n",
    "    fn eq(&self, other: &Self) -> bool {\n",
    "        &self.reference == &other.reference\n",
    "    }\n",
    "}\n",
    "\n",
    "impl Eq for Batch {}\n",
    "\n",
    "// For custom ordering\n",
    "impl PartialOrd for Batch {\n",
    "    fn partial_cmp(&self, other: &Self) -> Option<Ordering> {\n",
    "        Some(self.cmp(other))\n",
    "    }\n",
    "}\n",
    "\n",
    "impl Ord for Batch {\n",
    "    fn cmp(&self, other: &Self) -> Ordering {\n",
    "        let x = (self.eta, other.eta);\n",
    "        match x {\n",
    "            (None, _) => Ordering::Less,\n",
    "            (_, None) => Ordering::Greater,\n",
    "            (Some(a), Some(b)) => a.cmp(&b)\n",
    "        }\n",
    "    }    \n",
    "}"
   ]
  },
  {
   "cell_type": "markdown",
   "metadata": {},
   "source": [
    "### Methods"
   ]
  },
  {
   "cell_type": "code",
   "execution_count": 6,
   "metadata": {},
   "outputs": [],
   "source": [
    "impl Batch {    \n",
    "    fn allocate(&self, line: OrderLine){  \n",
    "        self.allocations.borrow_mut().push(line)\n",
    "    }\n",
    "\n",
    "    fn allocated_quantity(&self) -> i64 {\n",
    "        self.allocations.borrow().iter().fold(0, |sum, it| sum + it.qty)\n",
    "    }\n",
    "\n",
    "    fn available_quantity(&self) -> i64 {\n",
    "        &self.qty - &self.allocated_quantity()\n",
    "    }\n",
    "    \n",
    "    fn can_allocate(&self, line: &OrderLine) -> bool {\n",
    "        &self.sku == &line.sku && &self.available_quantity() >= &line.qty\n",
    "    }\n",
    "}"
   ]
  },
  {
   "cell_type": "markdown",
   "metadata": {},
   "source": [
    "### Service functions"
   ]
  },
  {
   "cell_type": "code",
   "execution_count": 7,
   "metadata": {},
   "outputs": [],
   "source": [
    "use std::fmt;\n",
    "\n",
    "#[derive(Debug, Clone, PartialEq)]\n",
    "struct OutOfStock;\n",
    "\n",
    "impl fmt::Display for OutOfStock {\n",
    "    fn fmt(&self, f: &mut fmt::Formatter) -> fmt::Result {\n",
    "        write!(f, \"Out of stock!\")\n",
    "    }\n",
    "}"
   ]
  },
  {
   "cell_type": "code",
   "execution_count": 8,
   "metadata": {},
   "outputs": [],
   "source": [
    "fn allocate(line: OrderLine, mut batches: Vec<&Batch>) -> Result<String, OutOfStock> {\n",
    "    batches.sort();\n",
    "    let filtered = batches.iter().filter(|it| it.can_allocate(&line)).collect::<Vec<&&Batch>>();\n",
    "    match filtered.first() {\n",
    "        None => Err(OutOfStock),\n",
    "        Some(b) => {\n",
    "            b.allocate(line);\n",
    "            Ok(b.reference.to_owned())\n",
    "        }\n",
    "    }\n",
    "}"
   ]
  },
  {
   "cell_type": "markdown",
   "metadata": {},
   "source": [
    "## Tests for domain models"
   ]
  },
  {
   "cell_type": "markdown",
   "metadata": {},
   "source": [
    "### Helper functions"
   ]
  },
  {
   "cell_type": "code",
   "execution_count": 9,
   "metadata": {},
   "outputs": [],
   "source": [
    "fn make_batch(reference: &str, sku: &str, qty: i64, eta: Option<Date<Utc>>) -> Batch {\n",
    "    return Batch { \n",
    "        reference: reference.to_owned(), sku: sku.to_owned(), qty: qty, eta: eta,\n",
    "        ..Default::default()\n",
    "    };\n",
    "}\n",
    "\n",
    "fn make_line(reference: &str, sku: &str, qty: i64) -> OrderLine {\n",
    "    return OrderLine { \n",
    "        reference: reference.to_owned(), sku: sku.to_owned(), qty: qty,\n",
    "    };\n",
    "}\n",
    "\n",
    "fn make_batch_and_line(sku: &str, batch_qty: i64, line_qty: i64) -> (Batch, OrderLine) {\n",
    "    return (\n",
    "        make_batch(\"batch-001\", sku, batch_qty, Some(Utc::today())),\n",
    "        make_line(\"order-123\", sku, line_qty)\n",
    "    )\n",
    "}"
   ]
  },
  {
   "cell_type": "markdown",
   "metadata": {},
   "source": [
    "### Test cases"
   ]
  },
  {
   "cell_type": "code",
   "execution_count": 10,
   "metadata": {},
   "outputs": [],
   "source": [
    "#[cfg(test)]\n",
    "mod chapter1_tests {\n",
    "    use super::*; // importing names from outer scope.\n",
    "    \n",
    "    #[test]\n",
    "    fn test_allocating_to_a_batch_reduces_the_available_quantity() {\n",
    "        let today: Date<Utc>    = Utc::today();\n",
    "        let batch = make_batch(\"batch-001\", \"SMALL-TABLE\", 20, Some(today));\n",
    "        let line = make_line(\"order-ref\", \"SMALL-TABLE\", 2);\n",
    "\n",
    "        batch.allocate(line);\n",
    "        \n",
    "        assert_eq!(18, batch.available_quantity());\n",
    "    }\n",
    "\n",
    "    #[test]\n",
    "    fn test_can_allocate_if_available_greater_than_required() {\n",
    "        let (large_batch, small_line) = make_batch_and_line(\"ELEGANT-LAMP\", 20, 2);\n",
    "        assert!(large_batch.can_allocate(&small_line));\n",
    "    }\n",
    "\n",
    "    #[test]\n",
    "    fn test_cannot_allocate_if_available_smaller_than_required() {\n",
    "        let (small_batch, large_line) = make_batch_and_line(\"ELEGANT-LAMP\", 2, 20);\n",
    "        assert!(small_batch.can_allocate(&large_line) == false)\n",
    "    }\n",
    "\n",
    "    #[test]\n",
    "    fn test_can_allocate_if_available_equal_to_required() {\n",
    "        let (batch, line) = make_batch_and_line(\"ELEGANT-LAMP\", 2, 2);\n",
    "        assert!(batch.can_allocate(&line));\n",
    "    }\n",
    "\n",
    "    #[test]\n",
    "    fn test_prefers_warehouse_batches_to_shipments() {\n",
    "        let tomorrow = Utc::today() + Duration::days(1);\n",
    "        let warehouse_batch = make_batch(\"warehouse-batch\", \"RETRO-CLOCK\", 100, None);\n",
    "        let shipment_batch  = make_batch(\"shipment-batch\", \"RETRO-CLOCK\", 100, Some(tomorrow));\n",
    "        let line = make_line(\"oref\", \"RETRO-CLOCK\", 10);\n",
    "\n",
    "        let batch_ref = allocate(line, vec![&warehouse_batch, &shipment_batch]);\n",
    "        assert_eq!(Ok(\"warehouse-batch\".to_owned()), batch_ref);\n",
    "    }\n",
    "\n",
    "    #[test]\n",
    "    fn test_prefers_earlier_batches() {\n",
    "        let today = Utc::today();\n",
    "        let tomorrow: Date<Utc> = today + Duration::days(1);\n",
    "        let later: Date<Utc>    = today + Duration::days(30);\n",
    "\n",
    "        let earliest = make_batch(\"speedy-batch\", \"MINIMALIST-SPOON\", 100, Some(today));\n",
    "        let medium   = make_batch(\"normal-batch\", \"MINIMALIST-SPOON\", 100, Some(tomorrow));\n",
    "        let latest   = make_batch(\"slow-batch\", \"MINIMALIST-SPOON\", 100, Some(later));\n",
    "        let line     = make_line(\"order-001\", \"MINIMALIST-SPOON\", 10);\n",
    "\n",
    "        let batch_ref = allocate(line, vec![&medium, &earliest, &latest]);\n",
    "        assert_eq!(Ok(\"speedy-batch\".to_owned()), batch_ref);\n",
    "\n",
    "        assert_eq!(90, earliest.available_quantity());\n",
    "        assert_eq!(100, medium.available_quantity());\n",
    "        assert_eq!(100, latest.available_quantity());\n",
    "    }\n",
    "    \n",
    "    #[test]\n",
    "    fn test_raise_error() {\n",
    "        let today = Utc::today();\n",
    "        let batch = make_batch(\"batch1\", \"SMALL-FORK\", 10, Some(today));\n",
    "        let line = make_line(\"order-001\", \"SMALL-FORK\", 10);\n",
    "\n",
    "        allocate(make_line(\"order1\", \"SMALL-FORK\", 10), vec![ &batch ]);\n",
    "        assert_eq!(0, batch.available_quantity());        \n",
    "        assert!(!batch.can_allocate(&line));\n",
    "        \n",
    "        let result  = allocate(make_line(\"order2\", \"SMALL-FORK\", 1), vec![ &batch ]);\n",
    "        \n",
    "        assert_eq!(Err(OutOfStock), result);\n",
    "    }\n",
    "}"
   ]
  },
  {
   "cell_type": "markdown",
   "metadata": {},
   "source": [
    "### Temporary test runner for Jupyter notebook"
   ]
  },
  {
   "cell_type": "code",
   "execution_count": 11,
   "metadata": {
    "tags": [
     "hidden"
    ]
   },
   "outputs": [
    {
     "name": "stdout",
     "output_type": "stream",
     "text": [
      "\n",
      "running 7 tests\n",
      "test chapter1_tests::test_allocating_to_a_batch_reduces_the_available_quantity ... \u001b[32mok\u001b[m\n",
      "test chapter1_tests::test_can_allocate_if_available_equal_to_required ... \u001b[32mok\u001b[m\n",
      "test chapter1_tests::test_can_allocate_if_available_greater_than_required ... \u001b[32mok\u001b[m\n",
      "test chapter1_tests::test_cannot_allocate_if_available_smaller_than_required ... \u001b[32mok\u001b[m\n",
      "test chapter1_tests::test_prefers_earlier_batches ... \u001b[32mok\u001b[m\n",
      "test chapter1_tests::test_prefers_warehouse_batches_to_shipments ... \u001b[32mok\u001b[m\n",
      "test chapter1_tests::test_raise_error ... \u001b[32mok\u001b[m\n",
      "\n",
      "test result: \u001b[32mok\u001b[m. 7 passed; 0 failed; 0 ignored; 0 measured; 0 filtered out\n",
      "\n",
      "\n"
     ]
    }
   ],
   "source": [
    "use std::process::Command;\n",
    "\n",
    "let output = Command::new(\"jupyter\").arg(\"nbconvert\").arg(\"01-domain-modeling-rs.ipynb\")\n",
    "                     .arg(\"--to=script\")\n",
    "                     .arg(\"--TagRemovePreprocessor.remove_cell_tags\").arg(\"hidden\")\n",
    "                     .arg(\"--output=tests/rust/src/main\")\n",
    "                     .output().expect(\"$\");\n",
    "\n",
    "if !output.status.success() {\n",
    "    println!(\"{}\", String::from_utf8_lossy(&output.stderr));\n",
    "}\n",
    "\n",
    "let output = Command::new(\"cargo\").args(&[\"test\", \"--\", \"--color\", \"always\"])\n",
    "                     .env(\"TERM\", \"xterm\")\n",
    "                     .current_dir(\"tests/rust\")\n",
    "                     .output().expect(\"$\");\n",
    "\n",
    "let outstr = String::from_utf8_lossy(&output.stdout).replace(\"\u001b(B\", \"\");\n",
    "\n",
    "if outstr.len() > 0 {\n",
    "    println!(\"{}\", outstr);\n",
    "} else {\n",
    "    println!(\"{}\", String::from_utf8_lossy(&output.stderr).replace(\"\u001b(B\", \"\"));\n",
    "};"
   ]
  },
  {
   "cell_type": "code",
   "execution_count": null,
   "metadata": {},
   "outputs": [],
   "source": []
  }
 ],
 "metadata": {
  "kernelspec": {
   "display_name": "Rust",
   "language": "rust",
   "name": "rust"
  },
  "language_info": {
   "codemirror_mode": "rust",
   "file_extension": ".rs",
   "mimetype": "text/rust",
   "name": "Rust",
   "pygment_lexer": "rust",
   "version": ""
  }
 },
 "nbformat": 4,
 "nbformat_minor": 4
}
