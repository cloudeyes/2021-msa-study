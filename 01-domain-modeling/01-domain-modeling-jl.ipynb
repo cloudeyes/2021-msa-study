{
 "cells": [
  {
   "cell_type": "markdown",
   "metadata": {},
   "source": [
    "# Domain Modeling by Julia\n",
    "\n",
    "- Author: Joseph Kim <cloudeyes@gmail.com>"
   ]
  },
  {
   "cell_type": "code",
   "execution_count": 1,
   "metadata": {},
   "outputs": [],
   "source": [
    "import Base.@kwdef\n",
    "import Dates"
   ]
  },
  {
   "cell_type": "markdown",
   "metadata": {},
   "source": [
    "## Domain models"
   ]
  },
  {
   "cell_type": "code",
   "execution_count": 2,
   "metadata": {},
   "outputs": [],
   "source": [
    "@kwdef struct OrderLine\n",
    "    reference::String\n",
    "    qty::Int\n",
    "    sku::String\n",
    "end;"
   ]
  },
  {
   "cell_type": "code",
   "execution_count": 3,
   "metadata": {},
   "outputs": [],
   "source": [
    "mutable struct Qty ; value::Int ; end\n",
    "@kwdef struct Batch\n",
    "    reference::String\n",
    "    sku::String\n",
    "    qty::Qty\n",
    "    eta::Union{Dates.Date, Nothing} = nothing\n",
    "    allocations::Array{OrderLine,1} = []\n",
    "end;"
   ]
  },
  {
   "cell_type": "markdown",
   "metadata": {},
   "source": [
    "### Equality and ordering for entities"
   ]
  },
  {
   "cell_type": "code",
   "execution_count": 103,
   "metadata": {},
   "outputs": [],
   "source": [
    "Base.:(==)(x::Batch, y::Batch) = x.reference == y.reference\n",
    "Base.:(isless)(x::Batch, y::Batch) =\n",
    "    if x.eta == nothing true\n",
    "    elseif y.eta == nothing false\n",
    "    else x.eta < y.eta\n",
    "end"
   ]
  },
  {
   "cell_type": "markdown",
   "metadata": {},
   "source": [
    "## Functions on domain model types\n",
    "\n",
    "**Julia does not have classes**. Instead we define new types and then define methods on those types. Methods are not \"owned\" by the types they operate on. Instead, a method can be said to belong to a generic function of the same name as the method\n",
    "\n",
    "- https://stackoverflow.com/a/56352954"
   ]
  },
  {
   "cell_type": "code",
   "execution_count": 56,
   "metadata": {},
   "outputs": [
    {
     "data": {
      "text/plain": [
       "allocate! (generic function with 1 method)"
      ]
     },
     "execution_count": 56,
     "metadata": {},
     "output_type": "execute_result"
    }
   ],
   "source": [
    "function allocate!(batch::Batch, line::OrderLine)\n",
    "    push!(batch.allocations, line);\n",
    "end"
   ]
  },
  {
   "cell_type": "code",
   "execution_count": 57,
   "metadata": {},
   "outputs": [],
   "source": [
    "function availablequantity(batch::Batch)\n",
    "    batch.qty.value - reduce(+, x.qty for x in b.allocations; init=0)\n",
    "end\n",
    "\n",
    "function canallocate(batch::Batch, line::OrderLine) \n",
    "    availablequantity(batch) >= line.qty\n",
    "end;"
   ]
  },
  {
   "cell_type": "markdown",
   "metadata": {},
   "source": [
    "### Service functions"
   ]
  },
  {
   "cell_type": "code",
   "execution_count": 129,
   "metadata": {},
   "outputs": [],
   "source": [
    "struct OutOfStock <: Exception ; end\n",
    "\n",
    "function allocate_batches!(line::OrderLine, batches::Array{Batch,1})\n",
    "    sorted = sort(filter(b->canallocate(b, line), batches))\n",
    "    if length(sorted) == 0\n",
    "        throw(OutOfStock())\n",
    "    else\n",
    "        batch = first(sorted)\n",
    "        allocate!(batch, line)\n",
    "        return batch.reference\n",
    "    end\n",
    "end;"
   ]
  },
  {
   "cell_type": "markdown",
   "metadata": {},
   "source": [
    "## Tests"
   ]
  },
  {
   "cell_type": "markdown",
   "metadata": {},
   "source": [
    "### Helper functions"
   ]
  },
  {
   "cell_type": "code",
   "execution_count": 134,
   "metadata": {},
   "outputs": [],
   "source": [
    "function makebatchandline(sku::String, batchqty::Int, lineqty::Int)\n",
    "    Batch(reference=\"batch-001\", sku=sku, qty=Qty(batchqty)),\n",
    "    OrderLine(reference=\"oder-123\", sku=sku, qty=lineqty)\n",
    "end;"
   ]
  },
  {
   "cell_type": "code",
   "execution_count": 135,
   "metadata": {},
   "outputs": [],
   "source": [
    "import Test.@test\n",
    "import Test.@test_throws\n",
    "import Test.@testset"
   ]
  },
  {
   "cell_type": "code",
   "execution_count": 137,
   "metadata": {},
   "outputs": [
    {
     "name": "stdout",
     "output_type": "stream",
     "text": [
      "\u001b[37m\u001b[1mTest Summary:  | \u001b[22m\u001b[39m\u001b[32m\u001b[1mPass  \u001b[22m\u001b[39m\u001b[36m\u001b[1mTotal\u001b[22m\u001b[39m\n",
      "Chapter1 Tests | \u001b[32m  13  \u001b[39m\u001b[36m   13\u001b[39m\n"
     ]
    }
   ],
   "source": [
    "@testset \"Chapter1 Tests\" begin\n",
    "    @testset \"Test allocating to a batch reduces the available quantity\" begin\n",
    "        batch = Batch(reference=\"batch-001\", sku=\"TEST-TABLE\", qty=Qty(20))\n",
    "        line  = OrderLine(reference=\"order-ref\", sku=\"TEST-TABLE\", qty=2)\n",
    "        @test 20 == availablequantity(batch)\n",
    "        allocate!(batch, line)\n",
    "        @test 18 == availablequantity(batch)      \n",
    "    end\n",
    "    \n",
    "    @testset \"Test can allocate if available greater than required\" begin\n",
    "        largebatch, smallline = makebatchandline(\"ELEGANT-LAMP\", 20, 2)\n",
    "        @test canallocate(largebatch, smallline)\n",
    "    end\n",
    "\n",
    "    @testset \"Test cannot allocate if available smaller than required\" begin\n",
    "        smallbatch, largeline = makebatchandline(\"ELEGANT-LAMP\", 2, 20)\n",
    "        @test !canallocate(smallbatch, largeline)\n",
    "    end\n",
    "\n",
    "    @testset \"Test can allocate if available equal to required\" begin\n",
    "        batch, line = makebatchandline(\"ELEGANT-LAMP\", 2, 2)\n",
    "        @test canallocate(batch, line)\n",
    "    end\n",
    "\n",
    "    @testset \"Test prefers warehouse batches to shipments\" begin\n",
    "        tomorrow = Dates.today() + Dates.Day(1)\n",
    "        warehousebatch = Batch(reference=\"warehouse-batch\", sku=\"RETRO-CLOCK\", qty=Qty(100))\n",
    "        shipmentbatch  = Batch(reference=\"shipment-batch\", sku=\"RETRO-CLOCK\", qty=Qty(100), eta=tomorrow)\n",
    "        line = OrderLine(reference=\"oref\", sku=\"RETRO-CLOCK\", qty=10)\n",
    "\n",
    "        batchref = allocate_batches!(line, [warehousebatch; shipmentbatch])\n",
    "        @test \"warehouse-batch\" == batchref\n",
    "    end\n",
    "\n",
    "    @testset \"Test prefers earlier batches\" begin\n",
    "        today = Dates.today()\n",
    "        tomorrow = today + Dates.Day(1)\n",
    "        later = today + Dates.Day(30)\n",
    "\n",
    "        earliest = Batch(reference=\"speedy-batch\", sku=\"MINIMALIST-SPOON\", qty=Qty(100), eta=today);\n",
    "        medium   = Batch(reference=\"normal-batch\", sku=\"MINIMALIST-SPOON\", qty=Qty(100), eta=tomorrow);\n",
    "        latest   = Batch(reference=\"slow-batch\", sku=\"MINIMALIST-SPOON\", qty=Qty(100), eta=later);\n",
    "        line     = OrderLine(reference=\"order-001\", sku=\"MINIMALIST-SPOON\", qty=10)\n",
    "\n",
    "        batchref = allocate_batches!(line, [medium; earliest; latest])\n",
    "        \n",
    "        @test \"speedy-batch\" == batchref\n",
    "        @test 90 == availablequantity(earliest)\n",
    "        @test 100 == availablequantity(medium)\n",
    "        @test 100 == availablequantity(latest)\n",
    "    end\n",
    "\n",
    "    @testset \"Test throws out of stock\" begin\n",
    "        today = Dates.today()\n",
    "        batch = Batch(reference=\"batch1\", sku=\"SMALFORK\", qty=Qty(10), eta=today)\n",
    "        line1 = OrderLine(reference=\"order-001\", sku=\"MINIMALIST-SPOON\", qty=10)\n",
    "        line2 = OrderLine(reference=\"order-002\", sku=\"SMALL-FORK\", qty=1)\n",
    "        allocate_batches!(line1, [ batch ])\n",
    "        \n",
    "        @test 0 == availablequantity(batch)\n",
    "        @test !canallocate(batch, line2)\n",
    "        @test_throws OutOfStock allocate_batches!(line2, [ batch ])\n",
    "    end\n",
    "\n",
    "end;"
   ]
  },
  {
   "cell_type": "code",
   "execution_count": null,
   "metadata": {},
   "outputs": [],
   "source": []
  }
 ],
 "metadata": {
  "kernelspec": {
   "display_name": "Julia 1.5.3",
   "language": "julia",
   "name": "julia-1.5"
  },
  "language_info": {
   "file_extension": ".jl",
   "mimetype": "application/julia",
   "name": "julia",
   "version": "1.5.3"
  }
 },
 "nbformat": 4,
 "nbformat_minor": 4
}
