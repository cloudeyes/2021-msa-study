{
 "cells": [
  {
   "cell_type": "markdown",
   "metadata": {},
   "source": [
    "# Chapter 2. Repository Pattern"
   ]
  },
  {
   "cell_type": "markdown",
   "metadata": {},
   "source": [
    "Known Bugs in the Book\n",
    "- https://github.com/cosmicpython/code/issues/17"
   ]
  },
  {
   "cell_type": "markdown",
   "metadata": {},
   "source": [
    "## Persisting Our Domain Model"
   ]
  },
  {
   "cell_type": "code",
   "execution_count": 18,
   "metadata": {},
   "outputs": [
    {
     "name": "stdout",
     "output_type": "stream",
     "text": [
      "\u001b[01;34m.\u001b[00m\n",
      "├── 02-repository-pattern.ipynb\n",
      "├── \u001b[01;34mapp\u001b[00m\n",
      "│   ├── __init__.py\n",
      "│   ├── models.py\n",
      "│   └── \u001b[01;34mtests\u001b[00m\n",
      "│       ├── __init__.py\n",
      "│       └── test_models.py\n",
      "└── requirements.txt\n",
      "\n",
      "2 directories, 6 files\n"
     ]
    }
   ],
   "source": [
    "!tree -I '__pycache__|build|images|plantuml*'"
   ]
  },
  {
   "cell_type": "code",
   "execution_count": 19,
   "metadata": {
    "collapsed": true,
    "jupyter": {
     "outputs_hidden": true
    }
   },
   "outputs": [
    {
     "name": "stdout",
     "output_type": "stream",
     "text": [
      "Requirement already satisfied: sqlalchemy in /home/ykkim/conda/envs/lab/lib/python3.9/site-packages (from -r ./requirements.txt (line 1)) (1.3.22)\n",
      "Requirement already satisfied: pytest in /home/ykkim/conda/envs/lab/lib/python3.9/site-packages (from -r ./requirements.txt (line 4)) (6.1.2)\n",
      "Requirement already satisfied: mypy in /home/ykkim/conda/envs/lab/lib/python3.9/site-packages/mypy-0.800+dev.0edf1233672117c4555759c5a91461a502ddce5d-py3.9.egg (from -r ./requirements.txt (line 5)) (0.800+dev.0edf1233672117c4555759c5a91461a502ddce5d)\n",
      "Requirement already satisfied: typed_ast<1.5.0,>=1.4.0 in /home/ykkim/conda/envs/lab/lib/python3.9/site-packages (from mypy->-r ./requirements.txt (line 5)) (1.4.1)\n",
      "Requirement already satisfied: typing_extensions>=3.7.4 in /home/ykkim/conda/envs/lab/lib/python3.9/site-packages (from mypy->-r ./requirements.txt (line 5)) (3.7.4.3)\n",
      "Requirement already satisfied: mypy_extensions<0.5.0,>=0.4.3 in /home/ykkim/conda/envs/lab/lib/python3.9/site-packages (from mypy->-r ./requirements.txt (line 5)) (0.4.3)\n",
      "Requirement already satisfied: attrs>=17.4.0 in /home/ykkim/conda/envs/lab/lib/python3.9/site-packages (from pytest->-r ./requirements.txt (line 4)) (20.3.0)\n",
      "Requirement already satisfied: iniconfig in /home/ykkim/conda/envs/lab/lib/python3.9/site-packages (from pytest->-r ./requirements.txt (line 4)) (1.1.1)\n",
      "Requirement already satisfied: packaging in /home/ykkim/conda/envs/lab/lib/python3.9/site-packages (from pytest->-r ./requirements.txt (line 4)) (20.7)\n",
      "Requirement already satisfied: pluggy<1.0,>=0.12 in /home/ykkim/conda/envs/lab/lib/python3.9/site-packages (from pytest->-r ./requirements.txt (line 4)) (0.13.1)\n",
      "Requirement already satisfied: py>=1.8.2 in /home/ykkim/conda/envs/lab/lib/python3.9/site-packages (from pytest->-r ./requirements.txt (line 4)) (1.9.0)\n",
      "Requirement already satisfied: toml in /home/ykkim/conda/envs/lab/lib/python3.9/site-packages (from pytest->-r ./requirements.txt (line 4)) (0.10.2)\n",
      "Requirement already satisfied: pyparsing>=2.0.2 in /home/ykkim/conda/envs/lab/lib/python3.9/site-packages (from packaging->pytest->-r ./requirements.txt (line 4)) (2.4.7)\n"
     ]
    }
   ],
   "source": [
    "!pip install -r ./requirements.txt"
   ]
  },
  {
   "cell_type": "code",
   "execution_count": 20,
   "metadata": {},
   "outputs": [
    {
     "name": "stdout",
     "output_type": "stream",
     "text": [
      "\u001b[1m============================= test session starts ==============================\u001b[0m\n",
      "platform linux -- Python 3.9.1, pytest-6.1.2, py-1.9.0, pluggy-0.13.1\n",
      "rootdir: /home/ykkim/notebooks/2021-msa-study/02-repository-pattern\n",
      "collected 12 items                                                             \u001b[0m\n",
      "\n",
      "app/tests/test_models.py \u001b[32m.\u001b[0m\u001b[32m.\u001b[0m\u001b[32m.\u001b[0m\u001b[32m.\u001b[0m\u001b[32m.\u001b[0m\u001b[32m.\u001b[0m\u001b[32m.\u001b[0m\u001b[32m.\u001b[0m\u001b[32m.\u001b[0m\u001b[32m.\u001b[0m\u001b[32m.\u001b[0m\u001b[32m.\u001b[0m\u001b[32m                                    [100%]\u001b[0m\n",
      "\n",
      "\u001b[32m============================== \u001b[32m\u001b[1m12 passed\u001b[0m\u001b[32m in 0.03s\u001b[0m\u001b[32m ==============================\u001b[0m\n"
     ]
    }
   ],
   "source": [
    "!pytest"
   ]
  },
  {
   "cell_type": "code",
   "execution_count": 25,
   "metadata": {},
   "outputs": [
    {
     "name": "stdout",
     "output_type": "stream",
     "text": [
      "\u001b[1m\u001b[32mSuccess: no issues found in 1 source file\u001b[m\n"
     ]
    }
   ],
   "source": [
    "!mypy --strict -m app.models"
   ]
  },
  {
   "cell_type": "markdown",
   "metadata": {},
   "source": [
    "## Reminder: Our Model"
   ]
  },
  {
   "cell_type": "code",
   "execution_count": 4,
   "metadata": {
    "jupyter": {
     "source_hidden": true
    },
    "tags": [
     "hidden"
    ]
   },
   "outputs": [
    {
     "data": {
      "image/svg+xml": [
       "<svg xmlns=\"http://www.w3.org/2000/svg\" xmlns:xlink=\"http://www.w3.org/1999/xlink\" contentScriptType=\"application/ecmascript\" contentStyleType=\"text/css\" height=\"262px\" preserveAspectRatio=\"none\" style=\"width:875px;height:262px;\" version=\"1.1\" viewBox=\"0 0 875 262\" width=\"875px\" zoomAndPan=\"magnify\"><defs><filter height=\"300%\" id=\"f4fcesrtqv811\" width=\"300%\" x=\"-1\" y=\"-1\"><feGaussianBlur result=\"blurOut\" stdDeviation=\"2.0\"/><feColorMatrix in=\"blurOut\" result=\"blurOut2\" type=\"matrix\" values=\"0 0 0 0 0 0 0 0 0 0 0 0 0 0 0 0 0 0 .4 0\"/><feOffset dx=\"4.0\" dy=\"4.0\" in=\"blurOut2\" result=\"blurOut3\"/><feBlend in=\"SourceGraphic\" in2=\"blurOut3\" mode=\"normal\"/></filter></defs><g><!--class Product--><rect fill=\"#B5E2FA\" filter=\"url(#f4fcesrtqv811)\" height=\"71.2617\" id=\"Product\" style=\"stroke: #0FA3B1; stroke-width: 1.5;\" width=\"76\" x=\"788\" y=\"94.5\"/><ellipse cx=\"801\" cy=\"110.8154\" fill=\"#EDDEA4\" rx=\"9\" ry=\"9\" style=\"stroke: #0FA3B1; stroke-width: 1.0;\"/><path d=\"M802.3125,114.5811 Q801.9375,114.7842 801.5156,114.8779 Q801.1094,114.9717 800.6406,114.9717 Q799.0313,114.9717 798.1719,113.9092 Q797.3125,112.8311 797.3125,110.8154 Q797.3125,108.7842 798.1719,107.7217 Q799.0313,106.6436 800.6406,106.6436 Q801.1094,106.6436 801.5156,106.7529 Q801.9375,106.8467 802.3125,107.0342 L802.3125,108.7998 Q801.8906,108.4248 801.5,108.2529 Q801.125,108.0811 800.7188,108.0811 Q799.8594,108.0811 799.4063,108.7686 Q798.9688,109.4561 798.9688,110.8154 Q798.9688,112.1748 799.4063,112.8623 Q799.8594,113.5498 800.7188,113.5498 Q801.125,113.5498 801.5,113.3779 Q801.8906,113.2061 802.3125,112.8154 L802.3125,114.5811 Z \"/><text fill=\"#000000\" font-family=\"Segoe UI\" font-size=\"11\" lengthAdjust=\"spacingAndGlyphs\" textLength=\"40\" x=\"817\" y=\"115.3701\">Product</text><line style=\"stroke: #0FA3B1; stroke-width: 1.5;\" x1=\"789\" x2=\"863\" y1=\"127.1309\" y2=\"127.1309\"/><text fill=\"#000000\" font-family=\"Segoe UI\" font-size=\"11\" lengthAdjust=\"spacingAndGlyphs\" textLength=\"37\" x=\"798\" y=\"147.001\">sku: str</text><line style=\"stroke: #0FA3B1; stroke-width: 1.5;\" x1=\"789\" x2=\"863\" y1=\"157.7617\" y2=\"157.7617\"/><!--class Order--><rect fill=\"#B5E2FA\" filter=\"url(#f4fcesrtqv811)\" height=\"71.2617\" id=\"Order\" style=\"stroke: #0FA3B1; stroke-width: 1.5;\" width=\"87\" x=\"173\" y=\"18.5\"/><ellipse cx=\"195.45\" cy=\"34.8154\" fill=\"#EDDEA4\" rx=\"9\" ry=\"9\" style=\"stroke: #0FA3B1; stroke-width: 1.0;\"/><path d=\"M196.7625,38.5811 Q196.3875,38.7842 195.9656,38.8779 Q195.5594,38.9717 195.0906,38.9717 Q193.4813,38.9717 192.6219,37.9092 Q191.7625,36.8311 191.7625,34.8154 Q191.7625,32.7842 192.6219,31.7217 Q193.4813,30.6436 195.0906,30.6436 Q195.5594,30.6436 195.9656,30.7529 Q196.3875,30.8467 196.7625,31.0342 L196.7625,32.7998 Q196.3406,32.4248 195.95,32.2529 Q195.575,32.0811 195.1688,32.0811 Q194.3094,32.0811 193.8563,32.7686 Q193.4188,33.4561 193.4188,34.8154 Q193.4188,36.1748 193.8563,36.8623 Q194.3094,37.5498 195.1688,37.5498 Q195.575,37.5498 195.95,37.3779 Q196.3406,37.2061 196.7625,36.8154 L196.7625,38.5811 Z \"/><text fill=\"#000000\" font-family=\"Segoe UI\" font-size=\"11\" lengthAdjust=\"spacingAndGlyphs\" textLength=\"30\" x=\"213.55\" y=\"39.3701\">Order</text><line style=\"stroke: #0FA3B1; stroke-width: 1.5;\" x1=\"174\" x2=\"259\" y1=\"51.1309\" y2=\"51.1309\"/><text fill=\"#000000\" font-family=\"Segoe UI\" font-size=\"11\" lengthAdjust=\"spacingAndGlyphs\" textLength=\"67\" x=\"183\" y=\"71.001\">reference: str</text><line style=\"stroke: #0FA3B1; stroke-width: 1.5;\" x1=\"174\" x2=\"259\" y1=\"81.7617\" y2=\"81.7617\"/><!--class OrderLine--><rect fill=\"#B5E2FA\" filter=\"url(#f4fcesrtqv811)\" height=\"116.5234\" id=\"OrderLine\" style=\"stroke: #0FA3B1; stroke-width: 1.5;\" width=\"87\" x=\"624\" y=\"135\"/><ellipse cx=\"637\" cy=\"151.3154\" fill=\"#EDDEA4\" rx=\"9\" ry=\"9\" style=\"stroke: #0FA3B1; stroke-width: 1.0;\"/><path d=\"M638.3125,155.0811 Q637.9375,155.2842 637.5156,155.3779 Q637.1094,155.4717 636.6406,155.4717 Q635.0313,155.4717 634.1719,154.4092 Q633.3125,153.3311 633.3125,151.3154 Q633.3125,149.2842 634.1719,148.2217 Q635.0313,147.1436 636.6406,147.1436 Q637.1094,147.1436 637.5156,147.2529 Q637.9375,147.3467 638.3125,147.5342 L638.3125,149.2998 Q637.8906,148.9248 637.5,148.7529 Q637.125,148.5811 636.7188,148.5811 Q635.8594,148.5811 635.4063,149.2686 Q634.9688,149.9561 634.9688,151.3154 Q634.9688,152.6748 635.4063,153.3623 Q635.8594,154.0498 636.7188,154.0498 Q637.125,154.0498 637.5,153.8779 Q637.8906,153.7061 638.3125,153.3154 L638.3125,155.0811 Z \"/><text fill=\"#000000\" font-family=\"Segoe UI\" font-size=\"11\" lengthAdjust=\"spacingAndGlyphs\" textLength=\"51\" x=\"653\" y=\"155.8701\">OrderLine</text><line style=\"stroke: #0FA3B1; stroke-width: 1.5;\" x1=\"625\" x2=\"710\" y1=\"167.6309\" y2=\"167.6309\"/><text fill=\"#000000\" font-family=\"Segoe UI\" font-size=\"11\" lengthAdjust=\"spacingAndGlyphs\" textLength=\"57\" x=\"634\" y=\"187.501\">orderid: str</text><text fill=\"#000000\" font-family=\"Segoe UI\" font-size=\"11\" lengthAdjust=\"spacingAndGlyphs\" textLength=\"37\" x=\"634\" y=\"210.1318\">sku: str</text><text fill=\"#000000\" font-family=\"Segoe UI\" font-size=\"11\" lengthAdjust=\"spacingAndGlyphs\" textLength=\"36\" x=\"634\" y=\"232.7627\">qty: int</text><line style=\"stroke: #0FA3B1; stroke-width: 1.5;\" x1=\"625\" x2=\"710\" y1=\"243.5234\" y2=\"243.5234\"/><!--class Batch--><rect fill=\"#B5E2FA\" filter=\"url(#f4fcesrtqv811)\" height=\"161.7852\" id=\"Batch\" style=\"stroke: #0FA3B1; stroke-width: 1.5;\" width=\"147\" x=\"400\" y=\"18\"/><ellipse cx=\"451.75\" cy=\"34.3154\" fill=\"#EDDEA4\" rx=\"9\" ry=\"9\" style=\"stroke: #0FA3B1; stroke-width: 1.0;\"/><path d=\"M453.0625,38.0811 Q452.6875,38.2842 452.2656,38.3779 Q451.8594,38.4717 451.3906,38.4717 Q449.7813,38.4717 448.9219,37.4092 Q448.0625,36.3311 448.0625,34.3154 Q448.0625,32.2842 448.9219,31.2217 Q449.7813,30.1436 451.3906,30.1436 Q451.8594,30.1436 452.2656,30.2529 Q452.6875,30.3467 453.0625,30.5342 L453.0625,32.2998 Q452.6406,31.9248 452.25,31.7529 Q451.875,31.5811 451.4688,31.5811 Q450.6094,31.5811 450.1563,32.2686 Q449.7188,32.9561 449.7188,34.3154 Q449.7188,35.6748 450.1563,36.3623 Q450.6094,37.0498 451.4688,37.0498 Q451.875,37.0498 452.25,36.8779 Q452.6406,36.7061 453.0625,36.3154 L453.0625,38.0811 Z \"/><text fill=\"#000000\" font-family=\"Segoe UI\" font-size=\"11\" lengthAdjust=\"spacingAndGlyphs\" textLength=\"28\" x=\"473.25\" y=\"38.8701\">Batch</text><line style=\"stroke: #0FA3B1; stroke-width: 1.5;\" x1=\"401\" x2=\"546\" y1=\"50.6309\" y2=\"50.6309\"/><text fill=\"#000000\" font-family=\"Segoe UI\" font-size=\"11\" lengthAdjust=\"spacingAndGlyphs\" textLength=\"67\" x=\"410\" y=\"70.501\">reference: str</text><text fill=\"#000000\" font-family=\"Segoe UI\" font-size=\"11\" lengthAdjust=\"spacingAndGlyphs\" textLength=\"37\" x=\"410\" y=\"93.1318\">sku: str</text><text fill=\"#000000\" font-family=\"Segoe UI\" font-size=\"11\" lengthAdjust=\"spacingAndGlyphs\" textLength=\"45\" x=\"410\" y=\"115.7627\">eta: date</text><line style=\"stroke: #0FA3B1; stroke-width: 1.0;\" x1=\"401\" x2=\"546\" y1=\"126.5234\" y2=\"126.5234\"/><text fill=\"#000000\" font-family=\"Segoe UI\" font-size=\"11\" lengthAdjust=\"spacingAndGlyphs\" textLength=\"127\" x=\"410\" y=\"146.3936\">_purchased_quantity: int</text><text fill=\"#000000\" font-family=\"Segoe UI\" font-size=\"11\" lengthAdjust=\"spacingAndGlyphs\" textLength=\"124\" x=\"410\" y=\"169.0244\">_allocations: [OrderLine]</text><!--entity Customer--><ellipse cx=\"34.5\" cy=\"18.5\" fill=\"#B5E2FA\" filter=\"url(#f4fcesrtqv811)\" rx=\"8\" ry=\"8\" style=\"stroke: #0FA3B1; stroke-width: 2.0;\"/><path d=\"M34.5,26.5 L34.5,53.5 M21.5,34.5 L47.5,34.5 M34.5,53.5 L21.5,68.5 M34.5,53.5 L47.5,68.5 \" fill=\"none\" filter=\"url(#f4fcesrtqv811)\" style=\"stroke: #0FA3B1; stroke-width: 2.0;\"/><text fill=\"#000000\" font-family=\"Segoe UI\" font-size=\"11\" lengthAdjust=\"spacingAndGlyphs\" textLength=\"49\" x=\"10\" y=\"91.3701\">Customer</text><!--link Customer to Order--><path d=\"M63.23,53.5 C88.88,53.5 127.76,53.5 159.82,53.5 \" fill=\"none\" id=\"Customer-Order\" style=\"stroke: #0FA3B1; stroke-width: 1.0;\"/><polygon fill=\"#0FA3B1\" points=\"164.9,53.5,155.9,49.5,159.9,53.5,155.9,57.5,164.9,53.5\" style=\"stroke: #0FA3B1; stroke-width: 1.0;\"/><text fill=\"#000000\" font-family=\"Segoe UI\" font-size=\"11\" lengthAdjust=\"spacingAndGlyphs\" textLength=\"32\" x=\"98\" y=\"46.3701\">places</text><!--link Order to Batch--><path d=\"M274.76,65.5 C321.28,65.5 339.76,65.5 386.31,65.5 \" fill=\"none\" id=\"Order-Batch\" style=\"stroke: #0FA3B1; stroke-width: 1.0;\"/><polygon fill=\"#0FA3B1\" points=\"399.5,65.5,390.5,61.5,394.5,65.5,390.5,69.5,399.5,65.5\" style=\"stroke: #0FA3B1; stroke-width: 1.0;\"/><line style=\"stroke: #0FA3B1; stroke-width: 1.0;\" x1=\"394.5\" x2=\"386.5\" y1=\"65.5\" y2=\"65.5\"/><polygon fill=\"#FFFFFF\" points=\"261.5,65.5,267.5,69.5,273.5,65.5,267.5,61.5,261.5,65.5\" style=\"stroke: #0FA3B1; stroke-width: 1.0;\"/><text fill=\"#000000\" font-family=\"Segoe UI\" font-size=\"11\" lengthAdjust=\"spacingAndGlyphs\" textLength=\"54\" x=\"303\" y=\"43.3701\">purchased</text><text fill=\"#000000\" font-family=\"Segoe UI\" font-size=\"11\" lengthAdjust=\"spacingAndGlyphs\" textLength=\"12\" x=\"324\" y=\"58.001\">by</text><!--link Batch to OrderLine--><path d=\"M561.58,163.04 C575.5,164.15 589.68,166.86 602.92,170.22 \" fill=\"none\" id=\"Batch-OrderLine\" style=\"stroke: #0FA3B1; stroke-width: 1.0;\"/><polygon fill=\"#0FA3B1\" points=\"615.81,173.76,608.1832,167.5285,610.9869,172.4416,606.0738,175.2454,615.81,173.76\" style=\"stroke: #0FA3B1; stroke-width: 1.0;\"/><line style=\"stroke: #0FA3B1; stroke-width: 1.0;\" x1=\"610.9869\" x2=\"603.27\" y1=\"172.4416\" y2=\"170.32\"/><polygon fill=\"#FFFFFF\" points=\"548.5,162.5,554.3277,166.7471,560.4895,163.0012,554.6618,158.7541,548.5,162.5\" style=\"stroke: #0FA3B1; stroke-width: 1.0;\"/><!--link OrderLine to Product--><path d=\"M712.5,205.5 C754.28,205.5 744.34,146.88 781.68,141.84 \" fill=\"none\" id=\"OrderLine-Product\" style=\"stroke: #0FA3B1; stroke-width: 1.0;\"/><polygon fill=\"#0FA3B1\" points=\"787,141.5,777.7662,138.0741,782.0099,141.8146,778.2695,146.0583,787,141.5\" style=\"stroke: #0FA3B1; stroke-width: 1.0;\"/><!--link Batch to Product--><path d=\"M548.5,87.5 C625.15,87.5 645.14,92.98 719,113.5 C748.77,121.77 753.81,139.43 781.89,141.33 \" fill=\"none\" id=\"Batch-Product\" style=\"stroke: #0FA3B1; stroke-width: 1.0;\"/><polygon fill=\"#0FA3B1\" points=\"787,141.5,778.1305,137.2185,782.0025,141.3425,777.8785,145.2145,787,141.5\" style=\"stroke: #0FA3B1; stroke-width: 1.0;\"/><!--\n",
       "@startuml\n",
       "skinparam default {\n",
       "    FontName \"Segoe UI\"\n",
       "    FontSize 11\n",
       "    FontColor Black\n",
       "}\n",
       "\n",
       "skinparam class {\n",
       "    BackgroundColor #b5e2fa\n",
       "    BorderColor #0fa3b1\n",
       "}\n",
       "\n",
       "skinparam CircledCharacter {\n",
       "    FontColor Black\n",
       "}\n",
       "\n",
       "skinparam stereotypeC {\n",
       "    BackgroundColor #eddea4 \n",
       "}\n",
       "\n",
       "skinparam package {\n",
       "    FontName \"Segoe UI\"\n",
       "}\n",
       "\n",
       "skinparam sequencelifeline {\n",
       "    BorderColor #0fa3b1\n",
       "}\n",
       "skinparam arrow {\n",
       "    Color #0fa3b1\n",
       "}\n",
       "skinparam participant {\n",
       "    BackgroundColor #b5e2fa\n",
       "    BorderColor #0fa3b1\n",
       "}\n",
       "skinparam entity {\n",
       "    BackgroundColor #b5e2fa\n",
       "    BorderColor #0fa3b1\n",
       "}\n",
       "skinparam collections {\n",
       "    BackgroundColor #b5e2fa\n",
       "    BorderColor #0fa3b1\n",
       "}\n",
       "skinparam database {\n",
       "    BackgroundColor #b5e2fa\n",
       "    BorderColor #0fa3b1\n",
       "}\n",
       "skinparam boundary {\n",
       "    BackgroundColor #b5e2fa\n",
       "    BorderColor #0fa3b1\n",
       "}\n",
       "skinparam actor {\n",
       "    Color DeepSkyBlue\n",
       "    BackgroundColor #b5e2fa\n",
       "    BorderColor #0fa3b1\n",
       "}\n",
       "skinparam sequencegroupheader {\n",
       "    FontName \"Segoe UI\"\n",
       "}\n",
       "skinparam sequencebox {\n",
       "    BackgroundColor PowderBlue\n",
       "    BorderColor #0fa3b1\n",
       "}\n",
       "skinparam padding 4\n",
       "\n",
       "allow_mixing\n",
       "left to right direction\n",
       "\n",
       "class Product {\n",
       "    sku: str\n",
       "}\n",
       "\n",
       "class Order {\n",
       "    reference: str\n",
       "}\n",
       "\n",
       "class OrderLine {\n",
       "    orderid: str\n",
       "    sku: str\n",
       "    qty: int\n",
       "}\n",
       "\n",
       "class Batch {\n",
       "    reference: str\n",
       "    sku: str\n",
       "    eta: date\n",
       "    - -\n",
       "    _purchased_quantity: int\n",
       "    _allocations: [OrderLine]\n",
       "}\n",
       "\n",
       "actor Customer\n",
       "\n",
       "Customer - -> Order : places\n",
       "Order::reference o- -> Batch::reference : \"purchased\\nby\"\n",
       "Batch::_allocations o- -> OrderLine\n",
       "OrderLine::sku - -> Product::sku\n",
       "Batch::sku - -> Product::sku\n",
       "\n",
       "@enduml\n",
       "\n",
       "PlantUML version 1.2018.13(Tue Nov 27 02:11:51 KST 2018)\n",
       "(GPL source distribution)\n",
       "Java Runtime: OpenJDK Runtime Environment\n",
       "JVM: OpenJDK 64-Bit Server VM\n",
       "Java Version: 11.0.9.1+1-Ubuntu-0ubuntu1.20.04\n",
       "Operating System: Linux\n",
       "OS Version: 5.4.0-1032-azure\n",
       "Default Encoding: UTF-8\n",
       "Language: en\n",
       "Country: US\n",
       "--></g></svg>"
      ],
      "text/plain": [
       "<IPython.core.display.SVG object>"
      ]
     },
     "execution_count": 4,
     "metadata": {},
     "output_type": "execute_result"
    }
   ],
   "source": [
    "%%plantuml\n",
    "\n",
    "@startuml\n",
    "\n",
    "allow_mixing\n",
    "left to right direction\n",
    "\n",
    "class Product {\n",
    "    sku: str\n",
    "}\n",
    "\n",
    "class Order {\n",
    "    reference: str\n",
    "}\n",
    "\n",
    "class OrderLine {\n",
    "    orderid: str\n",
    "    sku: str\n",
    "    qty: int\n",
    "}\n",
    "\n",
    "class Batch {\n",
    "    reference: str\n",
    "    sku: str\n",
    "    eta: date\n",
    "    --\n",
    "    _purchased_quantity: int\n",
    "    _allocations: [OrderLine]\n",
    "}\n",
    "\n",
    "actor Customer\n",
    "\n",
    "Customer --> Order : places\n",
    "Order::reference o--> Batch::reference : \"purchased\\nby\"\n",
    "Batch::_allocations o--> OrderLine\n",
    "OrderLine::sku --> Product::sku\n",
    "Batch::sku --> Product::sku\n",
    "\n",
    "@enduml"
   ]
  },
  {
   "cell_type": "markdown",
   "metadata": {},
   "source": [
    "#### Customers place *orders* for *products*.\n",
    "\n",
    "- **Product**\n",
    "  - identified by *SKU*(Stock Keeping Unit)\n",
    "- **Order**\n",
    "  - identified by an *order reference* \n",
    "  - comprises mutliple *order lines*\n",
    "- **OrderLine**\n",
    "  - has a *SKU* and a *quantity*\n",
    "  \n",
    "#### The purchasing department orders small *batches* of stock\n",
    "\n",
    "- **Batch**\n",
    "  - has a unique ID(*reference*), a *SKU*, and a *quantity* \n",
    "  - has an ETA if they are currently shipping\n",
    "    - or they may be in *warehouse stock*.\n",
    "  \n",
    "##### We need to **allocate** *order lines* to *batches*.\n",
    "\n",
    "- When we allocate x units of stock to a batch, the *available quantity* is reduced by x."
   ]
  },
  {
   "cell_type": "markdown",
   "metadata": {},
   "source": [
    "### The \"Normal\" ORM Way: Model Depends on ORM"
   ]
  },
  {
   "cell_type": "code",
   "execution_count": 6,
   "metadata": {
    "jupyter": {
     "source_hidden": true
    },
    "tags": [
     "hidden"
    ]
   },
   "outputs": [
    {
     "data": {
      "image/svg+xml": [
       "<svg xmlns=\"http://www.w3.org/2000/svg\" xmlns:xlink=\"http://www.w3.org/1999/xlink\" contentScriptType=\"application/ecmascript\" contentStyleType=\"text/css\" height=\"201px\" preserveAspectRatio=\"none\" style=\"width:522px;height:201px;\" version=\"1.1\" viewBox=\"0 0 522 201\" width=\"522px\" zoomAndPan=\"magnify\"><defs><filter height=\"300%\" id=\"f1momko6ctbhvf\" width=\"300%\" x=\"-1\" y=\"-1\"><feGaussianBlur result=\"blurOut\" stdDeviation=\"2.0\"/><feColorMatrix in=\"blurOut\" result=\"blurOut2\" type=\"matrix\" values=\"0 0 0 0 0 0 0 0 0 0 0 0 0 0 0 0 0 0 .4 0\"/><feOffset dx=\"4.0\" dy=\"4.0\" in=\"blurOut2\" result=\"blurOut3\"/><feBlend in=\"SourceGraphic\" in2=\"blurOut3\" mode=\"normal\"/></filter></defs><g><!--class Order--><rect fill=\"#B5E2FA\" filter=\"url(#f1momko6ctbhvf)\" height=\"71.2617\" id=\"Order\" style=\"stroke: #0FA3B1; stroke-width: 1.5;\" width=\"85\" x=\"14\" y=\"119\"/><ellipse cx=\"35.55\" cy=\"135.3154\" fill=\"#EDDEA4\" rx=\"9\" ry=\"9\" style=\"stroke: #0FA3B1; stroke-width: 1.0;\"/><path d=\"M37.4406,139.3154 L32.4563,139.3154 L32.4563,131.2998 L37.4406,131.2998 L37.4406,132.6904 L34.0344,132.6904 L34.0344,134.4248 L37.1281,134.4248 L37.1281,135.8154 L34.0344,135.8154 L34.0344,137.9248 L37.4406,137.9248 L37.4406,139.3154 Z \"/><text fill=\"#000000\" font-family=\"Segoe UI\" font-size=\"11\" lengthAdjust=\"spacingAndGlyphs\" textLength=\"30\" x=\"53.45\" y=\"139.8701\">Order</text><line style=\"stroke: #0FA3B1; stroke-width: 1.5;\" x1=\"15\" x2=\"98\" y1=\"151.6309\" y2=\"151.6309\"/><ellipse cx=\"25\" cy=\"168.4463\" fill=\"#000000\" rx=\"3\" ry=\"3\" style=\"stroke: #000000; stroke-width: 1.0;\"/><text fill=\"#000000\" font-family=\"Segoe UI\" font-size=\"11\" lengthAdjust=\"spacingAndGlyphs\" textLength=\"53\" x=\"36\" y=\"171.501\">id: Integer</text><line style=\"stroke: #0FA3B1; stroke-width: 1.5;\" x1=\"15\" x2=\"98\" y1=\"182.2617\" y2=\"182.2617\"/><!--class OrderLine--><rect fill=\"#B5E2FA\" filter=\"url(#f1momko6ctbhvf)\" height=\"139.1543\" id=\"OrderLine\" style=\"stroke: #0FA3B1; stroke-width: 1.5;\" width=\"118\" x=\"175\" y=\"43.5\"/><ellipse cx=\"201.95\" cy=\"59.8154\" fill=\"#EDDEA4\" rx=\"9\" ry=\"9\" style=\"stroke: #0FA3B1; stroke-width: 1.0;\"/><path d=\"M203.8406,63.8154 L198.8563,63.8154 L198.8563,55.7998 L203.8406,55.7998 L203.8406,57.1904 L200.4344,57.1904 L200.4344,58.9248 L203.5281,58.9248 L203.5281,60.3154 L200.4344,60.3154 L200.4344,62.4248 L203.8406,62.4248 L203.8406,63.8154 Z \"/><text fill=\"#000000\" font-family=\"Segoe UI\" font-size=\"11\" lengthAdjust=\"spacingAndGlyphs\" textLength=\"51\" x=\"221.05\" y=\"64.3701\">OrderLine</text><line style=\"stroke: #0FA3B1; stroke-width: 1.5;\" x1=\"176\" x2=\"292\" y1=\"76.1309\" y2=\"76.1309\"/><ellipse cx=\"186\" cy=\"92.9463\" fill=\"#000000\" rx=\"3\" ry=\"3\" style=\"stroke: #000000; stroke-width: 1.0;\"/><text fill=\"#000000\" font-family=\"Segoe UI\" font-size=\"11\" lengthAdjust=\"spacingAndGlyphs\" textLength=\"53\" x=\"197\" y=\"96.001\">id: Integer</text><line style=\"stroke: #0FA3B1; stroke-width: 1.0;\" x1=\"176\" x2=\"292\" y1=\"106.7617\" y2=\"106.7617\"/><ellipse cx=\"186\" cy=\"123.5771\" fill=\"#000000\" rx=\"3\" ry=\"3\" style=\"stroke: #000000; stroke-width: 1.0;\"/><text fill=\"#000000\" font-family=\"Segoe UI\" font-size=\"11\" lengthAdjust=\"spacingAndGlyphs\" textLength=\"79\" x=\"197\" y=\"126.6318\">sku: String(255)</text><ellipse cx=\"186\" cy=\"146.208\" fill=\"#000000\" rx=\"3\" ry=\"3\" style=\"stroke: #000000; stroke-width: 1.0;\"/><text fill=\"#000000\" font-family=\"Segoe UI\" font-size=\"11\" lengthAdjust=\"spacingAndGlyphs\" textLength=\"59\" x=\"197\" y=\"149.2627\">qty: Integer</text><ellipse cx=\"186\" cy=\"168.8389\" fill=\"#000000\" rx=\"3\" ry=\"3\" style=\"stroke: #000000; stroke-width: 1.0;\"/><text fill=\"#000000\" font-family=\"Segoe UI\" font-size=\"11\" lengthAdjust=\"spacingAndGlyphs\" textLength=\"86\" x=\"197\" y=\"171.8936\">order_id: Integer</text><!--class Allocation--><rect fill=\"#B5E2FA\" filter=\"url(#f1momko6ctbhvf)\" height=\"93.8926\" id=\"Allocation\" style=\"stroke: #0FA3B1; stroke-width: 1.5;\" width=\"142\" x=\"369\" y=\"12.5\"/><ellipse cx=\"406.3\" cy=\"28.8154\" fill=\"#EDDEA4\" rx=\"9\" ry=\"9\" style=\"stroke: #0FA3B1; stroke-width: 1.0;\"/><path d=\"M408.1906,32.8154 L403.2063,32.8154 L403.2063,24.7998 L408.1906,24.7998 L408.1906,26.1904 L404.7844,26.1904 L404.7844,27.9248 L407.8781,27.9248 L407.8781,29.3154 L404.7844,29.3154 L404.7844,31.4248 L408.1906,31.4248 L408.1906,32.8154 Z \"/><text fill=\"#000000\" font-family=\"Segoe UI\" font-size=\"11\" lengthAdjust=\"spacingAndGlyphs\" textLength=\"52\" x=\"427.7\" y=\"33.3701\">Allocation</text><line style=\"stroke: #0FA3B1; stroke-width: 1.5;\" x1=\"370\" x2=\"510\" y1=\"45.1309\" y2=\"45.1309\"/><ellipse cx=\"380\" cy=\"61.9463\" fill=\"#000000\" rx=\"3\" ry=\"3\" style=\"stroke: #000000; stroke-width: 1.0;\"/><text fill=\"#000000\" font-family=\"Segoe UI\" font-size=\"11\" lengthAdjust=\"spacingAndGlyphs\" textLength=\"53\" x=\"391\" y=\"65.001\">id: Integer</text><line style=\"stroke: #0FA3B1; stroke-width: 1.0;\" x1=\"370\" x2=\"510\" y1=\"75.7617\" y2=\"75.7617\"/><ellipse cx=\"380\" cy=\"92.5771\" fill=\"#000000\" rx=\"3\" ry=\"3\" style=\"stroke: #000000; stroke-width: 1.0;\"/><text fill=\"#000000\" font-family=\"Segoe UI\" font-size=\"11\" lengthAdjust=\"spacingAndGlyphs\" textLength=\"110\" x=\"391\" y=\"95.6318\">order_line_id: Integer</text><!--link Order to OrderLine--><path d=\"M108.75,166 C132.28,166 142.27,166 165.84,166 \" fill=\"none\" id=\"Order-OrderLine\" style=\"stroke: #0FA3B1; stroke-width: 1.0; stroke-dasharray: 7.0,7.0;\"/><line style=\"stroke: #0FA3B1; stroke-width: 1.0;\" x1=\"166\" x2=\"174\" y1=\"166\" y2=\"160\"/><line style=\"stroke: #0FA3B1; stroke-width: 1.0;\" x1=\"166\" x2=\"174\" y1=\"166\" y2=\"172\"/><line style=\"stroke: #0FA3B1; stroke-width: 1.0;\" x1=\"166\" x2=\"174\" y1=\"166\" y2=\"166\"/><line style=\"stroke: #0FA3B1; stroke-width: 1.0;\" x1=\"164\" x2=\"164\" y1=\"162\" y2=\"170\"/><line style=\"stroke: #0FA3B1; stroke-width: 1.0;\" x1=\"104.5\" x2=\"104.5\" y1=\"170\" y2=\"162\"/><line style=\"stroke: #0FA3B1; stroke-width: 1.0;\" x1=\"107.5\" x2=\"107.5\" y1=\"170\" y2=\"162\"/><line style=\"stroke: #0FA3B1; stroke-width: 1.0;\" x1=\"108.5\" x2=\"100.5\" y1=\"166\" y2=\"166\"/><!--link OrderLine to Allocation--><path d=\"M302.3,91 C326,91 336.05,91 359.78,91 \" fill=\"none\" id=\"OrderLine-Allocation\" style=\"stroke: #0FA3B1; stroke-width: 1.0; stroke-dasharray: 7.0,7.0;\"/><line style=\"stroke: #0FA3B1; stroke-width: 1.0;\" x1=\"360\" x2=\"368\" y1=\"91\" y2=\"85\"/><line style=\"stroke: #0FA3B1; stroke-width: 1.0;\" x1=\"360\" x2=\"368\" y1=\"91\" y2=\"97\"/><line style=\"stroke: #0FA3B1; stroke-width: 1.0;\" x1=\"360\" x2=\"368\" y1=\"91\" y2=\"91\"/><line style=\"stroke: #0FA3B1; stroke-width: 1.0;\" x1=\"358\" x2=\"358\" y1=\"87\" y2=\"95\"/><line style=\"stroke: #0FA3B1; stroke-width: 1.0;\" x1=\"298\" x2=\"298\" y1=\"95\" y2=\"87\"/><line style=\"stroke: #0FA3B1; stroke-width: 1.0;\" x1=\"301\" x2=\"301\" y1=\"95\" y2=\"87\"/><line style=\"stroke: #0FA3B1; stroke-width: 1.0;\" x1=\"302\" x2=\"294\" y1=\"91\" y2=\"91\"/><!--\n",
       "@startuml\n",
       "skinparam default {\n",
       "    FontName \"Segoe UI\"\n",
       "    FontSize 11\n",
       "    FontColor Black\n",
       "}\n",
       "\n",
       "skinparam class {\n",
       "    BackgroundColor #b5e2fa\n",
       "    BorderColor #0fa3b1\n",
       "}\n",
       "\n",
       "skinparam CircledCharacter {\n",
       "    FontColor Black\n",
       "}\n",
       "\n",
       "skinparam stereotypeC {\n",
       "    BackgroundColor #eddea4 \n",
       "}\n",
       "\n",
       "skinparam package {\n",
       "    FontName \"Segoe UI\"\n",
       "}\n",
       "\n",
       "skinparam sequencelifeline {\n",
       "    BorderColor #0fa3b1\n",
       "}\n",
       "skinparam arrow {\n",
       "    Color #0fa3b1\n",
       "}\n",
       "skinparam participant {\n",
       "    BackgroundColor #b5e2fa\n",
       "    BorderColor #0fa3b1\n",
       "}\n",
       "skinparam entity {\n",
       "    BackgroundColor #b5e2fa\n",
       "    BorderColor #0fa3b1\n",
       "}\n",
       "skinparam collections {\n",
       "    BackgroundColor #b5e2fa\n",
       "    BorderColor #0fa3b1\n",
       "}\n",
       "skinparam database {\n",
       "    BackgroundColor #b5e2fa\n",
       "    BorderColor #0fa3b1\n",
       "}\n",
       "skinparam boundary {\n",
       "    BackgroundColor #b5e2fa\n",
       "    BorderColor #0fa3b1\n",
       "}\n",
       "skinparam actor {\n",
       "    Color DeepSkyBlue\n",
       "    BackgroundColor #b5e2fa\n",
       "    BorderColor #0fa3b1\n",
       "}\n",
       "skinparam sequencegroupheader {\n",
       "    FontName \"Segoe UI\"\n",
       "}\n",
       "skinparam sequencebox {\n",
       "    BackgroundColor PowderBlue\n",
       "    BorderColor #0fa3b1\n",
       "}\n",
       "skinparam padding 4\n",
       "\n",
       "left to right direction\n",
       "\n",
       "entity Order {\n",
       "    * id: Integer\n",
       "}\n",
       "\n",
       "entity OrderLine {\n",
       "    * id: Integer\n",
       "    - -\n",
       "    * sku: String(255)\n",
       "    * qty: Integer\n",
       "    * order_id: Integer\n",
       "}\n",
       "\n",
       "entity Allocation {\n",
       "    *id: Integer\n",
       "    - -\n",
       "    * order_line_id: Integer\n",
       "}\n",
       "\n",
       "Order::id ||..|{ OrderLine::order_id\n",
       "OrderLine::id ||..|{ Allocation::order_line_id \n",
       "\n",
       "@enduml\n",
       "\n",
       "PlantUML version 1.2018.13(Tue Nov 27 02:11:51 KST 2018)\n",
       "(GPL source distribution)\n",
       "Java Runtime: OpenJDK Runtime Environment\n",
       "JVM: OpenJDK 64-Bit Server VM\n",
       "Java Version: 11.0.9.1+1-Ubuntu-0ubuntu1.20.04\n",
       "Operating System: Linux\n",
       "OS Version: 5.4.0-1032-azure\n",
       "Default Encoding: UTF-8\n",
       "Language: en\n",
       "Country: US\n",
       "--></g></svg>"
      ],
      "text/plain": [
       "<IPython.core.display.SVG object>"
      ]
     },
     "execution_count": 6,
     "metadata": {},
     "output_type": "execute_result"
    }
   ],
   "source": [
    "%%plantuml\n",
    "\n",
    "@startuml\n",
    "\n",
    "left to right direction\n",
    "\n",
    "entity Order {\n",
    "    * id: Integer\n",
    "}\n",
    "\n",
    "entity OrderLine {\n",
    "    * id: Integer\n",
    "    --\n",
    "    * sku: String(255)\n",
    "    * qty: Integer\n",
    "    * order_id: Integer\n",
    "}\n",
    "\n",
    "entity Allocation {\n",
    "    *id: Integer\n",
    "    --\n",
    "    * order_line_id: Integer\n",
    "}\n",
    "\n",
    "Order::id ||..|{ OrderLine::order_id\n",
    "OrderLine::id ||..|{ Allocation::order_line_id \n",
    "\n",
    "@enduml"
   ]
  },
  {
   "cell_type": "code",
   "execution_count": 7,
   "metadata": {},
   "outputs": [
    {
     "name": "stdout",
     "output_type": "stream",
     "text": [
      "CREATE TABLE \"order\" (\n",
      "\tid INTEGER NOT NULL, \n",
      "\tPRIMARY KEY (id)\n",
      ")\n",
      "\n",
      "CREATE TABLE order_line (\n",
      "\tid INTEGER NOT NULL, \n",
      "\tsku VARCHAR(255), \n",
      "\tqty INTEGER, \n",
      "\torder_id INTEGER, \n",
      "\tPRIMARY KEY (id), \n",
      "\tFOREIGN KEY(order_id) REFERENCES \"order\" (id)\n",
      ")\n",
      "\n",
      "CREATE TABLE allocation (\n",
      "\tid INTEGER NOT NULL, \n",
      "\torder_line_id INTEGER, \n",
      "\tPRIMARY KEY (id), \n",
      "\tFOREIGN KEY(order_line_id) REFERENCES order_line (id)\n",
      ")\n",
      "\n",
      "\n"
     ]
    }
   ],
   "source": [
    "from sqlalchemy import Column, ForeignKey, Integer, String\n",
    "from sqlalchemy.ext.declarative import declarative_base\n",
    "from sqlalchemy.orm import relationship\n",
    "\n",
    "Base = declarative_base()\n",
    "\n",
    "class Order(Base):\n",
    "    __tablename__ = 'order'\n",
    "    id = Column(Integer, primary_key=True, autoincrement=True)\n",
    "    order_lines = relationship('OrderLine')\n",
    "    \n",
    "class OrderLine(Base):\n",
    "    __tablename__ = 'order_line'\n",
    "    id = Column(Integer, primary_key=True, autoincrement=True)\n",
    "    sku = Column(String(255))\n",
    "    qty = Column(Integer)\n",
    "    order_id = Column(Integer, ForeignKey('order.id'))\n",
    "    order = relationship(Order)\n",
    "    allocations = relationship('Allocation')\n",
    "    \n",
    "class Allocation(Base):\n",
    "    __tablename__ = 'allocation'\n",
    "    id = Column(Integer, primary_key=True, autoincrement=True)\n",
    "    order_line_id = Column(Integer, ForeignKey('order_line.id'))\n",
    "\n",
    "########################################################################\n",
    "    \n",
    "import io, re, contextlib\n",
    "from sqlalchemy import create_engine\n",
    "\n",
    "out = io.StringIO()\n",
    "with contextlib.redirect_stdout(out):\n",
    "    engine = create_engine('sqlite://', echo=True) # temporary memory db\n",
    "    Base.metadata.create_all(engine)\n",
    "\n",
    "print(''.join(re.findall('CREATE TABLE.*?\\n\\n', out.getvalue(), re.DOTALL)))    "
   ]
  },
  {
   "cell_type": "markdown",
   "metadata": {},
   "source": [
    "### Inverting the Dependency: ORM Depends on Model\n",
    "\n",
    "Using SQLAlchemy's \"classical mapping\"."
   ]
  },
  {
   "cell_type": "code",
   "execution_count": 8,
   "metadata": {},
   "outputs": [],
   "source": [
    "from sqlalchemy import MetaData, Table, Column, ForeignKey, Integer, String, Date\n",
    "from sqlalchemy.orm import mapper\n",
    "from app import models\n",
    "\n",
    "metadata = MetaData()\n",
    "\n",
    "order_line = Table(\n",
    "    'order_line', metadata,\n",
    "    Column('id', Integer, primary_key=True, autoincrement=True),\n",
    "    Column('sku', String(255)),\n",
    "    Column('qty', Integer, nullable=False),\n",
    "    Column('orderid', String(255)),\n",
    "    extend_existing=True\n",
    ")\n",
    "order_line_mapper = mapper(models.OrderLine, order_line)"
   ]
  },
  {
   "cell_type": "code",
   "execution_count": 9,
   "metadata": {},
   "outputs": [],
   "source": [
    "from typing import Callable\n",
    "from contextlib import contextmanager, AbstractContextManager\n",
    "\n",
    "from sqlalchemy import create_engine\n",
    "from sqlalchemy.orm import sessionmaker\n",
    "from sqlalchemy.orm.session import Session\n",
    "\n",
    "engine = create_engine('sqlite://') # temporary memory db\n",
    "metadata.create_all(engine)\n",
    "\n",
    "SqliteSessionMaker = sessionmaker(engine)\n",
    "SessionFactory = AbstractContextManager[Session]\n",
    "\n",
    "@contextmanager\n",
    "def session() -> SessionFactory:\n",
    "    '''`with session` 블록을 이용한 자동 리소스 반환을 구현합니다.'''\n",
    "    session = SqliteSessionMaker()\n",
    "    try:\n",
    "        yield session\n",
    "    finally:\n",
    "        session.close()"
   ]
  },
  {
   "cell_type": "code",
   "execution_count": 10,
   "metadata": {},
   "outputs": [
    {
     "name": "stdout",
     "output_type": "stream",
     "text": [
      "✅ \u001b[95mtest_orderline_mapper_can_load_lines\u001b[0m\n"
     ]
    }
   ],
   "source": [
    "from app import mytest\n",
    "\n",
    "mytest.init(__name__)\n",
    "\n",
    "@mytest.unit\n",
    "def test_orderline_mapper_can_load_lines(session):\n",
    "    with session as db:\n",
    "        db.execute('''\n",
    "        INSERT INTO order_line (orderid, sku, qty) VALUES\n",
    "        ('order1', 'RED-CHAIR', 12),\n",
    "        ('order2', 'RED-TABLE', 13),\n",
    "        ('order3', 'BLUE-LIPSTICK', 14)\n",
    "        ''')\n",
    "        expected = [\n",
    "            models.OrderLine('order1', 'RED-CHAIR', 12),\n",
    "            models.OrderLine('order2', 'RED-TABLE', 13),\n",
    "            models.OrderLine('order3', 'BLUE-LIPSTICK', 14),\n",
    "        ]\n",
    "        assert expected == db.query(models.OrderLine).all()"
   ]
  },
  {
   "cell_type": "code",
   "execution_count": 11,
   "metadata": {},
   "outputs": [
    {
     "name": "stdout",
     "output_type": "stream",
     "text": [
      "✅ \u001b[95mtest_orderline_mapper_can_save_lines\u001b[0m\n"
     ]
    }
   ],
   "source": [
    "@mytest.unit\n",
    "def test_orderline_mapper_can_save_lines(session):\n",
    "    with session as db:\n",
    "        new_line = models.OrderLine('order1', 'DECORATIVE-WIDGET', 12)\n",
    "        db.add(new_line)\n",
    "        db.flush()\n",
    "        \n",
    "        rows = list(db.execute('SELECT orderid, sku, qty FROM order_line'))\n",
    "        assert [('order1', 'DECORATIVE-WIDGET', 12)] == rows"
   ]
  },
  {
   "cell_type": "markdown",
   "metadata": {},
   "source": [
    "## Introducing the Repository Pattern\n",
    "\n",
    "- An abstraction over persistent storage. \n",
    "- Hides details of data access by *pretending that all of data is in memory*."
   ]
  },
  {
   "cell_type": "code",
   "execution_count": 12,
   "metadata": {
    "jupyter": {
     "source_hidden": true
    },
    "tags": [
     "hidden"
    ]
   },
   "outputs": [
    {
     "data": {
      "image/svg+xml": [
       "<svg xmlns=\"http://www.w3.org/2000/svg\" width=\"460\" height=\"266\" shape-rendering=\"geometricPrecision\" version=\"1.0\">\n",
       "  <defs>\n",
       "    <filter id=\"f2\" x=\"0\" y=\"0\" width=\"200%\" height=\"200%\">\n",
       "      <feOffset result=\"offOut\" in=\"SourceGraphic\" dx=\"5\" dy=\"5\"/>\n",
       "      <feGaussianBlur result=\"blurOut\" in=\"offOut\" stdDeviation=\"3\"/>\n",
       "      <feBlend in=\"SourceGraphic\" in2=\"blurOut\" mode=\"normal\"/>\n",
       "    </filter>\n",
       "  </defs>\n",
       "  <g stroke-width=\"1\" stroke-linecap=\"square\" stroke-linejoin=\"round\">\n",
       "    <rect x=\"0\" y=\"0\" width=\"460\" height=\"266\" style=\"fill: #ffffff\"/>\n",
       "    <path stroke=\"gray\" fill=\"gray\" filter=\"url(#f2)\" d=\"M25.0 35.0 L25.0 63.0 L435.0 63.0 L435.0 35.0 z\"/>\n",
       "    <path stroke=\"gray\" fill=\"gray\" filter=\"url(#f2)\" d=\"M25.0 133.0 L25.0 161.0 L435.0 161.0 L435.0 133.0 z\"/>\n",
       "    <path stroke=\"gray\" fill=\"gray\" filter=\"url(#f2)\" d=\"M435.0 203.0 L435.0 231.0 L25.0 231.0 L25.0 203.0 z\"/>\n",
       "    <path stroke=\"gray\" fill=\"gray\" filter=\"url(#f2)\" d=\"M255.0 112.0 Q255.0 119.0 260.0 119.0 L420.0 119.0 Q425.0 119.0 425.0 112.0 L425.0 84.0 L425.0 84.0 Q425.0 77.0 420.0 77.0 L260.0 77.0 L260.0 77.0 Q255.0 77.0 255.0 84.0 L255.0 112.0 z\"/>\n",
       "    <path stroke=\"#000000\" stroke-width=\"1.000000\" stroke-linecap=\"round\" stroke-linejoin=\"round\" fill=\"white\" d=\"M25.0 35.0 L25.0 63.0 L435.0 63.0 L435.0 35.0 z\"/>\n",
       "    <path stroke=\"#000000\" stroke-width=\"1.000000\" stroke-linecap=\"round\" stroke-linejoin=\"round\" fill=\"white\" d=\"M25.0 133.0 L25.0 161.0 L435.0 161.0 L435.0 133.0 z\"/>\n",
       "    <path stroke=\"#000000\" stroke-width=\"1.000000\" stroke-linecap=\"round\" stroke-linejoin=\"round\" fill=\"white\" d=\"M435.0 203.0 L435.0 231.0 L25.0 231.0 L25.0 203.0 z\"/>\n",
       "    <path stroke=\"#000000\" stroke-width=\"1.000000\" stroke-linecap=\"round\" stroke-linejoin=\"round\" fill=\"white\" d=\"M255.0 112.0 Q255.0 119.0 260.0 119.0 L420.0 119.0 Q425.0 119.0 425.0 112.0 L425.0 84.0 L425.0 84.0 Q425.0 77.0 420.0 77.0 L260.0 77.0 L260.0 77.0 Q255.0 77.0 255.0 84.0 L255.0 112.0 z\"/>\n",
       "    <path stroke=\"none\" stroke-width=\"1.000000\" stroke-linecap=\"round\" stroke-linejoin=\"round\" fill=\"#000000\" d=\"M185.0 70.0 L180.0 84.0 L190.0 84.0 z\"/>\n",
       "    <path stroke=\"none\" stroke-width=\"1.000000\" stroke-linecap=\"round\" stroke-linejoin=\"round\" fill=\"#000000\" d=\"M170.0 112.0 L175.0 126.0 L180.0 112.0 z\"/>\n",
       "    <path stroke=\"none\" stroke-width=\"1.000000\" stroke-linecap=\"round\" stroke-linejoin=\"round\" fill=\"#000000\" d=\"M180.0 182.0 L185.0 196.0 L190.0 182.0 z\"/>\n",
       "    <path stroke=\"#000000\" stroke-width=\"1.000000\" stroke-linecap=\"round\" stroke-linejoin=\"round\" fill=\"none\" d=\"M185.0 168.0 L185.0 189.0 \"/>\n",
       "    <path stroke=\"#000000\" stroke-width=\"1.000000\" stroke-linecap=\"round\" stroke-linejoin=\"round\" fill=\"none\" d=\"M175.0 77.0 L175.0 119.0 \"/>\n",
       "    <path stroke=\"#000000\" stroke-width=\"1.000000\" stroke-linecap=\"round\" stroke-linejoin=\"round\" fill=\"none\" d=\"M185.0 77.0 L185.0 119.0 \"/>\n",
       "    <path stroke=\"#000000\" stroke-width=\"1.000000\" stroke-linecap=\"round\" stroke-linejoin=\"round\" fill=\"none\" d=\"M195.0 91.0 L245.0 91.0 \"/>\n",
       "    <text x=\"155\" y=\"54\" font-family=\"Sans\" font-weight=\"bold\" font-size=\"15\" stroke=\"none\" fill=\"#000000\"><![CDATA[Application Layer]]></text>\n",
       "    <text x=\"186\" y=\"152\" font-family=\"Sans\" font-weight=\"bold\" font-size=\"15\" stroke=\"none\" fill=\"#000000\"><![CDATA[Repository]]></text>\n",
       "    <text x=\"175\" y=\"222\" font-family=\"Sans\" font-weight=\"bold\" font-size=\"15\" stroke=\"none\" fill=\"#000000\"><![CDATA[Database Layer]]></text>\n",
       "    <text x=\"283\" y=\"96\" font-family=\"Sans\" font-weight=\"bold\" font-size=\"15\" stroke=\"none\" fill=\"#000000\"><![CDATA[Domain Model]]></text>\n",
       "    <text x=\"314\" y=\"110\" font-family=\"Sans\" font-weight=\"bold\" font-size=\"15\" stroke=\"none\" fill=\"#000000\"><![CDATA[Objects]]></text>\n",
       "  </g>\n",
       "</svg>"
      ],
      "text/plain": [
       "<IPython.core.display.SVG object>"
      ]
     },
     "execution_count": 12,
     "metadata": {},
     "output_type": "execute_result"
    }
   ],
   "source": [
    "%%ditaa repository-pattern\n",
    "+----------------------------------------+\n",
    "|           Application Layer            |\n",
    "+----------------------------------------+\n",
    "               |^      /----------------\\\n",
    "               ||------|  Domain Model  |\n",
    "               ||      |     Objects    |\n",
    "               V|      \\----------------/\n",
    "+----------------------------------------+\n",
    "|               Repository               |\n",
    "+----------------------------------------+\n",
    "                |\n",
    "                V\n",
    "+----------------------------------------+\n",
    "|              Database Layer            |\n",
    "+----------------------------------------+        "
   ]
  },
  {
   "cell_type": "markdown",
   "metadata": {},
   "source": [
    "### The Repository in the Abstract"
   ]
  },
  {
   "cell_type": "code",
   "execution_count": 13,
   "metadata": {},
   "outputs": [],
   "source": [
    "from typing import Protocol, Iterable, Set\n",
    "import abc\n",
    "\n",
    "class AbstractRepository(abc.ABC):\n",
    "\n",
    "    @abc.abstractmethod\n",
    "    def add(self, batch: models.Batch):\n",
    "        raise NotImplementedError\n",
    "\n",
    "    @abc.abstractmethod\n",
    "    def get(self, reference) -> models.Batch:\n",
    "        raise NotImplementedError\n",
    "        \n",
    "    @abc.abstractmethod\n",
    "    def clear(self) -> None:\n",
    "        raise NotImplementedError\n",
    "\n",
    "# Alternative approache: using `Protocol`\n",
    "class RepositoryProtocol(Protocol):\n",
    "    def add(self, batch: models.Batch) -> None:\n",
    "        pass\n",
    "\n",
    "    def get(self, reference) -> models.Batch:\n",
    "        pass\n",
    "    \n",
    "    def clear(self) -> None:\n",
    "        pass"
   ]
  },
  {
   "cell_type": "markdown",
   "metadata": {},
   "source": [
    "### What is the Trade-Off?\n",
    "\n",
    "Introducing an extra layer of abstraction, \n",
    "- Will reduce complexity overall\n",
    "- But add complexity locally"
   ]
  },
  {
   "cell_type": "markdown",
   "metadata": {},
   "source": [
    "#### Repository test for saving an object"
   ]
  },
  {
   "cell_type": "code",
   "execution_count": 14,
   "metadata": {},
   "outputs": [],
   "source": [
    "from typing import Optional, Callable\n",
    "\n",
    "class SqlAlchemyRepository(AbstractRepository):\n",
    "    def __init__(self, session: Callable[[], SessionFactory]):\n",
    "        self.session = session\n",
    "    \n",
    "    def add(self, batch: models.Batch):\n",
    "        with self.session() as db:\n",
    "            db.add(batch)\n",
    "            db.commit()\n",
    "\n",
    "    def get(self, reference) -> Optional[models.Batch]:\n",
    "        with self.session() as db:\n",
    "            db.query(Batch).filter_by(reference=reference).first()\n",
    "    \n",
    "    def clear(self):\n",
    "        with self.session() as db:\n",
    "            db.execute('DELETE FROM batch')\n",
    "            db.execute('DELETE FROM order_line')\n",
    "            db.commit()"
   ]
  },
  {
   "cell_type": "code",
   "execution_count": 15,
   "metadata": {},
   "outputs": [],
   "source": [
    "def repo():\n",
    "    return SqlAlchemyRepository(session)"
   ]
  },
  {
   "cell_type": "code",
   "execution_count": 16,
   "metadata": {},
   "outputs": [],
   "source": [
    "batch = Table(\n",
    "    'batch', metadata,\n",
    "    Column('id', Integer, primary_key=True, autoincrement=True),\n",
    "    Column('reference', String(255), unique=True),\n",
    "    Column('_purchased_quantity', Integer),\n",
    "    Column('sku', String(255)),\n",
    "    Column('eta', Date, nullable=True),\n",
    "    extend_existing=True\n",
    ")\n",
    "\n",
    "batch_mapper = mapper(models.Batch, batch)"
   ]
  },
  {
   "cell_type": "code",
   "execution_count": 16,
   "metadata": {},
   "outputs": [
    {
     "name": "stdout",
     "output_type": "stream",
     "text": [
      "✅ \u001b[95mtest_repository_can_save_a_batch\u001b[0m\n"
     ]
    }
   ],
   "source": [
    "@mytest.unit\n",
    "def test_repository_can_save_a_batch(repo, session):\n",
    "    batch = models.Batch(\"batch1\", \"RUSTY-SOAPDISH\", 100, eta=None)\n",
    "    repo.add(batch)\n",
    "    with session as db:\n",
    "        rows = list(db.execute(\n",
    "            'SELECT reference, sku, _purchased_quantity, eta FROM \"batch\"'\n",
    "        ))\n",
    "        assert rows == [(\"batch1\", \"RUSTY-SOAPDISH\", 100, None)]\n",
    "    repo.clear()"
   ]
  },
  {
   "cell_type": "code",
   "execution_count": null,
   "metadata": {},
   "outputs": [],
   "source": [
    "def insert_order_line(db):\n",
    "    db.execute(\n",
    "        'INSERT INTO order_lines (orderid, sku, qty)'\n",
    "        ' VALUES (\"order1\", \"GENERIC-SOFA\", 12)'\n",
    "    )\n",
    "    [[orderline_id]] = session.execute(\n",
    "        'SELECT id FROM order_lines WHERE orderid=:orderid AND sku=:sku',\n",
    "        dict(orderid=\"order1\", sku=\"GENERIC-SOFA\")\n",
    "    )\n",
    "    return orderline_id\n",
    "\n",
    "\n",
    "def insert_batch(db, reference):\n",
    "    db.execute(\n",
    "        'INSERT INTO batch (reference, sku, qty)'\n",
    "        f' VALUES (\"{reference}\", \"GENERIC-SOFA\", 12)'\n",
    "    )\n",
    "    [[batch_id]] = session.execute(\n",
    "        'SELECT id FROM batch WHERE reference=:reference',\n",
    "        dict(reference=reference)\n",
    "    )\n",
    "    return batch_id\n",
    "\n",
    "\n",
    "def insert_allocation(db, reference):\n",
    "    db.execute(\n",
    "        'INSERT INTO batch(reference, sku, qty)'\n",
    "        f' VALUES (\"{reference}\", \"GENERIC-SOFA\", 12)'\n",
    "    )\n",
    "    [[batch_id]] = session.execute(\n",
    "        'SELECT id FROM batch WHERE reference=:reference',\n",
    "        dict(reference=reference)\n",
    "    )\n",
    "    return batch_id\n",
    "\n",
    "@mytest.unit\n",
    "def test_repository_can_retrieve_a_batch_with_allocations(repo, session):\n",
    "    with session as db:\n",
    "        orderline_id = insert_order_line(db)\n",
    "        batch1_id = insert_batch(db, \"batch1\")\n",
    "        insert_batch(session, \"batch2\")\n",
    "        insert_allocation(session, orderline_id, batch1_id)\n",
    "\n",
    "    retrieved = repo.get(\"batch1\")\n",
    "    expected = model.Batch(\"batch1\", \"GENERIC-SOFA\", 100, eta=None)\n",
    "    \n",
    "    assert retrieved == expected  # Batch.__eq__ only compares reference  3\n",
    "    assert retrieved.sku == expected.sku\n",
    "    assert retrieved._purchased_quantity == expected._purchased_quantity\n",
    "    assert retrieved._allocations == {\n",
    "        model.OrderLine(\"order1\", \"GENERIC-SOFA\", 12),\n",
    "    }"
   ]
  },
  {
   "cell_type": "markdown",
   "metadata": {},
   "source": [
    "## Building a Fake Repository for Tests is Now Trivial!"
   ]
  },
  {
   "cell_type": "markdown",
   "metadata": {},
   "source": [
    "## What is a Port and What is an Adapter, in Python?"
   ]
  },
  {
   "cell_type": "markdown",
   "metadata": {},
   "source": [
    "## Wrap-Up"
   ]
  },
  {
   "cell_type": "code",
   "execution_count": null,
   "metadata": {},
   "outputs": [],
   "source": []
  }
 ],
 "metadata": {
  "kernelspec": {
   "display_name": "Python 3",
   "language": "python",
   "name": "python3"
  },
  "language_info": {
   "codemirror_mode": {
    "name": "ipython",
    "version": 3
   },
   "file_extension": ".py",
   "mimetype": "text/x-python",
   "name": "python",
   "nbconvert_exporter": "python",
   "pygments_lexer": "ipython3",
   "version": "3.9.1"
  }
 },
 "nbformat": 4,
 "nbformat_minor": 4
}
