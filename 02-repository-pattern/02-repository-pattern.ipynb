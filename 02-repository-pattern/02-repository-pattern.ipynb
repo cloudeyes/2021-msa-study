{
 "cells": [
  {
   "cell_type": "markdown",
   "metadata": {},
   "source": [
    "<center style=\"font-size: 16px; font-weight: normal\">\n",
    "  `21 Microservices Architecture Patterns Study</center>\n",
    "\n",
    "<center><h1>Chapter 2. Repository Pattern</h1></center>\n",
    "\n",
    "<center>\n",
    "  Joseph Kim &lt;cloudeyes@gmail.com&gt;<br/>\n",
    "  Dec 23. 2020<br/>\n",
    "</center>\n",
    "\n",
    "<center>\n",
    "  <img src=\"https://images-na.ssl-images-amazon.com/images/I/51-q9CWNBHL._SX379_BO1,204,203,200_.jpg\" style=\"width: 200px\">\n",
    "</center>\n",
    "\n",
    "<center>\n",
    "  <a href=\"https://github.com/cloudeyes/2021-msa-study/blob/main/02-repository-pattern/02-repository-pattern.ipynb\">Download Jupyter Notebook</a>\n",
    "</center>\n",
    "\n",
    "\n"
   ]
  },
  {
   "cell_type": "markdown",
   "metadata": {},
   "source": [
    "## Prerequisites"
   ]
  },
  {
   "cell_type": "markdown",
   "metadata": {},
   "source": [
    "### The folder structure"
   ]
  },
  {
   "cell_type": "code",
   "execution_count": 1,
   "metadata": {},
   "outputs": [
    {
     "name": "stdout",
     "output_type": "stream",
     "text": [
      "\u001b[01;34m.\u001b[00m\n",
      "├── 02-repository-pattern.ipynb\n",
      "├── \u001b[01;34mapp\u001b[00m\n",
      "│   ├── __init__.py\n",
      "│   ├── models.py\n",
      "│   ├── services.py\n",
      "│   └── \u001b[01;34mtests\u001b[00m\n",
      "│       ├── __init__.py\n",
      "│       └── test_models.py\n",
      "└── requirements.txt\n",
      "\n",
      "2 directories, 7 files\n"
     ]
    }
   ],
   "source": [
    "!tree -I '__pycache__|build|images|plantuml*|exports'"
   ]
  },
  {
   "cell_type": "markdown",
   "metadata": {},
   "source": [
    "### Install requirements "
   ]
  },
  {
   "cell_type": "code",
   "execution_count": 2,
   "metadata": {},
   "outputs": [
    {
     "name": "stdout",
     "output_type": "stream",
     "text": [
      "sqlalchemy\n",
      "pytest\n",
      "git+https://github.com/AllanDaemon/mypy.git@0edf1233672117c4555759c5a91461a502ddce5d\n"
     ]
    }
   ],
   "source": [
    "!cat ./requirements.txt"
   ]
  },
  {
   "cell_type": "code",
   "execution_count": 3,
   "metadata": {
    "collapsed": true,
    "jupyter": {
     "outputs_hidden": true
    },
    "tags": [
     "hidden-output"
    ]
   },
   "outputs": [
    {
     "name": "stdout",
     "output_type": "stream",
     "text": [
      "Requirement already satisfied: sqlalchemy in /home/ykkim/conda/envs/lab/lib/python3.9/site-packages (from -r ./requirements.txt (line 1)) (1.3.22)\n",
      "Requirement already satisfied: pytest in /home/ykkim/conda/envs/lab/lib/python3.9/site-packages (from -r ./requirements.txt (line 2)) (6.1.2)\n",
      "Collecting git+https://github.com/AllanDaemon/mypy.git@0edf1233672117c4555759c5a91461a502ddce5d (from -r ./requirements.txt (line 3))\n",
      "  Cloning https://github.com/AllanDaemon/mypy.git (to revision 0edf1233672117c4555759c5a91461a502ddce5d) to /tmp/pip-req-build-hwbyk86i\n",
      "  Installing build dependencies ... \u001b[?25ldone\n",
      "\u001b[?25h  Getting requirements to build wheel ... \u001b[?25ldone\n",
      "\u001b[?25h    Preparing wheel metadata ... \u001b[?25ldone\n",
      "\u001b[?25hRequirement already satisfied: mypy-extensions<0.5.0,>=0.4.3 in /home/ykkim/conda/envs/lab/lib/python3.9/site-packages (from mypy==0.800+dev.0edf1233672117c4555759c5a91461a502ddce5d->-r ./requirements.txt (line 3)) (0.4.3)\n",
      "Requirement already satisfied: typing-extensions>=3.7.4 in /home/ykkim/conda/envs/lab/lib/python3.9/site-packages (from mypy==0.800+dev.0edf1233672117c4555759c5a91461a502ddce5d->-r ./requirements.txt (line 3)) (3.7.4.3)\n",
      "Requirement already satisfied: typed-ast<1.5.0,>=1.4.0 in /home/ykkim/conda/envs/lab/lib/python3.9/site-packages (from mypy==0.800+dev.0edf1233672117c4555759c5a91461a502ddce5d->-r ./requirements.txt (line 3)) (1.4.1)\n",
      "Requirement already satisfied: attrs>=17.4.0 in /home/ykkim/conda/envs/lab/lib/python3.9/site-packages (from pytest->-r ./requirements.txt (line 2)) (20.3.0)\n",
      "Requirement already satisfied: iniconfig in /home/ykkim/conda/envs/lab/lib/python3.9/site-packages (from pytest->-r ./requirements.txt (line 2)) (1.1.1)\n",
      "Requirement already satisfied: packaging in /home/ykkim/conda/envs/lab/lib/python3.9/site-packages (from pytest->-r ./requirements.txt (line 2)) (20.7)\n",
      "Requirement already satisfied: pluggy<1.0,>=0.12 in /home/ykkim/conda/envs/lab/lib/python3.9/site-packages (from pytest->-r ./requirements.txt (line 2)) (0.13.1)\n",
      "Requirement already satisfied: py>=1.8.2 in /home/ykkim/conda/envs/lab/lib/python3.9/site-packages (from pytest->-r ./requirements.txt (line 2)) (1.9.0)\n",
      "Requirement already satisfied: toml in /home/ykkim/conda/envs/lab/lib/python3.9/site-packages (from pytest->-r ./requirements.txt (line 2)) (0.10.2)\n",
      "Requirement already satisfied: pyparsing>=2.0.2 in /home/ykkim/conda/envs/lab/lib/python3.9/site-packages (from packaging->pytest->-r ./requirements.txt (line 2)) (2.4.7)\n"
     ]
    }
   ],
   "source": [
    "!pip install -r ./requirements.txt"
   ]
  },
  {
   "cell_type": "markdown",
   "metadata": {},
   "source": [
    "### Tests"
   ]
  },
  {
   "cell_type": "code",
   "execution_count": 4,
   "metadata": {},
   "outputs": [
    {
     "name": "stdout",
     "output_type": "stream",
     "text": [
      "\u001b[1m============================= test session starts ==============================\u001b[0m\n",
      "platform linux -- Python 3.9.1, pytest-6.1.2, py-1.9.0, pluggy-0.13.1\n",
      "rootdir: /home/ykkim/notebooks/2021-msa-study/02-repository-pattern\n",
      "collected 12 items                                                             \u001b[0m\n",
      "\n",
      "app/tests/test_models.py \u001b[32m.\u001b[0m\u001b[32m.\u001b[0m\u001b[32m.\u001b[0m\u001b[32m.\u001b[0m\u001b[32m.\u001b[0m\u001b[32m.\u001b[0m\u001b[32m.\u001b[0m\u001b[32m.\u001b[0m\u001b[32m.\u001b[0m\u001b[32m.\u001b[0m\u001b[32m.\u001b[0m\u001b[32m.\u001b[0m\u001b[32m                                    [100%]\u001b[0m\n",
      "\n",
      "\u001b[32m============================== \u001b[32m\u001b[1m12 passed\u001b[0m\u001b[32m in 0.03s\u001b[0m\u001b[32m ==============================\u001b[0m\n"
     ]
    }
   ],
   "source": [
    "!pytest"
   ]
  },
  {
   "cell_type": "code",
   "execution_count": 5,
   "metadata": {},
   "outputs": [
    {
     "name": "stdout",
     "output_type": "stream",
     "text": [
      "\u001b[1m\u001b[32mSuccess: no issues found in 5 source files\u001b[m\n"
     ]
    }
   ],
   "source": [
    "!mypy --strict -p app"
   ]
  },
  {
   "cell_type": "markdown",
   "metadata": {},
   "source": [
    "## Persisting Our Domain Model"
   ]
  },
  {
   "cell_type": "markdown",
   "metadata": {},
   "source": [
    "## Reminder: Our Model"
   ]
  },
  {
   "cell_type": "code",
   "execution_count": 6,
   "metadata": {
    "jupyter": {
     "source_hidden": true
    },
    "tags": [
     "hidden-input"
    ]
   },
   "outputs": [
    {
     "data": {
      "image/svg+xml": [
       "<svg xmlns=\"http://www.w3.org/2000/svg\" xmlns:xlink=\"http://www.w3.org/1999/xlink\" contentScriptType=\"application/ecmascript\" contentStyleType=\"text/css\" height=\"243px\" preserveAspectRatio=\"none\" style=\"width:737px;height:243px;\" version=\"1.1\" viewBox=\"0 0 737 243\" width=\"737px\" zoomAndPan=\"magnify\"><defs><filter height=\"300%\" id=\"f8ttjypusuld1\" width=\"300%\" x=\"-1\" y=\"-1\"><feGaussianBlur result=\"blurOut\" stdDeviation=\"2.0\"/><feColorMatrix in=\"blurOut\" result=\"blurOut2\" type=\"matrix\" values=\"0 0 0 0 0 0 0 0 0 0 0 0 0 0 0 0 0 0 .4 0\"/><feOffset dx=\"4.0\" dy=\"4.0\" in=\"blurOut2\" result=\"blurOut3\"/><feBlend in=\"SourceGraphic\" in2=\"blurOut3\" mode=\"normal\"/></filter></defs><g><!--class Order--><rect fill=\"#B5E2FA\" filter=\"url(#f8ttjypusuld1)\" height=\"71.2617\" id=\"Order\" style=\"stroke: #0FA3B1; stroke-width: 1.5;\" width=\"99\" x=\"173\" y=\"18.5\"/><ellipse cx=\"200.85\" cy=\"34.8154\" fill=\"#EDDEA4\" rx=\"9\" ry=\"9\" style=\"stroke: #0FA3B1; stroke-width: 1.0;\"/><path d=\"M202.1625,38.5811 Q201.7875,38.7842 201.3656,38.8779 Q200.9594,38.9717 200.4906,38.9717 Q198.8813,38.9717 198.0219,37.9092 Q197.1625,36.8311 197.1625,34.8154 Q197.1625,32.7842 198.0219,31.7217 Q198.8813,30.6436 200.4906,30.6436 Q200.9594,30.6436 201.3656,30.7529 Q201.7875,30.8467 202.1625,31.0342 L202.1625,32.7998 Q201.7406,32.4248 201.35,32.2529 Q200.975,32.0811 200.5688,32.0811 Q199.7094,32.0811 199.2563,32.7686 Q198.8188,33.4561 198.8188,34.8154 Q198.8188,36.1748 199.2563,36.8623 Q199.7094,37.5498 200.5688,37.5498 Q200.975,37.5498 201.35,37.3779 Q201.7406,37.2061 202.1625,36.8154 L202.1625,38.5811 Z \"/><text fill=\"#000000\" font-family=\"Segoe UI\" font-size=\"11\" lengthAdjust=\"spacingAndGlyphs\" textLength=\"30\" x=\"220.15\" y=\"39.3701\">Order</text><line style=\"stroke: #0FA3B1; stroke-width: 1.5;\" x1=\"174\" x2=\"271\" y1=\"51.1309\" y2=\"51.1309\"/><ellipse cx=\"184\" cy=\"67.9463\" fill=\"#000000\" rx=\"3\" ry=\"3\" style=\"stroke: #000000; stroke-width: 1.0;\"/><text fill=\"#000000\" font-family=\"Segoe UI\" font-size=\"11\" lengthAdjust=\"spacingAndGlyphs\" textLength=\"67\" x=\"195\" y=\"71.001\">reference: str</text><line style=\"stroke: #0FA3B1; stroke-width: 1.5;\" x1=\"174\" x2=\"271\" y1=\"81.7617\" y2=\"81.7617\"/><!--class OrderLine--><rect fill=\"#B5E2FA\" filter=\"url(#f8ttjypusuld1)\" height=\"139.1543\" id=\"OrderLine\" style=\"stroke: #0FA3B1; stroke-width: 1.5;\" width=\"98\" x=\"628\" y=\"93\"/><ellipse cx=\"641\" cy=\"120.6309\" fill=\"#EDDEA4\" rx=\"9\" ry=\"9\" style=\"stroke: #0FA3B1; stroke-width: 1.0;\"/><path d=\"M642.3125,124.3965 Q641.9375,124.5996 641.5156,124.6934 Q641.1094,124.7871 640.6406,124.7871 Q639.0313,124.7871 638.1719,123.7246 Q637.3125,122.6465 637.3125,120.6309 Q637.3125,118.5996 638.1719,117.5371 Q639.0313,116.459 640.6406,116.459 Q641.1094,116.459 641.5156,116.5684 Q641.9375,116.6621 642.3125,116.8496 L642.3125,118.6152 Q641.8906,118.2402 641.5,118.0684 Q641.125,117.8965 640.7188,117.8965 Q639.8594,117.8965 639.4063,118.584 Q638.9688,119.2715 638.9688,120.6309 Q638.9688,121.9902 639.4063,122.6777 Q639.8594,123.3652 640.7188,123.3652 Q641.125,123.3652 641.5,123.1934 Q641.8906,123.0215 642.3125,122.6309 L642.3125,124.3965 Z \"/><text fill=\"#000000\" font-family=\"Segoe UI\" font-size=\"11\" font-style=\"italic\" lengthAdjust=\"spacingAndGlyphs\" textLength=\"66\" x=\"655\" y=\"113.8701\">«valueobject»</text><text fill=\"#000000\" font-family=\"Segoe UI\" font-size=\"11\" lengthAdjust=\"spacingAndGlyphs\" textLength=\"51\" x=\"662.5\" y=\"136.501\">OrderLine</text><line style=\"stroke: #0FA3B1; stroke-width: 1.5;\" x1=\"629\" x2=\"725\" y1=\"148.2617\" y2=\"148.2617\"/><ellipse cx=\"639\" cy=\"165.0771\" fill=\"#000000\" rx=\"3\" ry=\"3\" style=\"stroke: #000000; stroke-width: 1.0;\"/><text fill=\"#000000\" font-family=\"Segoe UI\" font-size=\"11\" lengthAdjust=\"spacingAndGlyphs\" textLength=\"57\" x=\"650\" y=\"168.1318\">orderid: str</text><ellipse cx=\"639\" cy=\"187.708\" fill=\"#000000\" rx=\"3\" ry=\"3\" style=\"stroke: #000000; stroke-width: 1.0;\"/><text fill=\"#000000\" font-family=\"Segoe UI\" font-size=\"11\" lengthAdjust=\"spacingAndGlyphs\" textLength=\"37\" x=\"650\" y=\"190.7627\">sku: str</text><ellipse cx=\"639\" cy=\"210.3389\" fill=\"#000000\" rx=\"3\" ry=\"3\" style=\"stroke: #000000; stroke-width: 1.0;\"/><text fill=\"#000000\" font-family=\"Segoe UI\" font-size=\"11\" lengthAdjust=\"spacingAndGlyphs\" textLength=\"36\" x=\"650\" y=\"213.3936\">qty: int</text><line style=\"stroke: #0FA3B1; stroke-width: 1.5;\" x1=\"629\" x2=\"725\" y1=\"224.1543\" y2=\"224.1543\"/><!--class Batch--><rect fill=\"#B5E2FA\" filter=\"url(#f8ttjypusuld1)\" height=\"161.7852\" id=\"Batch\" style=\"stroke: #0FA3B1; stroke-width: 1.5;\" width=\"147\" x=\"412\" y=\"18\"/><ellipse cx=\"463.75\" cy=\"34.3154\" fill=\"#EDDEA4\" rx=\"9\" ry=\"9\" style=\"stroke: #0FA3B1; stroke-width: 1.0;\"/><path d=\"M465.0625,38.0811 Q464.6875,38.2842 464.2656,38.3779 Q463.8594,38.4717 463.3906,38.4717 Q461.7813,38.4717 460.9219,37.4092 Q460.0625,36.3311 460.0625,34.3154 Q460.0625,32.2842 460.9219,31.2217 Q461.7813,30.1436 463.3906,30.1436 Q463.8594,30.1436 464.2656,30.2529 Q464.6875,30.3467 465.0625,30.5342 L465.0625,32.2998 Q464.6406,31.9248 464.25,31.7529 Q463.875,31.5811 463.4688,31.5811 Q462.6094,31.5811 462.1563,32.2686 Q461.7188,32.9561 461.7188,34.3154 Q461.7188,35.6748 462.1563,36.3623 Q462.6094,37.0498 463.4688,37.0498 Q463.875,37.0498 464.25,36.8779 Q464.6406,36.7061 465.0625,36.3154 L465.0625,38.0811 Z \"/><text fill=\"#000000\" font-family=\"Segoe UI\" font-size=\"11\" lengthAdjust=\"spacingAndGlyphs\" textLength=\"28\" x=\"485.25\" y=\"38.8701\">Batch</text><line style=\"stroke: #0FA3B1; stroke-width: 1.5;\" x1=\"413\" x2=\"558\" y1=\"50.6309\" y2=\"50.6309\"/><ellipse cx=\"423\" cy=\"67.4463\" fill=\"#000000\" rx=\"3\" ry=\"3\" style=\"stroke: #000000; stroke-width: 1.0;\"/><text fill=\"#000000\" font-family=\"Segoe UI\" font-size=\"11\" lengthAdjust=\"spacingAndGlyphs\" textLength=\"67\" x=\"434\" y=\"70.501\">reference: str</text><text fill=\"#000000\" font-family=\"Segoe UI\" font-size=\"11\" lengthAdjust=\"spacingAndGlyphs\" textLength=\"37\" x=\"434\" y=\"93.1318\">sku: str</text><text fill=\"#000000\" font-family=\"Segoe UI\" font-size=\"11\" lengthAdjust=\"spacingAndGlyphs\" textLength=\"45\" x=\"434\" y=\"115.7627\">eta: date</text><line style=\"stroke: #0FA3B1; stroke-width: 1.0;\" x1=\"413\" x2=\"558\" y1=\"126.5234\" y2=\"126.5234\"/><text fill=\"#000000\" font-family=\"Segoe UI\" font-size=\"11\" lengthAdjust=\"spacingAndGlyphs\" textLength=\"127\" x=\"422\" y=\"146.3936\">_purchased_quantity: int</text><text fill=\"#000000\" font-family=\"Segoe UI\" font-size=\"11\" lengthAdjust=\"spacingAndGlyphs\" textLength=\"124\" x=\"422\" y=\"169.0244\">_allocations: [OrderLine]</text><!--entity Customer--><ellipse cx=\"34.5\" cy=\"18.5\" fill=\"#B5E2FA\" filter=\"url(#f8ttjypusuld1)\" rx=\"8\" ry=\"8\" style=\"stroke: #0FA3B1; stroke-width: 2.0;\"/><path d=\"M34.5,26.5 L34.5,53.5 M21.5,34.5 L47.5,34.5 M34.5,53.5 L21.5,68.5 M34.5,53.5 L47.5,68.5 \" fill=\"none\" filter=\"url(#f8ttjypusuld1)\" style=\"stroke: #0FA3B1; stroke-width: 2.0;\"/><text fill=\"#000000\" font-family=\"Segoe UI\" font-size=\"11\" lengthAdjust=\"spacingAndGlyphs\" textLength=\"49\" x=\"10\" y=\"91.3701\">Customer</text><!--link Customer to Order--><path d=\"M63.35,53.5 C88.74,53.5 127.16,53.5 159.78,53.5 \" fill=\"none\" id=\"Customer-Order\" style=\"stroke: #0FA3B1; stroke-width: 1.0;\"/><polygon fill=\"#0FA3B1\" points=\"164.96,53.5,155.96,49.5,159.96,53.5,155.96,57.5,164.96,53.5\" style=\"stroke: #0FA3B1; stroke-width: 1.0;\"/><text fill=\"#000000\" font-family=\"Segoe UI\" font-size=\"11\" lengthAdjust=\"spacingAndGlyphs\" textLength=\"32\" x=\"98\" y=\"46.3701\">places</text><!--link Order to Batch--><path d=\"M286.76,65.5 C333.28,65.5 351.76,65.5 398.31,65.5 \" fill=\"none\" id=\"Order-Batch\" style=\"stroke: #0FA3B1; stroke-width: 1.0;\"/><polygon fill=\"#0FA3B1\" points=\"411.5,65.5,402.5,61.5,406.5,65.5,402.5,69.5,411.5,65.5\" style=\"stroke: #0FA3B1; stroke-width: 1.0;\"/><line style=\"stroke: #0FA3B1; stroke-width: 1.0;\" x1=\"406.5\" x2=\"398.5\" y1=\"65.5\" y2=\"65.5\"/><polygon fill=\"#FFFFFF\" points=\"273.5,65.5,279.5,69.5,285.5,65.5,279.5,61.5,273.5,65.5\" style=\"stroke: #0FA3B1; stroke-width: 1.0;\"/><text fill=\"#000000\" font-family=\"Segoe UI\" font-size=\"11\" lengthAdjust=\"spacingAndGlyphs\" textLength=\"54\" x=\"315\" y=\"43.3701\">purchased</text><text fill=\"#000000\" font-family=\"Segoe UI\" font-size=\"11\" lengthAdjust=\"spacingAndGlyphs\" textLength=\"50\" x=\"317\" y=\"58.001\">by unit of</text><!--link Batch to OrderLine--><path d=\"M573.71,162.5 C587.36,162.5 601.43,162.5 614.61,162.5 \" fill=\"none\" id=\"Batch-OrderLine\" style=\"stroke: #0FA3B1; stroke-width: 1.0;\"/><polygon fill=\"#0FA3B1\" points=\"627.95,162.5,618.95,158.5,622.95,162.5,618.95,166.5,627.95,162.5\" style=\"stroke: #0FA3B1; stroke-width: 1.0;\"/><line style=\"stroke: #0FA3B1; stroke-width: 1.0;\" x1=\"622.95\" x2=\"614.95\" y1=\"162.5\" y2=\"162.5\"/><polygon fill=\"#FFFFFF\" points=\"560.5,162.5,566.5,166.5,572.5,162.5,566.5,158.5,560.5,162.5\" style=\"stroke: #0FA3B1; stroke-width: 1.0;\"/><!--\n",
       "@startuml\n",
       "skinparam default {\n",
       "    FontName \"Segoe UI\"\n",
       "    FontSize 11\n",
       "    FontColor Black\n",
       "}\n",
       "\n",
       "skinparam class {\n",
       "    BackgroundColor #b5e2fa\n",
       "    BorderColor #0fa3b1\n",
       "}\n",
       "\n",
       "skinparam CircledCharacter {\n",
       "    FontColor Black\n",
       "}\n",
       "\n",
       "skinparam stereotypeC {\n",
       "    BackgroundColor #eddea4 \n",
       "}\n",
       "\n",
       "skinparam package {\n",
       "    FontName \"Segoe UI\"\n",
       "}\n",
       "\n",
       "skinparam sequencelifeline {\n",
       "    BorderColor #0fa3b1\n",
       "}\n",
       "skinparam arrow {\n",
       "    Color #0fa3b1\n",
       "}\n",
       "skinparam participant {\n",
       "    BackgroundColor #b5e2fa\n",
       "    BorderColor #0fa3b1\n",
       "}\n",
       "skinparam entity {\n",
       "    BackgroundColor #b5e2fa\n",
       "    BorderColor #0fa3b1\n",
       "}\n",
       "skinparam collections {\n",
       "    BackgroundColor #b5e2fa\n",
       "    BorderColor #0fa3b1\n",
       "}\n",
       "skinparam database {\n",
       "    BackgroundColor #b5e2fa\n",
       "    BorderColor #0fa3b1\n",
       "}\n",
       "skinparam boundary {\n",
       "    BackgroundColor #b5e2fa\n",
       "    BorderColor #0fa3b1\n",
       "}\n",
       "skinparam actor {\n",
       "    Color DeepSkyBlue\n",
       "    BackgroundColor #b5e2fa\n",
       "    BorderColor #0fa3b1\n",
       "}\n",
       "skinparam sequencegroupheader {\n",
       "    FontName \"Segoe UI\"\n",
       "}\n",
       "skinparam sequencebox {\n",
       "    BackgroundColor PowderBlue\n",
       "    BorderColor #0fa3b1\n",
       "}\n",
       "skinparam padding 4\n",
       "\n",
       "allow_mixing\n",
       "left to right direction\n",
       "\n",
       "class Order {\n",
       "    * reference: str\n",
       "}\n",
       "\n",
       "class OrderLine << valueobject >> {\n",
       "    * orderid: str\n",
       "    * sku: str\n",
       "    * qty: int\n",
       "}\n",
       "\n",
       "class Batch {\n",
       "    * reference: str\n",
       "    sku: str\n",
       "    eta: date\n",
       "    - -\n",
       "    _purchased_quantity: int\n",
       "    _allocations: [OrderLine]\n",
       "}\n",
       "\n",
       "actor Customer\n",
       "\n",
       "Customer - -> Order : places\n",
       "Order::reference o- -> Batch::reference : \"purchased\\nby unit of\"\n",
       "Batch::_allocations o- -> OrderLine\n",
       "\n",
       "@enduml\n",
       "\n",
       "PlantUML version 1.2018.13(Tue Nov 27 02:11:51 KST 2018)\n",
       "(GPL source distribution)\n",
       "Java Runtime: OpenJDK Runtime Environment\n",
       "JVM: OpenJDK 64-Bit Server VM\n",
       "Java Version: 11.0.9.1+1-Ubuntu-0ubuntu1.20.04\n",
       "Operating System: Linux\n",
       "OS Version: 5.4.0-1032-azure\n",
       "Default Encoding: UTF-8\n",
       "Language: en\n",
       "Country: US\n",
       "--></g></svg>"
      ],
      "text/plain": [
       "<IPython.core.display.SVG object>"
      ]
     },
     "execution_count": 6,
     "metadata": {},
     "output_type": "execute_result"
    }
   ],
   "source": [
    "%%plantuml\n",
    "\n",
    "@startuml\n",
    "\n",
    "allow_mixing\n",
    "left to right direction\n",
    "\n",
    "class Order {\n",
    "    * reference: str\n",
    "}\n",
    "\n",
    "class OrderLine << valueobject >> {\n",
    "    * orderid: str\n",
    "    * sku: str\n",
    "    * qty: int\n",
    "}\n",
    "\n",
    "class Batch {\n",
    "    * reference: str\n",
    "    sku: str\n",
    "    eta: date\n",
    "    --\n",
    "    _purchased_quantity: int\n",
    "    _allocations: [OrderLine]\n",
    "}\n",
    "\n",
    "actor Customer\n",
    "\n",
    "Customer --> Order : places\n",
    "Order::reference o--> Batch::reference : \"purchased\\nby unit of\"\n",
    "Batch::_allocations o--> OrderLine\n",
    "\n",
    "@enduml"
   ]
  },
  {
   "cell_type": "markdown",
   "metadata": {},
   "source": [
    "#### Customers place *orders* for *products*.\n",
    "\n",
    "- **Product**\n",
    "  - identified by *SKU*(Stock Keeping Unit)\n",
    "- **Order**\n",
    "  - identified by an *order reference* \n",
    "  - comprises mutliple *order lines*\n",
    "- **OrderLine**\n",
    "  - has a *SKU* and a *quantity*\n",
    "  \n",
    "#### The purchasing department orders small *batches* of stock\n",
    "\n",
    "- **Batch**\n",
    "  - has a unique ID(*reference*), a *SKU*, and a *quantity* \n",
    "  - has an ETA if they are currently shipping\n",
    "    - or they may be in *warehouse stock*.\n",
    "  \n",
    "#### We need to **allocate** *order lines* to *batches*.\n",
    "\n",
    "- When we allocate x units of stock to a batch, the *available quantity* is reduced by x."
   ]
  },
  {
   "cell_type": "markdown",
   "metadata": {},
   "source": [
    "### The \"Normal\" ORM Way: Model Depends on ORM"
   ]
  },
  {
   "cell_type": "code",
   "execution_count": 7,
   "metadata": {
    "jupyter": {
     "source_hidden": true
    },
    "tags": [
     "hidden-input"
    ]
   },
   "outputs": [
    {
     "data": {
      "image/svg+xml": [
       "<svg xmlns=\"http://www.w3.org/2000/svg\" xmlns:xlink=\"http://www.w3.org/1999/xlink\" contentScriptType=\"application/ecmascript\" contentStyleType=\"text/css\" height=\"364px\" preserveAspectRatio=\"none\" style=\"width:497px;height:364px;\" version=\"1.1\" viewBox=\"0 0 497 364\" width=\"497px\" zoomAndPan=\"magnify\"><defs><filter height=\"300%\" id=\"f16jy4v9ar41n\" width=\"300%\" x=\"-1\" y=\"-1\"><feGaussianBlur result=\"blurOut\" stdDeviation=\"2.0\"/><feColorMatrix in=\"blurOut\" result=\"blurOut2\" type=\"matrix\" values=\"0 0 0 0 0 0 0 0 0 0 0 0 0 0 0 0 0 0 .4 0\"/><feOffset dx=\"4.0\" dy=\"4.0\" in=\"blurOut2\" result=\"blurOut3\"/><feBlend in=\"SourceGraphic\" in2=\"blurOut3\" mode=\"normal\"/></filter></defs><g><!--class Order--><rect fill=\"#B5E2FA\" filter=\"url(#f16jy4v9ar41n)\" height=\"71.2617\" id=\"Order\" style=\"stroke: #0FA3B1; stroke-width: 1.5;\" width=\"85\" x=\"14\" y=\"222.5\"/><ellipse cx=\"35.55\" cy=\"238.8154\" fill=\"#EDDEA4\" rx=\"9\" ry=\"9\" style=\"stroke: #0FA3B1; stroke-width: 1.0;\"/><path d=\"M37.4406,242.8154 L32.4563,242.8154 L32.4563,234.7998 L37.4406,234.7998 L37.4406,236.1904 L34.0344,236.1904 L34.0344,237.9248 L37.1281,237.9248 L37.1281,239.3154 L34.0344,239.3154 L34.0344,241.4248 L37.4406,241.4248 L37.4406,242.8154 Z \"/><text fill=\"#000000\" font-family=\"Segoe UI\" font-size=\"11\" lengthAdjust=\"spacingAndGlyphs\" textLength=\"30\" x=\"53.45\" y=\"243.3701\">Order</text><line style=\"stroke: #0FA3B1; stroke-width: 1.5;\" x1=\"15\" x2=\"98\" y1=\"255.1309\" y2=\"255.1309\"/><ellipse cx=\"25\" cy=\"271.9463\" fill=\"#000000\" rx=\"3\" ry=\"3\" style=\"stroke: #000000; stroke-width: 1.0;\"/><text fill=\"#000000\" font-family=\"Segoe UI\" font-size=\"11\" font-weight=\"bold\" lengthAdjust=\"spacingAndGlyphs\" textLength=\"10\" x=\"36\" y=\"275.001\">id</text><text fill=\"#000000\" font-family=\"Segoe UI\" font-size=\"11\" lengthAdjust=\"spacingAndGlyphs\" textLength=\"43\" x=\"46\" y=\"275.001\">: Integer</text><line style=\"stroke: #0FA3B1; stroke-width: 1.5;\" x1=\"15\" x2=\"98\" y1=\"285.7617\" y2=\"285.7617\"/><!--class Batch--><rect fill=\"#B5E2FA\" filter=\"url(#f16jy4v9ar41n)\" height=\"139.1543\" id=\"Batch\" style=\"stroke: #0FA3B1; stroke-width: 1.5;\" width=\"141\" x=\"175\" y=\"12\"/><ellipse cx=\"223.75\" cy=\"28.3154\" fill=\"#EDDEA4\" rx=\"9\" ry=\"9\" style=\"stroke: #0FA3B1; stroke-width: 1.0;\"/><path d=\"M225.6406,32.3154 L220.6563,32.3154 L220.6563,24.2998 L225.6406,24.2998 L225.6406,25.6904 L222.2344,25.6904 L222.2344,27.4248 L225.3281,27.4248 L225.3281,28.8154 L222.2344,28.8154 L222.2344,30.9248 L225.6406,30.9248 L225.6406,32.3154 Z \"/><text fill=\"#000000\" font-family=\"Segoe UI\" font-size=\"11\" lengthAdjust=\"spacingAndGlyphs\" textLength=\"28\" x=\"245.25\" y=\"32.8701\">Batch</text><line style=\"stroke: #0FA3B1; stroke-width: 1.5;\" x1=\"176\" x2=\"315\" y1=\"44.6309\" y2=\"44.6309\"/><ellipse cx=\"186\" cy=\"61.4463\" fill=\"#000000\" rx=\"3\" ry=\"3\" style=\"stroke: #000000; stroke-width: 1.0;\"/><text fill=\"#000000\" font-family=\"Segoe UI\" font-size=\"11\" font-weight=\"bold\" lengthAdjust=\"spacingAndGlyphs\" textLength=\"10\" x=\"197\" y=\"64.501\">id</text><text fill=\"#000000\" font-family=\"Segoe UI\" font-size=\"11\" lengthAdjust=\"spacingAndGlyphs\" textLength=\"43\" x=\"207\" y=\"64.501\">: Integer</text><line style=\"stroke: #0FA3B1; stroke-width: 1.0;\" x1=\"176\" x2=\"315\" y1=\"75.2617\" y2=\"75.2617\"/><ellipse cx=\"186\" cy=\"92.0771\" fill=\"#000000\" rx=\"3\" ry=\"3\" style=\"stroke: #000000; stroke-width: 1.0;\"/><text fill=\"#000000\" font-family=\"Segoe UI\" font-size=\"11\" font-weight=\"bold\" lengthAdjust=\"spacingAndGlyphs\" textLength=\"48\" x=\"197\" y=\"95.1318\">reference</text><text fill=\"#000000\" font-family=\"Segoe UI\" font-size=\"11\" lengthAdjust=\"spacingAndGlyphs\" textLength=\"61\" x=\"245\" y=\"95.1318\">: String(255)</text><ellipse cx=\"186\" cy=\"114.708\" fill=\"#000000\" rx=\"3\" ry=\"3\" style=\"stroke: #000000; stroke-width: 1.0;\"/><text fill=\"#000000\" font-family=\"Segoe UI\" font-size=\"11\" lengthAdjust=\"spacingAndGlyphs\" textLength=\"79\" x=\"197\" y=\"117.7627\">sku: String(255)</text><ellipse cx=\"186\" cy=\"137.3389\" fill=\"#000000\" rx=\"3\" ry=\"3\" style=\"stroke: #000000; stroke-width: 1.0;\"/><text fill=\"#000000\" font-family=\"Segoe UI\" font-size=\"11\" lengthAdjust=\"spacingAndGlyphs\" textLength=\"59\" x=\"197\" y=\"140.3936\">qty: Integer</text><!--class Allocation--><rect fill=\"#B5E2FA\" filter=\"url(#f16jy4v9ar41n)\" height=\"93.8926\" id=\"Allocation\" style=\"stroke: #0FA3B1; stroke-width: 1.5;\" width=\"94\" x=\"392\" y=\"91.5\"/><ellipse cx=\"407.7\" cy=\"107.8154\" fill=\"#EDDEA4\" rx=\"9\" ry=\"9\" style=\"stroke: #0FA3B1; stroke-width: 1.0;\"/><path d=\"M409.5906,111.8154 L404.6063,111.8154 L404.6063,103.7998 L409.5906,103.7998 L409.5906,105.1904 L406.1844,105.1904 L406.1844,106.9248 L409.2781,106.9248 L409.2781,108.3154 L406.1844,108.3154 L406.1844,110.4248 L409.5906,110.4248 L409.5906,111.8154 Z \"/><text fill=\"#000000\" font-family=\"Segoe UI\" font-size=\"11\" lengthAdjust=\"spacingAndGlyphs\" textLength=\"52\" x=\"424.3\" y=\"112.3701\">Allocation</text><line style=\"stroke: #0FA3B1; stroke-width: 1.5;\" x1=\"393\" x2=\"485\" y1=\"124.1309\" y2=\"124.1309\"/><ellipse cx=\"403\" cy=\"140.9463\" fill=\"#000000\" rx=\"3\" ry=\"3\" style=\"stroke: #000000; stroke-width: 1.0;\"/><text fill=\"#000000\" font-family=\"Segoe UI\" font-size=\"11\" font-weight=\"bold\" lengthAdjust=\"spacingAndGlyphs\" textLength=\"44\" x=\"414\" y=\"144.001\">batch_id</text><ellipse cx=\"403\" cy=\"163.5771\" fill=\"#000000\" rx=\"3\" ry=\"3\" style=\"stroke: #000000; stroke-width: 1.0;\"/><text fill=\"#000000\" font-family=\"Segoe UI\" font-size=\"11\" font-weight=\"bold\" lengthAdjust=\"spacingAndGlyphs\" textLength=\"62\" x=\"414\" y=\"166.6318\">orderline_id</text><line style=\"stroke: #0FA3B1; stroke-width: 1.5;\" x1=\"393\" x2=\"485\" y1=\"177.3926\" y2=\"177.3926\"/><!--class OrderLine--><rect fill=\"#B5E2FA\" filter=\"url(#f16jy4v9ar41n)\" height=\"161.7852\" id=\"OrderLine\" style=\"stroke: #0FA3B1; stroke-width: 1.5;\" width=\"118\" x=\"186.5\" y=\"192\"/><ellipse cx=\"213.45\" cy=\"208.3154\" fill=\"#EDDEA4\" rx=\"9\" ry=\"9\" style=\"stroke: #0FA3B1; stroke-width: 1.0;\"/><path d=\"M215.3406,212.3154 L210.3563,212.3154 L210.3563,204.2998 L215.3406,204.2998 L215.3406,205.6904 L211.9344,205.6904 L211.9344,207.4248 L215.0281,207.4248 L215.0281,208.8154 L211.9344,208.8154 L211.9344,210.9248 L215.3406,210.9248 L215.3406,212.3154 Z \"/><text fill=\"#000000\" font-family=\"Segoe UI\" font-size=\"11\" lengthAdjust=\"spacingAndGlyphs\" textLength=\"51\" x=\"232.55\" y=\"212.8701\">OrderLine</text><line style=\"stroke: #0FA3B1; stroke-width: 1.5;\" x1=\"187.5\" x2=\"303.5\" y1=\"224.6309\" y2=\"224.6309\"/><ellipse cx=\"197.5\" cy=\"241.4463\" fill=\"#000000\" rx=\"3\" ry=\"3\" style=\"stroke: #000000; stroke-width: 1.0;\"/><text fill=\"#000000\" font-family=\"Segoe UI\" font-size=\"11\" font-weight=\"bold\" lengthAdjust=\"spacingAndGlyphs\" textLength=\"10\" x=\"208.5\" y=\"244.501\">id</text><text fill=\"#000000\" font-family=\"Segoe UI\" font-size=\"11\" lengthAdjust=\"spacingAndGlyphs\" textLength=\"43\" x=\"218.5\" y=\"244.501\">: Integer</text><line style=\"stroke: #0FA3B1; stroke-width: 1.0;\" x1=\"187.5\" x2=\"303.5\" y1=\"255.2617\" y2=\"255.2617\"/><ellipse cx=\"197.5\" cy=\"272.0771\" fill=\"#000000\" rx=\"3\" ry=\"3\" style=\"stroke: #000000; stroke-width: 1.0;\"/><text fill=\"#000000\" font-family=\"Segoe UI\" font-size=\"11\" font-weight=\"bold\" lengthAdjust=\"spacingAndGlyphs\" textLength=\"86\" x=\"208.5\" y=\"275.1318\">order_id: Integer</text><ellipse cx=\"197.5\" cy=\"294.708\" fill=\"#000000\" rx=\"3\" ry=\"3\" style=\"stroke: #000000; stroke-width: 1.0;\"/><text fill=\"#000000\" font-family=\"Segoe UI\" font-size=\"11\" lengthAdjust=\"spacingAndGlyphs\" textLength=\"79\" x=\"208.5\" y=\"297.7627\">sku: String(255)</text><ellipse cx=\"197.5\" cy=\"317.3389\" fill=\"#000000\" rx=\"3\" ry=\"3\" style=\"stroke: #000000; stroke-width: 1.0;\"/><text fill=\"#000000\" font-family=\"Segoe UI\" font-size=\"11\" lengthAdjust=\"spacingAndGlyphs\" textLength=\"59\" x=\"208.5\" y=\"320.3936\">qty: Integer</text><text fill=\"#000000\" font-family=\"Segoe UI\" font-size=\"11\" lengthAdjust=\"spacingAndGlyphs\" textLength=\"46\" x=\"208.5\" y=\"343.0244\">eta: Date</text><!--link Order to OrderLine--><path d=\"M108.86,269.5 C137.38,269.5 148.77,269.5 177.39,269.5 \" fill=\"none\" id=\"Order-OrderLine\" style=\"stroke: #0FA3B1; stroke-width: 1.0; stroke-dasharray: 7.0,7.0;\"/><line style=\"stroke: #0FA3B1; stroke-width: 1.0;\" x1=\"177.5\" x2=\"185.5\" y1=\"269.5\" y2=\"263.5\"/><line style=\"stroke: #0FA3B1; stroke-width: 1.0;\" x1=\"177.5\" x2=\"185.5\" y1=\"269.5\" y2=\"275.5\"/><line style=\"stroke: #0FA3B1; stroke-width: 1.0;\" x1=\"177.5\" x2=\"185.5\" y1=\"269.5\" y2=\"269.5\"/><line style=\"stroke: #0FA3B1; stroke-width: 1.0;\" x1=\"175.5\" x2=\"175.5\" y1=\"265.5\" y2=\"273.5\"/><line style=\"stroke: #0FA3B1; stroke-width: 1.0;\" x1=\"104.5\" x2=\"104.5\" y1=\"273.5\" y2=\"265.5\"/><line style=\"stroke: #0FA3B1; stroke-width: 1.0;\" x1=\"107.5\" x2=\"107.5\" y1=\"273.5\" y2=\"265.5\"/><line style=\"stroke: #0FA3B1; stroke-width: 1.0;\" x1=\"108.5\" x2=\"100.5\" y1=\"269.5\" y2=\"269.5\"/><!--link OrderLine to Allocation--><path d=\"M313.65,238.77 C352.81,231.3 343.63,169.04 382.55,161.29 \" fill=\"none\" id=\"OrderLine-Allocation\" style=\"stroke: #0FA3B1; stroke-width: 1.0; stroke-dasharray: 7.0,7.0;\"/><line style=\"stroke: #0FA3B1; stroke-width: 1.0;\" x1=\"383.036\" x2=\"390.4317\" y1=\"161.2578\" y2=\"154.527\"/><line style=\"stroke: #0FA3B1; stroke-width: 1.0;\" x1=\"383.036\" x2=\"391.5683\" y1=\"161.2578\" y2=\"166.473\"/><line style=\"stroke: #0FA3B1; stroke-width: 1.0;\" x1=\"383.036\" x2=\"391\" y1=\"161.2578\" y2=\"160.5\"/><line style=\"stroke: #0FA3B1; stroke-width: 1.0;\" x1=\"380.6661\" x2=\"381.4239\" y1=\"157.4652\" y2=\"165.4293\"/><line style=\"stroke: #0FA3B1; stroke-width: 1.0;\" x1=\"309.8416\" x2=\"309.1264\" y1=\"243.1264\" y2=\"235.1584\"/><line style=\"stroke: #0FA3B1; stroke-width: 1.0;\" x1=\"312.8296\" x2=\"312.1143\" y1=\"242.8581\" y2=\"234.8902\"/><line style=\"stroke: #0FA3B1; stroke-width: 1.0;\" x1=\"313.468\" x2=\"305.5\" y1=\"238.7847\" y2=\"239.5\"/><!--link Batch to Allocation--><path d=\"M325.7,60.39 C360.46,68.49 348.04,129.55 382.83,137.62 \" fill=\"none\" id=\"Batch-Allocation\" style=\"stroke: #0FA3B1; stroke-width: 1.0; stroke-dasharray: 7.0,7.0;\"/><line style=\"stroke: #0FA3B1; stroke-width: 1.0;\" x1=\"383.046\" x2=\"391.6426\" y1=\"137.6432\" y2=\"132.5345\"/><line style=\"stroke: #0FA3B1; stroke-width: 1.0;\" x1=\"383.046\" x2=\"390.3574\" y1=\"137.6432\" y2=\"144.4655\"/><line style=\"stroke: #0FA3B1; stroke-width: 1.0;\" x1=\"383.046\" x2=\"391\" y1=\"137.6432\" y2=\"138.5\"/><line style=\"stroke: #0FA3B1; stroke-width: 1.0;\" x1=\"381.4859\" x2=\"380.6291\" y1=\"133.452\" y2=\"141.406\"/><line style=\"stroke: #0FA3B1; stroke-width: 1.0;\" x1=\"321.0477\" x2=\"321.9061\" y1=\"63.9061\" y2=\"55.9523\"/><line style=\"stroke: #0FA3B1; stroke-width: 1.0;\" x1=\"324.0304\" x2=\"324.8888\" y1=\"64.2279\" y2=\"56.2741\"/><line style=\"stroke: #0FA3B1; stroke-width: 1.0;\" x1=\"325.4538\" x2=\"317.5\" y1=\"60.3583\" y2=\"59.5\"/><!--\n",
       "@startuml\n",
       "skinparam default {\n",
       "    FontName \"Segoe UI\"\n",
       "    FontSize 11\n",
       "    FontColor Black\n",
       "}\n",
       "\n",
       "skinparam class {\n",
       "    BackgroundColor #b5e2fa\n",
       "    BorderColor #0fa3b1\n",
       "}\n",
       "\n",
       "skinparam CircledCharacter {\n",
       "    FontColor Black\n",
       "}\n",
       "\n",
       "skinparam stereotypeC {\n",
       "    BackgroundColor #eddea4 \n",
       "}\n",
       "\n",
       "skinparam package {\n",
       "    FontName \"Segoe UI\"\n",
       "}\n",
       "\n",
       "skinparam sequencelifeline {\n",
       "    BorderColor #0fa3b1\n",
       "}\n",
       "skinparam arrow {\n",
       "    Color #0fa3b1\n",
       "}\n",
       "skinparam participant {\n",
       "    BackgroundColor #b5e2fa\n",
       "    BorderColor #0fa3b1\n",
       "}\n",
       "skinparam entity {\n",
       "    BackgroundColor #b5e2fa\n",
       "    BorderColor #0fa3b1\n",
       "}\n",
       "skinparam collections {\n",
       "    BackgroundColor #b5e2fa\n",
       "    BorderColor #0fa3b1\n",
       "}\n",
       "skinparam database {\n",
       "    BackgroundColor #b5e2fa\n",
       "    BorderColor #0fa3b1\n",
       "}\n",
       "skinparam boundary {\n",
       "    BackgroundColor #b5e2fa\n",
       "    BorderColor #0fa3b1\n",
       "}\n",
       "skinparam actor {\n",
       "    Color DeepSkyBlue\n",
       "    BackgroundColor #b5e2fa\n",
       "    BorderColor #0fa3b1\n",
       "}\n",
       "skinparam sequencegroupheader {\n",
       "    FontName \"Segoe UI\"\n",
       "}\n",
       "skinparam sequencebox {\n",
       "    BackgroundColor PowderBlue\n",
       "    BorderColor #0fa3b1\n",
       "}\n",
       "skinparam padding 4\n",
       "\n",
       "left to right direction\n",
       "\n",
       "entity Order {\n",
       "    * **id**: Integer\n",
       "}\n",
       "\n",
       "entity Batch {\n",
       "    * **id**: Integer\n",
       "    - -\n",
       "    * **reference**: String(255)\n",
       "    * sku: String(255)\n",
       "    * qty: Integer\n",
       "}\n",
       "\n",
       "entity Allocation {\n",
       "    * **batch_id**\n",
       "    * **orderline_id**\n",
       "}\n",
       "\n",
       "entity OrderLine {\n",
       "    * **id**: Integer\n",
       "    - -\n",
       "    * **order_id: Integer**\n",
       "    * sku: String(255)\n",
       "    * qty: Integer\n",
       "    eta: Date\n",
       "}\n",
       "\n",
       "\n",
       "Order::id ||..|{ OrderLine::order_id\n",
       "OrderLine::id ||..|{ Allocation::orderline_id \n",
       "Batch::id ||..|{ Allocation::batch_id \n",
       "\n",
       "\n",
       "@enduml\n",
       "\n",
       "PlantUML version 1.2018.13(Tue Nov 27 02:11:51 KST 2018)\n",
       "(GPL source distribution)\n",
       "Java Runtime: OpenJDK Runtime Environment\n",
       "JVM: OpenJDK 64-Bit Server VM\n",
       "Java Version: 11.0.9.1+1-Ubuntu-0ubuntu1.20.04\n",
       "Operating System: Linux\n",
       "OS Version: 5.4.0-1032-azure\n",
       "Default Encoding: UTF-8\n",
       "Language: en\n",
       "Country: US\n",
       "--></g></svg>"
      ],
      "text/plain": [
       "<IPython.core.display.SVG object>"
      ]
     },
     "execution_count": 7,
     "metadata": {},
     "output_type": "execute_result"
    }
   ],
   "source": [
    "%%plantuml\n",
    "\n",
    "@startuml\n",
    "\n",
    "left to right direction\n",
    "\n",
    "entity Order {\n",
    "    * **id**: Integer\n",
    "}\n",
    "\n",
    "entity Batch {\n",
    "    * **id**: Integer\n",
    "    --\n",
    "    * **reference**: String(255)\n",
    "    * sku: String(255)\n",
    "    * qty: Integer\n",
    "}\n",
    "\n",
    "entity Allocation {\n",
    "    * **batch_id**\n",
    "    * **orderline_id**\n",
    "}\n",
    "\n",
    "entity OrderLine {\n",
    "    * **id**: Integer\n",
    "    --\n",
    "    * **order_id: Integer**\n",
    "    * sku: String(255)\n",
    "    * qty: Integer\n",
    "    eta: Date\n",
    "}\n",
    "\n",
    "\n",
    "Order::id ||..|{ OrderLine::order_id\n",
    "OrderLine::id ||..|{ Allocation::orderline_id \n",
    "Batch::id ||..|{ Allocation::batch_id \n",
    "\n",
    "\n",
    "@enduml"
   ]
  },
  {
   "cell_type": "code",
   "execution_count": 8,
   "metadata": {},
   "outputs": [],
   "source": [
    "from sqlalchemy import Column, ForeignKey, Integer, String, Date, Table\n",
    "from sqlalchemy.ext.declarative import declarative_base\n",
    "from sqlalchemy.orm import relationship\n",
    "\n",
    "Base = declarative_base()\n",
    "\n",
    "class _Order(Base):\n",
    "    __tablename__ = 'order'\n",
    "    id = Column(Integer, primary_key=True, autoincrement=True)\n",
    "    orderlines = relationship('_OrderLine', collection_class=set)\n",
    "    \n",
    "class _OrderLine(Base):\n",
    "    __tablename__ = 'order_line'\n",
    "    id = Column(Integer, primary_key=True, autoincrement=True)\n",
    "    sku = Column(String(255))\n",
    "    qty = Column(Integer)\n",
    "    orderid = Column(Integer, ForeignKey('order.id'))\n",
    "    order = relationship(_Order)\n",
    "\n",
    "allocation = Table('allocation', Base.metadata,\n",
    "    Column('orderline_id', Integer, ForeignKey('order_line.id'), primary_key=True),\n",
    "    Column('batch_id', Integer, ForeignKey('batch.id'), primary_key=True)\n",
    ")\n",
    "    \n",
    "class _Batch(Base):\n",
    "    __tablename__ = 'batch'\n",
    "    id = Column(Integer, primary_key=True, autoincrement=True)\n",
    "    reference = Column(String(255), unique=True)\n",
    "    sku = Column(String(255))\n",
    "    eta = Column(Date)\n",
    "    _purchased_quantity = Column(Integer)\n",
    "    _allocations = relationship(_OrderLine, secondary=allocation, collection_class=set)"
   ]
  },
  {
   "cell_type": "code",
   "execution_count": 9,
   "metadata": {},
   "outputs": [
    {
     "name": "stdout",
     "output_type": "stream",
     "text": [
      "CREATE TABLE \"order\" (\n",
      "\tid INTEGER NOT NULL, \n",
      "\tPRIMARY KEY (id)\n",
      ")\n",
      "\n",
      "CREATE TABLE batch (\n",
      "\tid INTEGER NOT NULL, \n",
      "\treference VARCHAR(255), \n",
      "\tsku VARCHAR(255), \n",
      "\teta DATE, \n",
      "\t_purchased_quantity INTEGER, \n",
      "\tPRIMARY KEY (id), \n",
      "\tUNIQUE (reference)\n",
      ")\n",
      "\n",
      "CREATE TABLE order_line (\n",
      "\tid INTEGER NOT NULL, \n",
      "\tsku VARCHAR(255), \n",
      "\tqty INTEGER, \n",
      "\torderid INTEGER, \n",
      "\tPRIMARY KEY (id), \n",
      "\tFOREIGN KEY(orderid) REFERENCES \"order\" (id)\n",
      ")\n",
      "\n",
      "CREATE TABLE allocation (\n",
      "\torderline_id INTEGER NOT NULL, \n",
      "\tbatch_id INTEGER NOT NULL, \n",
      "\tPRIMARY KEY (orderline_id, batch_id), \n",
      "\tFOREIGN KEY(orderline_id) REFERENCES order_line (id), \n",
      "\tFOREIGN KEY(batch_id) REFERENCES batch (id)\n",
      ")\n",
      "\n",
      "\n"
     ]
    }
   ],
   "source": [
    "def init_engine(url, metadata):\n",
    "    import io, sys, re, logging\n",
    "    from sqlalchemy import create_engine\n",
    "    logger = logging.getLogger(\"sqlalchemy.engine.base.Engine\")\n",
    "    out = io.StringIO()\n",
    "    logger.addHandler(logging.StreamHandler(out))\n",
    "    \n",
    "    engine = create_engine(url, echo=True) # temporary memory db\n",
    "    metadata.create_all(engine)\n",
    "    \n",
    "    print(''.join(re.findall('CREATE TABLE.*?\\n\\n', out.getvalue(), re.DOTALL)))\n",
    "    return engine\n",
    "    \n",
    "engine = init_engine('sqlite://', Base.metadata)"
   ]
  },
  {
   "cell_type": "markdown",
   "metadata": {},
   "source": [
    "### Inverting the Dependency: ORM Depends on Model\n",
    "\n",
    "Using SQLAlchemy's \"classical mapping\"."
   ]
  },
  {
   "cell_type": "code",
   "execution_count": 10,
   "metadata": {},
   "outputs": [],
   "source": [
    "from sqlalchemy import MetaData, Table, Column, ForeignKey, Integer, String, Date\n",
    "from sqlalchemy.orm import mapper, relationship\n",
    "from app.models import Batch, OrderLine\n",
    "\n",
    "metadata = MetaData()\n",
    "\n",
    "order_line = Table(\n",
    "    'order_line', metadata,\n",
    "    Column('id', Integer, primary_key=True, autoincrement=True),\n",
    "    Column('sku', String(255)),\n",
    "    Column('qty', Integer, nullable=False),\n",
    "    Column('orderid', String(255)),\n",
    "    extend_existing=True\n",
    ")\n",
    "\n",
    "allocation = Table('allocation', metadata,\n",
    "    Column('orderline_id', Integer, ForeignKey('order_line.id'), primary_key=True),\n",
    "    Column('batch_id', Integer, ForeignKey('batch.id'), primary_key=True),\n",
    "    extend_existing=True\n",
    ")\n",
    "\n",
    "batch = Table(\n",
    "    'batch', metadata,\n",
    "    Column('id', Integer, primary_key=True, autoincrement=True),\n",
    "    Column('reference', String(255), unique=True),\n",
    "    Column('_purchased_quantity', Integer),\n",
    "    Column('sku', String(255)),\n",
    "    Column('eta', Date, nullable=True),\n",
    "    extend_existing=True\n",
    ")\n",
    "\n",
    "batch_mapper = mapper(Batch, batch, properties={\n",
    "    '_allocations': relationship(OrderLine, secondary=allocation, \n",
    "                                 collection_class=set, lazy='joined'),\n",
    "},)\n",
    "\n",
    "order_line_mapper = mapper(OrderLine, order_line)"
   ]
  },
  {
   "cell_type": "code",
   "execution_count": 11,
   "metadata": {},
   "outputs": [
    {
     "name": "stdout",
     "output_type": "stream",
     "text": [
      "CREATE TABLE order_line (\n",
      "\tid INTEGER NOT NULL, \n",
      "\tsku VARCHAR(255), \n",
      "\tqty INTEGER NOT NULL, \n",
      "\torderid VARCHAR(255), \n",
      "\tPRIMARY KEY (id)\n",
      ")\n",
      "\n",
      "CREATE TABLE batch (\n",
      "\tid INTEGER NOT NULL, \n",
      "\treference VARCHAR(255), \n",
      "\t_purchased_quantity INTEGER, \n",
      "\tsku VARCHAR(255), \n",
      "\teta DATE, \n",
      "\tPRIMARY KEY (id), \n",
      "\tUNIQUE (reference)\n",
      ")\n",
      "\n",
      "CREATE TABLE allocation (\n",
      "\torderline_id INTEGER NOT NULL, \n",
      "\tbatch_id INTEGER NOT NULL, \n",
      "\tPRIMARY KEY (orderline_id, batch_id), \n",
      "\tFOREIGN KEY(orderline_id) REFERENCES order_line (id), \n",
      "\tFOREIGN KEY(batch_id) REFERENCES batch (id)\n",
      ")\n",
      "\n",
      "\n"
     ]
    }
   ],
   "source": [
    "from contextlib import contextmanager, AbstractContextManager\n",
    "\n",
    "from sqlalchemy import create_engine\n",
    "from sqlalchemy.orm import sessionmaker\n",
    "from sqlalchemy.orm.session import Session\n",
    "\n",
    "engine = init_engine('sqlite://', metadata) # temporary memory db\n",
    "\n",
    "SqliteSessionMaker = sessionmaker(engine, expire_on_commit=False)\n",
    "SessionFactory = AbstractContextManager[Session]\n",
    "\n",
    "@contextmanager\n",
    "def session() -> SessionFactory:\n",
    "    '''`with session` 블록을 이용한 자동 리소스 반환을 구현합니다.'''\n",
    "    session = SqliteSessionMaker()\n",
    "    try:\n",
    "        yield session\n",
    "    finally:\n",
    "        session.close()"
   ]
  },
  {
   "cell_type": "code",
   "execution_count": 12,
   "metadata": {},
   "outputs": [
    {
     "name": "stdout",
     "output_type": "stream",
     "text": [
      "✅ \u001b[95mtest_orderline_mapper_can_load_lines\u001b[0m\n"
     ]
    }
   ],
   "source": [
    "from app import mytest\n",
    "\n",
    "mytest.init(__name__)\n",
    "\n",
    "@mytest.unit\n",
    "def test_orderline_mapper_can_load_lines(session):\n",
    "    with session as db:\n",
    "        db.execute('''\n",
    "        INSERT INTO order_line (orderid, sku, qty) VALUES\n",
    "        ('order1', 'RED-CHAIR', 12),\n",
    "        ('order2', 'RED-TABLE', 13),\n",
    "        ('order3', 'BLUE-LIPSTICK', 14)\n",
    "        ''')\n",
    "        expected = [\n",
    "            OrderLine('order1', 'RED-CHAIR', 12),\n",
    "            OrderLine('order2', 'RED-TABLE', 13),\n",
    "            OrderLine('order3', 'BLUE-LIPSTICK', 14),\n",
    "        ]\n",
    "        assert expected == db.query(OrderLine).all()"
   ]
  },
  {
   "cell_type": "code",
   "execution_count": 13,
   "metadata": {},
   "outputs": [
    {
     "name": "stdout",
     "output_type": "stream",
     "text": [
      "✅ \u001b[95mtest_orderline_mapper_can_save_lines\u001b[0m\n"
     ]
    }
   ],
   "source": [
    "@mytest.unit\n",
    "def test_orderline_mapper_can_save_lines(session):\n",
    "    with session as db:\n",
    "        new_line = OrderLine('order1', 'DECORATIVE-WIDGET', 12)\n",
    "        db.add(new_line)\n",
    "        db.flush()\n",
    "        \n",
    "        rows = list(db.execute('SELECT orderid, sku, qty FROM order_line'))\n",
    "        assert [('order1', 'DECORATIVE-WIDGET', 12)] == rows"
   ]
  },
  {
   "cell_type": "markdown",
   "metadata": {},
   "source": [
    "## Introducing the Repository Pattern\n",
    "\n",
    "- An abstraction over persistent storage. \n",
    "- Hides details of data access by *pretending that all of data is in memory*."
   ]
  },
  {
   "cell_type": "code",
   "execution_count": 14,
   "metadata": {
    "jupyter": {
     "source_hidden": true
    },
    "tags": [
     "hidden-input"
    ]
   },
   "outputs": [
    {
     "data": {
      "image/svg+xml": [
       "<svg xmlns=\"http://www.w3.org/2000/svg\" width=\"460\" height=\"266\" shape-rendering=\"geometricPrecision\" version=\"1.0\">\n",
       "  <defs>\n",
       "    <filter id=\"f2\" x=\"0\" y=\"0\" width=\"200%\" height=\"200%\">\n",
       "      <feOffset result=\"offOut\" in=\"SourceGraphic\" dx=\"5\" dy=\"5\"/>\n",
       "      <feGaussianBlur result=\"blurOut\" in=\"offOut\" stdDeviation=\"3\"/>\n",
       "      <feBlend in=\"SourceGraphic\" in2=\"blurOut\" mode=\"normal\"/>\n",
       "    </filter>\n",
       "  </defs>\n",
       "  <g stroke-width=\"1\" stroke-linecap=\"square\" stroke-linejoin=\"round\">\n",
       "    <rect x=\"0\" y=\"0\" width=\"460\" height=\"266\" style=\"fill: #ffffff\"/>\n",
       "    <path stroke=\"gray\" fill=\"gray\" filter=\"url(#f2)\" d=\"M25.0 35.0 L25.0 63.0 L435.0 63.0 L435.0 35.0 z\"/>\n",
       "    <path stroke=\"gray\" fill=\"gray\" filter=\"url(#f2)\" d=\"M25.0 133.0 L25.0 161.0 L435.0 161.0 L435.0 133.0 z\"/>\n",
       "    <path stroke=\"gray\" fill=\"gray\" filter=\"url(#f2)\" d=\"M435.0 203.0 L435.0 231.0 L25.0 231.0 L25.0 203.0 z\"/>\n",
       "    <path stroke=\"gray\" fill=\"gray\" filter=\"url(#f2)\" d=\"M255.0 112.0 Q255.0 119.0 260.0 119.0 L420.0 119.0 Q425.0 119.0 425.0 112.0 L425.0 84.0 L425.0 84.0 Q425.0 77.0 420.0 77.0 L260.0 77.0 L260.0 77.0 Q255.0 77.0 255.0 84.0 L255.0 112.0 z\"/>\n",
       "    <path stroke=\"#000000\" stroke-width=\"1.000000\" stroke-linecap=\"round\" stroke-linejoin=\"round\" fill=\"white\" d=\"M25.0 35.0 L25.0 63.0 L435.0 63.0 L435.0 35.0 z\"/>\n",
       "    <path stroke=\"#000000\" stroke-width=\"1.000000\" stroke-linecap=\"round\" stroke-linejoin=\"round\" fill=\"white\" d=\"M25.0 133.0 L25.0 161.0 L435.0 161.0 L435.0 133.0 z\"/>\n",
       "    <path stroke=\"#000000\" stroke-width=\"1.000000\" stroke-linecap=\"round\" stroke-linejoin=\"round\" fill=\"white\" d=\"M435.0 203.0 L435.0 231.0 L25.0 231.0 L25.0 203.0 z\"/>\n",
       "    <path stroke=\"#000000\" stroke-width=\"1.000000\" stroke-linecap=\"round\" stroke-linejoin=\"round\" fill=\"white\" d=\"M255.0 112.0 Q255.0 119.0 260.0 119.0 L420.0 119.0 Q425.0 119.0 425.0 112.0 L425.0 84.0 L425.0 84.0 Q425.0 77.0 420.0 77.0 L260.0 77.0 L260.0 77.0 Q255.0 77.0 255.0 84.0 L255.0 112.0 z\"/>\n",
       "    <path stroke=\"none\" stroke-width=\"1.000000\" stroke-linecap=\"round\" stroke-linejoin=\"round\" fill=\"#000000\" d=\"M185.0 70.0 L180.0 84.0 L190.0 84.0 z\"/>\n",
       "    <path stroke=\"none\" stroke-width=\"1.000000\" stroke-linecap=\"round\" stroke-linejoin=\"round\" fill=\"#000000\" d=\"M170.0 112.0 L175.0 126.0 L180.0 112.0 z\"/>\n",
       "    <path stroke=\"none\" stroke-width=\"1.000000\" stroke-linecap=\"round\" stroke-linejoin=\"round\" fill=\"#000000\" d=\"M180.0 182.0 L185.0 196.0 L190.0 182.0 z\"/>\n",
       "    <path stroke=\"#000000\" stroke-width=\"1.000000\" stroke-linecap=\"round\" stroke-linejoin=\"round\" fill=\"none\" d=\"M185.0 168.0 L185.0 189.0 \"/>\n",
       "    <path stroke=\"#000000\" stroke-width=\"1.000000\" stroke-linecap=\"round\" stroke-linejoin=\"round\" fill=\"none\" d=\"M175.0 77.0 L175.0 119.0 \"/>\n",
       "    <path stroke=\"#000000\" stroke-width=\"1.000000\" stroke-linecap=\"round\" stroke-linejoin=\"round\" fill=\"none\" d=\"M185.0 77.0 L185.0 119.0 \"/>\n",
       "    <path stroke=\"#000000\" stroke-width=\"1.000000\" stroke-linecap=\"round\" stroke-linejoin=\"round\" fill=\"none\" d=\"M195.0 91.0 L245.0 91.0 \"/>\n",
       "    <text x=\"165\" y=\"54\" font-family=\"Sans\" font-weight=\"bold\" font-size=\"15\" stroke=\"none\" fill=\"#000000\"><![CDATA[Application Layer]]></text>\n",
       "    <text x=\"186\" y=\"152\" font-family=\"Sans\" font-weight=\"bold\" font-size=\"15\" stroke=\"none\" fill=\"#000000\"><![CDATA[Repository]]></text>\n",
       "    <text x=\"175\" y=\"222\" font-family=\"Sans\" font-weight=\"bold\" font-size=\"15\" stroke=\"none\" fill=\"#000000\"><![CDATA[Database Layer]]></text>\n",
       "    <text x=\"283\" y=\"96\" font-family=\"Sans\" font-weight=\"bold\" font-size=\"15\" stroke=\"none\" fill=\"#000000\"><![CDATA[Domain Model]]></text>\n",
       "    <text x=\"314\" y=\"110\" font-family=\"Sans\" font-weight=\"bold\" font-size=\"15\" stroke=\"none\" fill=\"#000000\"><![CDATA[Objects]]></text>\n",
       "  </g>\n",
       "</svg>"
      ],
      "text/plain": [
       "<IPython.core.display.SVG object>"
      ]
     },
     "execution_count": 14,
     "metadata": {},
     "output_type": "execute_result"
    }
   ],
   "source": [
    "%%ditaa repository-pattern\n",
    "+----------------------------------------+\n",
    "|            Application Layer           |\n",
    "+----------------------------------------+\n",
    "               |^      /----------------\\\n",
    "               ||------|  Domain Model  |\n",
    "               ||      |     Objects    |\n",
    "               V|      \\----------------/\n",
    "+----------------------------------------+\n",
    "|               Repository               |\n",
    "+----------------------------------------+\n",
    "                |\n",
    "                V\n",
    "+----------------------------------------+\n",
    "|              Database Layer            |\n",
    "+----------------------------------------+        "
   ]
  },
  {
   "cell_type": "markdown",
   "metadata": {},
   "source": [
    "### The Repository in the Abstract"
   ]
  },
  {
   "cell_type": "code",
   "execution_count": 15,
   "metadata": {},
   "outputs": [],
   "source": [
    "from typing import Protocol, Iterable, Set\n",
    "import abc\n",
    "\n",
    "class AbstractRepository(abc.ABC):\n",
    "\n",
    "    @abc.abstractmethod\n",
    "    def add(self, batch: Batch):\n",
    "        raise NotImplementedError\n",
    "\n",
    "    @abc.abstractmethod\n",
    "    def get(self, reference) -> Batch:\n",
    "        raise NotImplementedError\n",
    "    \n",
    "    @abc.abstractmethod\n",
    "    def list(self) -> list[Batch]:\n",
    "        raise NotImplementedError     \n",
    "        \n",
    "    @abc.abstractmethod\n",
    "    def clear(self) -> None:\n",
    "        raise NotImplementedError\n",
    "\n",
    "# Alternative approache: using `Protocol`\n",
    "class RepositoryProtocol(Protocol):\n",
    "    \n",
    "    def add(self, batch: Batch) -> None:\n",
    "        pass\n",
    "\n",
    "    def get(self, reference) -> Batch:\n",
    "        pass\n",
    "    \n",
    "    def list(self) -> list[Batch]:\n",
    "        pass\n",
    "    \n",
    "    def clear(self) -> None:\n",
    "        pass"
   ]
  },
  {
   "cell_type": "markdown",
   "metadata": {},
   "source": [
    "### What is the Trade-Off?\n",
    "\n",
    "Introducing an extra layer of abstraction, \n",
    "- Will reduce complexity overall\n",
    "- But add complexity locally"
   ]
  },
  {
   "cell_type": "markdown",
   "metadata": {},
   "source": [
    "#### Concrete repository : `SqlAlchemyRepository`"
   ]
  },
  {
   "cell_type": "code",
   "execution_count": 16,
   "metadata": {},
   "outputs": [],
   "source": [
    "from typing import Optional, Callable\n",
    "\n",
    "class SqlAlchemyRepository(AbstractRepository):\n",
    "    \n",
    "    def __init__(self, session: Callable[[], SessionFactory]):\n",
    "        self.session = session\n",
    "    \n",
    "    def add(self, batch: Batch):\n",
    "        with self.session() as db:\n",
    "            db.add(batch)\n",
    "            db.commit()\n",
    "\n",
    "    def get(self, reference) -> Optional[Batch]:\n",
    "        with self.session() as db:\n",
    "            return db.query(Batch).filter_by(reference=reference).first()\n",
    "    \n",
    "    def list(self):\n",
    "        with self.session() as db:\n",
    "            return db.query(model.Batch).all()    \n",
    "    \n",
    "    def clear(self):\n",
    "        with self.session() as db:\n",
    "            db.execute('DELETE FROM allocation')\n",
    "            db.execute('DELETE FROM batch')\n",
    "            db.execute('DELETE FROM order_line')\n",
    "            db.commit()\n",
    "        \n",
    "# Repostory fixture\n",
    "def repo() -> AbstractRepository:\n",
    "    return SqlAlchemyRepository(session)            "
   ]
  },
  {
   "cell_type": "markdown",
   "metadata": {},
   "source": [
    "#### Repository test for saving an object"
   ]
  },
  {
   "cell_type": "code",
   "execution_count": 17,
   "metadata": {},
   "outputs": [
    {
     "name": "stdout",
     "output_type": "stream",
     "text": [
      "✅ \u001b[95mtest_repository_can_save_a_batch\u001b[0m\n"
     ]
    }
   ],
   "source": [
    "@mytest.unit\n",
    "def test_repository_can_save_a_batch(repo, session):\n",
    "    try:\n",
    "        batch = Batch(\"batch1\", \"RUSTY-SOAPDISH\", 100, eta=None)\n",
    "        repo.add(batch)\n",
    "        with session as db:\n",
    "            rows = list(db.execute(\n",
    "                'SELECT reference, sku, _purchased_quantity, eta FROM \"batch\"'\n",
    "            ))\n",
    "            assert rows == [(\"batch1\", \"RUSTY-SOAPDISH\", 100, None)]\n",
    "    finally:\n",
    "        repo.clear()"
   ]
  },
  {
   "cell_type": "markdown",
   "metadata": {},
   "source": [
    "#### Repository test for retrieving a complex object "
   ]
  },
  {
   "cell_type": "code",
   "execution_count": 18,
   "metadata": {},
   "outputs": [
    {
     "name": "stdout",
     "output_type": "stream",
     "text": [
      "✅ \u001b[95mtest_repository_can_retrieve_a_batch_with_allocations\u001b[0m\n"
     ]
    }
   ],
   "source": [
    "def insert_order_line(db, orderid=\"order1\", sku=\"GENERIC-SOFA\"):\n",
    "    db.execute(\n",
    "        'INSERT INTO order_line (orderid, sku, qty) '\n",
    "        'VALUES (:orderid, :sku, 12)',\n",
    "        dict(orderid=\"order1\", sku=\"GENERIC-SOFA\")\n",
    "    )\n",
    "    [orderline_id], *_ = db.execute(\n",
    "        'SELECT id FROM order_line WHERE orderid=:orderid AND sku=:sku',\n",
    "        dict(orderid=\"order1\", sku=\"GENERIC-SOFA\")\n",
    "    )\n",
    "    return orderline_id\n",
    "\n",
    "\n",
    "def insert_batch(db, reference, sku=\"GENERIC-SOFA\", qty=100):\n",
    "    db.execute(\n",
    "        'INSERT INTO batch (reference, sku, _purchased_quantity) '\n",
    "        'VALUES (:reference, :sku, :qty)',\n",
    "        dict(reference=reference, sku=sku, qty=qty)\n",
    "    )\n",
    "    [batch_id], *_ = db.execute(\n",
    "        'SELECT id FROM batch WHERE reference=:reference',\n",
    "        dict(reference=reference)\n",
    "    )\n",
    "    return batch_id\n",
    "\n",
    "\n",
    "def insert_allocation(db, orderline_id, batch_id):\n",
    "    db.execute(\n",
    "        'INSERT INTO allocation (orderline_id, batch_id) '\n",
    "        'VALUES (:orderline_id, :batch_id)',\n",
    "        dict(orderline_id=orderline_id, batch_id=batch_id)\n",
    "    )\n",
    "\n",
    "@mytest.unit\n",
    "def test_repository_can_retrieve_a_batch_with_allocations(repo, session):\n",
    "    try:\n",
    "        with session as db:\n",
    "            orderline_id = insert_order_line(db)\n",
    "            batch1_id = insert_batch(db, \"batch1\", qty=100)\n",
    "            batch2_id = insert_batch(db, \"batch2\")\n",
    "            insert_allocation(db, orderline_id, batch1_id)\n",
    "\n",
    "            retrieved = repo.get(\"batch1\")\n",
    "            expected = Batch(\"batch1\", sku=\"GENERIC-SOFA\", qty=100, eta=None)\n",
    "\n",
    "        assert retrieved == expected  # Batch.__eq__ only compares reference\n",
    "        assert retrieved.sku == expected.sku\n",
    "        assert retrieved._purchased_quantity == expected._purchased_quantity\n",
    "        assert retrieved._allocations == {\n",
    "            OrderLine(\"order1\", \"GENERIC-SOFA\", 12),\n",
    "        }\n",
    "    finally:\n",
    "        repo.clear()"
   ]
  },
  {
   "cell_type": "markdown",
   "metadata": {},
   "source": [
    "## Building a Fake Repository for Tests is Now Trivial!"
   ]
  },
  {
   "cell_type": "code",
   "execution_count": 19,
   "metadata": {},
   "outputs": [],
   "source": [
    "class FakeRepository(AbstractRepository):\n",
    "\n",
    "    def __init__(self, batches):\n",
    "        self._batches = set(batches)\n",
    "\n",
    "    def add(self, batch):\n",
    "        self._batches.add(batch)\n",
    "        \n",
    "    def get(self, reference):\n",
    "        return next(b for b in self._batches if b.reference == reference)\n",
    "\n",
    "    def list(self):\n",
    "        return list(self._batches)\n",
    "    \n",
    "    def clear(self):\n",
    "        self._batches = set()"
   ]
  },
  {
   "cell_type": "markdown",
   "metadata": {},
   "source": [
    "#### Example usage of fake repository "
   ]
  },
  {
   "cell_type": "code",
   "execution_count": 20,
   "metadata": {},
   "outputs": [],
   "source": [
    "def fake_repo():\n",
    "    batch1 = Batch(\"batch1\", sku=\"TEST-TABLE\", qty=100)\n",
    "    batch2 = Batch(\"batch2\", sku=\"TEST-CHAIR\", qty=50)\n",
    "    batch3 = Batch(\"batch3\", sku=\"TEST-CABLE\", qty=10)\n",
    "    return FakeRepository([batch1, batch2, batch3])\n",
    "\n",
    "def fake_request_params():\n",
    "    return [\n",
    "        dict(orderid=\"order1\", sku=\"TEST-TABLE\", qty=10),\n",
    "        dict(orderid=\"order2\", sku=\"TEST-TABLE\", qty=20),\n",
    "        dict(orderid=\"order3\", sku=\"TEST-CHAIR\", qty=30),\n",
    "        dict(orderid=\"order4\", sku=\"TEST-CABLE\", qty=10),\n",
    "    ]"
   ]
  },
  {
   "cell_type": "code",
   "execution_count": 21,
   "metadata": {},
   "outputs": [
    {
     "name": "stdout",
     "output_type": "stream",
     "text": [
      "✅ \u001b[95mtest_fake_repo\u001b[0m\n"
     ]
    }
   ],
   "source": [
    "from app.services import allocate\n",
    "\n",
    "@mytest.unit\n",
    "def test_fake_repo(fake_repo, session, fake_request_params):\n",
    "    with session as db:\n",
    "        batches = fake_repo.list()\n",
    "        lines = [\n",
    "            OrderLine(l['orderid'], l['sku'], l['qty'])\n",
    "            for l in fake_request_params\n",
    "        ]\n",
    "        \n",
    "        for line in lines:\n",
    "            allocate(line, batches)\n",
    "        db.commit()    "
   ]
  },
  {
   "cell_type": "markdown",
   "metadata": {},
   "source": [
    "## What is a Port and What is an Adapter, in Python?"
   ]
  },
  {
   "cell_type": "markdown",
   "metadata": {},
   "source": [
    "Ports and adapters came out of the OO world\n",
    "- **port** : an interface between our application and whatever we wish to abstract away\n",
    "- **adapter** : an implementation behind that interface or abstraction.\n",
    "\n",
    "Python doesn't have interfaces, so defining a port can be simulated with `abc.ABC` or `Protocol`.\n",
    "\n",
    "In this chapter,\n",
    "- port : `AbstractRepository`.\n",
    "- adapters : `SqlAlchemyRepository` and `FakeRepository`."
   ]
  },
  {
   "cell_type": "markdown",
   "metadata": {},
   "source": [
    "## Wrap-Up"
   ]
  },
  {
   "cell_type": "markdown",
   "metadata": {},
   "source": [
    "- Summerize the costs and benefits of each architectural pattern we introduce. \n",
    "- Every single application *DO NOT* need to be built this way\n",
    "  - Make sure the overall complexity of the repository pattern makes it worth in adding extra layers of indirection.\n",
    "  - If your app is just a simple CRUD wrapper around a database, then YOU DON'T NEED a domain model or a repository."
   ]
  },
  {
   "cell_type": "markdown",
   "metadata": {},
   "source": [
    "####  Repository pattern and persistence ignorance: the trade-offs"
   ]
  },
  {
   "cell_type": "markdown",
   "metadata": {},
   "source": [
    "<table>\n",
    "<thead>\n",
    "<tr style=\"font-size: 14px\"><th>Pros</th><th>Cons</th></tr>\n",
    "</thead>\n",
    "<tbody>\n",
    "<tr>\n",
    "<td style=\"width: 50%; vertical-align: top\">\n",
    "  <ul style=\"font-size: 14px\">\n",
    "    <li>We have a simple interface between persistent storage and our domain model.</li>\n",
    "    <li>It’s easy to make a fake version of the repository for unit testing, or to swap out different storage solutions, because we’ve fully decoupled the model from infrastructure concerns.</li>\n",
    "    <li>Writing the domain model before thinking about persistence helps us focus on the business problem at hand. If we ever want to radically change our approach, we can do that in our model, without needing to worry about foreign keys or migrations until later.</li>\n",
    "    <li>Our database schema is really simple because we have complete control over how we map our objects to tables.</li>\n",
    "  </ul>\n",
    "</td>\n",
    "<td style=\"width: 50%; vertical-align: top\">\n",
    "  <ul style=\"font-size: 14px\">\n",
    "  <li>An ORM already buys you some decoupling. Changing foreign keys might be hard, but it should be pretty easy to swap between MySQL and Postgres if you ever need to.</li>\n",
    "  <li>Maintaining ORM mappings by hand requires extra work and extra code.</li>\n",
    "  <li>Any extra layer of indirection always increases maintenance costs and adds a \"WTF factor\" for Python programmers who’ve never seen the Repository pattern before.</li>\n",
    "  </ul>\n",
    "</td>\n",
    "</tbody>\n",
    "</table>"
   ]
  },
  {
   "cell_type": "markdown",
   "metadata": {},
   "source": [
    "![](images/apwp_0206.png)"
   ]
  },
  {
   "cell_type": "markdown",
   "metadata": {},
   "source": [
    "#### Repository Pattern Recap"
   ]
  },
  {
   "cell_type": "markdown",
   "metadata": {},
   "source": [
    "##### Apply dependency inversion to your ORM\n",
    "\n",
    "Our domain model should be free of infrastructure concerns, so your ORM should import your model, and not the other way around.\n",
    "\n",
    "##### The Repository pattern is a simple abstraction around permanent storage\n",
    "\n",
    "The repository gives you the illusion of a collection of in-memory objects. It makes it easy to create a FakeRepository for testing and to swap fundamental details of your infrastructure without disrupting your core application. See [appendix_csvs] for an example."
   ]
  },
  {
   "cell_type": "code",
   "execution_count": 22,
   "metadata": {
    "tags": [
     "hidden"
    ]
   },
   "outputs": [
    {
     "name": "stdout",
     "output_type": "stream",
     "text": [
      "[NbConvertApp] Converting notebook 02-repository-pattern.ipynb to html\n",
      "[NbConvertApp] Writing 671934 bytes to exports/02-repository-pattern.html\n"
     ]
    }
   ],
   "source": [
    "!jupyter nbconvert 02-repository-pattern.ipynb --output-dir=./exports --to html \\\n",
    "  --TagRemovePreprocessor.remove_input_tags='{\"hidden-input\"}' \\\n",
    "  --TagRemovePreprocessor.remove_all_outputs_tags='{\"hidden-output\"}' \\\n",
    "  --TagRemovePreprocessor.remove_cell_tags='{\"hidden\"}'"
   ]
  },
  {
   "cell_type": "code",
   "execution_count": null,
   "metadata": {},
   "outputs": [],
   "source": []
  }
 ],
 "metadata": {
  "kernelspec": {
   "display_name": "Python 3",
   "language": "python",
   "name": "python3"
  },
  "language_info": {
   "codemirror_mode": {
    "name": "ipython",
    "version": 3
   },
   "file_extension": ".py",
   "mimetype": "text/x-python",
   "name": "python",
   "nbconvert_exporter": "python",
   "pygments_lexer": "ipython3",
   "version": "3.9.1"
  }
 },
 "nbformat": 4,
 "nbformat_minor": 4
}
