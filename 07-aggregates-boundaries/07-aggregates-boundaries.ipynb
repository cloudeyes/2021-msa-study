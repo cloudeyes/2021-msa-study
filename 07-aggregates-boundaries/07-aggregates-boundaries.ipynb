{
 "cells": [
  {
   "cell_type": "markdown",
   "metadata": {
    "nbsphinx": "hidden"
   },
   "source": [
    "<center style=\"font-size: 16px; font-weight: normal\">\n",
    "  `21 Microservices Architecture Patterns Study</center>\n",
    "\n",
    "<center><h1>Chapter 7. Aggregates and Consistency Boundaries</h1></center>\n",
    "\n",
    "<center>\n",
    "  Joseph Kim &lt;cloudeyes@gmail.com&gt;<br/>\n",
    "  Jan 28. 2021<br/>\n",
    "</center>\n",
    "\n",
    "<center>\n",
    "  <img src=\"https://images-na.ssl-images-amazon.com/images/I/51-q9CWNBHL._SX379_BO1,204,203,200_.jpg\" style=\"width: 200px\">\n",
    "</center>\n",
    "\n",
    "<center>\n",
    "  <a href=\"https://github.com/cloudeyes/2021-msa-study/blob/main/07-aggregates-boundaries/07-aggregates-boundaries.ipynb\">Download Jupyter Notebook</a>\n",
    "</center>"
   ]
  },
  {
   "cell_type": "markdown",
   "metadata": {},
   "source": [
    "# 07. Aggregates and Consistency Boundaries"
   ]
  },
  {
   "cell_type": "markdown",
   "metadata": {},
   "source": [
    "## Introduction"
   ]
  },
  {
   "cell_type": "markdown",
   "metadata": {},
   "source": [
    "### Sanity Checks for the project"
   ]
  },
  {
   "cell_type": "markdown",
   "metadata": {},
   "source": [
    "#### Project structure"
   ]
  },
  {
   "cell_type": "code",
   "execution_count": 1,
   "metadata": {},
   "outputs": [
    {
     "name": "stdout",
     "output_type": "stream",
     "text": [
      "\u001b[01;34mapp\u001b[00m\n",
      "├── __init__.py\n",
      "├── __main__.py\n",
      "├── \u001b[01;34madapters\u001b[00m\n",
      "│   ├── __init__.py\n",
      "│   ├── orm.py\n",
      "│   └── repository.py\n",
      "├── \u001b[01;34mapps\u001b[00m\n",
      "│   ├── __init__.py\n",
      "│   ├── fastapi.py\n",
      "│   └── flask.py\n",
      "├── config.py\n",
      "├── \u001b[01;34mdomain\u001b[00m\n",
      "│   ├── __init__.py\n",
      "│   └── models.py\n",
      "├── requirements.txt\n",
      "├── \u001b[01;34mroutes\u001b[00m\n",
      "│   ├── __init__.py\n",
      "│   └── flask.py\n",
      "└── \u001b[01;34mservices\u001b[00m\n",
      "    ├── __init__.py\n",
      "    ├── batch.py\n",
      "    └── uow.py\n",
      "\n",
      "5 directories, 17 files\n"
     ]
    }
   ],
   "source": [
    "!tree app -I '__pycache__' --sort=version"
   ]
  },
  {
   "cell_type": "code",
   "execution_count": 2,
   "metadata": {},
   "outputs": [
    {
     "name": "stdout",
     "output_type": "stream",
     "text": [
      "\u001b[1m\u001b[32mSuccess: no issues found in 16 source files\u001b[m\n"
     ]
    }
   ],
   "source": [
    "!mypy -p app --strict"
   ]
  },
  {
   "cell_type": "code",
   "execution_count": 3,
   "metadata": {},
   "outputs": [
    {
     "name": "stdout",
     "output_type": "stream",
     "text": [
      "\n",
      "--------------------------------------------------------------------\n",
      "Your code has been rated at 10.00/10 (previous run: 10.00/10, +0.00)\n",
      "\n",
      "\u001b[0m"
     ]
    }
   ],
   "source": [
    "!pylint app"
   ]
  },
  {
   "cell_type": "code",
   "execution_count": 4,
   "metadata": {},
   "outputs": [
    {
     "name": "stdout",
     "output_type": "stream",
     "text": [
      "\u001b[1m============================= test session starts ==============================\u001b[0m\n",
      "platform linux -- Python 3.9.1, pytest-6.1.2, py-1.10.0, pluggy-0.13.1\n",
      "rootdir: /home/ykkim/notebooks/2021-msa-study/07-aggregates-boundaries\n",
      "plugins: flask-1.1.0, anyio-2.0.2\n",
      "collected 32 items                                                             \u001b[0m\n",
      "\n",
      "tests/e2e/test_api.py \u001b[32m.\u001b[0m\u001b[32m                                                  [  3%]\u001b[0m\n",
      "tests/integration/test_orm.py \u001b[32m.\u001b[0m\u001b[32m.\u001b[0m\u001b[32m.\u001b[0m\u001b[32m.\u001b[0m\u001b[32m.\u001b[0m\u001b[32m.\u001b[0m\u001b[32m                                     [ 21%]\u001b[0m\n",
      "tests/integration/test_repository.py \u001b[32m.\u001b[0m\u001b[32m.\u001b[0m\u001b[32m                                  [ 28%]\u001b[0m\n",
      "tests/integration/test_uow.py \u001b[32m.\u001b[0m\u001b[32m.\u001b[0m\u001b[32m.\u001b[0m\u001b[32m.\u001b[0m\u001b[32m                                       [ 40%]\u001b[0m\n",
      "tests/unit/test_allocate.py \u001b[32m.\u001b[0m\u001b[32m.\u001b[0m\u001b[32m.\u001b[0m\u001b[32m.\u001b[0m\u001b[32m                                         [ 53%]\u001b[0m\n",
      "tests/unit/test_batch.py \u001b[32m.\u001b[0m\u001b[32m.\u001b[0m\u001b[32m.\u001b[0m\u001b[32m.\u001b[0m\u001b[32m.\u001b[0m\u001b[32m.\u001b[0m\u001b[32m.\u001b[0m\u001b[32m.\u001b[0m\u001b[32m.\u001b[0m\u001b[32m                                       [ 81%]\u001b[0m\n",
      "tests/unit/test_services.py \u001b[32m.\u001b[0m\u001b[32m.\u001b[0m\u001b[32m.\u001b[0m\u001b[32m.\u001b[0m\u001b[32m.\u001b[0m\u001b[32m.\u001b[0m\u001b[32m                                       [100%]\u001b[0m\n",
      "\n",
      "\u001b[32m============================== \u001b[32m\u001b[1m32 passed\u001b[0m\u001b[32m in 1.06s\u001b[0m\u001b[32m ==============================\u001b[0m\n"
     ]
    }
   ],
   "source": [
    "!pytest"
   ]
  },
  {
   "cell_type": "markdown",
   "metadata": {},
   "source": [
    "### 테스트 피라미드는?"
   ]
  },
  {
   "cell_type": "code",
   "execution_count": 5,
   "metadata": {},
   "outputs": [
    {
     "data": {
      "text/plain": [
       "{'unit': 20, 'integration': 12, 'e2e': 1}"
      ]
     },
     "execution_count": 5,
     "metadata": {},
     "output_type": "execute_result"
    }
   ],
   "source": [
    "from tests.utils import get_test_counts, show_test_pyramid\n",
    "test_counts = get_test_counts(); test_counts"
   ]
  },
  {
   "cell_type": "code",
   "execution_count": 6,
   "metadata": {},
   "outputs": [
    {
     "data": {
      "image/svg+xml": [
       "<svg xmlns=\"http://www.w3.org/2000/svg\" viewBox=\"0 0 400 150\" width=\"400\" height=\"150\">\n",
       "      <polygon points=\"155,140 203,75 269,10 281,10 347,75 395,140\" style=\"fill:none;stroke:black;stroke-width:2\"/>\n",
       "       <text x=\"0\" y=\"135\">unit: 20</text>\n",
       "       <text x=\"0\" y=\"75\">integration: 12</text>\n",
       "       <text x=\"0\" y=\"20\">e2e: 1</text>\n",
       "    </svg>"
      ],
      "text/plain": [
       "<IPython.core.display.SVG object>"
      ]
     },
     "execution_count": 6,
     "metadata": {},
     "output_type": "execute_result"
    }
   ],
   "source": [
    "show_test_pyramid(test_counts)"
   ]
  },
  {
   "cell_type": "markdown",
   "metadata": {},
   "source": [
    "## Why Not Just Run Everything in a Spreadsheet?"
   ]
  },
  {
   "cell_type": "markdown",
   "metadata": {},
   "source": [
    "이메일로 스프레드시트 파일을 교환하며 일하는 것은 흔한 방법입니다. 하지만 이 방법으로는 대규모 변경이나 제약조건을 케어하기 어렵습니다.\n",
    "특히 이메일 수신자가 여러명이고 이 사용자들이 동시에 셀을 수정하거나 변경했다고 하면 변경 충돌을 제대로 병합할 수가 없습니다.\n",
    "\n",
    "시스템의 제약 조건, 즉, 불변성(invariants)을 만족시킬 수 있는 작업이 필요합니다. \n",
    "\n",
    "**[개인적인 생각]**\n",
    "\n",
    "- 스프레드시트에도 셀에 제약조건을 걸 수 있긴 합니다.\n",
    "- 스프레드시트를 공유할 경우 셀에 동시에 여러 사용자가 수정하는 것을 방지할 수 있는 것으로 알고 있습니다.\n",
    "- 하지만 이게 스프레드시트를 이메일로 공유하는 방식은 아니니까 넘어갑시다."
   ]
  },
  {
   "cell_type": "markdown",
   "metadata": {},
   "source": [
    "## Invariants, Constraints, and Consistency"
   ]
  },
  {
   "cell_type": "markdown",
   "metadata": {},
   "source": [
    "이 책에서 계속 만들고 있는 MADE.COM(가구 리테일 시스템)의 비즈니스 규칙으로부터 불변 조건을 생각해봅시다.\n",
    "\n",
    "> An order line can be allocated to only one batch at a time.\n",
    "\n",
    "한 주문선은 오직 한 배치에만 할당될 수 있다는 조건입니다. 즉 다음과 같은 관계를 암시합니다."
   ]
  },
  {
   "cell_type": "code",
   "execution_count": 7,
   "metadata": {
    "collapsed": true,
    "jupyter": {
     "outputs_hidden": true,
     "source_hidden": true
    },
    "nbsphinx": "hidden"
   },
   "outputs": [
    {
     "data": {
      "image/svg+xml": [
       "<svg xmlns=\"http://www.w3.org/2000/svg\" xmlns:xlink=\"http://www.w3.org/1999/xlink\" contentScriptType=\"application/ecmascript\" contentStyleType=\"text/css\" height=\"51px\" preserveAspectRatio=\"none\" style=\"width:237px;height:51px;\" version=\"1.1\" viewBox=\"0 0 237 51\" width=\"237px\" zoomAndPan=\"magnify\"><defs><filter height=\"300%\" id=\"fzy8xiqlgp3fg\" width=\"300%\" x=\"-1\" y=\"-1\"><feGaussianBlur result=\"blurOut\" stdDeviation=\"2.0\"/><feColorMatrix in=\"blurOut\" result=\"blurOut2\" type=\"matrix\" values=\"0 0 0 0 0 0 0 0 0 0 0 0 0 0 0 0 0 0 .4 0\"/><feOffset dx=\"4.0\" dy=\"4.0\" in=\"blurOut2\" result=\"blurOut3\"/><feBlend in=\"SourceGraphic\" in2=\"blurOut3\" mode=\"normal\"/></filter></defs><g><!--class OrderLine--><rect fill=\"#FEFECE\" filter=\"url(#fzy8xiqlgp3fg)\" height=\"32\" id=\"OrderLine\" style=\"stroke: #A80036; stroke-width: 1.5;\" width=\"92\" x=\"6\" y=\"8\"/><ellipse cx=\"21\" cy=\"24\" fill=\"#ADD1B2\" rx=\"11\" ry=\"11\" style=\"stroke: #A80036; stroke-width: 1.0;\"/><path d=\"M23.9688,29.6406 Q23.3906,29.9375 22.75,30.0781 Q22.1094,30.2344 21.4063,30.2344 Q18.9063,30.2344 17.5781,28.5938 Q16.2656,26.9375 16.2656,23.8125 Q16.2656,20.6875 17.5781,19.0313 Q18.9063,17.375 21.4063,17.375 Q22.1094,17.375 22.75,17.5313 Q23.4063,17.6875 23.9688,17.9844 L23.9688,20.7031 Q23.3438,20.125 22.75,19.8594 Q22.1563,19.5781 21.5313,19.5781 Q20.1875,19.5781 19.5,20.6563 Q18.8125,21.7188 18.8125,23.8125 Q18.8125,25.9063 19.5,26.9844 Q20.1875,28.0469 21.5313,28.0469 Q22.1563,28.0469 22.75,27.7813 Q23.3438,27.5 23.9688,26.9219 L23.9688,29.6406 Z \"/><text fill=\"#000000\" font-family=\"sans-serif\" font-size=\"12\" lengthAdjust=\"spacingAndGlyphs\" textLength=\"60\" x=\"35\" y=\"28.1543\">OrderLine</text><!--class Batch--><rect fill=\"#FEFECE\" filter=\"url(#fzy8xiqlgp3fg)\" height=\"32\" id=\"Batch\" style=\"stroke: #A80036; stroke-width: 1.5;\" width=\"68\" x=\"158\" y=\"8\"/><ellipse cx=\"173\" cy=\"24\" fill=\"#ADD1B2\" rx=\"11\" ry=\"11\" style=\"stroke: #A80036; stroke-width: 1.0;\"/><path d=\"M175.9688,29.6406 Q175.3906,29.9375 174.75,30.0781 Q174.1094,30.2344 173.4063,30.2344 Q170.9063,30.2344 169.5781,28.5938 Q168.2656,26.9375 168.2656,23.8125 Q168.2656,20.6875 169.5781,19.0313 Q170.9063,17.375 173.4063,17.375 Q174.1094,17.375 174.75,17.5313 Q175.4063,17.6875 175.9688,17.9844 L175.9688,20.7031 Q175.3438,20.125 174.75,19.8594 Q174.1563,19.5781 173.5313,19.5781 Q172.1875,19.5781 171.5,20.6563 Q170.8125,21.7188 170.8125,23.8125 Q170.8125,25.9063 171.5,26.9844 Q172.1875,28.0469 173.5313,28.0469 Q174.1563,28.0469 174.75,27.7813 Q175.3438,27.5 175.9688,26.9219 L175.9688,29.6406 Z \"/><text fill=\"#000000\" font-family=\"sans-serif\" font-size=\"12\" lengthAdjust=\"spacingAndGlyphs\" textLength=\"36\" x=\"187\" y=\"28.1543\">Batch</text><!--link OrderLine to Batch--><path d=\"M98.19,24 C115.85,24 135.89,24 152.82,24 \" fill=\"none\" id=\"OrderLine-Batch\" style=\"stroke: #A80036; stroke-width: 1.0;\"/><polygon fill=\"#A80036\" points=\"157.97,24,148.97,20,152.97,24,148.97,28,157.97,24\" style=\"stroke: #A80036; stroke-width: 1.0;\"/><text fill=\"#000000\" font-family=\"sans-serif\" font-size=\"13\" lengthAdjust=\"spacingAndGlyphs\" textLength=\"24\" x=\"126.0586\" y=\"37.3674\">0..1</text><!--\n",
       "@startuml ../images/orderline-relation\n",
       "hide members\n",
       "left to right direction\n",
       "\n",
       "class OrderLine\n",
       "class Batch\n",
       "\n",
       "OrderLine - -> \"0..1\" Batch\n",
       "\n",
       "@enduml\n",
       "\n",
       "PlantUML version 1.2018.13(Tue Nov 27 02:11:51 KST 2018)\n",
       "(GPL source distribution)\n",
       "Java Runtime: Java(TM) SE Runtime Environment\n",
       "JVM: Java HotSpot(TM) 64-Bit Server VM\n",
       "Java Version: 15.0.1+9-18\n",
       "Operating System: Linux\n",
       "OS Version: 5.4.0-1036-azure\n",
       "Default Encoding: UTF-8\n",
       "Language: en\n",
       "Country: US\n",
       "--></g></svg>"
      ],
      "text/plain": [
       "<IPython.core.display.SVG object>"
      ]
     },
     "execution_count": 7,
     "metadata": {},
     "output_type": "execute_result"
    }
   ],
   "source": [
    "%%plantuml\n",
    "@startuml ../images/orderline-relation\n",
    "hide members\n",
    "left to right direction\n",
    "\n",
    "class OrderLine\n",
    "class Batch\n",
    "\n",
    "OrderLine --> \"0..1\" Batch\n",
    "\n",
    "@enduml"
   ]
  },
  {
   "cell_type": "markdown",
   "metadata": {},
   "source": [
    "![](images/orderline-relation.svg)"
   ]
  },
  {
   "cell_type": "markdown",
   "metadata": {},
   "source": [
    "하지만 현재 `allocate` 서비스 함수에는 이런 제약조건의 유효성 검사 규칙이 없습니다. `can_allocate`를 만족하는 한, 동일한 `OrderLine`에 같은 배치를 여러번 할당 할 수 있습니다.\n",
    "\n",
    "```python\n",
    "\n",
    "def allocate(line: OrderLine, batches: list[Batch]) -> str:\n",
    "    \"\"\"주어진 배치들 중 할당 가능하고  가장 ETA가 빠른 배치를 주문선 `line`에 할당합니다.\n",
    "\n",
    "    Raises:\n",
    "        :class:`OutOfStock` 할당 가능한 배치가 없을 때 발생하는 예외.\n",
    "    \"\"\"\n",
    "    try:\n",
    "        batch = next(b for b in sorted(batches) if b.can_allocate(line))\n",
    "        batch.allocate(line)\n",
    "        return batch.reference\n",
    "    except StopIteration as ex:\n",
    "        raise OutOfStock(f'Out of stock for sku {line.sku}') from ex\n",
    "```\n",
    "\n",
    "**[의문점]**\n",
    "\n",
    "- 이럴거면 왜 `Batch` 와 `OrderLine` 관계를 N:M 구조로 모델링 했는지 이해할 수 없네요. 계속 살펴봅시다."
   ]
  },
  {
   "cell_type": "markdown",
   "metadata": {},
   "source": [
    "### Invariants, Concurrency, and Locks"
   ]
  },
  {
   "cell_type": "markdown",
   "metadata": {},
   "source": [
    "동시성 문제가 더해지면 불변성 제약을 만족시키란 더 어려워집니다. 다음 비즈니스 규칙을 생각해봅시다.\n",
    "\n",
    "> We can’t allocate to a batch if the available quantity is less than the quantity of the order line.\n",
    "\n",
    "위의 `allocate` 서비스 함수 구현을 보면 `can_allocate` 함수를 통해 이 조건에 대한 유효성 검사가 이뤄지고 있다는 것을 알 수 있습니다. 하지만 동시에 여러 작업이 처리되는 경우 할당 후 커밋 전에 다른 스레드/프로세스에서 재고가 있는 것으로 간주되어 중복으로 할당할 수 있습니다.\n",
    "\n",
    "물론 DB 행이나 테이블에 락을 걸면 간단히 해결되는 경우도 있지만, 이 경우 락으로 인한 성능 저하가 발생합니다. 더 큰 문제점은 불변성 검사를 해야 하는 객체들이 늘어나면서 관리 복잡성이 증가하고 잘못된 락에 의한 데드락의 위험이 커지게 된다는 점입니다.\n",
    "\n",
    "불변성을 만족해야 하는 객체들을 보다 효과적으로 관리할 방법이 있을까요?"
   ]
  },
  {
   "cell_type": "markdown",
   "metadata": {},
   "source": [
    "## What Is an Aggregate?"
   ]
  },
  {
   "cell_type": "markdown",
   "metadata": {},
   "source": [
    "이런 문제를 해결하는 방법으로 DDD 커뮤니티에서는 **Aggregate 패턴** 을 제시합니다.\n",
    "\n",
    "전체 데이터베이스에 락을 거는 대신, 불변성을 만족하는 논리적인 \"덩어리\"를 만드는 것입니다.\n",
    "\n",
    "예를 들어 동일한 품목(SKU)을 여러 사용자가 동시에 할당하려 할경우 과할당 되는 동시성 문제가 발생 가능하지만\n",
    "서로 다른 품목들을 동시에 할당하는 것은 문제가 발생하지 않습니다.\n",
    "\n",
    "이런 동일 품목 단위의 객체들을 \"덩어리(Aggregate)\"로 뭉쳐서 별도의 모델로 정의하고 이 덩어리 모델에 대한 메소드를 호출하여 동시성 문제를 해결하고, 여러 객체간의 복잡한 상화작용을 단순화하며, 처리 성능을 최적화하는 것이 Aggregate 패턴의 핵심 아이디어 입니다.\n",
    "\n",
    "유식한 말로 \"불변성 지키는 책임을 가진 객체들이 모인 단일 일관성의 경계(a single consistency boundary)\"를 찾는 것입니다. 쇼핑몰의 장바구니가 대표적인 예라고 할 수 있습니다.\n",
    "\n",
    "에릭 에반스는 그의 저서인 DDD에서 다음과 같이 Aggregate를 정의합니다. \n",
    "\n",
    "> An AGGREGATE is a cluster of associated objects that we treat as a unit for the purpose of data changes.\n",
    ">\n",
    "> -- Eric Evans, Domain-Driven Design blue book"
   ]
  },
  {
   "cell_type": "markdown",
   "metadata": {},
   "source": [
    "## Choosing an Aggregate"
   ]
  },
  {
   "cell_type": "markdown",
   "metadata": {},
   "source": [
    "그런데 이런 \"단일 일관성 경계\"를 어떻게 찾아내서 덩어리로 만들라는 말인가요?\n",
    "\n",
    "일단 일관성을 지켜야 하는것이 명확해 보이는 객체들을 여러 크기와 종류의 덩어리로 만들어보고 그 덩어리에 적절한 이름(도메인 모델)을 붙인뒤 이름에 대한 작업이 우리가 원하는 일관성과 성능목표를 만족하는지 검토해 보는것입니다. (성능을 위해서 크기는 작을수록 좋습니다.)\n",
    "\n",
    "예를 들어, 지금 우리가 중점을 두는것은 배치(Batch)들을 어떻게 각각의 일관성의 섬으로 군집화하냐는 것입니다. 배송(Shipment)단위나 창고 단위의 덩어리는 너무 크다는 것을 알 수 있습니다. 스푼 박스와 젓가락 박스는 다른 품목이기 때문에  여러 주문선들에 동시 할당이 가능한데, 창고 단위의 Aggregate의 경우 다른 주문선의 할당 완료를 기다려야 하기 때문입니다. \n",
    "\n",
    "결론적으로 같은 품목끼리 일관성을 유지하는 군집화가 가장 합리적입니다. 그리고 이 덩어리를 가장 적절하게 붙일 수 있는 이름은 `Product` 입니다.\n",
    "\n",
    "사실 `Product` 모델은 1장에서 도메인 언어를 모델링할 때 이미 살펴봤던 것입니다."
   ]
  },
  {
   "cell_type": "markdown",
   "metadata": {},
   "source": [
    "![](images/domain-model.svg)"
   ]
  },
  {
   "cell_type": "code",
   "execution_count": 8,
   "metadata": {
    "collapsed": true,
    "jupyter": {
     "outputs_hidden": true,
     "source_hidden": true
    },
    "nbsphinx": "hidden"
   },
   "outputs": [
    {
     "data": {
      "image/svg+xml": [
       "<svg xmlns=\"http://www.w3.org/2000/svg\" xmlns:xlink=\"http://www.w3.org/1999/xlink\" contentScriptType=\"application/ecmascript\" contentStyleType=\"text/css\" height=\"312px\" preserveAspectRatio=\"none\" style=\"width:387px;height:312px;\" version=\"1.1\" viewBox=\"0 0 387 312\" width=\"387px\" zoomAndPan=\"magnify\"><defs><filter height=\"300%\" id=\"f2aedmbc9x955\" width=\"300%\" x=\"-1\" y=\"-1\"><feGaussianBlur result=\"blurOut\" stdDeviation=\"2.0\"/><feColorMatrix in=\"blurOut\" result=\"blurOut2\" type=\"matrix\" values=\"0 0 0 0 0 0 0 0 0 0 0 0 0 0 0 0 0 0 .4 0\"/><feOffset dx=\"4.0\" dy=\"4.0\" in=\"blurOut2\" result=\"blurOut3\"/><feBlend in=\"SourceGraphic\" in2=\"blurOut3\" mode=\"normal\"/></filter></defs><g><!--cluster ServiceLayer--><polygon fill=\"#FFFFFF\" filter=\"url(#f2aedmbc9x955)\" points=\"22,34,103,34,110,62.6309,128,62.6309,128,134,22,134,22,34\" style=\"stroke: #000000; stroke-width: 1.5;\"/><line style=\"stroke: #000000; stroke-width: 1.5;\" x1=\"22\" x2=\"110\" y1=\"62.6309\" y2=\"62.6309\"/><text fill=\"#000000\" font-family=\"Segoe UI\" font-size=\"11\" font-weight=\"bold\" lengthAdjust=\"spacingAndGlyphs\" textLength=\"67\" x=\"30\" y=\"51.8701\">Service Layer</text><!--cluster Repositories--><polygon fill=\"#FFFFFF\" filter=\"url(#f2aedmbc9x955)\" points=\"213,24,291,24,298,52.6309,365,52.6309,365,144,213,144,213,24\" style=\"stroke: #000000; stroke-width: 1.5;\"/><line style=\"stroke: #000000; stroke-width: 1.5;\" x1=\"213\" x2=\"298\" y1=\"52.6309\" y2=\"52.6309\"/><text fill=\"#000000\" font-family=\"Segoe UI\" font-size=\"11\" font-weight=\"bold\" lengthAdjust=\"spacingAndGlyphs\" textLength=\"64\" x=\"221\" y=\"41.8701\">Repositories</text><!--cluster DomainModel--><polygon fill=\"#FFFFFF\" filter=\"url(#f2aedmbc9x955)\" points=\"22,200,114,200,121,228.6309,227,228.6309,227,300,22,300,22,200\" style=\"stroke: #000000; stroke-width: 1.5;\"/><line style=\"stroke: #000000; stroke-width: 1.5;\" x1=\"22\" x2=\"121\" y1=\"228.6309\" y2=\"228.6309\"/><text fill=\"#000000\" font-family=\"Segoe UI\" font-size=\"11\" font-weight=\"bold\" lengthAdjust=\"spacingAndGlyphs\" textLength=\"78\" x=\"30\" y=\"217.8701\">Domain Model</text><!--entity service_allocate--><rect fill=\"#B5E2FA\" filter=\"url(#f2aedmbc9x955)\" height=\"42.6309\" style=\"stroke: #0FA3B1; stroke-width: 1.5;\" width=\"74\" x=\"38\" y=\"75\"/><text fill=\"#000000\" font-family=\"Segoe UI\" font-size=\"11\" lengthAdjust=\"spacingAndGlyphs\" textLength=\"46\" x=\"52\" y=\"100.8701\">allocate()</text><!--class BatchRepository--><rect fill=\"#B5E2FA\" filter=\"url(#f2aedmbc9x955)\" height=\"63.2617\" id=\"BatchRepository\" style=\"stroke: #0FA3B1; stroke-width: 1.5;\" width=\"119\" x=\"229.5\" y=\"65\"/><ellipse cx=\"242.5\" cy=\"81.3154\" fill=\"#EDDEA4\" rx=\"9\" ry=\"9\" style=\"stroke: #0FA3B1; stroke-width: 1.0;\"/><path d=\"M243.8125,85.0811 Q243.4375,85.2842 243.0156,85.3779 Q242.6094,85.4717 242.1406,85.4717 Q240.5313,85.4717 239.6719,84.4092 Q238.8125,83.3311 238.8125,81.3154 Q238.8125,79.2842 239.6719,78.2217 Q240.5313,77.1436 242.1406,77.1436 Q242.6094,77.1436 243.0156,77.2529 Q243.4375,77.3467 243.8125,77.5342 L243.8125,79.2998 Q243.3906,78.9248 243,78.7529 Q242.625,78.5811 242.2188,78.5811 Q241.3594,78.5811 240.9063,79.2686 Q240.4688,79.9561 240.4688,81.3154 Q240.4688,82.6748 240.9063,83.3623 Q241.3594,84.0498 242.2188,84.0498 Q242.625,84.0498 243,83.8779 Q243.3906,83.7061 243.8125,83.3154 L243.8125,85.0811 Z \"/><text fill=\"#000000\" font-family=\"Segoe UI\" font-size=\"11\" lengthAdjust=\"spacingAndGlyphs\" textLength=\"83\" x=\"258.5\" y=\"85.8701\">BatchRepository</text><line style=\"stroke: #0FA3B1; stroke-width: 1.5;\" x1=\"230.5\" x2=\"347.5\" y1=\"97.6309\" y2=\"97.6309\"/><text fill=\"#000000\" font-family=\"Segoe UI\" font-size=\"11\" lengthAdjust=\"spacingAndGlyphs\" textLength=\"21\" x=\"239.5\" y=\"117.501\">list()</text><!--entity domain_allocate--><rect fill=\"#B5E2FA\" filter=\"url(#f2aedmbc9x955)\" height=\"42.6309\" style=\"stroke: #0FA3B1; stroke-width: 1.5;\" width=\"74\" x=\"38\" y=\"241\"/><text fill=\"#000000\" font-family=\"Segoe UI\" font-size=\"11\" lengthAdjust=\"spacingAndGlyphs\" textLength=\"46\" x=\"52\" y=\"266.8701\">allocate()</text><!--class Batch--><rect fill=\"#B5E2FA\" filter=\"url(#f2aedmbc9x955)\" height=\"32.6309\" id=\"Batch\" style=\"stroke: #0FA3B1; stroke-width: 1.5;\" width=\"64\" x=\"147\" y=\"246\"/><ellipse cx=\"160\" cy=\"262.3154\" fill=\"#EDDEA4\" rx=\"9\" ry=\"9\" style=\"stroke: #0FA3B1; stroke-width: 1.0;\"/><path d=\"M161.3125,266.0811 Q160.9375,266.2842 160.5156,266.3779 Q160.1094,266.4717 159.6406,266.4717 Q158.0313,266.4717 157.1719,265.4092 Q156.3125,264.3311 156.3125,262.3154 Q156.3125,260.2842 157.1719,259.2217 Q158.0313,258.1436 159.6406,258.1436 Q160.1094,258.1436 160.5156,258.2529 Q160.9375,258.3467 161.3125,258.5342 L161.3125,260.2998 Q160.8906,259.9248 160.5,259.7529 Q160.125,259.5811 159.7188,259.5811 Q158.8594,259.5811 158.4063,260.2686 Q157.9688,260.9561 157.9688,262.3154 Q157.9688,263.6748 158.4063,264.3623 Q158.8594,265.0498 159.7188,265.0498 Q160.125,265.0498 160.5,264.8779 Q160.8906,264.7061 161.3125,264.3154 L161.3125,266.0811 Z \"/><text fill=\"#000000\" font-family=\"Segoe UI\" font-size=\"11\" lengthAdjust=\"spacingAndGlyphs\" textLength=\"28\" x=\"176\" y=\"266.8701\">Batch</text><!--link domain_allocate to Batch--><!--link service_allocate to BatchRepository--><path d=\"M112.28,96.5 C142.98,96.5 187.25,96.5 223.8,96.5 \" fill=\"none\" id=\"service_allocate-BatchRepository\" style=\"stroke: #0FA3B1; stroke-width: 1.0;\"/><polygon fill=\"#0FA3B1\" points=\"229.13,96.5,220.13,92.5,224.13,96.5,220.13,100.5,229.13,96.5\" style=\"stroke: #0FA3B1; stroke-width: 1.0;\"/><text fill=\"#000000\" font-family=\"Segoe UI\" font-size=\"11\" lengthAdjust=\"spacingAndGlyphs\" textLength=\"73\" x=\"134.25\" y=\"86.3701\">list all batches</text><!--link service_allocate to domain_allocate--><path d=\"M75,118.27 C75,148.21 75,203.47 75,235.9 \" fill=\"none\" id=\"service_allocate-domain_allocate\" style=\"stroke: #0FA3B1; stroke-width: 1.0;\"/><polygon fill=\"#0FA3B1\" points=\"75,240.9,79,231.9,75,235.9,71,231.9,75,240.9\" style=\"stroke: #0FA3B1; stroke-width: 1.0;\"/><text fill=\"#000000\" font-family=\"Segoe UI\" font-size=\"11\" lengthAdjust=\"spacingAndGlyphs\" textLength=\"139\" x=\"80\" y=\"176.8701\">allocate(orderline, batches)</text><!--\n",
       "@startuml ../images/before_aggregate\n",
       "skinparam default {\n",
       "    FontName \"Segoe UI\"\n",
       "    FontSize 11\n",
       "    FontColor Black\n",
       "}\n",
       "\n",
       "skinparam class {\n",
       "    BackgroundColor #b5e2fa\n",
       "    BorderColor #0fa3b1\n",
       "}\n",
       "\n",
       "skinparam rectangle {\n",
       "    BackgroundColor #b5e2fa\n",
       "    BorderColor #0fa3b1\n",
       "}\n",
       "\n",
       "skinparam CircledCharacter {\n",
       "    FontColor Black\n",
       "}\n",
       "\n",
       "skinparam stereotypeC {\n",
       "    BackgroundColor #eddea4 \n",
       "}\n",
       "\n",
       "skinparam package {\n",
       "    FontName \"Segoe UI\"\n",
       "}\n",
       "\n",
       "skinparam sequencelifeline {\n",
       "    BorderColor #0fa3b1\n",
       "}\n",
       "skinparam arrow {\n",
       "    Color #0fa3b1\n",
       "}\n",
       "skinparam participant {\n",
       "    BackgroundColor #b5e2fa\n",
       "    BorderColor #0fa3b1\n",
       "}\n",
       "skinparam entity {\n",
       "    BackgroundColor #b5e2fa\n",
       "    BorderColor #0fa3b1\n",
       "}\n",
       "skinparam collections {\n",
       "    BackgroundColor #b5e2fa\n",
       "    BorderColor #0fa3b1\n",
       "}\n",
       "skinparam database {\n",
       "    BackgroundColor #b5e2fa\n",
       "    BorderColor #0fa3b1\n",
       "}\n",
       "skinparam boundary {\n",
       "    BackgroundColor #b5e2fa\n",
       "    BorderColor #0fa3b1\n",
       "}\n",
       "skinparam actor {\n",
       "    Color DeepSkyBlue\n",
       "    BackgroundColor #b5e2fa\n",
       "    BorderColor #0fa3b1\n",
       "}\n",
       "skinparam sequencegroupheader {\n",
       "    FontName \"Segoe UI\"\n",
       "}\n",
       "skinparam sequencebox {\n",
       "    BackgroundColor PowderBlue\n",
       "    BorderColor #0fa3b1\n",
       "}\n",
       "skinparam padding 4\n",
       "\n",
       "hide members\n",
       "allowmixing\n",
       "\n",
       "package \"Service Layer\" as ServiceLayer {\n",
       "    rectangle \"allocate()\" as service_allocate\n",
       "}\n",
       "\n",
       "show members\n",
       "hide class fields\n",
       "\n",
       "package Repositories {\n",
       "    class BatchRepository {\n",
       "        list()\n",
       "    }\n",
       "}\n",
       "\n",
       "package \"Domain Model\" as DomainModel {\n",
       "    rectangle \"allocate()\" as domain_allocate\n",
       "\n",
       "    class Batch\n",
       "    \n",
       "    domain_allocate -[hidden]> Batch\n",
       "}\n",
       "\n",
       "hide Batch members\n",
       "\n",
       "service_allocate -> BatchRepository: list all batches\n",
       "service_allocate - -> domain_allocate: allocate(orderline, batches)\n",
       "\n",
       "@enduml\n",
       "\n",
       "PlantUML version 1.2018.13(Tue Nov 27 02:11:51 KST 2018)\n",
       "(GPL source distribution)\n",
       "Java Runtime: Java(TM) SE Runtime Environment\n",
       "JVM: Java HotSpot(TM) 64-Bit Server VM\n",
       "Java Version: 15.0.1+9-18\n",
       "Operating System: Linux\n",
       "OS Version: 5.4.0-1036-azure\n",
       "Default Encoding: UTF-8\n",
       "Language: en\n",
       "Country: US\n",
       "--></g></svg>"
      ],
      "text/plain": [
       "<IPython.core.display.SVG object>"
      ]
     },
     "execution_count": 8,
     "metadata": {},
     "output_type": "execute_result"
    }
   ],
   "source": [
    "%%plantuml\n",
    "\n",
    "@startuml ../images/before_aggregate\n",
    "\n",
    "hide members\n",
    "allowmixing\n",
    "\n",
    "package \"Service Layer\" as ServiceLayer {\n",
    "    rectangle \"allocate()\" as service_allocate\n",
    "}\n",
    "\n",
    "show members\n",
    "hide class fields\n",
    "\n",
    "package Repositories {\n",
    "    class BatchRepository {\n",
    "        list()\n",
    "    }\n",
    "}\n",
    "\n",
    "package \"Domain Model\" as DomainModel {\n",
    "    rectangle \"allocate()\" as domain_allocate\n",
    "\n",
    "    class Batch\n",
    "    \n",
    "    domain_allocate -[hidden]> Batch\n",
    "}\n",
    "\n",
    "hide Batch members\n",
    "\n",
    "service_allocate -> BatchRepository: list all batches\n",
    "service_allocate --> domain_allocate: allocate(orderline, batches)\n",
    "\n",
    "@enduml"
   ]
  },
  {
   "cell_type": "code",
   "execution_count": 9,
   "metadata": {
    "collapsed": true,
    "jupyter": {
     "outputs_hidden": true,
     "source_hidden": true
    },
    "nbsphinx": "hidden"
   },
   "outputs": [
    {
     "data": {
      "image/svg+xml": [
       "<svg xmlns=\"http://www.w3.org/2000/svg\" xmlns:xlink=\"http://www.w3.org/1999/xlink\" contentScriptType=\"application/ecmascript\" contentStyleType=\"text/css\" height=\"332px\" preserveAspectRatio=\"none\" style=\"width:426px;height:332px;\" version=\"1.1\" viewBox=\"0 0 426 332\" width=\"426px\" zoomAndPan=\"magnify\"><defs><filter height=\"300%\" id=\"f112pgbq1pzgnw\" width=\"300%\" x=\"-1\" y=\"-1\"><feGaussianBlur result=\"blurOut\" stdDeviation=\"2.0\"/><feColorMatrix in=\"blurOut\" result=\"blurOut2\" type=\"matrix\" values=\"0 0 0 0 0 0 0 0 0 0 0 0 0 0 0 0 0 0 .4 0\"/><feOffset dx=\"4.0\" dy=\"4.0\" in=\"blurOut2\" result=\"blurOut3\"/><feBlend in=\"SourceGraphic\" in2=\"blurOut3\" mode=\"normal\"/></filter></defs><g><!--cluster ServiceLayer--><polygon fill=\"#FFFFFF\" filter=\"url(#f112pgbq1pzgnw)\" points=\"23,34,104,34,111,62.6309,129,62.6309,129,134,23,134,23,34\" style=\"stroke: #000000; stroke-width: 1.5;\"/><line style=\"stroke: #000000; stroke-width: 1.5;\" x1=\"23\" x2=\"111\" y1=\"62.6309\" y2=\"62.6309\"/><text fill=\"#000000\" font-family=\"Segoe UI\" font-size=\"11\" font-weight=\"bold\" lengthAdjust=\"spacingAndGlyphs\" textLength=\"67\" x=\"31\" y=\"51.8701\">Service Layer</text><!--cluster Repositories--><polygon fill=\"#FFFFFF\" filter=\"url(#f112pgbq1pzgnw)\" points=\"240,24,318,24,325,52.6309,404,52.6309,404,144,240,144,240,24\" style=\"stroke: #000000; stroke-width: 1.5;\"/><line style=\"stroke: #000000; stroke-width: 1.5;\" x1=\"240\" x2=\"325\" y1=\"52.6309\" y2=\"52.6309\"/><text fill=\"#000000\" font-family=\"Segoe UI\" font-size=\"11\" font-weight=\"bold\" lengthAdjust=\"spacingAndGlyphs\" textLength=\"64\" x=\"248\" y=\"41.8701\">Repositories</text><!--cluster DomainModel--><polygon fill=\"#FFFFFF\" filter=\"url(#f112pgbq1pzgnw)\" points=\"22,200,114,200,121,228.6309,229,228.6309,229,320,22,320,22,200\" style=\"stroke: #000000; stroke-width: 1.5;\"/><line style=\"stroke: #000000; stroke-width: 1.5;\" x1=\"22\" x2=\"121\" y1=\"228.6309\" y2=\"228.6309\"/><text fill=\"#000000\" font-family=\"Segoe UI\" font-size=\"11\" font-weight=\"bold\" lengthAdjust=\"spacingAndGlyphs\" textLength=\"78\" x=\"30\" y=\"217.8701\">Domain Model</text><!--entity service_allocate--><rect fill=\"#B5E2FA\" filter=\"url(#f112pgbq1pzgnw)\" height=\"42.6309\" style=\"stroke: #0FA3B1; stroke-width: 1.5;\" width=\"74\" x=\"39\" y=\"75\"/><text fill=\"#000000\" font-family=\"Segoe UI\" font-size=\"11\" lengthAdjust=\"spacingAndGlyphs\" textLength=\"46\" x=\"53\" y=\"100.8701\">allocate()</text><!--class ProductRepository--><rect fill=\"#B5E2FA\" filter=\"url(#f112pgbq1pzgnw)\" height=\"63.2617\" id=\"ProductRepository\" style=\"stroke: #0FA3B1; stroke-width: 1.5;\" width=\"131\" x=\"256.5\" y=\"65\"/><ellipse cx=\"269.5\" cy=\"81.3154\" fill=\"#EDDEA4\" rx=\"9\" ry=\"9\" style=\"stroke: #0FA3B1; stroke-width: 1.0;\"/><path d=\"M270.8125,85.0811 Q270.4375,85.2842 270.0156,85.3779 Q269.6094,85.4717 269.1406,85.4717 Q267.5313,85.4717 266.6719,84.4092 Q265.8125,83.3311 265.8125,81.3154 Q265.8125,79.2842 266.6719,78.2217 Q267.5313,77.1436 269.1406,77.1436 Q269.6094,77.1436 270.0156,77.2529 Q270.4375,77.3467 270.8125,77.5342 L270.8125,79.2998 Q270.3906,78.9248 270,78.7529 Q269.625,78.5811 269.2188,78.5811 Q268.3594,78.5811 267.9063,79.2686 Q267.4688,79.9561 267.4688,81.3154 Q267.4688,82.6748 267.9063,83.3623 Q268.3594,84.0498 269.2188,84.0498 Q269.625,84.0498 270,83.8779 Q270.3906,83.7061 270.8125,83.3154 L270.8125,85.0811 Z \"/><text fill=\"#000000\" font-family=\"Segoe UI\" font-size=\"11\" lengthAdjust=\"spacingAndGlyphs\" textLength=\"95\" x=\"285.5\" y=\"85.8701\">ProductRepository</text><line style=\"stroke: #0FA3B1; stroke-width: 1.5;\" x1=\"257.5\" x2=\"386.5\" y1=\"97.6309\" y2=\"97.6309\"/><text fill=\"#000000\" font-family=\"Segoe UI\" font-size=\"11\" lengthAdjust=\"spacingAndGlyphs\" textLength=\"23\" x=\"266.5\" y=\"117.501\">get()</text><!--class Product--><rect fill=\"#B5E2FA\" filter=\"url(#f112pgbq1pzgnw)\" height=\"63.2617\" id=\"Product\" style=\"stroke: #0FA3B1; stroke-width: 1.5;\" width=\"76\" x=\"38\" y=\"241\"/><ellipse cx=\"51\" cy=\"257.3154\" fill=\"#EDDEA4\" rx=\"9\" ry=\"9\" style=\"stroke: #0FA3B1; stroke-width: 1.0;\"/><path d=\"M52.3125,261.0811 Q51.9375,261.2842 51.5156,261.3779 Q51.1094,261.4717 50.6406,261.4717 Q49.0313,261.4717 48.1719,260.4092 Q47.3125,259.3311 47.3125,257.3154 Q47.3125,255.2842 48.1719,254.2217 Q49.0313,253.1436 50.6406,253.1436 Q51.1094,253.1436 51.5156,253.2529 Q51.9375,253.3467 52.3125,253.5342 L52.3125,255.2998 Q51.8906,254.9248 51.5,254.7529 Q51.125,254.5811 50.7188,254.5811 Q49.8594,254.5811 49.4063,255.2686 Q48.9688,255.9561 48.9688,257.3154 Q48.9688,258.6748 49.4063,259.3623 Q49.8594,260.0498 50.7188,260.0498 Q51.125,260.0498 51.5,259.8779 Q51.8906,259.7061 52.3125,259.3154 L52.3125,261.0811 Z \"/><text fill=\"#000000\" font-family=\"Segoe UI\" font-size=\"11\" lengthAdjust=\"spacingAndGlyphs\" textLength=\"40\" x=\"67\" y=\"261.8701\">Product</text><line style=\"stroke: #0FA3B1; stroke-width: 1.5;\" x1=\"39\" x2=\"113\" y1=\"273.6309\" y2=\"273.6309\"/><text fill=\"#000000\" font-family=\"Segoe UI\" font-size=\"11\" lengthAdjust=\"spacingAndGlyphs\" textLength=\"46\" x=\"48\" y=\"293.501\">allocate()</text><!--class Batch--><rect fill=\"#B5E2FA\" filter=\"url(#f112pgbq1pzgnw)\" height=\"32.6309\" id=\"Batch\" style=\"stroke: #0FA3B1; stroke-width: 1.5;\" width=\"64\" x=\"149\" y=\"256\"/><ellipse cx=\"162\" cy=\"272.3154\" fill=\"#EDDEA4\" rx=\"9\" ry=\"9\" style=\"stroke: #0FA3B1; stroke-width: 1.0;\"/><path d=\"M163.3125,276.0811 Q162.9375,276.2842 162.5156,276.3779 Q162.1094,276.4717 161.6406,276.4717 Q160.0313,276.4717 159.1719,275.4092 Q158.3125,274.3311 158.3125,272.3154 Q158.3125,270.2842 159.1719,269.2217 Q160.0313,268.1436 161.6406,268.1436 Q162.1094,268.1436 162.5156,268.2529 Q162.9375,268.3467 163.3125,268.5342 L163.3125,270.2998 Q162.8906,269.9248 162.5,269.7529 Q162.125,269.5811 161.7188,269.5811 Q160.8594,269.5811 160.4063,270.2686 Q159.9688,270.9561 159.9688,272.3154 Q159.9688,273.6748 160.4063,274.3623 Q160.8594,275.0498 161.7188,275.0498 Q162.125,275.0498 162.5,274.8779 Q162.8906,274.7061 163.3125,274.3154 L163.3125,276.0811 Z \"/><text fill=\"#000000\" font-family=\"Segoe UI\" font-size=\"11\" lengthAdjust=\"spacingAndGlyphs\" textLength=\"28\" x=\"178\" y=\"276.8701\">Batch</text><!--link Product to Batch--><!--link service_allocate to ProductRepository--><path d=\"M113.1,96.5 C149.54,96.5 206.09,96.5 251.16,96.5 \" fill=\"none\" id=\"service_allocate-ProductRepository\" style=\"stroke: #0FA3B1; stroke-width: 1.0;\"/><polygon fill=\"#0FA3B1\" points=\"256.32,96.5,247.32,92.5,251.32,96.5,247.32,100.5,256.32,96.5\" style=\"stroke: #0FA3B1; stroke-width: 1.0;\"/><text fill=\"#000000\" font-family=\"Segoe UI\" font-size=\"11\" lengthAdjust=\"spacingAndGlyphs\" textLength=\"99\" x=\"135.25\" y=\"71.3701\">get me the product</text><text fill=\"#000000\" font-family=\"Segoe UI\" font-size=\"11\" lengthAdjust=\"spacingAndGlyphs\" textLength=\"60\" x=\"154.75\" y=\"86.001\">for this SKU</text><!--link service_allocate to Product--><path d=\"M76,118.14 C76,147.14 76,200.36 76,235.84 \" fill=\"none\" id=\"service_allocate-Product\" style=\"stroke: #0FA3B1; stroke-width: 1.0;\"/><polygon fill=\"#0FA3B1\" points=\"76,240.95,80,231.95,76,235.95,72,231.95,76,240.95\" style=\"stroke: #0FA3B1; stroke-width: 1.0;\"/><text fill=\"#000000\" font-family=\"Segoe UI\" font-size=\"11\" lengthAdjust=\"spacingAndGlyphs\" textLength=\"137\" x=\"81\" y=\"176.8701\">product.allocate(orderline)</text><!--\n",
       "@startuml ../images/after_aggregate\n",
       "skinparam default {\n",
       "    FontName \"Segoe UI\"\n",
       "    FontSize 11\n",
       "    FontColor Black\n",
       "}\n",
       "\n",
       "skinparam class {\n",
       "    BackgroundColor #b5e2fa\n",
       "    BorderColor #0fa3b1\n",
       "}\n",
       "\n",
       "skinparam rectangle {\n",
       "    BackgroundColor #b5e2fa\n",
       "    BorderColor #0fa3b1\n",
       "}\n",
       "\n",
       "skinparam CircledCharacter {\n",
       "    FontColor Black\n",
       "}\n",
       "\n",
       "skinparam stereotypeC {\n",
       "    BackgroundColor #eddea4 \n",
       "}\n",
       "\n",
       "skinparam package {\n",
       "    FontName \"Segoe UI\"\n",
       "}\n",
       "\n",
       "skinparam sequencelifeline {\n",
       "    BorderColor #0fa3b1\n",
       "}\n",
       "skinparam arrow {\n",
       "    Color #0fa3b1\n",
       "}\n",
       "skinparam participant {\n",
       "    BackgroundColor #b5e2fa\n",
       "    BorderColor #0fa3b1\n",
       "}\n",
       "skinparam entity {\n",
       "    BackgroundColor #b5e2fa\n",
       "    BorderColor #0fa3b1\n",
       "}\n",
       "skinparam collections {\n",
       "    BackgroundColor #b5e2fa\n",
       "    BorderColor #0fa3b1\n",
       "}\n",
       "skinparam database {\n",
       "    BackgroundColor #b5e2fa\n",
       "    BorderColor #0fa3b1\n",
       "}\n",
       "skinparam boundary {\n",
       "    BackgroundColor #b5e2fa\n",
       "    BorderColor #0fa3b1\n",
       "}\n",
       "skinparam actor {\n",
       "    Color DeepSkyBlue\n",
       "    BackgroundColor #b5e2fa\n",
       "    BorderColor #0fa3b1\n",
       "}\n",
       "skinparam sequencegroupheader {\n",
       "    FontName \"Segoe UI\"\n",
       "}\n",
       "skinparam sequencebox {\n",
       "    BackgroundColor PowderBlue\n",
       "    BorderColor #0fa3b1\n",
       "}\n",
       "skinparam padding 4\n",
       "\n",
       "hide members\n",
       "allowmixing\n",
       "\n",
       "package \"Service Layer\" as ServiceLayer {\n",
       "    rectangle \"allocate()\" as service_allocate\n",
       "}\n",
       "\n",
       "show members\n",
       "hide class fields\n",
       "\n",
       "package Repositories {\n",
       "    class ProductRepository {\n",
       "        get()\n",
       "    }\n",
       "}\n",
       "\n",
       "package \"Domain Model\" as DomainModel {\n",
       "    class Product {\n",
       "        allocate()\n",
       "    }\n",
       "\n",
       "    class Batch\n",
       "    \n",
       "    Product -[hidden]> Batch\n",
       "}\n",
       "\n",
       "hide Batch members\n",
       "\n",
       "service_allocate -> ProductRepository: \"get me the product\\nfor this SKU\"\n",
       "service_allocate - -> Product: product.allocate(orderline)\n",
       "\n",
       "@enduml\n",
       "\n",
       "PlantUML version 1.2018.13(Tue Nov 27 02:11:51 KST 2018)\n",
       "(GPL source distribution)\n",
       "Java Runtime: Java(TM) SE Runtime Environment\n",
       "JVM: Java HotSpot(TM) 64-Bit Server VM\n",
       "Java Version: 15.0.1+9-18\n",
       "Operating System: Linux\n",
       "OS Version: 5.4.0-1036-azure\n",
       "Default Encoding: UTF-8\n",
       "Language: en\n",
       "Country: US\n",
       "--></g></svg>"
      ],
      "text/plain": [
       "<IPython.core.display.SVG object>"
      ]
     },
     "execution_count": 9,
     "metadata": {},
     "output_type": "execute_result"
    }
   ],
   "source": [
    "%%plantuml\n",
    "\n",
    "@startuml ../images/after_aggregate\n",
    "\n",
    "hide members\n",
    "allowmixing\n",
    "\n",
    "package \"Service Layer\" as ServiceLayer {\n",
    "    rectangle \"allocate()\" as service_allocate\n",
    "}\n",
    "\n",
    "show members\n",
    "hide class fields\n",
    "\n",
    "package Repositories {\n",
    "    class ProductRepository {\n",
    "        get()\n",
    "    }\n",
    "}\n",
    "\n",
    "package \"Domain Model\" as DomainModel {\n",
    "    class Product {\n",
    "        allocate()\n",
    "    }\n",
    "\n",
    "    class Batch\n",
    "    \n",
    "    Product -[hidden]> Batch\n",
    "}\n",
    "\n",
    "hide Batch members\n",
    "\n",
    "service_allocate -> ProductRepository: \"get me the product\\nfor this SKU\"\n",
    "service_allocate --> Product: product.allocate(orderline)\n",
    "\n",
    "@enduml"
   ]
  },
  {
   "cell_type": "markdown",
   "metadata": {},
   "source": [
    "우리의 목표는 배치 도메인 모델들을 그대로 사용하여 할당하는 다음과 같은 방식을 개선하는 것입니다.\n",
    "\n",
    "![](images/before_aggregate.svg)\n",
    "\n",
    "\n",
    "개선방법은 `Product` Aggregation 을 통해 동일 품목(SKU)의 할당을 책임지게 하는 것입니다. 기존의 `allocate(orderline, batches)` 대신 `aProduct.allocate(orderline)` 라는 메소드를 통해 품목 단위로 할당하도록 하는 것입니다.  \n",
    "\n",
    "![](images/after_aggregate.svg)"
   ]
  },
  {
   "cell_type": "markdown",
   "metadata": {},
   "source": [
    "### `Product` Aggregate를 코드로 작성하기\n",
    "\n",
    "앞서 살펴봤던 것과 같이 `Product` 는 품목별 배치들의 Aggregate이므로 동일 품목의 존재하는 모든 배치를 생성자 인수로 받습니다.\n",
    "\n",
    "기존에 도메인 모델 모듈에 정의되었던 `models.allocate` 함수를 `Product` 모델의 메소드로 옮기면 Aggregate가 완성됩니다.\n",
    "\n",
    "[src/domain/models/product.py]"
   ]
  },
  {
   "cell_type": "code",
   "execution_count": 10,
   "metadata": {},
   "outputs": [],
   "source": [
    "from app.domain.models import Batch, OrderLine, OutOfStock\n",
    "\n",
    "class Product:\n",
    "\n",
    "    def __init__(self, sku: str, batches: list[Batch]):\n",
    "        self.sku = sku  \n",
    "        self.batches = batches  \n",
    "\n",
    "    def allocate(self, line: OrderLine) -> str:  \n",
    "        try:\n",
    "            batch = next(\n",
    "                b for b in sorted(self.batches) if b.can_allocate(line)\n",
    "            )\n",
    "            batch.allocate(line)\n",
    "            return batch.reference\n",
    "        except StopIteration:\n",
    "            raise OutOfStock(f'Out of stock for sku {line.sku}')"
   ]
  },
  {
   "cell_type": "markdown",
   "metadata": {},
   "source": [
    "이렇게 정의된 `Product` 는 우리가 일반적으로 도메인 모델링 할 때 생각하는 모델과 상당히 다릅니다.\n",
    "\n",
    "가격이나, 상품설명, 사이즈 등의 정보가 전혀 없습니다. 그 이유는 제품 할당과 관련된 현재 컨텍스트에서 품목(SKU)을 제외한 제품의 다른 속성들은 불필요하기 때문입니다. 이처럼, 바운디드 컨텍스트(Bounded Contexts)의 힘은 앱 마다 달라지는 개념을 유연하게 다룰 수 있다는 점입니다."
   ]
  },
  {
   "cell_type": "markdown",
   "metadata": {},
   "source": [
    "#### AGGREGATES, BOUNDED CONTEXTS, AND MICROSERVICES\n",
    "\n",
    "에릭 에반스와 DDD 커뮤니티가 가장 크게 기여한 것중 하나는 바로 [Bounded Context](https://martinfowler.com/bliki/BoundedContext.html) 의 개념입니다.\n",
    "\n",
    "비즈니스의 전체 의미를 하나의 모델로 캡쳐하기 힘든 문제를 극복하려는 시도에서 비롯한 것입니다.\n",
    "\n",
    "예를 들어, 고객(customer)이라는 단어는 의미는 영업, 고객관리, 물류, 지원 부서 등에서 서로 다른 의미로 사용됩니다. 따라서 속성(attributes)들도 사용하는 곳에 따라 달라집니다. 심지어 단어의 의미가 컨텍스트에 따라 완전히 바꾸기도 하기 십상입니다. 따라서 고객이라는 모델로 전체 비즈니스를 커버하기란 불가능합니다.\n",
    "\n",
    "각 컨텍스트 경계(Bounded Context)에 여러 모델을 두고 모델간의 변환(translation)을 명시적으로 다루도록 하는 편이 좋습니다.\n",
    "\n",
    "이런 전략은 마이크로서비스에 매우 잘 들어맞습니다. 각 마이크로서비스는 \"고객\"이란 모델을 자유롭게 정의할 수 있기 때문이죠. 고객을 다루는 또다른 컨텍스트(마이크로서비스와) 통신할 때는, 자신의 다른 고객 모델로 어떻게 변환할지만 고려하면 됩니다.\n",
    "\n",
    "배치 할당을 다룬 예제에서 `Product` 모델은 `(sku, batches)`를 속성으로 가졌습니다. 반면 전자 상거래 컨텍스트에서의 `Product`는 `(sku, description, price ...)` 등 다른 속성들을 갖게 될 것입니다.\n",
    "\n",
    "마이크로서비스를 사용하지 않더라도 Aggregate를 정할때 핵심 고려사항은 그 Aggregate가 동작할 경계 컨텍스트(Bounded Context)틀 정하는 것입니다. 제한된 컨텍스트를 통해 Aggregate의 수를 줄이고 관리가능한 크기로 유지할 수 있습니다."
   ]
  },
  {
   "cell_type": "markdown",
   "metadata": {},
   "source": [
    "## One Aggregate = One Repository"
   ]
  },
  {
   "cell_type": "markdown",
   "metadata": {},
   "source": [
    "Aggregate 로 뭉질 엔티티들이 정해지면, 외부(다른 앱/또는 서비스)에 엔티티가 바로 노출되지 않고 Aggregate 단위로 노출되도록 규칙을 적용해야 합니다. 즉, 레포지터리가 Aggregate를 리턴하도록 변경해야 한다는 것입니다."
   ]
  },
  {
   "cell_type": "markdown",
   "metadata": {},
   "source": [
    "[services/uow.py]"
   ]
  },
  {
   "cell_type": "code",
   "execution_count": 11,
   "metadata": {},
   "outputs": [],
   "source": [
    "from unittest.mock import MagicMock\n",
    "repository = MagicMock"
   ]
  },
  {
   "cell_type": "code",
   "execution_count": 12,
   "metadata": {},
   "outputs": [],
   "source": [
    "# [app/adapters/repository.py]\n",
    "from typing import TypeVar, Generic, Optional\n",
    "import abc\n",
    "from contextlib import ContextDecorator\n",
    "\n",
    "T = TypeVar('T')\n",
    "class AbstractRepository(Generic[T], abc.ABC, ContextDecorator):\n",
    "    \"\"\"Repository 패턴의 추상 인터페이스 입니다.\"\"\"\n",
    "\n",
    "    @abc.abstractmethod\n",
    "    def add(self, item: T) -> None:\n",
    "        \"\"\"레포지터리에 Aggregate 객체를 추가합니다.\"\"\"\n",
    "        ...\n",
    "\n",
    "    @abc.abstractmethod\n",
    "    def get(self, ref: str = '', **kwargs: str) -> Optional[T]:\n",
    "        \"\"\"주어진 레퍼런스 문자열에 해당하는 Aggregate 객체를 조회합니다.\n",
    "\n",
    "        해당 Aggregate를 못 찾을 경우 ``None`` 을 리턴합니다.\n",
    "        \"\"\"\n",
    "        ..."
   ]
  },
  {
   "cell_type": "markdown",
   "metadata": {},
   "source": [
    "### 테스트를 통해 Aggregate 도메인 모델 사용법 익히기"
   ]
  },
  {
   "cell_type": "markdown",
   "metadata": {},
   "source": [
    "그럼 이 Aggregate와 레포지터리를 어떻게 사용해야 할까요?\n",
    "\n",
    "Low Gear(저단 기어)를 사용하기 적합할 때입니다. 도메인 모델 테스트를 추가하며 도메인 모델에 대한 이해도를 높혀 봅시다.\n",
    "\n",
    "`tests/unit/test_allocate.py` 에 정의된 테스트들은 Aggregate 도입 전 `allocate` 서비스 함수를 테스트하는 테스트 케이스였습니다.\n",
    "\n",
    "```python\n",
    "def test_prefers_current_stock_batches_to_shipments() -> None:\n",
    "    in_stock_batch = Batch(\"in-stock-batch\", \"RETRO-CLOCK\", 100, eta=None)\n",
    "    shipment_batch = Batch(\"shipment-batch\", \"RETRO-CLOCK\", 100, eta=tomorrow)\n",
    "    line = OrderLine(\"oref\", \"RETRO-CLOCK\", 10)\n",
    "\n",
    "    allocate(line, [in_stock_batch, shipment_batch])\n",
    "\n",
    "    assert in_stock_batch.available_quantity == 90\n",
    "    assert shipment_batch.available_quantity == 100\n",
    "\n",
    "```\n",
    "\n",
    "이 코드를 `Product` Aggregate의 메소드를 사용한 테스트로 바꿔봅시다."
   ]
  },
  {
   "cell_type": "code",
   "execution_count": 13,
   "metadata": {},
   "outputs": [],
   "source": [
    "from tests import mytest\n",
    "\n",
    "from datetime import date, timedelta\n",
    "import pytest\n",
    "from app.domain.models import allocate, OrderLine, Batch, OutOfStock\n",
    "\n",
    "today = date.today()\n",
    "tomorrow = today + timedelta(days=1)\n",
    "later = tomorrow + timedelta(days=10)"
   ]
  },
  {
   "cell_type": "code",
   "execution_count": 14,
   "metadata": {},
   "outputs": [
    {
     "name": "stdout",
     "output_type": "stream",
     "text": [
      "✅ \u001b[95mtest_prefers_current_stock_batches_to_shipments\u001b[0m\n"
     ]
    }
   ],
   "source": [
    "@mytest.test\n",
    "def test_prefers_current_stock_batches_to_shipments():\n",
    "    in_stock_batch = Batch(\"in-stock-batch\", \"RETRO-CLOCK\", 100, eta=None)\n",
    "    shipment_batch = Batch(\"shipment-batch\", \"RETRO-CLOCK\", 100, eta=tomorrow)\n",
    "    product = Product(sku=\"RETRO-CLOCK\", batches=[in_stock_batch, shipment_batch])\n",
    "    line = OrderLine(\"oref\", \"RETRO-CLOCK\", 10)\n",
    "\n",
    "    product.allocate(line)\n",
    "\n",
    "    assert in_stock_batch.available_quantity == 90\n",
    "    assert shipment_batch.available_quantity == 100"
   ]
  },
  {
   "cell_type": "markdown",
   "metadata": {},
   "source": [
    "테스트가 잘 성공합니다."
   ]
  },
  {
   "cell_type": "markdown",
   "metadata": {},
   "source": [
    "### 레포지터리와 UoW 사용해보기\n",
    "\n",
    "6장에서 만들었떤 UoW 모델과 테스트 코드입니다.\n",
    "\n",
    "```python\n",
    "class FakeUnitOfWork(AbstractUnitOfWork):\n",
    "    def __init__(self, batches: Optional[list[Batch]] = None) -> None:\n",
    "        self.batches = FakeRepository(batches)\n",
    "        self.committed = False\n",
    "\n",
    "    def commit(self) -> None:\n",
    "        self.committed = True\n",
    "\n",
    "    def rollback(self) -> None:\n",
    "        pass\n",
    "\n",
    "\n",
    "def test_add_batch():\n",
    "    uow = FakeUnitOfWork()\n",
    "    services.batch.add(\"b1\", \"CRUNCHY-ARMCHAIR\", 100, None, uow)\n",
    "    assert uow.batches.get(\"b1\") is not None\n",
    "    assert uow.committed\n",
    "\n",
    "```\n",
    "\n",
    "이 코드를 `Product` 와 `AbstractProductRepository` 를 이용해 재작성해 봅시다."
   ]
  },
  {
   "cell_type": "code",
   "execution_count": 15,
   "metadata": {},
   "outputs": [],
   "source": [
    "from app.services.uow import AbstractUnitOfWork\n",
    "\n",
    "class FakeProductRepository(AbstractRepository[Product]):\n",
    "    def __init__(self, products: list[Product]):\n",
    "        self._products = set(products)\n",
    "        \n",
    "    def add(self, product: Product):\n",
    "        self._products.add(product)\n",
    "        \n",
    "    def get(self, sku: str) -> Optional[Product]:\n",
    "        return next((p for p in self._products if p.sku == sku), None)\n",
    "    \n",
    "class FakeUnitOfWork(AbstractUnitOfWork):\n",
    "\n",
    "    def __init__(self):\n",
    "        self.products = FakeProductRepository([])\n",
    "        self.committed = False\n",
    "\n",
    "    def commit(self):\n",
    "        self.committed = True\n",
    "\n",
    "    def rollback(self):\n",
    "        pass"
   ]
  },
  {
   "cell_type": "markdown",
   "metadata": {},
   "source": [
    "변경된 코드는 쉽게 이해할 수 있습니다. 한가지 복잡해보이는 코드는 `get` 함수의 리턴문입니다.\n",
    "\n",
    "```python\n",
    "  return next((p for p in self._products if p.sku == sku), None)\n",
    "```\n",
    "\n",
    "이 코드를 아래와 같이 이해하기 쉽게 재작성할 수 있습니다.\n",
    "\n",
    "```python\n",
    "  found = [p for p in self._proudcts if p.sku == sku]\n",
    "  return found[0] if found else None\n",
    "```\n",
    "\n",
    "하지만 근본적인 차이점은 무엇일까요? 만일 `_products` 에 10억개의 제품이 있다고 한다면 위 코드는 10억개 원소를 가진 리스트를 메모리에 먼저 빌드합니다. 결과를 리턴하는에 엄청난 리소스와 시간을 낭비하게 됩니다. 반면에 `(p for p in ...)` 문은 제너레이터와 `next` 이터레이터 메소드로 구현되어 메모리 로드 없이 최초 발견한 1개의 원소를 바로 리턴하도록 한 것입니다.\n",
    "\n",
    "그런데 테스트를 해보면 실패합니다."
   ]
  },
  {
   "cell_type": "code",
   "execution_count": 16,
   "metadata": {},
   "outputs": [
    {
     "name": "stdout",
     "output_type": "stream",
     "text": [
      "❌ \u001b[91mtest_add_batch_for_new_product\u001b[0m\n"
     ]
    },
    {
     "name": "stderr",
     "output_type": "stream",
     "text": [
      "Traceback (most recent call last):\n",
      "  File \"/home/ykkim/notebooks/2021-msa-study/07-aggregates-boundaries/app/services/batch.py\", line 30, in add\n",
      "    uow.batches.add(Batch(ref, sku, qty, eta))\n",
      "AttributeError: 'FakeUnitOfWork' object has no attribute 'batches'\n"
     ]
    }
   ],
   "source": [
    "from app import services\n",
    "@mytest.test\n",
    "def test_add_batch_for_new_product():\n",
    "    uow = FakeUnitOfWork()\n",
    "    services.batch.add(\"b1\", \"CRUNCHY-ARMCHAIR\", 100, None, uow)\n",
    "    assert uow.batches.get(\"b1\") is not None\n",
    "    assert uow.committed"
   ]
  },
  {
   "cell_type": "markdown",
   "metadata": {},
   "source": [
    "그 이유는 기존에 정의된 `services.batch.add` 함수에서 사용한 `AbstractUnitOfWork` 구현이 바뀌었기 때문입니다.\n",
    "\n",
    "테스트가 성공하도록 서비스 함수 구현을 수정해 봅시다."
   ]
  },
  {
   "cell_type": "code",
   "execution_count": 17,
   "metadata": {},
   "outputs": [],
   "source": [
    "from app.services.batch import InvalidSku\n",
    "\n",
    "def add_batch(ref: str, sku: str, qty: int, eta: Optional[date],\n",
    "              uow: AbstractUnitOfWork) -> None:\n",
    "    with uow:\n",
    "        product = uow.products.get(sku)\n",
    "        if not product:\n",
    "            product = Product(sku, batches=[])\n",
    "            uow.products.add(product)\n",
    "        product.batches.append(Batch(ref, sku, qty, eta))\n",
    "        uow.commit()\n",
    "        \n",
    "def allocate(orderid: str, sku: str, qty: int, \n",
    "             uow: AbstractUnitOfWork) -> str:\n",
    "    line = OrderLine(orderid, sku, qty)\n",
    "    with uow:\n",
    "        product = uow.products.get(sku=line.sku)\n",
    "        if product is None:\n",
    "            raise InvalidSku(f'Invalid sku {line.sku}')\n",
    "        batchref = product.allocate(line)\n",
    "        uow.commit()\n",
    "    return batchref\n",
    "\n",
    "services = MagicMock()\n",
    "services.batch.add = add_batch\n",
    "services.batch.allocate = allocate"
   ]
  },
  {
   "cell_type": "markdown",
   "metadata": {},
   "source": [
    "다시 테스트를 실행시키면 테스트가 정상적으로 동작함을 알 수 있습니다."
   ]
  },
  {
   "cell_type": "code",
   "execution_count": 18,
   "metadata": {},
   "outputs": [
    {
     "name": "stdout",
     "output_type": "stream",
     "text": [
      "✅ \u001b[95mtest_add_batch_for_new_product\u001b[0m\n"
     ]
    }
   ],
   "source": [
    "@mytest.test\n",
    "def test_add_batch_for_new_product():\n",
    "    uow = FakeUnitOfWork()\n",
    "    services.batch.add(\"b1\", \"CRUNCHY-ARMCHAIR\", 100, None, uow)\n",
    "    assert uow.products.get(\"CRUNCHY-ARMCHAIR\") is not None\n",
    "    assert uow.committed"
   ]
  },
  {
   "cell_type": "code",
   "execution_count": 19,
   "metadata": {},
   "outputs": [
    {
     "name": "stdout",
     "output_type": "stream",
     "text": [
      "✅ \u001b[95mtest_allocate_returns_allocation\u001b[0m\n"
     ]
    }
   ],
   "source": [
    "@mytest.test\n",
    "def test_allocate_returns_allocation():\n",
    "    uow = FakeUnitOfWork()\n",
    "    services.batch.add(\"batch1\", \"COMPLICATED-LAMP\", 100, None, uow)\n",
    "    result = services.batch.allocate(\"o1\", \"COMPLICATED-LAMP\", 10, uow)\n",
    "    assert \"batch1\", result"
   ]
  },
  {
   "cell_type": "markdown",
   "metadata": {},
   "source": [
    "## What About Performance?"
   ]
  },
  {
   "cell_type": "markdown",
   "metadata": {},
   "source": [
    "Aggregate를 사용하는 이유 중 하나가 락킹 최소화를 통한 성능 향상이었으니 성능에 대해서도 살펴보겠습니다.\n",
    "\n",
    "결론적으로 현재까지의 구현상에는 성능상의 문제점이 좀 보입니다. `Product` Aggregate 의 생성자 때문입니다.\n",
    "\n",
    "```\n",
    "class Product:\n",
    "\n",
    "    def __init__(self, sku: str, batches: list[Batch]):\n",
    "        self.sku = sku  \n",
    "        self.batches = batches  \n",
    "        \n",
    "    ...\n",
    "```\n",
    "\n",
    "현재 구현에서는 `Product` 생성시에 전체 배치가 로드되어 있어야 합니다. 어떤 품목에 대한 배치가 10억개가 있다고 가정하면 쉽게 상상이 갈 것입니다.\n",
    "\n",
    "하지만 (저자의 말에 의하면) 실제 유즈케이스 상에서 품목당 배치는 많아야 수십개 이하라고 하며, 수 만개 이상 되더라도 `Batch` 모델의 속성이 몇개 안되어 로드하는데 큰 부하는 없다고 말합니다.\n",
    "\n",
    "만일 시스템의 규모가 커져 많은 배치를 다루게 될경우 Lazy Loading 방식을 이용해 개선하면 될 것입니다. 그 경우에도 감당이 안된다면 Aggregate를 좀더 작은 단위로 세분화 하면 될 것입니다."
   ]
  },
  {
   "cell_type": "markdown",
   "metadata": {},
   "source": [
    "## Optimistic Concurrency with Version Numbers"
   ]
  },
  {
   "cell_type": "markdown",
   "metadata": {},
   "source": [
    "여기까지 로직 레벨에서 일관성의 경계를 책임지는 Aggregate를 만들고 사용하는 방법을 확인했습니다. 이제 실제 DB 레벨에서 데이터 정합성을 확보하는 방법을 살펴보겠습니다."
   ]
  },
  {
   "cell_type": "markdown",
   "metadata": {},
   "source": [
    "### 특정 품목의 배치들에 대해서만 락 걸기\n",
    "\n",
    "품목별 배치를 `Product`로 묶기 전에는 여러 트랜잭션들이 할당을 처리하는 도중 동일 품목의 배치를 잘 못 할당하는 것을 막기 위해 `batch` 테이블 전체에 락을 거는 수밖에 없었습니다.\n",
    "\n",
    "특정 품목에 대해서만 락을 걸기 위해서는 소프트웨어적인 락이 필요합니다. 가장 간단한 방법은 `version_number` 라는 상태 변경 마커를 하나 만들어 동시성 작업의 유일한 리소스로 만드는 것입니다. 여러 트랜잭션이 할당 서비스를 통해 배치 전체 상태를 읽어 할당 테이블을 업데이트 시도하는 경우, `version_number` 를 체크하여 둘 중 하나가 먼저 커밋한 경우 나머지 커밋 시도를 무효화 하여 일관성이 유지되도록 하는 것입니다."
   ]
  },
  {
   "cell_type": "markdown",
   "metadata": {},
   "source": [
    "![](images/ch7-seq-diagram-1.svg)\n",
    "\n",
    "위 시퀀스 다이어그램은 동시에 할당 작업을 시도하는 두 트랜잭션의 처리과정을 나타냅니다. 두 트랜잭션은 `version`이 `3`인 `Product` 에 대해 동시에 `allocate` 메소드를 호출합니다. 둘 중 어느 트랜잭션이 먼저 수행될지는 알 수 없지만, 제품이 할당되는 시점에 한 트랜잭션에 의해 버전이 `4`로 올라갈 경우 다른 트랜잭션의 요청은 버전 불일치 체크를 통해 취소처리 할 수 있습니다."
   ]
  },
  {
   "cell_type": "markdown",
   "metadata": {},
   "source": [
    "#### OPTIMISTIC CONCURRENCY CONTROL AND RETRIES\n",
    "\n",
    "이 교재에서 동시성을 제하는 방식을 \"낙관적 동시성 제어\" 라고 합니다. 두 사용자가 데이터베이스를 동시에 변경하려 할 때 모든것이 정상이라고 가정하는 방식입니다. 동시 변경이 충돌할 가능성이 낮기 때문에 동시 변경을 허용하고 문제가 발생시 확실히 통보받을 수 있도록 하는것입니다.\n",
    "\n",
    "반면에 \"비관적 동시성 제어\" 방식에서는 항상 충돌이 발생한다는 가정하에 동시작업을 설계합니다. 따라서 모든 변경작업에 락을 걸어 안전을 보장해야 합니다. 배치 할당 예제에서 이 말은 모든 배치 테이블에 락을 걸거나 `SELECT FOR UPDATE` 문을 사용해서 조회된 전체 행에 대한 락을 걸어야 함을 의미합니다. 이 책에서는 성능상의 문제로 이런 방식을 사용하지 않는다고 가정했지만 실제 프로젝트에서는 성능 평가를 직접 해봐야 합니다.\n",
    "\n",
    "성능상의 문제에도 불구하고 비관적 락킹은 변경 충돌을 원천적으로 차단하므로 장애 처리가 필요 없다는 장점이 있습니다. (물론 데드락의 발생을 고려해야 합니다) 반면 낙관적 락킹시에는 충돌로 인한 실패를 명시적으로 처리해야 합니다.\n",
    "\n",
    "실패 처리의 일반적인 방법은 작업을 처음부터 다시 시도하는 것입니다. 대부분의 작업은 동시성 문제가 발생할 경우 이러한 방식으로 재시도할 수 있습니다."
   ]
  },
  {
   "cell_type": "markdown",
   "metadata": {},
   "source": [
    "### Implementation Options for Version Numbers"
   ]
  },
  {
   "cell_type": "markdown",
   "metadata": {},
   "source": [
    "버전 번호를 구현하는 방법에는 세가지 옵션이 있습니다.\n",
    "\n",
    "1. 도메인에서 처리하기: `Product.allocate()` 메소드가 버전 번호 증가를 책임집니다.\n",
    "2. 서비스 계층에서 처리하기: 엄밀히 말해 버전번호를 통한 동시성 제어는 도메인 관심사가 아닙니다. 따라서 서비스 레이어가 이 책임을 대신 맞는게 적합할 수 있습니다. 커밋 전에 버전 번호를 증가시키는 방식을 사용합니다.\n",
    "3. UoW에서 처리하기: UoW가 커밋할 때 Aggregate들에 변경이 일어났다고 가정하고 레포지터리에 로드된 모든 `Product`의 버전 번호를 증가시키는 것입니다.\n",
    "\n",
    "3번의 경우 모든 `Product` 버전이 동시에 올라간다 가정이 말이 안되기 때문에 제외하고, 2번의 경우는 서비스 레이어와 도메인 레이어간의 상태 변경의 책임이 섞여 다소 혼란스럽습니다.\n",
    "\n",
    "따라서 가장 깔끔한 절충안은 그냥 도메인에 버전 관리 책임을 두는 것입니다."
   ]
  },
  {
   "cell_type": "code",
   "execution_count": 21,
   "metadata": {},
   "outputs": [],
   "source": [
    "class Product:\n",
    "\n",
    "    def __init__(self, sku: str, batches: list[Batch], version_number: int = 0):  \n",
    "        self.sku = sku\n",
    "        self.batches = batches\n",
    "        self.version_number = version_number  \n",
    "\n",
    "    def allocate(self, line: OrderLine) -> str:\n",
    "        try:\n",
    "            batch = next(\n",
    "                b for b in sorted(self.batches) if b.can_allocate(line)\n",
    "            )\n",
    "            batch.allocate(line)\n",
    "            self.version_number += 1  \n",
    "            return batch.reference\n",
    "        except StopIteration:\n",
    "            raise OutOfStock(f'Out of stock for sku {line.sku}')"
   ]
  },
  {
   "cell_type": "markdown",
   "metadata": {},
   "source": [
    "## Testing for Our Data Integrity Rules"
   ]
  },
  {
   "cell_type": "markdown",
   "metadata": {},
   "source": [
    "이제 DB에서 우리가 만든 동시성 제어 방식이 제대로 동작하는지 테스트해볼 차례입니다."
   ]
  },
  {
   "cell_type": "markdown",
   "metadata": {},
   "source": [
    "#### 테스트 준비: ORM기반 레포지터리와 UoW 고치기\n",
    "\n",
    "먼저 ORM 에서 Aggregate 객체를 인식하도록 매핑을 추가합니다."
   ]
  },
  {
   "cell_type": "code",
   "execution_count": 22,
   "metadata": {},
   "outputs": [],
   "source": [
    "from sqlalchemy import MetaData, Table, Column, String, Integer, Date, ForeignKey\n",
    "from sqlalchemy.orm import relationship, mapper, Session\n",
    "from app.adapters import orm\n",
    "from app.domain.models import Batch, OrderLine\n",
    "\n",
    "def start_mappers(use_exist: bool = True) -> MetaData:\n",
    "    metadata = orm.start_mappers(use_exist) # 기존 매퍼\n",
    "    allocation = metadata.tables['allocation']\n",
    "    order_line = metadata.tables['order_line']\n",
    "    batch = Table('batch', metadata,\n",
    "              Column('id', Integer, primary_key=True, autoincrement=True),\n",
    "              Column('reference', String(255), unique=True),\n",
    "              Column('_purchased_quantity', Integer),\n",
    "              Column('sku', ForeignKey('product.sku')), # 외래키 관계 추가\n",
    "              Column('eta', Date, nullable=True),\n",
    "              extend_existing=True)\n",
    "    \n",
    "    _order_line_mapper = mapper(OrderLine, order_line)\n",
    "    _batch_mapper = mapper(Batch, batch, properties={\n",
    "        '_allocations': relationship(OrderLine, secondary=allocation, \n",
    "                                     collection_class=set, lazy='joined'),\n",
    "    })    \n",
    "    \n",
    "    # Aggregate 매핑 추가\n",
    "    product = Table('product', metadata,\n",
    "        Column('sku', String(255), primary_key=True),\n",
    "        Column('version_number', Integer, nullable=False, server_default='0'),\n",
    "        extend_existing=True\n",
    "    )\n",
    "\n",
    "    prouct_mapper = mapper(Product, product, properties={\n",
    "        'batches': relationship(Batch)\n",
    "    })\n",
    "\n",
    "    return metadata"
   ]
  },
  {
   "cell_type": "markdown",
   "metadata": {},
   "source": [
    "이 매핑을 이용한 기본 Session 팩토리를 만듭니다."
   ]
  },
  {
   "cell_type": "code",
   "execution_count": 23,
   "metadata": {},
   "outputs": [],
   "source": [
    "from tests import mytest\n",
    "\n",
    "@mytest.fixture\n",
    "def get_session():\n",
    "    from sqlalchemy.orm import sessionmaker, Session\n",
    "    from app import config\n",
    "    orm.clear_mappers()\n",
    "    engine = orm.init_engine(start_mappers(), config.get_db_url())\n",
    "    return sessionmaker(engine)\n",
    "\n",
    "DEFAULT_SESSION_FACTORY = get_session"
   ]
  },
  {
   "cell_type": "markdown",
   "metadata": {},
   "source": [
    "마지막으로 기존에 만들었더 SqlAlchemy ORM 기반의 레포지터리와 와 UoW를 Aggregate 를 사용한 구현으로 수정합니다"
   ]
  },
  {
   "cell_type": "code",
   "execution_count": 24,
   "metadata": {},
   "outputs": [],
   "source": [
    "class SqlAlchemyProductRepository(AbstractRepository[Product]):\n",
    "    def __init__(self, session: Session):\n",
    "        self.session = session  # pylint: disable=invalid-name\n",
    "\n",
    "    def add(self, product: Product) -> None:\n",
    "        self.session.add(product)\n",
    "\n",
    "    def get(self, sku):\n",
    "        return self.session.query(Product).filter_by(sku=sku).first()\n",
    "\n",
    "\n",
    "class SqlAlchemyUnitOfWork(AbstractUnitOfWork):\n",
    "\n",
    "    def __init__(self, session_factory=DEFAULT_SESSION_FACTORY):\n",
    "        self.session_factory = session_factory\n",
    "\n",
    "    def __enter__(self):\n",
    "        self.session = self.session_factory()  # type: Session\n",
    "        self.products = SqlAlchemyProductRepository(self.session)\n",
    "        return super().__enter__()\n",
    "\n",
    "    def __exit__(self, *args):\n",
    "        super().__exit__(*args)\n",
    "        self.session.close()\n",
    "\n",
    "    def commit(self):\n",
    "        self.session.commit()\n",
    "\n",
    "    def rollback(self):\n",
    "        self.session.rollback()"
   ]
  },
  {
   "cell_type": "markdown",
   "metadata": {},
   "source": [
    "#### 동시성 테스트를 위한 시뮬레이션 코드 작성하기\n",
    "\n",
    "우선 해야 할 작업은 트랜잭션 작업 사이에 Sleep을 두어 \"느린\" 트랜잭션을 흉내내보는 겁니다.\n",
    "\n",
    "다음 `try_to_allocate` 함수는 앞에서 봤던 시퀀스 다이어그램에서 한 Transaction이 하던 작업과 유사한 작업을 합니다. 데이터베이스에서 제품 정보를 조회한 후, 제품을 할당하고, 제품의 버전을 증가시킵니다. 단, 버전을 증가시키는 작업은 `Product.allocate` 에서 암시적으로 이루어집니다."
   ]
  },
  {
   "cell_type": "code",
   "execution_count": 25,
   "metadata": {},
   "outputs": [],
   "source": [
    "import time\n",
    "\n",
    "from app.domain.models import OrderLine\n",
    "\n",
    "def try_to_allocate(uow: AbstractUnitOfWork, orderid, sku, exceptions):\n",
    "    line = OrderLine(orderid, sku, 10)\n",
    "    try:\n",
    "        with uow:\n",
    "            product = uow.products.get(sku=sku)\n",
    "            product.allocate(line)\n",
    "            time.sleep(0.2)\n",
    "            uow.commit()\n",
    "    except Exception as e:\n",
    "        # print(traceback.format_exc())\n",
    "        exceptions.append(e)"
   ]
  },
  {
   "cell_type": "markdown",
   "metadata": {},
   "source": [
    "테스트 픽스처 `uow_with_product`를 만들어 보겠습니다. 이 픽스쳐는 임의의 SKU로 테스트 데이터를 셋업한 뒤 UoW를 리턴합니다. 뿐만아니라 테스트가 끝나면 테스트 데이터를 자동으로 클리어 합니다."
   ]
  },
  {
   "cell_type": "code",
   "execution_count": 26,
   "metadata": {},
   "outputs": [],
   "source": [
    "from app.domain.models import Batch\n",
    "\n",
    "from tests import random_batchref, random_sku, random_orderid\n",
    "\n",
    "def cleanup_sku(session, sku: str):\n",
    "    session.execute('''DELETE FROM allocation WHERE batch_id in (\n",
    "        SELECT id FROM batch WHERE sku=:sku)''', dict(sku=sku))\n",
    "    session.execute('''DELETE FROM allocation WHERE orderline_id in (\n",
    "        SELECT id FROM order_line WHERE sku=:sku)''', dict(sku=sku))    \n",
    "    session.execute(\"DELETE FROM order_line WHERE sku=:sku\", dict(sku=sku))\n",
    "    session.execute(\"DELETE FROM batch WHERE sku=:sku\", dict(sku=sku))\n",
    "    session.execute(\"DELETE FROM product WHERE sku=:sku\", dict(sku=sku))\n",
    "    session.commit()\n",
    "    \n",
    "@mytest.fixture\n",
    "def uow_with_product(get_session):\n",
    "    _sku = ''\n",
    "    session = get_session()\n",
    "    \n",
    "    def wrapper(sku: str = '', qty=100, eta=None, product_version=1):\n",
    "        nonlocal _sku\n",
    "        if not sku:\n",
    "            sku = random_sku()\n",
    "        _sku = sku # 클린업을 위해 sku 기억\n",
    "        uow = SqlAlchemyUnitOfWork(lambda: session)\n",
    "        batch = Batch(ref=random_batchref(), sku=sku, qty=qty, eta=eta)\n",
    "        session.add(batch)\n",
    "        product = Product(sku, batches=[batch], version_number=product_version)\n",
    "        session.add(product)\n",
    "        session.commit()\n",
    "        return uow\n",
    "        \n",
    "    cleanup_sku(session, _sku)\n",
    "    yield wrapper\n",
    "    session.rollback()\n",
    "    cleanup_sku(session, _sku)"
   ]
  },
  {
   "cell_type": "markdown",
   "metadata": {},
   "source": [
    "이 픽스처를 이용해 `try_to_allocate` 사용법을 테스트해봅시다."
   ]
  },
  {
   "cell_type": "code",
   "execution_count": 27,
   "metadata": {},
   "outputs": [
    {
     "name": "stdout",
     "output_type": "stream",
     "text": [
      "❌ \u001b[91mtest_try_to_allocate\u001b[0m\n"
     ]
    },
    {
     "name": "stderr",
     "output_type": "stream",
     "text": [
      "Traceback (most recent call last):\n",
      "  File \"/home/ykkim/conda/envs/lab/lib/python3.9/site-packages/sqlalchemy/orm/mapper.py\", line 1289, in _configure_class_instrumentation\n",
      "    raise sa_exc.ArgumentError(\n",
      "sqlalchemy.exc.ArgumentError: Class '<class 'app.domain.models.OrderLine'>' already has a primary mapper defined. Use non_primary=True to create a non primary Mapper.  clear_mappers() will remove *all* current mappers from all classes.\n"
     ]
    },
    {
     "name": "stdout",
     "output_type": "stream",
     "text": [
      "✅ \u001b[95mtest_cleanup_completed\u001b[0m\n"
     ]
    }
   ],
   "source": [
    "@mytest.test\n",
    "def test_try_to_allocate(uow_with_product):\n",
    "    sku = 'TEST-SKU'\n",
    "    exceptions = []\n",
    "    uow = uow_with_product(sku, product_version=1)\n",
    "    \n",
    "    try_to_allocate(uow, 'TEST-ORDER', sku, exceptions)\n",
    "\n",
    "    [[version_number]] = uow.session.execute(\n",
    "        'SELECT version_number FROM product WHERE sku=:sku', dict(sku=sku))\n",
    "    \n",
    "    [[qty]] = uow.session.execute(\n",
    "        'SELECT _purchased_quantity FROM batch WHERE sku=:sku', dict(sku=sku))\n",
    "    \n",
    "    assert 2 == version_number\n",
    "    assert 100 == qty, f\"batch qty is mismatched: 0 !== {qty}\"\n",
    "    \n",
    "    \n",
    "#@mytest.test\n",
    "def test_cleanup_completed(get_session):\n",
    "    session = get_session()\n",
    "    session.execute('DELETE FROM allocation')\n",
    "    session.execute('DELETE FROM order_line')\n",
    "    session.execute('DELETE FROM batch')\n",
    "    session.execute('DELETE FROM product')\n",
    "    session.commit()\n",
    "    \n",
    "@mytest.test\n",
    "def test_cleanup_completed(get_session):\n",
    "    session = get_session()\n",
    "    [[product_cnt]] = session.execute('SELECT count(*) FROM product')\n",
    "    [[batch_cnt]] = session.execute('SELECT count(*) FROM batch')\n",
    "    [[alloc_cnt]] = session.execute('SELECT count(*) FROM allocation')\n",
    "    assert 0 == product_cnt\n",
    "    assert 0 == batch_cnt\n",
    "    assert 0 == alloc_cnt"
   ]
  },
  {
   "cell_type": "markdown",
   "metadata": {},
   "source": [
    "이제 드디어 동시성 테스트를 해볼 차례입니다. \n",
    "\n",
    "1. 스레드 2개로 동시에 제품 버전정보를 얻고 주문선에 배치를 할당하도록 할 것입니다.\n",
    "2. 배치 할당이 완료되면 각 스레드에서 동시에 버전을 업데이트 하려 할 것입니다.\n",
    "3. 두 스레드 중 한 스레드만 업데이트에 성공하여 버전을 1만 증가한 상태가 됩니다.\n",
    "4. 나머지 스레드는 업데이트 에러 발생하여 예외 상태가 됩니다.\n",
    "\n",
    "이 작업을 테스트 코드로 작성해서 실행해보겠습니다."
   ]
  },
  {
   "cell_type": "code",
   "execution_count": 28,
   "metadata": {},
   "outputs": [
    {
     "name": "stdout",
     "output_type": "stream",
     "text": [
      "❌ \u001b[91mtest_concurrent_updates_to_version_are_not_allowed\u001b[0m\n"
     ]
    },
    {
     "name": "stderr",
     "output_type": "stream",
     "text": [
      "Traceback (most recent call last):\n",
      "  File \"<ipython-input-28-fb4d46c3a766>\", line 28, in test_concurrent_updates_to_version_are_not_allowed\n",
      "    [exception] = exceptions\n",
      "ValueError: not enough values to unpack (expected 1, got 0)\n"
     ]
    }
   ],
   "source": [
    "import threading\n",
    "\n",
    "@mytest.test\n",
    "def test_concurrent_updates_to_version_are_not_allowed(uow_with_product, get_session):\n",
    "    sku = random_sku()\n",
    "    uow = uow_with_product(sku=sku, qty=100)\n",
    "\n",
    "    order1, order2 = random_orderid(1), random_orderid(2)\n",
    "    exceptions = []  # type: List[Exception]\n",
    "    def try_to_allocate_order(order: str):\n",
    "        temp_uow = SqlAlchemyUnitOfWork(get_session)\n",
    "        return threading.Thread(target=lambda: \\\n",
    "            try_to_allocate(temp_uow, order1, sku, exceptions))\n",
    "       \n",
    "    # 두 스레드가 배치에 동시에 주문선을 할당 후 버전을 업데이트 하려는 상황을 시뮬레이션합니다.        \n",
    "    thread1, thread2 = try_to_allocate_order(order1), try_to_allocate_order(order2) \n",
    "    thread1.start(), thread2.start()\n",
    "    thread1.join(), thread2.join() \n",
    "\n",
    "    session = get_session()\n",
    "    [[version]] = session.execute(\n",
    "        \"SELECT version_number FROM product WHERE sku=:sku\",\n",
    "        dict(sku=sku),\n",
    "    )\n",
    "    # 두 스레드가 동시에 할당을 시도했지만 오직 한 스레드만 성공하여 버전은 한 번만 증가합니다.\n",
    "    assert version == 2\n",
    "    \n",
    "    [exception] = exceptions\n",
    "    assert 'could not serialize access due to concurrent update' in str(exception)  \n",
    "\n",
    "    orders = list(session.execute(\n",
    "        \"SELECT orderid FROM allocation\"\n",
    "        \" JOIN batch ON allocation.batch_id = batch.id\"\n",
    "        \" JOIN order_line ON allocation.orderline_id = order_line.id\"\n",
    "        \" WHERE order_line.sku=:sku\",\n",
    "        dict(sku=sku),\n",
    "    ))\n",
    "    assert len(orders) == 1  \n",
    "    with uow:\n",
    "        uow.session.execute('select 1')"
   ]
  },
  {
   "cell_type": "markdown",
   "metadata": {},
   "source": [
    "그런데, 테스트가 실패했습니다. 예외가 발생할 것이라고 생각했는데 아무런 예외도 발생하지 않았기 때문입니다. 사실 당연합니다. 지금까지 동시 업데이트 시도에 대한 예외처리 코드를 작성하지 않았기 때문입니다."
   ]
  },
  {
   "cell_type": "markdown",
   "metadata": {},
   "source": [
    "#### Enforcing Concurrency Rules by Using Database Transaction Isolation Levels"
   ]
  },
  {
   "cell_type": "markdown",
   "metadata": {},
   "source": [
    "SQL 표준으로 제정된 격리 레벨을 이용하면 이런 변경 충돌을 쉽게 처리할 수 있습니다.\n",
    "\n",
    "`REPEATABLE READ` 격리 모드는 다른 트랜잭션이 커밋한 데이터를 읽지 못하도록 격리시키는 모드로, 위 테스트에서 한 트랜잭션이 `version_number`를 증가시키면 다른 트랜잭션은 더이상 이 값을 읽지 못하여 에러가 발생합니다.\n",
    "\n",
    "- *See also*:\n",
    "\n",
    "  격리 레벨(Isolation Level)에 대해서는 [PostgreSQL 관련 문서](https://postgresql.kr/docs/11/transaction-iso.html) 를 참고하세요"
   ]
  },
  {
   "cell_type": "markdown",
   "metadata": {},
   "source": [
    "이제 격리 레벨을 지원하도록 `get_session` 픽스처를 변경한 뒤 다시 테스트 해보겠습니다."
   ]
  },
  {
   "cell_type": "code",
   "execution_count": 29,
   "metadata": {},
   "outputs": [
    {
     "name": "stdout",
     "output_type": "stream",
     "text": [
      "✅ \u001b[95mtest_concurrent_updates_to_version_are_not_allowed\u001b[0m\n"
     ]
    }
   ],
   "source": [
    "@mytest.fixture\n",
    "def get_session():\n",
    "    from sqlalchemy.orm import sessionmaker, Session\n",
    "    from app import config\n",
    "    orm.clear_mappers()\n",
    "    engine = orm.init_engine(start_mappers(), config.get_db_url(), isolation_level=\"REPEATABLE READ\")\n",
    "    return sessionmaker(engine)\n",
    "\n",
    "mytest.run(test_concurrent_updates_to_version_are_not_allowed)"
   ]
  },
  {
   "cell_type": "markdown",
   "metadata": {},
   "source": [
    "테스트가 잘 성공함을 알 수 있습니다."
   ]
  },
  {
   "cell_type": "markdown",
   "metadata": {},
   "source": [
    "#### Pessimistic Concurrency Control Example: `SELECT FOR UPDATE`"
   ]
  },
  {
   "cell_type": "markdown",
   "metadata": {},
   "source": [
    "비관적인 동시성 제어방법을 사용할 수 도 있습니다. 동시에 두 트랜잭션이 동일 SKU에 대한 `Product` 를 가져올 수 없도록 락을 걸어 막는 방법입니다.\n",
    "\n",
    "이 방법을 사용하면 한 트랜잭션이 커밋후 락을 릴리즈하기 전까지 다른 트랜잭션은 대기하게 됩니다. 이 방법을 사용하면 별도의 예외처리는 필요하지 않겠지만 대신 성능 저하가 발생할 것입니다."
   ]
  },
  {
   "cell_type": "code",
   "execution_count": 30,
   "metadata": {},
   "outputs": [],
   "source": [
    "class PessimisticSqlAlchemyProductRepository(SqlAlchemyProductRepository):\n",
    "\n",
    "    def get(self, sku):\n",
    "        return self.session.query(model.Product) \\\n",
    "                           .filter_by(sku=sku) \\\n",
    "                           .with_for_update() \\\n",
    "                           .first()\n",
    "\n",
    "class PessimisticSqlAlchemyUnitOfWork(SqlAlchemyUnitOfWork):\n",
    "\n",
    "    def __enter__(self):\n",
    "        self.session = self.session_factory()  # type: Session\n",
    "        self.products = PessimisticSqlAlchemyProductRepository(self.session)\n",
    "        return super().__enter__()"
   ]
  },
  {
   "cell_type": "markdown",
   "metadata": {},
   "source": [
    "## Wrap-Up"
   ]
  },
  {
   "cell_type": "markdown",
   "metadata": {},
   "source": [
    "후반부에서는 동시성 제어를 구현하는데 집중했습니다. 다시 챕터 처음에 논의했던 Aggregate의 개념을 되짚으며 이 장을 마무리해봅시다.\n",
    "\n",
    "우리는 Aggregate를 특정 컨텍스트에서 모델 덩어리를 다루는 진입점으로 명시적으로 모델링하고, 모든 객체에 적용되는 불변성 및 비즈니스 규칙을 담당하도록 했습니다.\n",
    "\n",
    "상황에 따라 올바른 Aggregate를 선택하는 것이 핵심이며, 시간이 지남에 따라 재검토가 필요한 결정 사항입니다.\n",
    "\n",
    "여러 DDD 책에서 Aggregate를 다루고 있습니다. 본 버논(\"red book\")의 효과적인 Aggregate 설계에 관한온라인 논문들을 읽기를 추천합니다."
   ]
  }
 ],
 "metadata": {
  "kernelspec": {
   "display_name": "Python 3",
   "language": "python",
   "name": "python3"
  },
  "language_info": {
   "codemirror_mode": {
    "name": "ipython",
    "version": 3
   },
   "file_extension": ".py",
   "mimetype": "text/x-python",
   "name": "python",
   "nbconvert_exporter": "python",
   "pygments_lexer": "ipython3",
   "version": "3.9.1"
  },
  "toc-autonumbering": false,
  "widgets": {
   "application/vnd.jupyter.widget-state+json": {
    "state": {},
    "version_major": 2,
    "version_minor": 0
   }
  }
 },
 "nbformat": 4,
 "nbformat_minor": 4
}
