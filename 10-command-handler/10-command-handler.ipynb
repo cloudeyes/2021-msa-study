{
 "cells": [
  {
   "cell_type": "markdown",
   "id": "caroline-scheduling",
   "metadata": {},
   "source": [
    "<center style=\"font-size: 16px; font-weight: normal\">\n",
    "  `21 Microservices Architecture Patterns Study</center>\n",
    "\n",
    "<center><h1>Chapter 10. Commands and Command Handler</h1></center>\n",
    "\n",
    "<center>\n",
    "  Joseph Kim &lt;cloudeyes@gmail.com&gt;<br/>\n",
    "  Mar 12. 2021<br/>\n",
    "</center>\n",
    "\n",
    "<center>\n",
    "  <img src=\"https://images-na.ssl-images-amazon.com/images/I/51-q9CWNBHL._SX379_BO1,204,203,200_.jpg\" style=\"width: 200px\">\n",
    "</center>\n",
    "\n",
    "<center>\n",
    "  <a href=\"https://github.com/cloudeyes/2021-msa-study/blob/main/10-command-handler/10-command-handler.ipynb\">Download Jupyter Notebook</a>\n",
    "</center>"
   ]
  },
  {
   "cell_type": "markdown",
   "id": "illegal-bridal",
   "metadata": {},
   "source": [
    "# 10. Commands and Command Handler"
   ]
  },
  {
   "cell_type": "markdown",
   "id": "mighty-relative",
   "metadata": {},
   "source": [
    "## Commands and Events"
   ]
  },
  {
   "cell_type": "markdown",
   "id": "extended-spray",
   "metadata": {},
   "source": []
  },
  {
   "cell_type": "markdown",
   "id": "sharp-marina",
   "metadata": {},
   "source": [
    "## Differences in Exception Handling"
   ]
  },
  {
   "cell_type": "markdown",
   "id": "effective-blast",
   "metadata": {},
   "source": []
  },
  {
   "cell_type": "markdown",
   "id": "clean-gossip",
   "metadata": {},
   "source": [
    "## Discussion: Events, Commands, and Error Handling"
   ]
  },
  {
   "cell_type": "markdown",
   "id": "boolean-memphis",
   "metadata": {},
   "source": []
  },
  {
   "cell_type": "markdown",
   "id": "settled-month",
   "metadata": {},
   "source": [
    "## Recovering from Errors Synchronously"
   ]
  },
  {
   "cell_type": "markdown",
   "id": "incorrect-championship",
   "metadata": {},
   "source": []
  },
  {
   "cell_type": "markdown",
   "id": "constitutional-fence",
   "metadata": {},
   "source": [
    "## Wrap-Up"
   ]
  },
  {
   "cell_type": "markdown",
   "id": "promising-alexander",
   "metadata": {},
   "source": []
  },
  {
   "cell_type": "markdown",
   "id": "ahead-mailing",
   "metadata": {},
   "source": []
  }
 ],
 "metadata": {
  "kernelspec": {
   "display_name": "Python 3",
   "language": "python",
   "name": "python3"
  },
  "language_info": {
   "codemirror_mode": {
    "name": "ipython",
    "version": 3
   },
   "file_extension": ".py",
   "mimetype": "text/x-python",
   "name": "python",
   "nbconvert_exporter": "python",
   "pygments_lexer": "ipython3",
   "version": "3.9.1"
  },
  "widgets": {
   "application/vnd.jupyter.widget-state+json": {
    "state": {},
    "version_major": 2,
    "version_minor": 0
   }
  }
 },
 "nbformat": 4,
 "nbformat_minor": 5
}
