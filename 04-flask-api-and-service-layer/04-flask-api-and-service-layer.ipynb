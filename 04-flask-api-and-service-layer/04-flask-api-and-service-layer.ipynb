{
 "cells": [
  {
   "cell_type": "markdown",
   "metadata": {},
   "source": [
    "<center style=\"font-size: 16px; font-weight: normal\">\n",
    "  `21 Microservices Architecture Patterns Study</center>\n",
    "\n",
    "<center><h1>Chapter 4. Our First Use Case:<br/> Flask API and Service Layer</h1></center>\n",
    "\n",
    "<center>\n",
    "  Joseph Kim &lt;cloudeyes@gmail.com&gt;<br/>\n",
    "  Dec 28. 2020<br/>\n",
    "</center>\n",
    "\n",
    "<center>\n",
    "  <img src=\"https://images-na.ssl-images-amazon.com/images/I/51-q9CWNBHL._SX379_BO1,204,203,200_.jpg\" style=\"width: 200px\">\n",
    "</center>\n",
    "\n",
    "<center>\n",
    "  <a href=\"https://github.com/cloudeyes/2021-msa-study/blob/main/04-flask-api-and-service-layer/04-flask-api-and-service-layer.ipynb\">Download Jupyter Notebook</a>\n",
    "</center>"
   ]
  },
  {
   "cell_type": "markdown",
   "metadata": {},
   "source": [
    "## Introduction\n",
    "\n",
    "In this chapter, we discuss:\n",
    "- the differences between *orchestration logic*, *business logic*, and *interfacing code*.\n",
    "- the *Service Layer pattern*\n",
    "  - to take care of orchestrating our workflows\n",
    "  - and defining the use cases of our system.\n",
    "  \n",
    "We'll also discuss \"testing\" again:\n",
    "- by combining the Service Layer with our repository abstraction \n",
    "\n",
    "\n",
    "**Overal structure:**\n",
    "\n",
    "<img src=\"./images/fig4-2.png\" width=\"500px\"/>"
   ]
  },
  {
   "cell_type": "markdown",
   "metadata": {},
   "source": [
    "## Connecting Our Application to the Real World"
   ]
  },
  {
   "cell_type": "markdown",
   "metadata": {},
   "source": [
    "**Strategy:**\n",
    "\n",
    "1. Quickly make a MVP(Minimum-Valuable Product)\n",
    "1. And then refactor toward a cleaner architecture.\n",
    "\n",
    "**Steps:**\n",
    "\n",
    "1. **Use Flask to put an API endpoint:** \n",
    "  - in front of our allocate domain service. \n",
    "  - wire up the database session and our repository. \n",
    "  - test it with an end-to-end test with quick-and-dirty test data.\n",
    "1. **Refactor out a service layer:** \n",
    "  - can serve as an abstraction to capture the use case \n",
    "  - sits between Flask and our domain model. \n",
    "  - tests and show how they can use `FakeRepository`.\n",
    "1. **Experiment with different types of parameters:** \n",
    "  - using primitive data types \n",
    "  - allows the service layer be decoupled from the model layer."
   ]
  },
  {
   "cell_type": "markdown",
   "metadata": {},
   "source": [
    "## A First End-to-End Test\n",
    "\n",
    "- https://flask.palletsprojects.com/en/1.1.x/testing/"
   ]
  },
  {
   "cell_type": "markdown",
   "metadata": {},
   "source": [
    "### Prerequisites"
   ]
  },
  {
   "cell_type": "code",
   "execution_count": 7,
   "metadata": {},
   "outputs": [
    {
     "name": "stdout",
     "output_type": "stream",
     "text": [
      "Requirement already satisfied: flask in /home/ykkim/conda/envs/lab/lib/python3.9/site-packages (1.1.2)\n"
     ]
    }
   ],
   "source": [
    "!pip install flask | grep \"satisfied: flask\""
   ]
  },
  {
   "cell_type": "code",
   "execution_count": 5,
   "metadata": {},
   "outputs": [
    {
     "name": "stdout",
     "output_type": "stream",
     "text": [
      "\u001b[01;34mapp\u001b[00m\n",
      "├── __init__.py\n",
      "├── models.py\n",
      "├── orm.py\n",
      "├── repository.py\n",
      "├── services.py\n",
      "├── \u001b[01;34mtests\u001b[00m\n",
      "│   ├── __init__.py\n",
      "│   └── test_models.py\n",
      "└── :w\n",
      "\n",
      "1 directory, 8 files\n"
     ]
    }
   ],
   "source": [
    "!tree app -I \"__pycache__\""
   ]
  },
  {
   "cell_type": "code",
   "execution_count": 2,
   "metadata": {},
   "outputs": [
    {
     "name": "stdout",
     "output_type": "stream",
     "text": [
      "CREATE TABLE order_line (\n",
      "\tid INTEGER NOT NULL, \n",
      "\tsku VARCHAR(255), \n",
      "\tqty INTEGER NOT NULL, \n",
      "\torderid VARCHAR(255), \n",
      "\tPRIMARY KEY (id)\n",
      ")\n",
      "\n",
      "CREATE TABLE batch (\n",
      "\tid INTEGER NOT NULL, \n",
      "\treference VARCHAR(255), \n",
      "\t_purchased_quantity INTEGER, \n",
      "\tsku VARCHAR(255), \n",
      "\teta DATE, \n",
      "\tPRIMARY KEY (id), \n",
      "\tUNIQUE (reference)\n",
      ")\n",
      "\n",
      "CREATE TABLE allocation (\n",
      "\torderline_id INTEGER NOT NULL, \n",
      "\tbatch_id INTEGER NOT NULL, \n",
      "\tPRIMARY KEY (orderline_id, batch_id), \n",
      "\tFOREIGN KEY(orderline_id) REFERENCES order_line (id), \n",
      "\tFOREIGN KEY(batch_id) REFERENCES batch (id)\n",
      ")\n",
      "\n",
      "\n"
     ]
    }
   ],
   "source": [
    "from flask import Flask, jsonify, request\n",
    "from sqlalchemy import create_engine\n",
    "from sqlalchemy.orm import sessionmaker\n",
    "\n",
    "from app import models, orm, repository\n",
    "from app.repository import SqlAlchemyRepository\n",
    "#from app import config\n",
    "#from app import repository\n",
    "\n",
    "metadata = orm.start_mappers()\n",
    "engine = orm.init_engine(metadata, \"sqlite://\", show_log=True)\n",
    "get_session = orm.sessionfactory(engine) \n",
    "c = lambda: SqlAlchemyRepository(get_session())"
   ]
  },
  {
   "cell_type": "markdown",
   "metadata": {},
   "source": [
    "먼저 실패하는 테스트를 작성하세요."
   ]
  },
  {
   "cell_type": "code",
   "execution_count": 6,
   "metadata": {},
   "outputs": [],
   "source": [
    "from app import mytest"
   ]
  },
  {
   "cell_type": "code",
   "execution_count": 8,
   "metadata": {},
   "outputs": [],
   "source": [
    "mytest.init(__name__)"
   ]
  },
  {
   "cell_type": "code",
   "execution_count": 10,
   "metadata": {},
   "outputs": [],
   "source": [
    "import uuid"
   ]
  },
  {
   "cell_type": "code",
   "execution_count": 12,
   "metadata": {},
   "outputs": [
    {
     "data": {
      "text/plain": [
       "UUID('b71d5a3a-bc24-47ae-8a31-b2e25dade93c')"
      ]
     },
     "execution_count": 12,
     "metadata": {},
     "output_type": "execute_result"
    }
   ],
   "source": [
    "uuid.uuid4()"
   ]
  },
  {
   "cell_type": "code",
   "execution_count": 13,
   "metadata": {},
   "outputs": [
    {
     "data": {
      "text/plain": [
       "'4158dde3-f222-4151-a2bc-d9a7d679045e'"
      ]
     },
     "execution_count": 13,
     "metadata": {},
     "output_type": "execute_result"
    }
   ],
   "source": [
    "str(uuid.uuid4())"
   ]
  },
  {
   "cell_type": "code",
   "execution_count": 9,
   "metadata": {},
   "outputs": [
    {
     "name": "stderr",
     "output_type": "stream",
     "text": [
      "Traceback (most recent call last):\n",
      "  File \"/home/ykkim/notebooks/2021-msa-study/04-flask-api-and-service-layer/app/__init__.py\", line 39, in unit\n",
      "    try:\n",
      "AssertionError: name \"add_stock\" should be defined in the module\n"
     ]
    }
   ],
   "source": [
    "@mytest.unit\n",
    "def test_api_returns_allocation(add_stock):\n",
    "    sku, othersku = random_sku(), random_sku('other')\n",
    "    earlybatch = random_batchref(1)\n",
    "    laterbatch = random_batchref(2)\n",
    "    otherbatch = random_batchref(3)\n",
    "    add_stock([\n",
    "        (laterbatch, sku, 100, '2011-01-02'),\n",
    "        (earlybatch, sku, 100, '2011-01-01'),\n",
    "        (otherbatch, othersku, 100, None),\n",
    "    ])\n",
    "    data = {'orderid': random_orderid(), 'sku': sku, 'qty': 3}\n",
    "    url = config.get_api_url()\n",
    "    r = requests.post(f'{url}/allocate', json=data)\n",
    "    assert r.status_code == 201\n",
    "    assert r.json()['batchref'] == earlybatch\n"
   ]
  },
  {
   "cell_type": "code",
   "execution_count": 3,
   "metadata": {},
   "outputs": [],
   "source": [
    "app = Flask(__name__)\n",
    "\n",
    "@app.route(\"/allocate\", methods=['POST'])\n",
    "def allocate_endpoint():\n",
    "    with get_repo() as repo:\n",
    "        batches = repo.list()\n",
    "        line = models.OrderLine(\n",
    "            request.json['orderid'],\n",
    "            request.json['sku'],\n",
    "            request.json['qty'],\n",
    "        )\n",
    "        batchref = models.allocate(line, batches)\n",
    "\n",
    "    return jsonify({'batchref': batchref}), 201"
   ]
  },
  {
   "cell_type": "markdown",
   "metadata": {},
   "source": [
    "## The Straightforward Implementation"
   ]
  },
  {
   "cell_type": "code",
   "execution_count": null,
   "metadata": {},
   "outputs": [],
   "source": []
  },
  {
   "cell_type": "markdown",
   "metadata": {},
   "source": [
    "## Error Conditions That Require Database Checks"
   ]
  },
  {
   "cell_type": "code",
   "execution_count": null,
   "metadata": {},
   "outputs": [],
   "source": []
  },
  {
   "cell_type": "markdown",
   "metadata": {},
   "source": [
    "## Introducing a Service Layer, and Using FakeRepository to Unit Test It"
   ]
  },
  {
   "cell_type": "code",
   "execution_count": null,
   "metadata": {},
   "outputs": [],
   "source": []
  },
  {
   "cell_type": "markdown",
   "metadata": {},
   "source": [
    "### A Typical Service Function"
   ]
  },
  {
   "cell_type": "code",
   "execution_count": null,
   "metadata": {},
   "outputs": [],
   "source": []
  },
  {
   "cell_type": "markdown",
   "metadata": {},
   "source": [
    "## Why Is Everything Called a Service?"
   ]
  },
  {
   "cell_type": "code",
   "execution_count": null,
   "metadata": {},
   "outputs": [],
   "source": []
  },
  {
   "cell_type": "markdown",
   "metadata": {},
   "source": [
    "## Putting Things in Folders to See Where It All Belongs"
   ]
  },
  {
   "cell_type": "code",
   "execution_count": null,
   "metadata": {},
   "outputs": [],
   "source": []
  },
  {
   "cell_type": "markdown",
   "metadata": {},
   "source": [
    "## Wrap-up"
   ]
  },
  {
   "cell_type": "code",
   "execution_count": null,
   "metadata": {},
   "outputs": [],
   "source": []
  },
  {
   "cell_type": "code",
   "execution_count": null,
   "metadata": {},
   "outputs": [],
   "source": []
  }
 ],
 "metadata": {
  "kernelspec": {
   "display_name": "Python 3",
   "language": "python",
   "name": "python3"
  },
  "language_info": {
   "codemirror_mode": {
    "name": "ipython",
    "version": 3
   },
   "file_extension": ".py",
   "mimetype": "text/x-python",
   "name": "python",
   "nbconvert_exporter": "python",
   "pygments_lexer": "ipython3",
   "version": "3.9.1"
  }
 },
 "nbformat": 4,
 "nbformat_minor": 4
}
