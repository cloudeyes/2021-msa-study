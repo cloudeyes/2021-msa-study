{
 "cells": [
  {
   "cell_type": "markdown",
   "id": "metric-surfing",
   "metadata": {},
   "source": [
    "<center style=\"font-size: 16px; font-weight: normal\">\n",
    "  `21 Microservices Architecture Patterns Study</center>\n",
    "\n",
    "<center><h1>Chapter 9. Going to Town on the Message Bus</h1></center>\n",
    "\n",
    "<center>\n",
    "  Joseph Kim &lt;cloudeyes@gmail.com&gt;<br/>\n",
    "  Mar 07. 2021<br/>\n",
    "</center>\n",
    "\n",
    "<center>\n",
    "  <img src=\"https://images-na.ssl-images-amazon.com/images/I/51-q9CWNBHL._SX379_BO1,204,203,200_.jpg\" style=\"width: 200px\">\n",
    "</center>\n",
    "\n",
    "<center>\n",
    "  <a href=\"https://github.com/cloudeyes/2021-msa-study/blob/main/09-going-town-on-msg-bus/09-going-town-on-msg-bus.ipynb\">Download Jupyter Notebook</a>\n",
    "</center>"
   ]
  },
  {
   "cell_type": "markdown",
   "id": "exposed-press",
   "metadata": {},
   "source": [
    "# 09. Going to Town on the Message Bus"
   ]
  },
  {
   "cell_type": "markdown",
   "id": "prostate-grade",
   "metadata": {},
   "source": [
    "# Introduction"
   ]
  },
  {
   "cell_type": "markdown",
   "id": "considerable-grant",
   "metadata": {},
   "source": [
    "### 이 챕터의 의도\n",
    "\n",
    "- 8장에서 만들었던 Mockup 메세지 버스를 *일반적인* 메세지 버스 구조로 변경\n",
    "\n",
    "\n",
    "### 어떻게 읽어야 하나? ###\n",
    "\n",
    "- \n"
   ]
  },
  {
   "cell_type": "markdown",
   "id": "growing-berkeley",
   "metadata": {},
   "source": [
    "## A New Requirement Leads Us to a New Architecture"
   ]
  },
  {
   "cell_type": "markdown",
   "id": "comprehensive-pillow",
   "metadata": {},
   "source": [
    "### Imagining an Architecture Change: Everything Will Be an Event Handler"
   ]
  },
  {
   "cell_type": "markdown",
   "id": "alternative-fishing",
   "metadata": {},
   "source": [
    "## Refactoring Service Functions to Message Handlers"
   ]
  },
  {
   "cell_type": "markdown",
   "id": "dress-plymouth",
   "metadata": {},
   "source": [
    "### The Message Bus Now Collects Events from the UoW"
   ]
  },
  {
   "cell_type": "markdown",
   "id": "round-footage",
   "metadata": {},
   "source": [
    "### Our Tests Are All Written in Terms of Events Too"
   ]
  },
  {
   "cell_type": "markdown",
   "id": "functional-texture",
   "metadata": {},
   "source": [
    "### A Temporary Ugly Hack: The Message Bus Has to Return Results"
   ]
  },
  {
   "cell_type": "markdown",
   "id": "about-blogger",
   "metadata": {},
   "source": [
    "### Modifying Our API to Work with Events"
   ]
  },
  {
   "cell_type": "markdown",
   "id": "dying-cause",
   "metadata": {},
   "source": [
    "## Implementing Our New Requirement"
   ]
  },
  {
   "cell_type": "markdown",
   "id": "interstate-tournament",
   "metadata": {},
   "source": [
    "### Our New Event"
   ]
  },
  {
   "cell_type": "markdown",
   "id": "operating-patent",
   "metadata": {},
   "source": [
    "## Test-Driving a New Handler"
   ]
  },
  {
   "cell_type": "markdown",
   "id": "moral-alaska",
   "metadata": {},
   "source": [
    "### Implementation"
   ]
  },
  {
   "cell_type": "markdown",
   "id": "wrapped-prague",
   "metadata": {},
   "source": [
    "### A New Method on the Domain Model"
   ]
  },
  {
   "cell_type": "markdown",
   "id": "exclusive-british",
   "metadata": {},
   "source": [
    "## Optionally: Unit Testing Event Handlers in Isolation with a Fake Message Bus"
   ]
  },
  {
   "cell_type": "markdown",
   "id": "stunning-yorkshire",
   "metadata": {},
   "source": [
    "## Wrap-Up"
   ]
  },
  {
   "cell_type": "markdown",
   "id": "essential-spencer",
   "metadata": {},
   "source": [
    "### What Have We Achieved?"
   ]
  },
  {
   "cell_type": "markdown",
   "id": "marine-daily",
   "metadata": {},
   "source": [
    "### Why Have We Achieved?"
   ]
  },
  {
   "cell_type": "markdown",
   "id": "alien-thinking",
   "metadata": {},
   "source": []
  },
  {
   "cell_type": "markdown",
   "id": "unsigned-longitude",
   "metadata": {},
   "source": []
  },
  {
   "cell_type": "markdown",
   "id": "demonstrated-supplement",
   "metadata": {},
   "source": []
  },
  {
   "cell_type": "markdown",
   "id": "comprehensive-nomination",
   "metadata": {},
   "source": []
  }
 ],
 "metadata": {
  "kernelspec": {
   "display_name": "Python 3",
   "language": "python",
   "name": "python3"
  },
  "language_info": {
   "codemirror_mode": {
    "name": "ipython",
    "version": 3
   },
   "file_extension": ".py",
   "mimetype": "text/x-python",
   "name": "python",
   "nbconvert_exporter": "python",
   "pygments_lexer": "ipython3",
   "version": "3.9.1"
  },
  "widgets": {
   "application/vnd.jupyter.widget-state+json": {
    "state": {},
    "version_major": 2,
    "version_minor": 0
   }
  }
 },
 "nbformat": 4,
 "nbformat_minor": 5
}
